{
 "cells": [
  {
   "cell_type": "markdown",
   "metadata": {},
   "source": [
    "# Read in the data"
   ]
  },
  {
   "cell_type": "code",
   "execution_count": 19,
   "metadata": {},
   "outputs": [
    {
     "name": "stdout",
     "output_type": "stream",
     "text": [
      "Requirement already satisfied: branca in /home/radu/.local/lib/python3.8/site-packages (0.4.1)\r\n",
      "Requirement already satisfied: jinja2 in /usr/lib/python3/dist-packages (from branca) (2.10.1)\r\n"
     ]
    }
   ],
   "source": [
    "import sys\n",
    "\n",
    "!$sys.executable -m pip install branca"
   ]
  },
  {
   "cell_type": "code",
   "execution_count": 2,
   "metadata": {},
   "outputs": [],
   "source": [
    "import matplotlib.pyplot as plt\n",
    "import seaborn as sns\n",
    "import pandas as pd\n",
    "import numpy\n",
    "import re\n",
    "%matplotlib inline"
   ]
  },
  {
   "cell_type": "code",
   "execution_count": 3,
   "metadata": {},
   "outputs": [],
   "source": [
    "data_files = [\n",
    "    \"ap_2010.csv\",\n",
    "    \"class_size.csv\",\n",
    "    \"demographics.csv\",\n",
    "    \"graduation.csv\",\n",
    "    \"hs_directory.csv\",\n",
    "    \"sat_results.csv\"\n",
    "]\n",
    "\n",
    "data = {}\n",
    "\n",
    "for f in data_files:\n",
    "    d = pd.read_csv(\"schools/{0}\".format(f))\n",
    "    data[f.replace(\".csv\", \"\")] = d"
   ]
  },
  {
   "cell_type": "markdown",
   "metadata": {},
   "source": [
    "# Read in the surveys"
   ]
  },
  {
   "cell_type": "code",
   "execution_count": 4,
   "metadata": {},
   "outputs": [],
   "source": [
    "all_survey = pd.read_csv(\"schools/survey_all.txt\", delimiter=\"\\t\", encoding='windows-1252')\n",
    "d75_survey = pd.read_csv(\"schools/survey_d75.txt\", delimiter=\"\\t\", encoding='windows-1252')\n",
    "survey = pd.concat([all_survey, d75_survey], axis=0)\n",
    "\n",
    "survey[\"DBN\"] = survey[\"dbn\"]\n",
    "\n",
    "survey_fields = [\n",
    "    \"DBN\", \n",
    "    \"rr_s\", \n",
    "    \"rr_t\", \n",
    "    \"rr_p\", \n",
    "    \"N_s\", \n",
    "    \"N_t\", \n",
    "    \"N_p\", \n",
    "    \"saf_p_11\", \n",
    "    \"com_p_11\", \n",
    "    \"eng_p_11\", \n",
    "    \"aca_p_11\", \n",
    "    \"saf_t_11\", \n",
    "    \"com_t_11\", \n",
    "    \"eng_t_11\", \n",
    "    \"aca_t_11\", \n",
    "    \"saf_s_11\", \n",
    "    \"com_s_11\", \n",
    "    \"eng_s_11\", \n",
    "    \"aca_s_11\", \n",
    "    \"saf_tot_11\", \n",
    "    \"com_tot_11\", \n",
    "    \"eng_tot_11\", \n",
    "    \"aca_tot_11\",\n",
    "]\n",
    "survey = survey.loc[:,survey_fields]\n",
    "data[\"survey\"] = survey"
   ]
  },
  {
   "cell_type": "markdown",
   "metadata": {},
   "source": [
    "# Add DBN columns"
   ]
  },
  {
   "cell_type": "code",
   "execution_count": 5,
   "metadata": {},
   "outputs": [],
   "source": [
    "data[\"hs_directory\"][\"DBN\"] = data[\"hs_directory\"][\"dbn\"]\n",
    "\n",
    "def pad_csd(num):\n",
    "    string_representation = str(num)\n",
    "    if len(string_representation) > 1:\n",
    "        return string_representation\n",
    "    else:\n",
    "        return \"0\" + string_representation\n",
    "    \n",
    "data[\"class_size\"][\"padded_csd\"] = data[\"class_size\"][\"CSD\"].apply(pad_csd)\n",
    "data[\"class_size\"][\"DBN\"] = data[\"class_size\"][\"padded_csd\"] + data[\"class_size\"][\"SCHOOL CODE\"]"
   ]
  },
  {
   "cell_type": "markdown",
   "metadata": {},
   "source": [
    "# Convert columns to numeric"
   ]
  },
  {
   "cell_type": "code",
   "execution_count": 6,
   "metadata": {},
   "outputs": [],
   "source": [
    "cols = ['SAT Math Avg. Score', 'SAT Critical Reading Avg. Score', 'SAT Writing Avg. Score']\n",
    "for c in cols:\n",
    "    data[\"sat_results\"][c] = pd.to_numeric(data[\"sat_results\"][c], errors=\"coerce\")\n",
    "\n",
    "data['sat_results']['sat_score'] = data['sat_results'][cols[0]] + data['sat_results'][cols[1]] + data['sat_results'][cols[2]]\n",
    "\n",
    "def find_lat(loc):\n",
    "    coords = re.findall(\"\\(.+, .+\\)\", loc)\n",
    "    lat = coords[0].split(\",\")[0].replace(\"(\", \"\")\n",
    "    return lat\n",
    "\n",
    "def find_lon(loc):\n",
    "    coords = re.findall(\"\\(.+, .+\\)\", loc)\n",
    "    lon = coords[0].split(\",\")[1].replace(\")\", \"\").strip()\n",
    "    return lon\n",
    "\n",
    "data[\"hs_directory\"][\"lat\"] = data[\"hs_directory\"][\"Location 1\"].apply(find_lat)\n",
    "data[\"hs_directory\"][\"lon\"] = data[\"hs_directory\"][\"Location 1\"].apply(find_lon)\n",
    "\n",
    "data[\"hs_directory\"][\"lat\"] = pd.to_numeric(data[\"hs_directory\"][\"lat\"], errors=\"coerce\")\n",
    "data[\"hs_directory\"][\"lon\"] = pd.to_numeric(data[\"hs_directory\"][\"lon\"], errors=\"coerce\")"
   ]
  },
  {
   "cell_type": "markdown",
   "metadata": {},
   "source": [
    "# Condense datasets"
   ]
  },
  {
   "cell_type": "code",
   "execution_count": 7,
   "metadata": {},
   "outputs": [],
   "source": [
    "class_size = data[\"class_size\"]\n",
    "class_size = class_size[class_size[\"GRADE \"] == \"09-12\"]\n",
    "class_size = class_size[class_size[\"PROGRAM TYPE\"] == \"GEN ED\"]\n",
    "\n",
    "class_size = class_size.groupby(\"DBN\").agg(numpy.mean)\n",
    "class_size.reset_index(inplace=True)\n",
    "data[\"class_size\"] = class_size\n",
    "\n",
    "data[\"demographics\"] = data[\"demographics\"][data[\"demographics\"][\"schoolyear\"] == 20112012]\n",
    "\n",
    "data[\"graduation\"] = data[\"graduation\"][data[\"graduation\"][\"Cohort\"] == \"2006\"]\n",
    "data[\"graduation\"] = data[\"graduation\"][data[\"graduation\"][\"Demographic\"] == \"Total Cohort\"]"
   ]
  },
  {
   "cell_type": "markdown",
   "metadata": {},
   "source": [
    "# Convert AP scores to numeric"
   ]
  },
  {
   "cell_type": "code",
   "execution_count": 8,
   "metadata": {},
   "outputs": [],
   "source": [
    "cols = ['AP Test Takers ', 'Total Exams Taken', 'Number of Exams with scores 3 4 or 5']\n",
    "\n",
    "for col in cols:\n",
    "    data[\"ap_2010\"][col] = pd.to_numeric(data[\"ap_2010\"][col], errors=\"coerce\")"
   ]
  },
  {
   "cell_type": "markdown",
   "metadata": {},
   "source": [
    "# Combine the datasets"
   ]
  },
  {
   "cell_type": "code",
   "execution_count": 9,
   "metadata": {},
   "outputs": [],
   "source": [
    "combined = data[\"sat_results\"]\n",
    "\n",
    "combined = combined.merge(data[\"ap_2010\"], on=\"DBN\", how=\"left\")\n",
    "combined = combined.merge(data[\"graduation\"], on=\"DBN\", how=\"left\")\n",
    "\n",
    "to_merge = [\"class_size\", \"demographics\", \"survey\", \"hs_directory\"]\n",
    "\n",
    "for m in to_merge:\n",
    "    combined = combined.merge(data[m], on=\"DBN\", how=\"inner\")\n",
    "\n",
    "combined = combined.fillna(combined.mean())\n",
    "combined = combined.fillna(0)"
   ]
  },
  {
   "cell_type": "markdown",
   "metadata": {},
   "source": [
    "# Add a school district column for mapping"
   ]
  },
  {
   "cell_type": "code",
   "execution_count": 10,
   "metadata": {},
   "outputs": [],
   "source": [
    "def get_first_two_chars(dbn):\n",
    "    return dbn[0:2]\n",
    "\n",
    "combined[\"school_dist\"] = combined[\"DBN\"].apply(get_first_two_chars)"
   ]
  },
  {
   "cell_type": "markdown",
   "metadata": {},
   "source": [
    "# Find correlations"
   ]
  },
  {
   "cell_type": "code",
   "execution_count": 11,
   "metadata": {},
   "outputs": [
    {
     "name": "stdout",
     "output_type": "stream",
     "text": [
      "SAT Critical Reading Avg. Score    0.986820\n",
      "SAT Math Avg. Score                0.972643\n",
      "SAT Writing Avg. Score             0.987771\n",
      "sat_score                          1.000000\n",
      "AP Test Takers                     0.523140\n",
      "                                     ...   \n",
      "priority08                              NaN\n",
      "priority09                              NaN\n",
      "priority10                              NaN\n",
      "lat                               -0.121029\n",
      "lon                               -0.132222\n",
      "Name: sat_score, Length: 67, dtype: float64\n"
     ]
    }
   ],
   "source": [
    "correlations = combined.corr()\n",
    "correlations = correlations[\"sat_score\"]\n",
    "print(correlations)"
   ]
  },
  {
   "cell_type": "markdown",
   "metadata": {},
   "source": [
    "# Plotting survey correlations"
   ]
  },
  {
   "cell_type": "code",
   "execution_count": 12,
   "metadata": {},
   "outputs": [],
   "source": [
    "# Remove DBN since it's a unique identifier, not a useful numerical value for correlation.\n",
    "survey_fields.remove(\"DBN\")"
   ]
  },
  {
   "cell_type": "code",
   "execution_count": 13,
   "metadata": {},
   "outputs": [],
   "source": [
    "sns.set_style(\"darkgrid\")"
   ]
  },
  {
   "cell_type": "code",
   "execution_count": 14,
   "metadata": {},
   "outputs": [
    {
     "data": {
      "text/plain": [
       "Text(0, 0.5, 'Value')"
      ]
     },
     "execution_count": 14,
     "metadata": {},
     "output_type": "execute_result"
    },
    {
     "data": {
      "image/png": "[encoded data removed]",
      "text/plain": [
       "<Figure size 1440x720 with 1 Axes>"
      ]
     },
     "metadata": {},
     "output_type": "display_data"
    }
   ],
   "source": [
    "plt.figure(figsize=(20, 10))\n",
    "ax = correlations[survey_fields].plot.bar()\n",
    "ax.set_title(\"Sat score correlation with survey fields\")\n",
    "ax.set_xlabel(\"Survey fields\",fontsize=12)\n",
    "ax.set_ylabel(\"Value\",fontsize=12)"
   ]
  },
  {
   "cell_type": "markdown",
   "metadata": {},
   "source": [
    "As is shown in the previous **Sat score correlation with survey fields** plot. There are high correlations between **sat_score** and **N_s and N_p**. It makes sense, since these columns are correlated with the **total_enrollment** column.\n",
    "\n",
    "Follwed by the safety columns **saf_t_11 and saf_s_11** which are high correlated with the **sat_score** column to.\n",
    "\n",
    "Also, another interesting correlation but no with the same importance as the previous ones is the **sat_score** correlation with **rr_s** colum. Which shows the student response rate."
   ]
  },
  {
   "cell_type": "markdown",
   "metadata": {},
   "source": [
    "# Exploring safety scores"
   ]
  },
  {
   "cell_type": "code",
   "execution_count": 15,
   "metadata": {},
   "outputs": [
    {
     "data": {
      "text/plain": [
       "Text(0, 0.5, 'Satisfaction score')"
      ]
     },
     "execution_count": 15,
     "metadata": {},
     "output_type": "execute_result"
    },
    {
     "data": {
      "text/plain": [
       "<Figure size 1440x720 with 0 Axes>"
      ]
     },
     "metadata": {},
     "output_type": "display_data"
    },
    {
     "data": {
      "image/png": "[encoded data removed]",
      "text/plain": [
       "<Figure size 432x288 with 1 Axes>"
      ]
     },
     "metadata": {},
     "output_type": "display_data"
    }
   ],
   "source": [
    "plt.figure(figsize=(20, 10))\n",
    "ax = combined.plot.scatter('saf_s_11', 'sat_score')\n",
    "ax.set_title(\"Exploring safety score\")\n",
    "ax.set_xlabel(\"Safety score 11\",fontsize=12)\n",
    "ax.set_ylabel(\"Satisfaction score\",fontsize=12)"
   ]
  },
  {
   "cell_type": "markdown",
   "metadata": {},
   "source": [
    "After seeing the **Exploring safety score** we can conclude that there is a correlation between the **sat_score** and **sad_s_11**.\n",
    "\n",
    "The majority of the schools have an average **saf_s_11** between **5.5 and 7.5** and an average **sat_score** over **1000** and **1400**.\n",
    "\n",
    "Also, we can see that there is a high correlation between schools with an extremely high SAT score and **sad_s_11** score.\n",
    "\n",
    "To sum up, there is a correlation between these indicators but it isn't so strong at may seem at first look."
   ]
  },
  {
   "cell_type": "markdown",
   "metadata": {},
   "source": [
    "## Mapping safety scores"
   ]
  },
  {
   "cell_type": "code",
   "execution_count": 16,
   "metadata": {},
   "outputs": [
    {
     "data": {
      "text/html": [
       "<div>\n",
       "<style scoped>\n",
       "    .dataframe tbody tr th:only-of-type {\n",
       "        vertical-align: middle;\n",
       "    }\n",
       "\n",
       "    .dataframe tbody tr th {\n",
       "        vertical-align: top;\n",
       "    }\n",
       "\n",
       "    .dataframe thead th {\n",
       "        text-align: right;\n",
       "    }\n",
       "</style>\n",
       "<table border=\"1\" class=\"dataframe\">\n",
       "  <thead>\n",
       "    <tr style=\"text-align: right;\">\n",
       "      <th></th>\n",
       "      <th>SAT Critical Reading Avg. Score</th>\n",
       "      <th>SAT Math Avg. Score</th>\n",
       "      <th>SAT Writing Avg. Score</th>\n",
       "      <th>sat_score</th>\n",
       "      <th>AP Test Takers</th>\n",
       "      <th>Total Exams Taken</th>\n",
       "      <th>Number of Exams with scores 3 4 or 5</th>\n",
       "      <th>Total Cohort</th>\n",
       "      <th>CSD</th>\n",
       "      <th>NUMBER OF STUDENTS / SEATS FILLED</th>\n",
       "      <th>...</th>\n",
       "      <th>grade_span_max</th>\n",
       "      <th>expgrade_span_max</th>\n",
       "      <th>zip</th>\n",
       "      <th>total_students</th>\n",
       "      <th>number_programs</th>\n",
       "      <th>priority08</th>\n",
       "      <th>priority09</th>\n",
       "      <th>priority10</th>\n",
       "      <th>lat</th>\n",
       "      <th>lon</th>\n",
       "    </tr>\n",
       "    <tr>\n",
       "      <th>school_dist</th>\n",
       "      <th></th>\n",
       "      <th></th>\n",
       "      <th></th>\n",
       "      <th></th>\n",
       "      <th></th>\n",
       "      <th></th>\n",
       "      <th></th>\n",
       "      <th></th>\n",
       "      <th></th>\n",
       "      <th></th>\n",
       "      <th></th>\n",
       "      <th></th>\n",
       "      <th></th>\n",
       "      <th></th>\n",
       "      <th></th>\n",
       "      <th></th>\n",
       "      <th></th>\n",
       "      <th></th>\n",
       "      <th></th>\n",
       "      <th></th>\n",
       "      <th></th>\n",
       "    </tr>\n",
       "  </thead>\n",
       "  <tbody>\n",
       "    <tr>\n",
       "      <th>01</th>\n",
       "      <td>441.833333</td>\n",
       "      <td>473.333333</td>\n",
       "      <td>439.333333</td>\n",
       "      <td>1354.500000</td>\n",
       "      <td>116.681090</td>\n",
       "      <td>173.019231</td>\n",
       "      <td>135.800000</td>\n",
       "      <td>93.500000</td>\n",
       "      <td>1.0</td>\n",
       "      <td>115.244241</td>\n",
       "      <td>...</td>\n",
       "      <td>12.0</td>\n",
       "      <td>12.0</td>\n",
       "      <td>10003.166667</td>\n",
       "      <td>659.500000</td>\n",
       "      <td>1.333333</td>\n",
       "      <td>0.0</td>\n",
       "      <td>0.0</td>\n",
       "      <td>0.0</td>\n",
       "      <td>40.719022</td>\n",
       "      <td>-73.982377</td>\n",
       "    </tr>\n",
       "    <tr>\n",
       "      <th>02</th>\n",
       "      <td>426.619092</td>\n",
       "      <td>444.186256</td>\n",
       "      <td>424.832836</td>\n",
       "      <td>1295.638184</td>\n",
       "      <td>128.908454</td>\n",
       "      <td>201.516827</td>\n",
       "      <td>157.495833</td>\n",
       "      <td>158.647849</td>\n",
       "      <td>2.0</td>\n",
       "      <td>149.818949</td>\n",
       "      <td>...</td>\n",
       "      <td>12.0</td>\n",
       "      <td>12.0</td>\n",
       "      <td>10023.770833</td>\n",
       "      <td>621.395833</td>\n",
       "      <td>1.416667</td>\n",
       "      <td>0.0</td>\n",
       "      <td>0.0</td>\n",
       "      <td>0.0</td>\n",
       "      <td>40.739699</td>\n",
       "      <td>-73.991386</td>\n",
       "    </tr>\n",
       "    <tr>\n",
       "      <th>03</th>\n",
       "      <td>428.529851</td>\n",
       "      <td>437.997512</td>\n",
       "      <td>426.915672</td>\n",
       "      <td>1293.443035</td>\n",
       "      <td>156.183494</td>\n",
       "      <td>244.522436</td>\n",
       "      <td>193.087500</td>\n",
       "      <td>183.384409</td>\n",
       "      <td>3.0</td>\n",
       "      <td>156.005994</td>\n",
       "      <td>...</td>\n",
       "      <td>12.0</td>\n",
       "      <td>12.0</td>\n",
       "      <td>10023.750000</td>\n",
       "      <td>717.916667</td>\n",
       "      <td>2.000000</td>\n",
       "      <td>0.0</td>\n",
       "      <td>0.0</td>\n",
       "      <td>0.0</td>\n",
       "      <td>40.781574</td>\n",
       "      <td>-73.977370</td>\n",
       "    </tr>\n",
       "    <tr>\n",
       "      <th>04</th>\n",
       "      <td>402.142857</td>\n",
       "      <td>416.285714</td>\n",
       "      <td>405.714286</td>\n",
       "      <td>1224.142857</td>\n",
       "      <td>129.016484</td>\n",
       "      <td>183.879121</td>\n",
       "      <td>151.035714</td>\n",
       "      <td>113.857143</td>\n",
       "      <td>4.0</td>\n",
       "      <td>132.362265</td>\n",
       "      <td>...</td>\n",
       "      <td>12.0</td>\n",
       "      <td>12.0</td>\n",
       "      <td>10029.857143</td>\n",
       "      <td>580.857143</td>\n",
       "      <td>1.142857</td>\n",
       "      <td>0.0</td>\n",
       "      <td>0.0</td>\n",
       "      <td>0.0</td>\n",
       "      <td>40.793449</td>\n",
       "      <td>-73.943215</td>\n",
       "    </tr>\n",
       "    <tr>\n",
       "      <th>05</th>\n",
       "      <td>427.159915</td>\n",
       "      <td>438.236674</td>\n",
       "      <td>419.666098</td>\n",
       "      <td>1285.062687</td>\n",
       "      <td>85.722527</td>\n",
       "      <td>115.725275</td>\n",
       "      <td>142.464286</td>\n",
       "      <td>143.677419</td>\n",
       "      <td>5.0</td>\n",
       "      <td>120.623901</td>\n",
       "      <td>...</td>\n",
       "      <td>12.0</td>\n",
       "      <td>12.0</td>\n",
       "      <td>10030.142857</td>\n",
       "      <td>609.857143</td>\n",
       "      <td>1.142857</td>\n",
       "      <td>0.0</td>\n",
       "      <td>0.0</td>\n",
       "      <td>0.0</td>\n",
       "      <td>40.817077</td>\n",
       "      <td>-73.949251</td>\n",
       "    </tr>\n",
       "    <tr>\n",
       "      <th>06</th>\n",
       "      <td>382.011940</td>\n",
       "      <td>400.565672</td>\n",
       "      <td>382.066269</td>\n",
       "      <td>1164.643881</td>\n",
       "      <td>108.711538</td>\n",
       "      <td>159.715385</td>\n",
       "      <td>105.425000</td>\n",
       "      <td>180.848387</td>\n",
       "      <td>6.0</td>\n",
       "      <td>139.041709</td>\n",
       "      <td>...</td>\n",
       "      <td>12.0</td>\n",
       "      <td>12.0</td>\n",
       "      <td>10036.200000</td>\n",
       "      <td>628.900000</td>\n",
       "      <td>1.300000</td>\n",
       "      <td>0.0</td>\n",
       "      <td>0.0</td>\n",
       "      <td>0.0</td>\n",
       "      <td>40.848970</td>\n",
       "      <td>-73.932502</td>\n",
       "    </tr>\n",
       "    <tr>\n",
       "      <th>07</th>\n",
       "      <td>376.461538</td>\n",
       "      <td>380.461538</td>\n",
       "      <td>371.923077</td>\n",
       "      <td>1128.846154</td>\n",
       "      <td>73.703402</td>\n",
       "      <td>112.476331</td>\n",
       "      <td>105.276923</td>\n",
       "      <td>105.605459</td>\n",
       "      <td>7.0</td>\n",
       "      <td>97.597416</td>\n",
       "      <td>...</td>\n",
       "      <td>12.0</td>\n",
       "      <td>12.0</td>\n",
       "      <td>10452.692308</td>\n",
       "      <td>465.846154</td>\n",
       "      <td>1.461538</td>\n",
       "      <td>0.0</td>\n",
       "      <td>0.0</td>\n",
       "      <td>0.0</td>\n",
       "      <td>40.816815</td>\n",
       "      <td>-73.919971</td>\n",
       "    </tr>\n",
       "    <tr>\n",
       "      <th>08</th>\n",
       "      <td>386.214383</td>\n",
       "      <td>395.542741</td>\n",
       "      <td>377.908005</td>\n",
       "      <td>1159.665129</td>\n",
       "      <td>118.379371</td>\n",
       "      <td>168.020979</td>\n",
       "      <td>144.731818</td>\n",
       "      <td>215.510264</td>\n",
       "      <td>8.0</td>\n",
       "      <td>129.765099</td>\n",
       "      <td>...</td>\n",
       "      <td>12.0</td>\n",
       "      <td>12.0</td>\n",
       "      <td>10467.000000</td>\n",
       "      <td>547.636364</td>\n",
       "      <td>1.272727</td>\n",
       "      <td>0.0</td>\n",
       "      <td>0.0</td>\n",
       "      <td>0.0</td>\n",
       "      <td>40.823803</td>\n",
       "      <td>-73.866087</td>\n",
       "    </tr>\n",
       "    <tr>\n",
       "      <th>09</th>\n",
       "      <td>373.755970</td>\n",
       "      <td>383.582836</td>\n",
       "      <td>374.633134</td>\n",
       "      <td>1131.971940</td>\n",
       "      <td>71.411538</td>\n",
       "      <td>104.265385</td>\n",
       "      <td>98.470000</td>\n",
       "      <td>113.330645</td>\n",
       "      <td>9.0</td>\n",
       "      <td>100.118588</td>\n",
       "      <td>...</td>\n",
       "      <td>12.0</td>\n",
       "      <td>12.0</td>\n",
       "      <td>10456.100000</td>\n",
       "      <td>449.700000</td>\n",
       "      <td>1.150000</td>\n",
       "      <td>0.0</td>\n",
       "      <td>0.0</td>\n",
       "      <td>0.0</td>\n",
       "      <td>40.836349</td>\n",
       "      <td>-73.906240</td>\n",
       "    </tr>\n",
       "    <tr>\n",
       "      <th>10</th>\n",
       "      <td>403.363636</td>\n",
       "      <td>418.000000</td>\n",
       "      <td>400.863636</td>\n",
       "      <td>1222.227273</td>\n",
       "      <td>132.231206</td>\n",
       "      <td>226.914336</td>\n",
       "      <td>191.618182</td>\n",
       "      <td>161.318182</td>\n",
       "      <td>10.0</td>\n",
       "      <td>168.876526</td>\n",
       "      <td>...</td>\n",
       "      <td>12.0</td>\n",
       "      <td>12.0</td>\n",
       "      <td>10463.181818</td>\n",
       "      <td>757.863636</td>\n",
       "      <td>1.500000</td>\n",
       "      <td>0.0</td>\n",
       "      <td>0.0</td>\n",
       "      <td>0.0</td>\n",
       "      <td>40.870345</td>\n",
       "      <td>-73.898360</td>\n",
       "    </tr>\n",
       "    <tr>\n",
       "      <th>11</th>\n",
       "      <td>389.866667</td>\n",
       "      <td>394.533333</td>\n",
       "      <td>380.600000</td>\n",
       "      <td>1165.000000</td>\n",
       "      <td>83.813462</td>\n",
       "      <td>122.484615</td>\n",
       "      <td>108.833333</td>\n",
       "      <td>122.866667</td>\n",
       "      <td>11.0</td>\n",
       "      <td>129.031031</td>\n",
       "      <td>...</td>\n",
       "      <td>12.0</td>\n",
       "      <td>12.0</td>\n",
       "      <td>10467.933333</td>\n",
       "      <td>563.666667</td>\n",
       "      <td>1.533333</td>\n",
       "      <td>0.0</td>\n",
       "      <td>0.0</td>\n",
       "      <td>0.0</td>\n",
       "      <td>40.873138</td>\n",
       "      <td>-73.856120</td>\n",
       "    </tr>\n",
       "    <tr>\n",
       "      <th>12</th>\n",
       "      <td>364.769900</td>\n",
       "      <td>379.109453</td>\n",
       "      <td>357.943781</td>\n",
       "      <td>1101.823134</td>\n",
       "      <td>93.102564</td>\n",
       "      <td>139.442308</td>\n",
       "      <td>153.450000</td>\n",
       "      <td>110.467742</td>\n",
       "      <td>12.0</td>\n",
       "      <td>91.684504</td>\n",
       "      <td>...</td>\n",
       "      <td>12.0</td>\n",
       "      <td>12.0</td>\n",
       "      <td>10463.166667</td>\n",
       "      <td>409.000000</td>\n",
       "      <td>1.083333</td>\n",
       "      <td>0.0</td>\n",
       "      <td>0.0</td>\n",
       "      <td>0.0</td>\n",
       "      <td>40.831412</td>\n",
       "      <td>-73.886946</td>\n",
       "    </tr>\n",
       "    <tr>\n",
       "      <th>13</th>\n",
       "      <td>409.393800</td>\n",
       "      <td>424.127440</td>\n",
       "      <td>403.666361</td>\n",
       "      <td>1237.187600</td>\n",
       "      <td>232.931953</td>\n",
       "      <td>382.704142</td>\n",
       "      <td>320.773077</td>\n",
       "      <td>224.595533</td>\n",
       "      <td>13.0</td>\n",
       "      <td>218.306055</td>\n",
       "      <td>...</td>\n",
       "      <td>12.0</td>\n",
       "      <td>12.0</td>\n",
       "      <td>11207.153846</td>\n",
       "      <td>895.153846</td>\n",
       "      <td>2.076923</td>\n",
       "      <td>0.0</td>\n",
       "      <td>0.0</td>\n",
       "      <td>0.0</td>\n",
       "      <td>40.692865</td>\n",
       "      <td>-73.977016</td>\n",
       "    </tr>\n",
       "    <tr>\n",
       "      <th>14</th>\n",
       "      <td>395.937100</td>\n",
       "      <td>398.189765</td>\n",
       "      <td>385.333049</td>\n",
       "      <td>1179.459915</td>\n",
       "      <td>77.798077</td>\n",
       "      <td>114.873626</td>\n",
       "      <td>123.282143</td>\n",
       "      <td>112.347926</td>\n",
       "      <td>14.0</td>\n",
       "      <td>123.643728</td>\n",
       "      <td>...</td>\n",
       "      <td>12.0</td>\n",
       "      <td>12.0</td>\n",
       "      <td>11210.785714</td>\n",
       "      <td>545.357143</td>\n",
       "      <td>2.000000</td>\n",
       "      <td>0.0</td>\n",
       "      <td>0.0</td>\n",
       "      <td>0.0</td>\n",
       "      <td>40.711599</td>\n",
       "      <td>-73.948360</td>\n",
       "    </tr>\n",
       "    <tr>\n",
       "      <th>15</th>\n",
       "      <td>395.679934</td>\n",
       "      <td>404.628524</td>\n",
       "      <td>390.295854</td>\n",
       "      <td>1190.604312</td>\n",
       "      <td>94.574786</td>\n",
       "      <td>141.581197</td>\n",
       "      <td>153.450000</td>\n",
       "      <td>104.207885</td>\n",
       "      <td>15.0</td>\n",
       "      <td>135.707319</td>\n",
       "      <td>...</td>\n",
       "      <td>12.0</td>\n",
       "      <td>12.0</td>\n",
       "      <td>11214.222222</td>\n",
       "      <td>573.111111</td>\n",
       "      <td>1.666667</td>\n",
       "      <td>0.0</td>\n",
       "      <td>0.0</td>\n",
       "      <td>0.0</td>\n",
       "      <td>40.675972</td>\n",
       "      <td>-73.989255</td>\n",
       "    </tr>\n",
       "    <tr>\n",
       "      <th>16</th>\n",
       "      <td>371.529851</td>\n",
       "      <td>379.164179</td>\n",
       "      <td>369.415672</td>\n",
       "      <td>1120.109701</td>\n",
       "      <td>82.264423</td>\n",
       "      <td>126.519231</td>\n",
       "      <td>153.450000</td>\n",
       "      <td>247.185484</td>\n",
       "      <td>16.0</td>\n",
       "      <td>177.501282</td>\n",
       "      <td>...</td>\n",
       "      <td>12.0</td>\n",
       "      <td>12.0</td>\n",
       "      <td>11219.000000</td>\n",
       "      <td>440.250000</td>\n",
       "      <td>1.750000</td>\n",
       "      <td>0.0</td>\n",
       "      <td>0.0</td>\n",
       "      <td>0.0</td>\n",
       "      <td>40.688008</td>\n",
       "      <td>-73.929686</td>\n",
       "    </tr>\n",
       "    <tr>\n",
       "      <th>17</th>\n",
       "      <td>386.571429</td>\n",
       "      <td>394.071429</td>\n",
       "      <td>380.785714</td>\n",
       "      <td>1161.428571</td>\n",
       "      <td>105.583791</td>\n",
       "      <td>163.087912</td>\n",
       "      <td>111.360714</td>\n",
       "      <td>121.357143</td>\n",
       "      <td>17.0</td>\n",
       "      <td>130.246192</td>\n",
       "      <td>...</td>\n",
       "      <td>12.0</td>\n",
       "      <td>12.0</td>\n",
       "      <td>11220.642857</td>\n",
       "      <td>547.071429</td>\n",
       "      <td>1.642857</td>\n",
       "      <td>0.0</td>\n",
       "      <td>0.0</td>\n",
       "      <td>0.0</td>\n",
       "      <td>40.660313</td>\n",
       "      <td>-73.955636</td>\n",
       "    </tr>\n",
       "    <tr>\n",
       "      <th>18</th>\n",
       "      <td>373.454545</td>\n",
       "      <td>373.090909</td>\n",
       "      <td>371.454545</td>\n",
       "      <td>1118.000000</td>\n",
       "      <td>129.028846</td>\n",
       "      <td>197.038462</td>\n",
       "      <td>153.450000</td>\n",
       "      <td>72.771261</td>\n",
       "      <td>18.0</td>\n",
       "      <td>72.209438</td>\n",
       "      <td>...</td>\n",
       "      <td>12.0</td>\n",
       "      <td>12.0</td>\n",
       "      <td>11224.000000</td>\n",
       "      <td>344.000000</td>\n",
       "      <td>1.090909</td>\n",
       "      <td>0.0</td>\n",
       "      <td>0.0</td>\n",
       "      <td>0.0</td>\n",
       "      <td>40.641863</td>\n",
       "      <td>-73.914726</td>\n",
       "    </tr>\n",
       "    <tr>\n",
       "      <th>19</th>\n",
       "      <td>367.083333</td>\n",
       "      <td>377.583333</td>\n",
       "      <td>359.166667</td>\n",
       "      <td>1103.833333</td>\n",
       "      <td>88.097756</td>\n",
       "      <td>124.769231</td>\n",
       "      <td>120.670833</td>\n",
       "      <td>114.322581</td>\n",
       "      <td>19.0</td>\n",
       "      <td>105.752625</td>\n",
       "      <td>...</td>\n",
       "      <td>12.0</td>\n",
       "      <td>12.0</td>\n",
       "      <td>11207.500000</td>\n",
       "      <td>440.416667</td>\n",
       "      <td>1.916667</td>\n",
       "      <td>0.0</td>\n",
       "      <td>0.0</td>\n",
       "      <td>0.0</td>\n",
       "      <td>40.676547</td>\n",
       "      <td>-73.882158</td>\n",
       "    </tr>\n",
       "    <tr>\n",
       "      <th>20</th>\n",
       "      <td>406.223881</td>\n",
       "      <td>465.731343</td>\n",
       "      <td>401.732537</td>\n",
       "      <td>1273.687761</td>\n",
       "      <td>227.805769</td>\n",
       "      <td>359.407692</td>\n",
       "      <td>177.690000</td>\n",
       "      <td>591.374194</td>\n",
       "      <td>20.0</td>\n",
       "      <td>420.029766</td>\n",
       "      <td>...</td>\n",
       "      <td>12.0</td>\n",
       "      <td>12.0</td>\n",
       "      <td>11210.200000</td>\n",
       "      <td>2521.400000</td>\n",
       "      <td>3.800000</td>\n",
       "      <td>0.0</td>\n",
       "      <td>0.0</td>\n",
       "      <td>0.0</td>\n",
       "      <td>40.626751</td>\n",
       "      <td>-74.006191</td>\n",
       "    </tr>\n",
       "    <tr>\n",
       "      <th>21</th>\n",
       "      <td>395.283582</td>\n",
       "      <td>421.786974</td>\n",
       "      <td>389.242062</td>\n",
       "      <td>1206.312619</td>\n",
       "      <td>135.467657</td>\n",
       "      <td>203.835664</td>\n",
       "      <td>142.377273</td>\n",
       "      <td>275.351906</td>\n",
       "      <td>21.0</td>\n",
       "      <td>224.702989</td>\n",
       "      <td>...</td>\n",
       "      <td>12.0</td>\n",
       "      <td>12.0</td>\n",
       "      <td>11221.000000</td>\n",
       "      <td>1098.272727</td>\n",
       "      <td>3.272727</td>\n",
       "      <td>0.0</td>\n",
       "      <td>0.0</td>\n",
       "      <td>0.0</td>\n",
       "      <td>40.593596</td>\n",
       "      <td>-73.978465</td>\n",
       "    </tr>\n",
       "    <tr>\n",
       "      <th>22</th>\n",
       "      <td>473.500000</td>\n",
       "      <td>502.750000</td>\n",
       "      <td>474.250000</td>\n",
       "      <td>1450.500000</td>\n",
       "      <td>391.007212</td>\n",
       "      <td>614.509615</td>\n",
       "      <td>370.362500</td>\n",
       "      <td>580.250000</td>\n",
       "      <td>22.0</td>\n",
       "      <td>495.279369</td>\n",
       "      <td>...</td>\n",
       "      <td>12.0</td>\n",
       "      <td>12.0</td>\n",
       "      <td>11223.000000</td>\n",
       "      <td>2149.000000</td>\n",
       "      <td>2.250000</td>\n",
       "      <td>0.0</td>\n",
       "      <td>0.0</td>\n",
       "      <td>0.0</td>\n",
       "      <td>40.618285</td>\n",
       "      <td>-73.952288</td>\n",
       "    </tr>\n",
       "    <tr>\n",
       "      <th>23</th>\n",
       "      <td>380.666667</td>\n",
       "      <td>398.666667</td>\n",
       "      <td>378.000000</td>\n",
       "      <td>1157.333333</td>\n",
       "      <td>29.000000</td>\n",
       "      <td>31.000000</td>\n",
       "      <td>153.450000</td>\n",
       "      <td>87.000000</td>\n",
       "      <td>23.0</td>\n",
       "      <td>120.113095</td>\n",
       "      <td>...</td>\n",
       "      <td>12.0</td>\n",
       "      <td>12.0</td>\n",
       "      <td>11219.000000</td>\n",
       "      <td>391.000000</td>\n",
       "      <td>1.333333</td>\n",
       "      <td>0.0</td>\n",
       "      <td>0.0</td>\n",
       "      <td>0.0</td>\n",
       "      <td>40.668586</td>\n",
       "      <td>-73.912298</td>\n",
       "    </tr>\n",
       "    <tr>\n",
       "      <th>24</th>\n",
       "      <td>405.846154</td>\n",
       "      <td>434.000000</td>\n",
       "      <td>402.153846</td>\n",
       "      <td>1242.000000</td>\n",
       "      <td>126.474852</td>\n",
       "      <td>179.094675</td>\n",
       "      <td>115.165385</td>\n",
       "      <td>234.682382</td>\n",
       "      <td>24.0</td>\n",
       "      <td>213.471903</td>\n",
       "      <td>...</td>\n",
       "      <td>12.0</td>\n",
       "      <td>12.0</td>\n",
       "      <td>11206.153846</td>\n",
       "      <td>962.461538</td>\n",
       "      <td>2.230769</td>\n",
       "      <td>0.0</td>\n",
       "      <td>0.0</td>\n",
       "      <td>0.0</td>\n",
       "      <td>40.740621</td>\n",
       "      <td>-73.911518</td>\n",
       "    </tr>\n",
       "    <tr>\n",
       "      <th>25</th>\n",
       "      <td>437.250000</td>\n",
       "      <td>483.500000</td>\n",
       "      <td>436.250000</td>\n",
       "      <td>1357.000000</td>\n",
       "      <td>205.260817</td>\n",
       "      <td>279.889423</td>\n",
       "      <td>174.793750</td>\n",
       "      <td>268.733871</td>\n",
       "      <td>25.0</td>\n",
       "      <td>280.576007</td>\n",
       "      <td>...</td>\n",
       "      <td>12.0</td>\n",
       "      <td>12.0</td>\n",
       "      <td>11361.000000</td>\n",
       "      <td>1288.875000</td>\n",
       "      <td>1.875000</td>\n",
       "      <td>0.0</td>\n",
       "      <td>0.0</td>\n",
       "      <td>0.0</td>\n",
       "      <td>40.745414</td>\n",
       "      <td>-73.815558</td>\n",
       "    </tr>\n",
       "    <tr>\n",
       "      <th>26</th>\n",
       "      <td>445.200000</td>\n",
       "      <td>487.600000</td>\n",
       "      <td>444.800000</td>\n",
       "      <td>1377.600000</td>\n",
       "      <td>410.605769</td>\n",
       "      <td>632.407692</td>\n",
       "      <td>392.090000</td>\n",
       "      <td>825.600000</td>\n",
       "      <td>26.0</td>\n",
       "      <td>595.953216</td>\n",
       "      <td>...</td>\n",
       "      <td>12.0</td>\n",
       "      <td>12.0</td>\n",
       "      <td>11388.600000</td>\n",
       "      <td>2837.400000</td>\n",
       "      <td>4.600000</td>\n",
       "      <td>0.0</td>\n",
       "      <td>0.0</td>\n",
       "      <td>0.0</td>\n",
       "      <td>40.748507</td>\n",
       "      <td>-73.759176</td>\n",
       "    </tr>\n",
       "    <tr>\n",
       "      <th>27</th>\n",
       "      <td>407.800000</td>\n",
       "      <td>422.200000</td>\n",
       "      <td>394.300000</td>\n",
       "      <td>1224.300000</td>\n",
       "      <td>100.611538</td>\n",
       "      <td>145.315385</td>\n",
       "      <td>95.125000</td>\n",
       "      <td>288.961290</td>\n",
       "      <td>27.0</td>\n",
       "      <td>249.324536</td>\n",
       "      <td>...</td>\n",
       "      <td>12.0</td>\n",
       "      <td>12.0</td>\n",
       "      <td>11556.300000</td>\n",
       "      <td>1072.000000</td>\n",
       "      <td>2.500000</td>\n",
       "      <td>0.0</td>\n",
       "      <td>0.0</td>\n",
       "      <td>0.0</td>\n",
       "      <td>40.638828</td>\n",
       "      <td>-73.807823</td>\n",
       "    </tr>\n",
       "    <tr>\n",
       "      <th>28</th>\n",
       "      <td>445.941655</td>\n",
       "      <td>465.997286</td>\n",
       "      <td>435.908005</td>\n",
       "      <td>1347.846947</td>\n",
       "      <td>182.010490</td>\n",
       "      <td>273.559441</td>\n",
       "      <td>175.336364</td>\n",
       "      <td>351.214076</td>\n",
       "      <td>28.0</td>\n",
       "      <td>255.381164</td>\n",
       "      <td>...</td>\n",
       "      <td>12.0</td>\n",
       "      <td>12.0</td>\n",
       "      <td>11422.000000</td>\n",
       "      <td>1304.272727</td>\n",
       "      <td>2.545455</td>\n",
       "      <td>0.0</td>\n",
       "      <td>0.0</td>\n",
       "      <td>0.0</td>\n",
       "      <td>40.709344</td>\n",
       "      <td>-73.806367</td>\n",
       "    </tr>\n",
       "    <tr>\n",
       "      <th>29</th>\n",
       "      <td>395.764925</td>\n",
       "      <td>399.457090</td>\n",
       "      <td>386.707836</td>\n",
       "      <td>1181.929851</td>\n",
       "      <td>63.385817</td>\n",
       "      <td>96.514423</td>\n",
       "      <td>135.268750</td>\n",
       "      <td>98.108871</td>\n",
       "      <td>29.0</td>\n",
       "      <td>88.372155</td>\n",
       "      <td>...</td>\n",
       "      <td>12.0</td>\n",
       "      <td>12.0</td>\n",
       "      <td>11413.625000</td>\n",
       "      <td>474.125000</td>\n",
       "      <td>1.250000</td>\n",
       "      <td>0.0</td>\n",
       "      <td>0.0</td>\n",
       "      <td>0.0</td>\n",
       "      <td>40.685276</td>\n",
       "      <td>-73.752740</td>\n",
       "    </tr>\n",
       "    <tr>\n",
       "      <th>30</th>\n",
       "      <td>430.679934</td>\n",
       "      <td>465.961857</td>\n",
       "      <td>429.740299</td>\n",
       "      <td>1326.382090</td>\n",
       "      <td>157.231838</td>\n",
       "      <td>252.123932</td>\n",
       "      <td>115.150000</td>\n",
       "      <td>310.526882</td>\n",
       "      <td>30.0</td>\n",
       "      <td>251.803744</td>\n",
       "      <td>...</td>\n",
       "      <td>12.0</td>\n",
       "      <td>12.0</td>\n",
       "      <td>11103.000000</td>\n",
       "      <td>1123.333333</td>\n",
       "      <td>2.555556</td>\n",
       "      <td>0.0</td>\n",
       "      <td>0.0</td>\n",
       "      <td>0.0</td>\n",
       "      <td>40.755398</td>\n",
       "      <td>-73.932306</td>\n",
       "    </tr>\n",
       "    <tr>\n",
       "      <th>31</th>\n",
       "      <td>457.500000</td>\n",
       "      <td>472.500000</td>\n",
       "      <td>452.500000</td>\n",
       "      <td>1382.500000</td>\n",
       "      <td>228.908654</td>\n",
       "      <td>355.111538</td>\n",
       "      <td>194.435000</td>\n",
       "      <td>450.787097</td>\n",
       "      <td>31.0</td>\n",
       "      <td>380.528319</td>\n",
       "      <td>...</td>\n",
       "      <td>12.0</td>\n",
       "      <td>12.0</td>\n",
       "      <td>10307.100000</td>\n",
       "      <td>1847.500000</td>\n",
       "      <td>5.000000</td>\n",
       "      <td>0.0</td>\n",
       "      <td>0.0</td>\n",
       "      <td>0.0</td>\n",
       "      <td>40.595680</td>\n",
       "      <td>-74.125726</td>\n",
       "    </tr>\n",
       "    <tr>\n",
       "      <th>32</th>\n",
       "      <td>371.500000</td>\n",
       "      <td>385.833333</td>\n",
       "      <td>362.166667</td>\n",
       "      <td>1119.500000</td>\n",
       "      <td>70.342949</td>\n",
       "      <td>100.179487</td>\n",
       "      <td>83.558333</td>\n",
       "      <td>105.333333</td>\n",
       "      <td>32.0</td>\n",
       "      <td>100.525613</td>\n",
       "      <td>...</td>\n",
       "      <td>12.0</td>\n",
       "      <td>12.0</td>\n",
       "      <td>11231.666667</td>\n",
       "      <td>381.500000</td>\n",
       "      <td>1.000000</td>\n",
       "      <td>0.0</td>\n",
       "      <td>0.0</td>\n",
       "      <td>0.0</td>\n",
       "      <td>40.696295</td>\n",
       "      <td>-73.917124</td>\n",
       "    </tr>\n",
       "  </tbody>\n",
       "</table>\n",
       "<p>32 rows × 67 columns</p>\n",
       "</div>"
      ],
      "text/plain": [
       "             SAT Critical Reading Avg. Score  SAT Math Avg. Score  \\\n",
       "school_dist                                                         \n",
       "01                                441.833333           473.333333   \n",
       "02                                426.619092           444.186256   \n",
       "03                                428.529851           437.997512   \n",
       "04                                402.142857           416.285714   \n",
       "05                                427.159915           438.236674   \n",
       "06                                382.011940           400.565672   \n",
       "07                                376.461538           380.461538   \n",
       "08                                386.214383           395.542741   \n",
       "09                                373.755970           383.582836   \n",
       "10                                403.363636           418.000000   \n",
       "11                                389.866667           394.533333   \n",
       "12                                364.769900           379.109453   \n",
       "13                                409.393800           424.127440   \n",
       "14                                395.937100           398.189765   \n",
       "15                                395.679934           404.628524   \n",
       "16                                371.529851           379.164179   \n",
       "17                                386.571429           394.071429   \n",
       "18                                373.454545           373.090909   \n",
       "19                                367.083333           377.583333   \n",
       "20                                406.223881           465.731343   \n",
       "21                                395.283582           421.786974   \n",
       "22                                473.500000           502.750000   \n",
       "23                                380.666667           398.666667   \n",
       "24                                405.846154           434.000000   \n",
       "25                                437.250000           483.500000   \n",
       "26                                445.200000           487.600000   \n",
       "27                                407.800000           422.200000   \n",
       "28                                445.941655           465.997286   \n",
       "29                                395.764925           399.457090   \n",
       "30                                430.679934           465.961857   \n",
       "31                                457.500000           472.500000   \n",
       "32                                371.500000           385.833333   \n",
       "\n",
       "             SAT Writing Avg. Score    sat_score  AP Test Takers   \\\n",
       "school_dist                                                         \n",
       "01                       439.333333  1354.500000       116.681090   \n",
       "02                       424.832836  1295.638184       128.908454   \n",
       "03                       426.915672  1293.443035       156.183494   \n",
       "04                       405.714286  1224.142857       129.016484   \n",
       "05                       419.666098  1285.062687        85.722527   \n",
       "06                       382.066269  1164.643881       108.711538   \n",
       "07                       371.923077  1128.846154        73.703402   \n",
       "08                       377.908005  1159.665129       118.379371   \n",
       "09                       374.633134  1131.971940        71.411538   \n",
       "10                       400.863636  1222.227273       132.231206   \n",
       "11                       380.600000  1165.000000        83.813462   \n",
       "12                       357.943781  1101.823134        93.102564   \n",
       "13                       403.666361  1237.187600       232.931953   \n",
       "14                       385.333049  1179.459915        77.798077   \n",
       "15                       390.295854  1190.604312        94.574786   \n",
       "16                       369.415672  1120.109701        82.264423   \n",
       "17                       380.785714  1161.428571       105.583791   \n",
       "18                       371.454545  1118.000000       129.028846   \n",
       "19                       359.166667  1103.833333        88.097756   \n",
       "20                       401.732537  1273.687761       227.805769   \n",
       "21                       389.242062  1206.312619       135.467657   \n",
       "22                       474.250000  1450.500000       391.007212   \n",
       "23                       378.000000  1157.333333        29.000000   \n",
       "24                       402.153846  1242.000000       126.474852   \n",
       "25                       436.250000  1357.000000       205.260817   \n",
       "26                       444.800000  1377.600000       410.605769   \n",
       "27                       394.300000  1224.300000       100.611538   \n",
       "28                       435.908005  1347.846947       182.010490   \n",
       "29                       386.707836  1181.929851        63.385817   \n",
       "30                       429.740299  1326.382090       157.231838   \n",
       "31                       452.500000  1382.500000       228.908654   \n",
       "32                       362.166667  1119.500000        70.342949   \n",
       "\n",
       "             Total Exams Taken  Number of Exams with scores 3 4 or 5  \\\n",
       "school_dist                                                            \n",
       "01                  173.019231                            135.800000   \n",
       "02                  201.516827                            157.495833   \n",
       "03                  244.522436                            193.087500   \n",
       "04                  183.879121                            151.035714   \n",
       "05                  115.725275                            142.464286   \n",
       "06                  159.715385                            105.425000   \n",
       "07                  112.476331                            105.276923   \n",
       "08                  168.020979                            144.731818   \n",
       "09                  104.265385                             98.470000   \n",
       "10                  226.914336                            191.618182   \n",
       "11                  122.484615                            108.833333   \n",
       "12                  139.442308                            153.450000   \n",
       "13                  382.704142                            320.773077   \n",
       "14                  114.873626                            123.282143   \n",
       "15                  141.581197                            153.450000   \n",
       "16                  126.519231                            153.450000   \n",
       "17                  163.087912                            111.360714   \n",
       "18                  197.038462                            153.450000   \n",
       "19                  124.769231                            120.670833   \n",
       "20                  359.407692                            177.690000   \n",
       "21                  203.835664                            142.377273   \n",
       "22                  614.509615                            370.362500   \n",
       "23                   31.000000                            153.450000   \n",
       "24                  179.094675                            115.165385   \n",
       "25                  279.889423                            174.793750   \n",
       "26                  632.407692                            392.090000   \n",
       "27                  145.315385                             95.125000   \n",
       "28                  273.559441                            175.336364   \n",
       "29                   96.514423                            135.268750   \n",
       "30                  252.123932                            115.150000   \n",
       "31                  355.111538                            194.435000   \n",
       "32                  100.179487                             83.558333   \n",
       "\n",
       "             Total Cohort   CSD  NUMBER OF STUDENTS / SEATS FILLED  ...  \\\n",
       "school_dist                                                         ...   \n",
       "01              93.500000   1.0                         115.244241  ...   \n",
       "02             158.647849   2.0                         149.818949  ...   \n",
       "03             183.384409   3.0                         156.005994  ...   \n",
       "04             113.857143   4.0                         132.362265  ...   \n",
       "05             143.677419   5.0                         120.623901  ...   \n",
       "06             180.848387   6.0                         139.041709  ...   \n",
       "07             105.605459   7.0                          97.597416  ...   \n",
       "08             215.510264   8.0                         129.765099  ...   \n",
       "09             113.330645   9.0                         100.118588  ...   \n",
       "10             161.318182  10.0                         168.876526  ...   \n",
       "11             122.866667  11.0                         129.031031  ...   \n",
       "12             110.467742  12.0                          91.684504  ...   \n",
       "13             224.595533  13.0                         218.306055  ...   \n",
       "14             112.347926  14.0                         123.643728  ...   \n",
       "15             104.207885  15.0                         135.707319  ...   \n",
       "16             247.185484  16.0                         177.501282  ...   \n",
       "17             121.357143  17.0                         130.246192  ...   \n",
       "18              72.771261  18.0                          72.209438  ...   \n",
       "19             114.322581  19.0                         105.752625  ...   \n",
       "20             591.374194  20.0                         420.029766  ...   \n",
       "21             275.351906  21.0                         224.702989  ...   \n",
       "22             580.250000  22.0                         495.279369  ...   \n",
       "23              87.000000  23.0                         120.113095  ...   \n",
       "24             234.682382  24.0                         213.471903  ...   \n",
       "25             268.733871  25.0                         280.576007  ...   \n",
       "26             825.600000  26.0                         595.953216  ...   \n",
       "27             288.961290  27.0                         249.324536  ...   \n",
       "28             351.214076  28.0                         255.381164  ...   \n",
       "29              98.108871  29.0                          88.372155  ...   \n",
       "30             310.526882  30.0                         251.803744  ...   \n",
       "31             450.787097  31.0                         380.528319  ...   \n",
       "32             105.333333  32.0                         100.525613  ...   \n",
       "\n",
       "             grade_span_max  expgrade_span_max           zip  total_students  \\\n",
       "school_dist                                                                    \n",
       "01                     12.0               12.0  10003.166667      659.500000   \n",
       "02                     12.0               12.0  10023.770833      621.395833   \n",
       "03                     12.0               12.0  10023.750000      717.916667   \n",
       "04                     12.0               12.0  10029.857143      580.857143   \n",
       "05                     12.0               12.0  10030.142857      609.857143   \n",
       "06                     12.0               12.0  10036.200000      628.900000   \n",
       "07                     12.0               12.0  10452.692308      465.846154   \n",
       "08                     12.0               12.0  10467.000000      547.636364   \n",
       "09                     12.0               12.0  10456.100000      449.700000   \n",
       "10                     12.0               12.0  10463.181818      757.863636   \n",
       "11                     12.0               12.0  10467.933333      563.666667   \n",
       "12                     12.0               12.0  10463.166667      409.000000   \n",
       "13                     12.0               12.0  11207.153846      895.153846   \n",
       "14                     12.0               12.0  11210.785714      545.357143   \n",
       "15                     12.0               12.0  11214.222222      573.111111   \n",
       "16                     12.0               12.0  11219.000000      440.250000   \n",
       "17                     12.0               12.0  11220.642857      547.071429   \n",
       "18                     12.0               12.0  11224.000000      344.000000   \n",
       "19                     12.0               12.0  11207.500000      440.416667   \n",
       "20                     12.0               12.0  11210.200000     2521.400000   \n",
       "21                     12.0               12.0  11221.000000     1098.272727   \n",
       "22                     12.0               12.0  11223.000000     2149.000000   \n",
       "23                     12.0               12.0  11219.000000      391.000000   \n",
       "24                     12.0               12.0  11206.153846      962.461538   \n",
       "25                     12.0               12.0  11361.000000     1288.875000   \n",
       "26                     12.0               12.0  11388.600000     2837.400000   \n",
       "27                     12.0               12.0  11556.300000     1072.000000   \n",
       "28                     12.0               12.0  11422.000000     1304.272727   \n",
       "29                     12.0               12.0  11413.625000      474.125000   \n",
       "30                     12.0               12.0  11103.000000     1123.333333   \n",
       "31                     12.0               12.0  10307.100000     1847.500000   \n",
       "32                     12.0               12.0  11231.666667      381.500000   \n",
       "\n",
       "             number_programs  priority08  priority09  priority10        lat  \\\n",
       "school_dist                                                                   \n",
       "01                  1.333333         0.0         0.0         0.0  40.719022   \n",
       "02                  1.416667         0.0         0.0         0.0  40.739699   \n",
       "03                  2.000000         0.0         0.0         0.0  40.781574   \n",
       "04                  1.142857         0.0         0.0         0.0  40.793449   \n",
       "05                  1.142857         0.0         0.0         0.0  40.817077   \n",
       "06                  1.300000         0.0         0.0         0.0  40.848970   \n",
       "07                  1.461538         0.0         0.0         0.0  40.816815   \n",
       "08                  1.272727         0.0         0.0         0.0  40.823803   \n",
       "09                  1.150000         0.0         0.0         0.0  40.836349   \n",
       "10                  1.500000         0.0         0.0         0.0  40.870345   \n",
       "11                  1.533333         0.0         0.0         0.0  40.873138   \n",
       "12                  1.083333         0.0         0.0         0.0  40.831412   \n",
       "13                  2.076923         0.0         0.0         0.0  40.692865   \n",
       "14                  2.000000         0.0         0.0         0.0  40.711599   \n",
       "15                  1.666667         0.0         0.0         0.0  40.675972   \n",
       "16                  1.750000         0.0         0.0         0.0  40.688008   \n",
       "17                  1.642857         0.0         0.0         0.0  40.660313   \n",
       "18                  1.090909         0.0         0.0         0.0  40.641863   \n",
       "19                  1.916667         0.0         0.0         0.0  40.676547   \n",
       "20                  3.800000         0.0         0.0         0.0  40.626751   \n",
       "21                  3.272727         0.0         0.0         0.0  40.593596   \n",
       "22                  2.250000         0.0         0.0         0.0  40.618285   \n",
       "23                  1.333333         0.0         0.0         0.0  40.668586   \n",
       "24                  2.230769         0.0         0.0         0.0  40.740621   \n",
       "25                  1.875000         0.0         0.0         0.0  40.745414   \n",
       "26                  4.600000         0.0         0.0         0.0  40.748507   \n",
       "27                  2.500000         0.0         0.0         0.0  40.638828   \n",
       "28                  2.545455         0.0         0.0         0.0  40.709344   \n",
       "29                  1.250000         0.0         0.0         0.0  40.685276   \n",
       "30                  2.555556         0.0         0.0         0.0  40.755398   \n",
       "31                  5.000000         0.0         0.0         0.0  40.595680   \n",
       "32                  1.000000         0.0         0.0         0.0  40.696295   \n",
       "\n",
       "                   lon  \n",
       "school_dist             \n",
       "01          -73.982377  \n",
       "02          -73.991386  \n",
       "03          -73.977370  \n",
       "04          -73.943215  \n",
       "05          -73.949251  \n",
       "06          -73.932502  \n",
       "07          -73.919971  \n",
       "08          -73.866087  \n",
       "09          -73.906240  \n",
       "10          -73.898360  \n",
       "11          -73.856120  \n",
       "12          -73.886946  \n",
       "13          -73.977016  \n",
       "14          -73.948360  \n",
       "15          -73.989255  \n",
       "16          -73.929686  \n",
       "17          -73.955636  \n",
       "18          -73.914726  \n",
       "19          -73.882158  \n",
       "20          -74.006191  \n",
       "21          -73.978465  \n",
       "22          -73.952288  \n",
       "23          -73.912298  \n",
       "24          -73.911518  \n",
       "25          -73.815558  \n",
       "26          -73.759176  \n",
       "27          -73.807823  \n",
       "28          -73.806367  \n",
       "29          -73.752740  \n",
       "30          -73.932306  \n",
       "31          -74.125726  \n",
       "32          -73.917124  \n",
       "\n",
       "[32 rows x 67 columns]"
      ]
     },
     "execution_count": 16,
     "metadata": {},
     "output_type": "execute_result"
    }
   ],
   "source": [
    "safety_avg_by_district = combined.groupby('school_dist').agg(numpy.mean)\n",
    "safety_avg_by_district"
   ]
  },
  {
   "cell_type": "code",
   "execution_count": 67,
   "metadata": {
    "collapsed": true
   },
   "outputs": [],
   "source": [
    "safety_avg_by_district.reset_index(inplace=True)"
   ]
  },
  {
   "cell_type": "code",
   "execution_count": 24,
   "metadata": {},
   "outputs": [],
   "source": [
    "by_district = combined.groupby(\"school_dist\").mean().reset_index()"
   ]
  },
  {
   "cell_type": "code",
   "execution_count": 25,
   "metadata": {},
   "outputs": [],
   "source": [
    "import folium\n",
    "import branca.colormap as cm"
   ]
  },
  {
   "cell_type": "code",
   "execution_count": 26,
   "metadata": {},
   "outputs": [
    {
     "data": {
      "text/html": [
       "<div style=\"width:100%;\"><div style=\"position:relative;width:100%;height:0;padding-bottom:60%;\"><span style=\"color:#565656\">Make this Notebook Trusted to load map: File -> Trust Notebook</span><iframe src=\"about:blank\" style=\"position:absolute;width:100%;height:100%;left:0;top:0;border:none !important;\" data-html=PCFET0NUWVBFIGh0bWw+CjxoZWFkPiAgICAKICAgIDxtZXRhIGh0dHAtZXF1aXY9ImNvbnRlbnQtdHlwZSIgY29udGVudD0idGV4dC9odG1sOyBjaGFyc2V0PVVURi04IiAvPgogICAgCiAgICAgICAgPHNjcmlwdD4KICAgICAgICAgICAgTF9OT19UT1VDSCA9IGZhbHNlOwogICAgICAgICAgICBMX0RJU0FCTEVfM0QgPSBmYWxzZTsKICAgICAgICA8L3NjcmlwdD4KICAgIAogICAgPHNjcmlwdCBzcmM9Imh0dHBzOi8vY2RuLmpzZGVsaXZyLm5ldC9ucG0vbGVhZmxldEAxLjYuMC9kaXN0L2xlYWZsZXQuanMiPjwvc2NyaXB0PgogICAgPHNjcmlwdCBzcmM9Imh0dHBzOi8vY29kZS5qcXVlcnkuY29tL2pxdWVyeS0xLjEyLjQubWluLmpzIj48L3NjcmlwdD4KICAgIDxzY3JpcHQgc3JjPSJodHRwczovL21heGNkbi5ib290c3RyYXBjZG4uY29tL2Jvb3RzdHJhcC8zLjIuMC9qcy9ib290c3RyYXAubWluLmpzIj48L3NjcmlwdD4KICAgIDxzY3JpcHQgc3JjPSJodHRwczovL2NkbmpzLmNsb3VkZmxhcmUuY29tL2FqYXgvbGlicy9MZWFmbGV0LmF3ZXNvbWUtbWFya2Vycy8yLjAuMi9sZWFmbGV0LmF3ZXNvbWUtbWFya2Vycy5qcyI+PC9zY3JpcHQ+CiAgICA8bGluayByZWw9InN0eWxlc2hlZXQiIGhyZWY9Imh0dHBzOi8vY2RuLmpzZGVsaXZyLm5ldC9ucG0vbGVhZmxldEAxLjYuMC9kaXN0L2xlYWZsZXQuY3NzIi8+CiAgICA8bGluayByZWw9InN0eWxlc2hlZXQiIGhyZWY9Imh0dHBzOi8vbWF4Y2RuLmJvb3RzdHJhcGNkbi5jb20vYm9vdHN0cmFwLzMuMi4wL2Nzcy9ib290c3RyYXAubWluLmNzcyIvPgogICAgPGxpbmsgcmVsPSJzdHlsZXNoZWV0IiBocmVmPSJodHRwczovL21heGNkbi5ib290c3RyYXBjZG4uY29tL2Jvb3RzdHJhcC8zLjIuMC9jc3MvYm9vdHN0cmFwLXRoZW1lLm1pbi5jc3MiLz4KICAgIDxsaW5rIHJlbD0ic3R5bGVzaGVldCIgaHJlZj0iaHR0cHM6Ly9tYXhjZG4uYm9vdHN0cmFwY2RuLmNvbS9mb250LWF3ZXNvbWUvNC42LjMvY3NzL2ZvbnQtYXdlc29tZS5taW4uY3NzIi8+CiAgICA8bGluayByZWw9InN0eWxlc2hlZXQiIGhyZWY9Imh0dHBzOi8vY2RuanMuY2xvdWRmbGFyZS5jb20vYWpheC9saWJzL0xlYWZsZXQuYXdlc29tZS1tYXJrZXJzLzIuMC4yL2xlYWZsZXQuYXdlc29tZS1tYXJrZXJzLmNzcyIvPgogICAgPGxpbmsgcmVsPSJzdHlsZXNoZWV0IiBocmVmPSJodHRwczovL3Jhd2Nkbi5naXRoYWNrLmNvbS9weXRob24tdmlzdWFsaXphdGlvbi9mb2xpdW0vbWFzdGVyL2ZvbGl1bS90ZW1wbGF0ZXMvbGVhZmxldC5hd2Vzb21lLnJvdGF0ZS5jc3MiLz4KICAgIDxzdHlsZT5odG1sLCBib2R5IHt3aWR0aDogMTAwJTtoZWlnaHQ6IDEwMCU7bWFyZ2luOiAwO3BhZGRpbmc6IDA7fTwvc3R5bGU+CiAgICA8c3R5bGU+I21hcCB7cG9zaXRpb246YWJzb2x1dGU7dG9wOjA7Ym90dG9tOjA7cmlnaHQ6MDtsZWZ0OjA7fTwvc3R5bGU+CiAgICAKICAgICAgICAgICAgPG1ldGEgbmFtZT0idmlld3BvcnQiIGNvbnRlbnQ9IndpZHRoPWRldmljZS13aWR0aCwKICAgICAgICAgICAgICAgIGluaXRpYWwtc2NhbGU9MS4wLCBtYXhpbXVtLXNjYWxlPTEuMCwgdXNlci1zY2FsYWJsZT1ubyIgLz4KICAgICAgICAgICAgPHN0eWxlPgogICAgICAgICAgICAgICAgI21hcF83ZTY1YzljZjFmNTA0MTc3ODkxZGNiYzJiMzRmYmY1ZSB7CiAgICAgICAgICAgICAgICAgICAgcG9zaXRpb246IHJlbGF0aXZlOwogICAgICAgICAgICAgICAgICAgIHdpZHRoOiAxMDAuMCU7CiAgICAgICAgICAgICAgICAgICAgaGVpZ2h0OiAxMDAuMCU7CiAgICAgICAgICAgICAgICAgICAgbGVmdDogMC4wJTsKICAgICAgICAgICAgICAgICAgICB0b3A6IDAuMCU7CiAgICAgICAgICAgICAgICB9CiAgICAgICAgICAgIDwvc3R5bGU+CiAgICAgICAgCiAgICA8c2NyaXB0IHNyYz0iaHR0cHM6Ly9jZG5qcy5jbG91ZGZsYXJlLmNvbS9hamF4L2xpYnMvZDMvMy41LjUvZDMubWluLmpzIj48L3NjcmlwdD4KPC9oZWFkPgo8Ym9keT4gICAgCiAgICAKICAgICAgICAgICAgIDxoMyBhbGlnbj0iY2VudGVyIiBzdHlsZT0iZm9udC1zaXplOjIwcHgiPjxiPk5ZIGhpZ2hzY2hvb2xzOiBTYWZldHkgLyBSZXNwZWN0IFNjb3JlIGFuZCBhdmcuIGVucm9sbG1lbnQgYnkgc2Nob29sIGRpc3RyaWN0PC9iPjwvaDM+CiAgICAgICAgICAgICAKICAgIAogICAgICAgICAgICA8ZGl2IGNsYXNzPSJmb2xpdW0tbWFwIiBpZD0ibWFwXzdlNjVjOWNmMWY1MDQxNzc4OTFkY2JjMmIzNGZiZjVlIiA+PC9kaXY+CiAgICAgICAgCjwvYm9keT4KPHNjcmlwdD4gICAgCiAgICAKICAgICAgICAgICAgdmFyIG1hcF83ZTY1YzljZjFmNTA0MTc3ODkxZGNiYzJiMzRmYmY1ZSA9IEwubWFwKAogICAgICAgICAgICAgICAgIm1hcF83ZTY1YzljZjFmNTA0MTc3ODkxZGNiYzJiMzRmYmY1ZSIsCiAgICAgICAgICAgICAgICB7CiAgICAgICAgICAgICAgICAgICAgY2VudGVyOiBbNDAuNjkzOTQzLCAtNzMuOTg1ODhdLAogICAgICAgICAgICAgICAgICAgIGNyczogTC5DUlMuRVBTRzM4NTcsCiAgICAgICAgICAgICAgICAgICAgem9vbTogMTAsCiAgICAgICAgICAgICAgICAgICAgem9vbUNvbnRyb2w6IHRydWUsCiAgICAgICAgICAgICAgICAgICAgcHJlZmVyQ2FudmFzOiBmYWxzZSwKICAgICAgICAgICAgICAgIH0KICAgICAgICAgICAgKTsKCiAgICAgICAgICAgIAoKICAgICAgICAKICAgIAogICAgICAgICAgICB2YXIgdGlsZV9sYXllcl83YzA5Y2JkOTFjYTc0N2EwOTIwYjgyZjhmY2QzYzc1YiA9IEwudGlsZUxheWVyKAogICAgICAgICAgICAgICAgImh0dHBzOi8vY2FydG9kYi1iYXNlbWFwcy17c30uZ2xvYmFsLnNzbC5mYXN0bHkubmV0L2xpZ2h0X2FsbC97en0ve3h9L3t5fS5wbmciLAogICAgICAgICAgICAgICAgeyJhdHRyaWJ1dGlvbiI6ICJcdTAwMjZjb3B5OyBcdTAwM2NhIGhyZWY9XCJodHRwOi8vd3d3Lm9wZW5zdHJlZXRtYXAub3JnL2NvcHlyaWdodFwiXHUwMDNlT3BlblN0cmVldE1hcFx1MDAzYy9hXHUwMDNlIGNvbnRyaWJ1dG9ycyBcdTAwMjZjb3B5OyBcdTAwM2NhIGhyZWY9XCJodHRwOi8vY2FydG9kYi5jb20vYXR0cmlidXRpb25zXCJcdTAwM2VDYXJ0b0RCXHUwMDNjL2FcdTAwM2UsIENhcnRvREIgXHUwMDNjYSBocmVmID1cImh0dHA6Ly9jYXJ0b2RiLmNvbS9hdHRyaWJ1dGlvbnNcIlx1MDAzZWF0dHJpYnV0aW9uc1x1MDAzYy9hXHUwMDNlIiwgImRldGVjdFJldGluYSI6IGZhbHNlLCAibWF4TmF0aXZlWm9vbSI6IDE4LCAibWF4Wm9vbSI6IDE4LCAibWluWm9vbSI6IDAsICJub1dyYXAiOiBmYWxzZSwgIm9wYWNpdHkiOiAxLCAic3ViZG9tYWlucyI6ICJhYmMiLCAidG1zIjogZmFsc2V9CiAgICAgICAgICAgICkuYWRkVG8obWFwXzdlNjVjOWNmMWY1MDQxNzc4OTFkY2JjMmIzNGZiZjVlKTsKICAgICAgICAKICAgIAogICAgICAgICAgICB2YXIgY2lyY2xlXzZkZDhjMDAxNjY5YTQzNzk5MjE4MTdhYzgyNjhmZDcxID0gTC5jaXJjbGUoCiAgICAgICAgICAgICAgICBbNDAuNzE5MDIyNDM4NjY3MTQsIC03My45ODIzNzcyMDA2NjYzM10sCiAgICAgICAgICAgICAgICB7ImJ1YmJsaW5nTW91c2VFdmVudHMiOiB0cnVlLCAiY29sb3IiOiAiIzcyODM0MmZmIiwgImRhc2hBcnJheSI6IG51bGwsICJkYXNoT2Zmc2V0IjogbnVsbCwgImZpbGwiOiB0cnVlLCAiZmlsbENvbG9yIjogIiM3MjgzNDJmZiIsICJmaWxsT3BhY2l0eSI6IDAuNzUsICJmaWxsUnVsZSI6ICJldmVub2RkIiwgImxpbmVDYXAiOiAicm91bmQiLCAibGluZUpvaW4iOiAicm91bmQiLCAib3BhY2l0eSI6IDEuMCwgInJhZGl1cyI6IDY2OC41LCAic3Ryb2tlIjogdHJ1ZSwgIndlaWdodCI6IDJ9CiAgICAgICAgICAgICkuYWRkVG8obWFwXzdlNjVjOWNmMWY1MDQxNzc4OTFkY2JjMmIzNGZiZjVlKTsKICAgICAgICAKICAgIAogICAgICAgICAgICBjaXJjbGVfNmRkOGMwMDE2NjlhNDM3OTkyMTgxN2FjODI2OGZkNzEuYmluZFRvb2x0aXAoCiAgICAgICAgICAgICAgICBgPGRpdj4KICAgICAgICAgICAgICAgICAgICAgRGlzdHJpY3QgMDEgPGJyPiBBdmcuIFNhZmV0eSAvIFJlc3BlY3QgU2NvcmUsIHN0dWRlbnRzIHJlc3BvbnNlIChjb2xvcik6IDYuOCA8YnI+IEF2Zy4gZW5yb2xsbWVudCBwZXIgc2Nob29sIChzaXplKTogNjY4CiAgICAgICAgICAgICAgICAgPC9kaXY+YCwKICAgICAgICAgICAgICAgIHsic3RpY2t5IjogdHJ1ZX0KICAgICAgICAgICAgKTsKICAgICAgICAKICAgIAogICAgICAgICAgICB2YXIgY2lyY2xlXzM1ZTk5NjkyZmE5ZDRmMzhiYmZhYjc0NTFlMjJmZTNkID0gTC5jaXJjbGUoCiAgICAgICAgICAgICAgICBbNDAuNzM5Njk5NDk5ODMzODEsIC03My45OTEzODU2NzMyOTEzM10sCiAgICAgICAgICAgICAgICB7ImJ1YmJsaW5nTW91c2VFdmVudHMiOiB0cnVlLCAiY29sb3IiOiAiIzYzOTQzN2ZmIiwgImRhc2hBcnJheSI6IG51bGwsICJkYXNoT2Zmc2V0IjogbnVsbCwgImZpbGwiOiB0cnVlLCAiZmlsbENvbG9yIjogIiM2Mzk0MzdmZiIsICJmaWxsT3BhY2l0eSI6IDAuNzUsICJmaWxsUnVsZSI6ICJldmVub2RkIiwgImxpbmVDYXAiOiAicm91bmQiLCAibGluZUpvaW4iOiAicm91bmQiLCAib3BhY2l0eSI6IDEuMCwgInJhZGl1cyI6IDYwNS42MDQxNjY2NjY2NjY2LCAic3Ryb2tlIjogdHJ1ZSwgIndlaWdodCI6IDJ9CiAgICAgICAgICAgICkuYWRkVG8obWFwXzdlNjVjOWNmMWY1MDQxNzc4OTFkY2JjMmIzNGZiZjVlKTsKICAgICAgICAKICAgIAogICAgICAgICAgICBjaXJjbGVfMzVlOTk2OTJmYTlkNGYzOGJiZmFiNzQ1MWUyMmZlM2QuYmluZFRvb2x0aXAoCiAgICAgICAgICAgICAgICBgPGRpdj4KICAgICAgICAgICAgICAgICAgICAgRGlzdHJpY3QgMDIgPGJyPiBBdmcuIFNhZmV0eSAvIFJlc3BlY3QgU2NvcmUsIHN0dWRlbnRzIHJlc3BvbnNlIChjb2xvcik6IDYuOSA8YnI+IEF2Zy4gZW5yb2xsbWVudCBwZXIgc2Nob29sIChzaXplKTogNjA2CiAgICAgICAgICAgICAgICAgPC9kaXY+YCwKICAgICAgICAgICAgICAgIHsic3RpY2t5IjogdHJ1ZX0KICAgICAgICAgICAgKTsKICAgICAgICAKICAgIAogICAgICAgICAgICB2YXIgY2lyY2xlXzQyNjkyNDFlNWM2YzQ4YWE5Nzk0YTQzM2MyNTRjOTVmID0gTC5jaXJjbGUoCiAgICAgICAgICAgICAgICBbNDAuNzgxNTc0MTA5NTAwNDc1LCAtNzMuOTc3MzcwMTYxNDk5NjVdLAogICAgICAgICAgICAgICAgeyJidWJibGluZ01vdXNlRXZlbnRzIjogdHJ1ZSwgImNvbG9yIjogIiM3NzdkNDZmZiIsICJkYXNoQXJyYXkiOiBudWxsLCAiZGFzaE9mZnNldCI6IG51bGwsICJmaWxsIjogdHJ1ZSwgImZpbGxDb2xvciI6ICIjNzc3ZDQ2ZmYiLCAiZmlsbE9wYWNpdHkiOiAwLjc1LCAiZmlsbFJ1bGUiOiAiZXZlbm9kZCIsICJsaW5lQ2FwIjogInJvdW5kIiwgImxpbmVKb2luIjogInJvdW5kIiwgIm9wYWNpdHkiOiAxLjAsICJyYWRpdXMiOiA2NjEuNDE2NjY2NjY2NjY2NiwgInN0cm9rZSI6IHRydWUsICJ3ZWlnaHQiOiAyfQogICAgICAgICAgICApLmFkZFRvKG1hcF83ZTY1YzljZjFmNTA0MTc3ODkxZGNiYzJiMzRmYmY1ZSk7CiAgICAgICAgCiAgICAKICAgICAgICAgICAgY2lyY2xlXzQyNjkyNDFlNWM2YzQ4YWE5Nzk0YTQzM2MyNTRjOTVmLmJpbmRUb29sdGlwKAogICAgICAgICAgICAgICAgYDxkaXY+CiAgICAgICAgICAgICAgICAgICAgIERpc3RyaWN0IDAzIDxicj4gQXZnLiBTYWZldHkgLyBSZXNwZWN0IFNjb3JlLCBzdHVkZW50cyByZXNwb25zZSAoY29sb3IpOiA2LjcgPGJyPiBBdmcuIGVucm9sbG1lbnQgcGVyIHNjaG9vbCAoc2l6ZSk6IDY2MQogICAgICAgICAgICAgICAgIDwvZGl2PmAsCiAgICAgICAgICAgICAgICB7InN0aWNreSI6IHRydWV9CiAgICAgICAgICAgICk7CiAgICAgICAgCiAgICAKICAgICAgICAgICAgdmFyIGNpcmNsZV8wM2RjNTg0YmY4ODc0MDExOWIyMThmZGZmM2QwMDUwOCA9IEwuY2lyY2xlKAogICAgICAgICAgICAgICAgWzQwLjc5MzQ0ODg0Mjg1NzYxNSwgLTczLjk0MzIxNTE5NTE0MjUxXSwKICAgICAgICAgICAgICAgIHsiYnViYmxpbmdNb3VzZUV2ZW50cyI6IHRydWUsICJjb2xvciI6ICIjNjY5MTM5ZmYiLCAiZGFzaEFycmF5IjogbnVsbCwgImRhc2hPZmZzZXQiOiBudWxsLCAiZmlsbCI6IHRydWUsICJmaWxsQ29sb3IiOiAiIzY2OTEzOWZmIiwgImZpbGxPcGFjaXR5IjogMC43NSwgImZpbGxSdWxlIjogImV2ZW5vZGQiLCAibGluZUNhcCI6ICJyb3VuZCIsICJsaW5lSm9pbiI6ICJyb3VuZCIsICJvcGFjaXR5IjogMS4wLCAicmFkaXVzIjogNTY5LjI4NTcxNDI4NTcxNDMsICJzdHJva2UiOiB0cnVlLCAid2VpZ2h0IjogMn0KICAgICAgICAgICAgKS5hZGRUbyhtYXBfN2U2NWM5Y2YxZjUwNDE3Nzg5MWRjYmMyYjM0ZmJmNWUpOwogICAgICAgIAogICAgCiAgICAgICAgICAgIGNpcmNsZV8wM2RjNTg0YmY4ODc0MDExOWIyMThmZGZmM2QwMDUwOC5iaW5kVG9vbHRpcCgKICAgICAgICAgICAgICAgIGA8ZGl2PgogICAgICAgICAgICAgICAgICAgICBEaXN0cmljdCAwNCA8YnI+IEF2Zy4gU2FmZXR5IC8gUmVzcGVjdCBTY29yZSwgc3R1ZGVudHMgcmVzcG9uc2UgKGNvbG9yKTogNi45IDxicj4gQXZnLiBlbnJvbGxtZW50IHBlciBzY2hvb2wgKHNpemUpOiA1NjkKICAgICAgICAgICAgICAgICA8L2Rpdj5gLAogICAgICAgICAgICAgICAgeyJzdGlja3kiOiB0cnVlfQogICAgICAgICAgICApOwogICAgICAgIAogICAgCiAgICAgICAgICAgIHZhciBjaXJjbGVfOWFjNWQ3MjA4MTMzNDIxZmFmZWU2YWMyMGZjMjUwOTkgPSBMLmNpcmNsZSgKICAgICAgICAgICAgICAgIFs0MC44MTcwNzY1NjUwMDA0NywgLTczLjk0OTI1MTM5ODE0MjUyXSwKICAgICAgICAgICAgICAgIHsiYnViYmxpbmdNb3VzZUV2ZW50cyI6IHRydWUsICJjb2xvciI6ICIjYTI0ZjY3ZmYiLCAiZGFzaEFycmF5IjogbnVsbCwgImRhc2hPZmZzZXQiOiBudWxsLCAiZmlsbCI6IHRydWUsICJmaWxsQ29sb3IiOiAiI2EyNGY2N2ZmIiwgImZpbGxPcGFjaXR5IjogMC43NSwgImZpbGxSdWxlIjogImV2ZW5vZGQiLCAibGluZUNhcCI6ICJyb3VuZCIsICJsaW5lSm9pbiI6ICJyb3VuZCIsICJvcGFjaXR5IjogMS4wLCAicmFkaXVzIjogNjA1Ljg1NzE0Mjg1NzE0MjksICJzdHJva2UiOiB0cnVlLCAid2VpZ2h0IjogMn0KICAgICAgICAgICAgKS5hZGRUbyhtYXBfN2U2NWM5Y2YxZjUwNDE3Nzg5MWRjYmMyYjM0ZmJmNWUpOwogICAgICAgIAogICAgCiAgICAgICAgICAgIGNpcmNsZV85YWM1ZDcyMDgxMzM0MjFmYWZlZTZhYzIwZmMyNTA5OS5iaW5kVG9vbHRpcCgKICAgICAgICAgICAgICAgIGA8ZGl2PgogICAgICAgICAgICAgICAgICAgICBEaXN0cmljdCAwNSA8YnI+IEF2Zy4gU2FmZXR5IC8gUmVzcGVjdCBTY29yZSwgc3R1ZGVudHMgcmVzcG9uc2UgKGNvbG9yKTogNi4zIDxicj4gQXZnLiBlbnJvbGxtZW50IHBlciBzY2hvb2wgKHNpemUpOiA2MDYKICAgICAgICAgICAgICAgICA8L2Rpdj5gLAogICAgICAgICAgICAgICAgeyJzdGlja3kiOiB0cnVlfQogICAgICAgICAgICApOwogICAgICAgIAogICAgCiAgICAgICAgICAgIHZhciBjaXJjbGVfN2NmMzIyYWY4MjI3NDdkMWJiMDRiNjBiYTEyZjc2NjMgPSBMLmNpcmNsZSgKICAgICAgICAgICAgICAgIFs0MC44NDg5Njk5Njk0MDA0OCwgLTczLjkzMjUwMjI5MDE5OTY1XSwKICAgICAgICAgICAgICAgIHsiYnViYmxpbmdNb3VzZUV2ZW50cyI6IHRydWUsICJjb2xvciI6ICIjNWY5ODMzZmYiLCAiZGFzaEFycmF5IjogbnVsbCwgImRhc2hPZmZzZXQiOiBudWxsLCAiZmlsbCI6IHRydWUsICJmaWxsQ29sb3IiOiAiIzVmOTgzM2ZmIiwgImZpbGxPcGFjaXR5IjogMC43NSwgImZpbGxSdWxlIjogImV2ZW5vZGQiLCAibGluZUNhcCI6ICJyb3VuZCIsICJsaW5lSm9pbiI6ICJyb3VuZCIsICJvcGFjaXR5IjogMS4wLCAicmFkaXVzIjogNjIxLjgsICJzdHJva2UiOiB0cnVlLCAid2VpZ2h0IjogMn0KICAgICAgICAgICAgKS5hZGRUbyhtYXBfN2U2NWM5Y2YxZjUwNDE3Nzg5MWRjYmMyYjM0ZmJmNWUpOwogICAgICAgIAogICAgCiAgICAgICAgICAgIGNpcmNsZV83Y2YzMjJhZjgyMjc0N2QxYmIwNGI2MGJhMTJmNzY2My5iaW5kVG9vbHRpcCgKICAgICAgICAgICAgICAgIGA8ZGl2PgogICAgICAgICAgICAgICAgICAgICBEaXN0cmljdCAwNiA8YnI+IEF2Zy4gU2FmZXR5IC8gUmVzcGVjdCBTY29yZSwgc3R1ZGVudHMgcmVzcG9uc2UgKGNvbG9yKTogNy4wIDxicj4gQXZnLiBlbnJvbGxtZW50IHBlciBzY2hvb2wgKHNpemUpOiA2MjIKICAgICAgICAgICAgICAgICA8L2Rpdj5gLAogICAgICAgICAgICAgICAgeyJzdGlja3kiOiB0cnVlfQogICAgICAgICAgICApOwogICAgICAgIAogICAgCiAgICAgICAgICAgIHZhciBjaXJjbGVfZTJiNjkyNjFiZGRiNDEwOGI4NDA3NDkzMTUyMWU2ZTUgPSBMLmNpcmNsZSgKICAgICAgICAgICAgICAgIFs0MC44MTY4MTQ4Mzg2MTU4NiwgLTczLjkxOTk3MTQ4MDUzODFdLAogICAgICAgICAgICAgICAgeyJidWJibGluZ01vdXNlRXZlbnRzIjogdHJ1ZSwgImNvbG9yIjogIiM2Zjg3NDBmZiIsICJkYXNoQXJyYXkiOiBudWxsLCAiZGFzaE9mZnNldCI6IG51bGwsICJmaWxsIjogdHJ1ZSwgImZpbGxDb2xvciI6ICIjNmY4NzQwZmYiLCAiZmlsbE9wYWNpdHkiOiAwLjc1LCAiZmlsbFJ1bGUiOiAiZXZlbm9kZCIsICJsaW5lQ2FwIjogInJvdW5kIiwgImxpbmVKb2luIjogInJvdW5kIiwgIm9wYWNpdHkiOiAxLjAsICJyYWRpdXMiOiA0ODEuMCwgInN0cm9rZSI6IHRydWUsICJ3ZWlnaHQiOiAyfQogICAgICAgICAgICApLmFkZFRvKG1hcF83ZTY1YzljZjFmNTA0MTc3ODkxZGNiYzJiMzRmYmY1ZSk7CiAgICAgICAgCiAgICAKICAgICAgICAgICAgY2lyY2xlX2UyYjY5MjYxYmRkYjQxMDhiODQwNzQ5MzE1MjFlNmU1LmJpbmRUb29sdGlwKAogICAgICAgICAgICAgICAgYDxkaXY+CiAgICAgICAgICAgICAgICAgICAgIERpc3RyaWN0IDA3IDxicj4gQXZnLiBTYWZldHkgLyBSZXNwZWN0IFNjb3JlLCBzdHVkZW50cyByZXNwb25zZSAoY29sb3IpOiA2LjggPGJyPiBBdmcuIGVucm9sbG1lbnQgcGVyIHNjaG9vbCAoc2l6ZSk6IDQ4MQogICAgICAgICAgICAgICAgIDwvZGl2PmAsCiAgICAgICAgICAgICAgICB7InN0aWNreSI6IHRydWV9CiAgICAgICAgICAgICk7CiAgICAgICAgCiAgICAKICAgICAgICAgICAgdmFyIGNpcmNsZV9hMmIxMTgzNDBhNGE0OGNjOWY0YmFhNWE4MjIzMzk3YSA9IEwuY2lyY2xlKAogICAgICAgICAgICAgICAgWzQwLjgyMzgwMzE1MDI3MzIsIC03My44NjYwODczOTAxODE0Nl0sCiAgICAgICAgICAgICAgICB7ImJ1YmJsaW5nTW91c2VFdmVudHMiOiB0cnVlLCAiY29sb3IiOiAiIzlkNTQ2M2ZmIiwgImRhc2hBcnJheSI6IG51bGwsICJkYXNoT2Zmc2V0IjogbnVsbCwgImZpbGwiOiB0cnVlLCAiZmlsbENvbG9yIjogIiM5ZDU0NjNmZiIsICJmaWxsT3BhY2l0eSI6IDAuNzUsICJmaWxsUnVsZSI6ICJldmVub2RkIiwgImxpbmVDYXAiOiAicm91bmQiLCAibGluZUpvaW4iOiAicm91bmQiLCAib3BhY2l0eSI6IDEuMCwgInJhZGl1cyI6IDY4NC41NDU0NTQ1NDU0NTQ1LCAic3Ryb2tlIjogdHJ1ZSwgIndlaWdodCI6IDJ9CiAgICAgICAgICAgICkuYWRkVG8obWFwXzdlNjVjOWNmMWY1MDQxNzc4OTFkY2JjMmIzNGZiZjVlKTsKICAgICAgICAKICAgIAogICAgICAgICAgICBjaXJjbGVfYTJiMTE4MzQwYTRhNDhjYzlmNGJhYTVhODIyMzM5N2EuYmluZFRvb2x0aXAoCiAgICAgICAgICAgICAgICBgPGRpdj4KICAgICAgICAgICAgICAgICAgICAgRGlzdHJpY3QgMDggPGJyPiBBdmcuIFNhZmV0eSAvIFJlc3BlY3QgU2NvcmUsIHN0dWRlbnRzIHJlc3BvbnNlIChjb2xvcik6IDYuNCA8YnI+IEF2Zy4gZW5yb2xsbWVudCBwZXIgc2Nob29sIChzaXplKTogNjg1CiAgICAgICAgICAgICAgICAgPC9kaXY+YCwKICAgICAgICAgICAgICAgIHsic3RpY2t5IjogdHJ1ZX0KICAgICAgICAgICAgKTsKICAgICAgICAKICAgIAogICAgICAgICAgICB2YXIgY2lyY2xlX2FhZmMzMmNmNTRlNDRhMDM4Y2VmMDRiZWNmMmVlNTZjID0gTC5jaXJjbGUoCiAgICAgICAgICAgICAgICBbNDAuODM2MzQ4NjU2NDUwNDgsIC03My45MDYyNDAxNzc2OTk2M10sCiAgICAgICAgICAgICAgICB7ImJ1YmJsaW5nTW91c2VFdmVudHMiOiB0cnVlLCAiY29sb3IiOiAiIzdlNzY0Y2ZmIiwgImRhc2hBcnJheSI6IG51bGwsICJkYXNoT2Zmc2V0IjogbnVsbCwgImZpbGwiOiB0cnVlLCAiZmlsbENvbG9yIjogIiM3ZTc2NGNmZiIsICJmaWxsT3BhY2l0eSI6IDAuNzUsICJmaWxsUnVsZSI6ICJldmVub2RkIiwgImxpbmVDYXAiOiAicm91bmQiLCAibGluZUpvaW4iOiAicm91bmQiLCAib3BhY2l0eSI6IDEuMCwgInJhZGl1cyI6IDQ0Mi44LCAic3Ryb2tlIjogdHJ1ZSwgIndlaWdodCI6IDJ9CiAgICAgICAgICAgICkuYWRkVG8obWFwXzdlNjVjOWNmMWY1MDQxNzc4OTFkY2JjMmIzNGZiZjVlKTsKICAgICAgICAKICAgIAogICAgICAgICAgICBjaXJjbGVfYWFmYzMyY2Y1NGU0NGEwMzhjZWYwNGJlY2YyZWU1NmMuYmluZFRvb2x0aXAoCiAgICAgICAgICAgICAgICBgPGRpdj4KICAgICAgICAgICAgICAgICAgICAgRGlzdHJpY3QgMDkgPGJyPiBBdmcuIFNhZmV0eSAvIFJlc3BlY3QgU2NvcmUsIHN0dWRlbnRzIHJlc3BvbnNlIChjb2xvcik6IDYuNyA8YnI+IEF2Zy4gZW5yb2xsbWVudCBwZXIgc2Nob29sIChzaXplKTogNDQzCiAgICAgICAgICAgICAgICAgPC9kaXY+YCwKICAgICAgICAgICAgICAgIHsic3RpY2t5IjogdHJ1ZX0KICAgICAgICAgICAgKTsKICAgICAgICAKICAgIAogICAgICAgICAgICB2YXIgY2lyY2xlX2IzZmVhNTE3ODgzYTQ2ZmJiMjEyYjFiMDE5YmIxY2I4ID0gTC5jaXJjbGUoCiAgICAgICAgICAgICAgICBbNDAuODcwMzQ1MzE4NDA5NTc2LCAtNzMuODk4MzU5OTgwMjI2OTRdLAogICAgICAgICAgICAgICAgeyJidWJibGluZ01vdXNlRXZlbnRzIjogdHJ1ZSwgImNvbG9yIjogIiM4NjZkNTJmZiIsICJkYXNoQXJyYXkiOiBudWxsLCAiZGFzaE9mZnNldCI6IG51bGwsICJmaWxsIjogdHJ1ZSwgImZpbGxDb2xvciI6ICIjODY2ZDUyZmYiLCAiZmlsbE9wYWNpdHkiOiAwLjc1LCAiZmlsbFJ1bGUiOiAiZXZlbm9kZCIsICJsaW5lQ2FwIjogInJvdW5kIiwgImxpbmVKb2luIjogInJvdW5kIiwgIm9wYWNpdHkiOiAxLjAsICJyYWRpdXMiOiA4MTguNTQ1NDU0NTQ1NDU0NSwgInN0cm9rZSI6IHRydWUsICJ3ZWlnaHQiOiAyfQogICAgICAgICAgICApLmFkZFRvKG1hcF83ZTY1YzljZjFmNTA0MTc3ODkxZGNiYzJiMzRmYmY1ZSk7CiAgICAgICAgCiAgICAKICAgICAgICAgICAgY2lyY2xlX2IzZmVhNTE3ODgzYTQ2ZmJiMjEyYjFiMDE5YmIxY2I4LmJpbmRUb29sdGlwKAogICAgICAgICAgICAgICAgYDxkaXY+CiAgICAgICAgICAgICAgICAgICAgIERpc3RyaWN0IDEwIDxicj4gQXZnLiBTYWZldHkgLyBSZXNwZWN0IFNjb3JlLCBzdHVkZW50cyByZXNwb25zZSAoY29sb3IpOiA2LjYgPGJyPiBBdmcuIGVucm9sbG1lbnQgcGVyIHNjaG9vbCAoc2l6ZSk6IDgxOQogICAgICAgICAgICAgICAgIDwvZGl2PmAsCiAgICAgICAgICAgICAgICB7InN0aWNreSI6IHRydWV9CiAgICAgICAgICAgICk7CiAgICAgICAgCiAgICAKICAgICAgICAgICAgdmFyIGNpcmNsZV9jNGNlYTI4Mjc2YTA0NmY0YmViZjY5ODlhYmI4OTgyNyA9IEwuY2lyY2xlKAogICAgICAgICAgICAgICAgWzQwLjg3MzEzODMyOTEzMzc5NSwgLTczLjg1NjExOTUzNjE5OTY0XSwKICAgICAgICAgICAgICAgIHsiYnViYmxpbmdNb3VzZUV2ZW50cyI6IHRydWUsICJjb2xvciI6ICIjYWY0MDcyZmYiLCAiZGFzaEFycmF5IjogbnVsbCwgImRhc2hPZmZzZXQiOiBudWxsLCAiZmlsbCI6IHRydWUsICJmaWxsQ29sb3IiOiAiI2FmNDA3MmZmIiwgImZpbGxPcGFjaXR5IjogMC43NSwgImZpbGxSdWxlIjogImV2ZW5vZGQiLCAibGluZUNhcCI6ICJyb3VuZCIsICJsaW5lSm9pbiI6ICJyb3VuZCIsICJvcGFjaXR5IjogMS4wLCAicmFkaXVzIjogNTYyLjQ2NjY2NjY2NjY2NjcsICJzdHJva2UiOiB0cnVlLCAid2VpZ2h0IjogMn0KICAgICAgICAgICAgKS5hZGRUbyhtYXBfN2U2NWM5Y2YxZjUwNDE3Nzg5MWRjYmMyYjM0ZmJmNWUpOwogICAgICAgIAogICAgCiAgICAgICAgICAgIGNpcmNsZV9jNGNlYTI4Mjc2YTA0NmY0YmViZjY5ODlhYmI4OTgyNy5iaW5kVG9vbHRpcCgKICAgICAgICAgICAgICAgIGA8ZGl2PgogICAgICAgICAgICAgICAgICAgICBEaXN0cmljdCAxMSA8YnI+IEF2Zy4gU2FmZXR5IC8gUmVzcGVjdCBTY29yZSwgc3R1ZGVudHMgcmVzcG9uc2UgKGNvbG9yKTogNi4yIDxicj4gQXZnLiBlbnJvbGxtZW50IHBlciBzY2hvb2wgKHNpemUpOiA1NjIKICAgICAgICAgICAgICAgICA8L2Rpdj5gLAogICAgICAgICAgICAgICAgeyJzdGlja3kiOiB0cnVlfQogICAgICAgICAgICApOwogICAgICAgIAogICAgCiAgICAgICAgICAgIHZhciBjaXJjbGVfNTFmYWI5MWM4ZDkzNGE5YWI1YTNmYmMwNWYyYjIxMzkgPSBMLmNpcmNsZSgKICAgICAgICAgICAgICAgIFs0MC44MzE0MTIyNjc0MTcxMywgLTczLjg4Njk0NjM2NTgzMjk3XSwKICAgICAgICAgICAgICAgIHsiYnViYmxpbmdNb3VzZUV2ZW50cyI6IHRydWUsICJjb2xvciI6ICIjNGRhYzI2ZmYiLCAiZGFzaEFycmF5IjogbnVsbCwgImRhc2hPZmZzZXQiOiBudWxsLCAiZmlsbCI6IHRydWUsICJmaWxsQ29sb3IiOiAiIzRkYWMyNmZmIiwgImZpbGxPcGFjaXR5IjogMC43NSwgImZpbGxSdWxlIjogImV2ZW5vZGQiLCAibGluZUNhcCI6ICJyb3VuZCIsICJsaW5lSm9pbiI6ICJyb3VuZCIsICJvcGFjaXR5IjogMS4wLCAicmFkaXVzIjogMzkxLjAsICJzdHJva2UiOiB0cnVlLCAid2VpZ2h0IjogMn0KICAgICAgICAgICAgKS5hZGRUbyhtYXBfN2U2NWM5Y2YxZjUwNDE3Nzg5MWRjYmMyYjM0ZmJmNWUpOwogICAgICAgIAogICAgCiAgICAgICAgICAgIGNpcmNsZV81MWZhYjkxYzhkOTM0YTlhYjVhM2ZiYzA1ZjJiMjEzOS5iaW5kVG9vbHRpcCgKICAgICAgICAgICAgICAgIGA8ZGl2PgogICAgICAgICAgICAgICAgICAgICBEaXN0cmljdCAxMiA8YnI+IEF2Zy4gU2FmZXR5IC8gUmVzcGVjdCBTY29yZSwgc3R1ZGVudHMgcmVzcG9uc2UgKGNvbG9yKTogNy4xIDxicj4gQXZnLiBlbnJvbGxtZW50IHBlciBzY2hvb2wgKHNpemUpOiAzOTEKICAgICAgICAgICAgICAgICA8L2Rpdj5gLAogICAgICAgICAgICAgICAgeyJzdGlja3kiOiB0cnVlfQogICAgICAgICAgICApOwogICAgICAgIAogICAgCiAgICAgICAgICAgIHZhciBjaXJjbGVfNmEzYjgzMTM0YmZjNDVjMGIxMGYxODc3N2Q0YTAwNGQgPSBMLmNpcmNsZSgKICAgICAgICAgICAgICAgIFs0MC42OTI4NjQ1NjAwNzczOTYsIC03My45NzcwMTU5OTA2OTE5NV0sCiAgICAgICAgICAgICAgICB7ImJ1YmJsaW5nTW91c2VFdmVudHMiOiB0cnVlLCAiY29sb3IiOiAiIzk4NTk2MGZmIiwgImRhc2hBcnJheSI6IG51bGwsICJkYXNoT2Zmc2V0IjogbnVsbCwgImZpbGwiOiB0cnVlLCAiZmlsbENvbG9yIjogIiM5ODU5NjBmZiIsICJmaWxsT3BhY2l0eSI6IDAuNzUsICJmaWxsUnVsZSI6ICJldmVub2RkIiwgImxpbmVDYXAiOiAicm91bmQiLCAibGluZUpvaW4iOiAicm91bmQiLCAib3BhY2l0eSI6IDEuMCwgInJhZGl1cyI6IDkwMi4wLCAic3Ryb2tlIjogdHJ1ZSwgIndlaWdodCI6IDJ9CiAgICAgICAgICAgICkuYWRkVG8obWFwXzdlNjVjOWNmMWY1MDQxNzc4OTFkY2JjMmIzNGZiZjVlKTsKICAgICAgICAKICAgIAogICAgICAgICAgICBjaXJjbGVfNmEzYjgzMTM0YmZjNDVjMGIxMGYxODc3N2Q0YTAwNGQuYmluZFRvb2x0aXAoCiAgICAgICAgICAgICAgICBgPGRpdj4KICAgICAgICAgICAgICAgICAgICAgRGlzdHJpY3QgMTMgPGJyPiBBdmcuIFNhZmV0eSAvIFJlc3BlY3QgU2NvcmUsIHN0dWRlbnRzIHJlc3BvbnNlIChjb2xvcik6IDYuNCA8YnI+IEF2Zy4gZW5yb2xsbWVudCBwZXIgc2Nob29sIChzaXplKTogOTAyCiAgICAgICAgICAgICAgICAgPC9kaXY+YCwKICAgICAgICAgICAgICAgIHsic3RpY2t5IjogdHJ1ZX0KICAgICAgICAgICAgKTsKICAgICAgICAKICAgIAogICAgICAgICAgICB2YXIgY2lyY2xlX2I5N2NjYzVmYmUxODRiN2I5ZjU2MzYyOGM1ZDNkZGQwID0gTC5jaXJjbGUoCiAgICAgICAgICAgICAgICBbNDAuNzExNTk5Mzk0Nzg2MiwgLTczLjk0ODM1OTk5NzI4NTM1XSwKICAgICAgICAgICAgICAgIHsiYnViYmxpbmdNb3VzZUV2ZW50cyI6IHRydWUsICJjb2xvciI6ICIjN2I3YTQ5ZmYiLCAiZGFzaEFycmF5IjogbnVsbCwgImRhc2hPZmZzZXQiOiBudWxsLCAiZmlsbCI6IHRydWUsICJmaWxsQ29sb3IiOiAiIzdiN2E0OWZmIiwgImZpbGxPcGFjaXR5IjogMC43NSwgImZpbGxSdWxlIjogImV2ZW5vZGQiLCAibGluZUNhcCI6ICJyb3VuZCIsICJsaW5lSm9pbiI6ICJyb3VuZCIsICJvcGFjaXR5IjogMS4wLCAicmFkaXVzIjogNTU2LjIxNDI4NTcxNDI4NTcsICJzdHJva2UiOiB0cnVlLCAid2VpZ2h0IjogMn0KICAgICAgICAgICAgKS5hZGRUbyhtYXBfN2U2NWM5Y2YxZjUwNDE3Nzg5MWRjYmMyYjM0ZmJmNWUpOwogICAgICAgIAogICAgCiAgICAgICAgICAgIGNpcmNsZV9iOTdjY2M1ZmJlMTg0YjdiOWY1NjM2MjhjNWQzZGRkMC5iaW5kVG9vbHRpcCgKICAgICAgICAgICAgICAgIGA8ZGl2PgogICAgICAgICAgICAgICAgICAgICBEaXN0cmljdCAxNCA8YnI+IEF2Zy4gU2FmZXR5IC8gUmVzcGVjdCBTY29yZSwgc3R1ZGVudHMgcmVzcG9uc2UgKGNvbG9yKTogNi43IDxicj4gQXZnLiBlbnJvbGxtZW50IHBlciBzY2hvb2wgKHNpemUpOiA1NTYKICAgICAgICAgICAgICAgICA8L2Rpdj5gLAogICAgICAgICAgICAgICAgeyJzdGlja3kiOiB0cnVlfQogICAgICAgICAgICApOwogICAgICAgIAogICAgCiAgICAgICAgICAgIHZhciBjaXJjbGVfMGYzNzUyMzVhOTJlNDBmM2FhNWRiYmYyODllMGMyNWYgPSBMLmNpcmNsZSgKICAgICAgICAgICAgICAgIFs0MC42NzU5NzIwMTE3NzgyNiwgLTczLjk4OTI1NDk5OTIyMTg4XSwKICAgICAgICAgICAgICAgIHsiYnViYmxpbmdNb3VzZUV2ZW50cyI6IHRydWUsICJjb2xvciI6ICIjYjAzZjcyZmYiLCAiZGFzaEFycmF5IjogbnVsbCwgImRhc2hPZmZzZXQiOiBudWxsLCAiZmlsbCI6IHRydWUsICJmaWxsQ29sb3IiOiAiI2IwM2Y3MmZmIiwgImZpbGxPcGFjaXR5IjogMC43NSwgImZpbGxSdWxlIjogImV2ZW5vZGQiLCAibGluZUNhcCI6ICJyb3VuZCIsICJsaW5lSm9pbiI6ICJyb3VuZCIsICJvcGFjaXR5IjogMS4wLCAicmFkaXVzIjogNTYyLjY2NjY2NjY2NjY2NjYsICJzdHJva2UiOiB0cnVlLCAid2VpZ2h0IjogMn0KICAgICAgICAgICAgKS5hZGRUbyhtYXBfN2U2NWM5Y2YxZjUwNDE3Nzg5MWRjYmMyYjM0ZmJmNWUpOwogICAgICAgIAogICAgCiAgICAgICAgICAgIGNpcmNsZV8wZjM3NTIzNWE5MmU0MGYzYWE1ZGJiZjI4OWUwYzI1Zi5iaW5kVG9vbHRpcCgKICAgICAgICAgICAgICAgIGA8ZGl2PgogICAgICAgICAgICAgICAgICAgICBEaXN0cmljdCAxNSA8YnI+IEF2Zy4gU2FmZXR5IC8gUmVzcGVjdCBTY29yZSwgc3R1ZGVudHMgcmVzcG9uc2UgKGNvbG9yKTogNi4yIDxicj4gQXZnLiBlbnJvbGxtZW50IHBlciBzY2hvb2wgKHNpemUpOiA1NjMKICAgICAgICAgICAgICAgICA8L2Rpdj5gLAogICAgICAgICAgICAgICAgeyJzdGlja3kiOiB0cnVlfQogICAgICAgICAgICApOwogICAgICAgIAogICAgCiAgICAgICAgICAgIHZhciBjaXJjbGVfMGM0NjE5YThhYzEyNDEzOWE0Y2U2ZDA3ZmZjYTcxZDYgPSBMLmNpcmNsZSgKICAgICAgICAgICAgICAgIFs0MC42ODgwMDc1MTQwMDA0NiwgLTczLjkyOTY4NjIwNTc0OTY1XSwKICAgICAgICAgICAgICAgIHsiYnViYmxpbmdNb3VzZUV2ZW50cyI6IHRydWUsICJjb2xvciI6ICIjZDAxYzhiZmYiLCAiZGFzaEFycmF5IjogbnVsbCwgImRhc2hPZmZzZXQiOiBudWxsLCAiZmlsbCI6IHRydWUsICJmaWxsQ29sb3IiOiAiI2QwMWM4YmZmIiwgImZpbGxPcGFjaXR5IjogMC43NSwgImZpbGxSdWxlIjogImV2ZW5vZGQiLCAibGluZUNhcCI6ICJyb3VuZCIsICJsaW5lSm9pbiI6ICJyb3VuZCIsICJvcGFjaXR5IjogMS4wLCAicmFkaXVzIjogNjU4LjUsICJzdHJva2UiOiB0cnVlLCAid2VpZ2h0IjogMn0KICAgICAgICAgICAgKS5hZGRUbyhtYXBfN2U2NWM5Y2YxZjUwNDE3Nzg5MWRjYmMyYjM0ZmJmNWUpOwogICAgICAgIAogICAgCiAgICAgICAgICAgIGNpcmNsZV8wYzQ2MTlhOGFjMTI0MTM5YTRjZTZkMDdmZmNhNzFkNi5iaW5kVG9vbHRpcCgKICAgICAgICAgICAgICAgIGA8ZGl2PgogICAgICAgICAgICAgICAgICAgICBEaXN0cmljdCAxNiA8YnI+IEF2Zy4gU2FmZXR5IC8gUmVzcGVjdCBTY29yZSwgc3R1ZGVudHMgcmVzcG9uc2UgKGNvbG9yKTogNS45IDxicj4gQXZnLiBlbnJvbGxtZW50IHBlciBzY2hvb2wgKHNpemUpOiA2NTgKICAgICAgICAgICAgICAgICA8L2Rpdj5gLAogICAgICAgICAgICAgICAgeyJzdGlja3kiOiB0cnVlfQogICAgICAgICAgICApOwogICAgICAgIAogICAgCiAgICAgICAgICAgIHZhciBjaXJjbGVfZmFmYTdhZTQ2ODA2NGRlMjhhNzQyYzZjZjE3M2UxMjQgPSBMLmNpcmNsZSgKICAgICAgICAgICAgICAgIFs0MC42NjAzMTI2OTAwMDA0NzQsIC03My45NTU2MzU2OTc4NTY3Nl0sCiAgICAgICAgICAgICAgICB7ImJ1YmJsaW5nTW91c2VFdmVudHMiOiB0cnVlLCAiY29sb3IiOiAiI2MyMmI4MGZmIiwgImRhc2hBcnJheSI6IG51bGwsICJkYXNoT2Zmc2V0IjogbnVsbCwgImZpbGwiOiB0cnVlLCAiZmlsbENvbG9yIjogIiNjMjJiODBmZiIsICJmaWxsT3BhY2l0eSI6IDAuNzUsICJmaWxsUnVsZSI6ICJldmVub2RkIiwgImxpbmVDYXAiOiAicm91bmQiLCAibGluZUpvaW4iOiAicm91bmQiLCAib3BhY2l0eSI6IDEuMCwgInJhZGl1cyI6IDU1NC4yODU3MTQyODU3MTQzLCAic3Ryb2tlIjogdHJ1ZSwgIndlaWdodCI6IDJ9CiAgICAgICAgICAgICkuYWRkVG8obWFwXzdlNjVjOWNmMWY1MDQxNzc4OTFkY2JjMmIzNGZiZjVlKTsKICAgICAgICAKICAgIAogICAgICAgICAgICBjaXJjbGVfZmFmYTdhZTQ2ODA2NGRlMjhhNzQyYzZjZjE3M2UxMjQuYmluZFRvb2x0aXAoCiAgICAgICAgICAgICAgICBgPGRpdj4KICAgICAgICAgICAgICAgICAgICAgRGlzdHJpY3QgMTcgPGJyPiBBdmcuIFNhZmV0eSAvIFJlc3BlY3QgU2NvcmUsIHN0dWRlbnRzIHJlc3BvbnNlIChjb2xvcik6IDYuMCA8YnI+IEF2Zy4gZW5yb2xsbWVudCBwZXIgc2Nob29sIChzaXplKTogNTU0CiAgICAgICAgICAgICAgICAgPC9kaXY+YCwKICAgICAgICAgICAgICAgIHsic3RpY2t5IjogdHJ1ZX0KICAgICAgICAgICAgKTsKICAgICAgICAKICAgIAogICAgICAgICAgICB2YXIgY2lyY2xlX2YzZmM0OGFiOTg1ZDRkYTk5ZDk2NzdjMTc5OTY0NjYzID0gTC5jaXJjbGUoCiAgICAgICAgICAgICAgICBbNDAuNjQxODYyNzc2NjM2ODM1LCAtNzMuOTE0NzI1NzUzNTQ1MTNdLAogICAgICAgICAgICAgICAgeyJidWJibGluZ01vdXNlRXZlbnRzIjogdHJ1ZSwgImNvbG9yIjogIiNhZjQwNzFmZiIsICJkYXNoQXJyYXkiOiBudWxsLCAiZGFzaE9mZnNldCI6IG51bGwsICJmaWxsIjogdHJ1ZSwgImZpbGxDb2xvciI6ICIjYWY0MDcxZmYiLCAiZmlsbE9wYWNpdHkiOiAwLjc1LCAiZmlsbFJ1bGUiOiAiZXZlbm9kZCIsICJsaW5lQ2FwIjogInJvdW5kIiwgImxpbmVKb2luIjogInJvdW5kIiwgIm9wYWNpdHkiOiAxLjAsICJyYWRpdXMiOiAzMzIuMjcyNzI3MjcyNzI3MjUsICJzdHJva2UiOiB0cnVlLCAid2VpZ2h0IjogMn0KICAgICAgICAgICAgKS5hZGRUbyhtYXBfN2U2NWM5Y2YxZjUwNDE3Nzg5MWRjYmMyYjM0ZmJmNWUpOwogICAgICAgIAogICAgCiAgICAgICAgICAgIGNpcmNsZV9mM2ZjNDhhYjk4NWQ0ZGE5OWQ5Njc3YzE3OTk2NDY2My5iaW5kVG9vbHRpcCgKICAgICAgICAgICAgICAgIGA8ZGl2PgogICAgICAgICAgICAgICAgICAgICBEaXN0cmljdCAxOCA8YnI+IEF2Zy4gU2FmZXR5IC8gUmVzcGVjdCBTY29yZSwgc3R1ZGVudHMgcmVzcG9uc2UgKGNvbG9yKTogNi4yIDxicj4gQXZnLiBlbnJvbGxtZW50IHBlciBzY2hvb2wgKHNpemUpOiAzMzIKICAgICAgICAgICAgICAgICA8L2Rpdj5gLAogICAgICAgICAgICAgICAgeyJzdGlja3kiOiB0cnVlfQogICAgICAgICAgICApOwogICAgICAgIAogICAgCiAgICAgICAgICAgIHZhciBjaXJjbGVfY2EzYmYxNmUxMjhlNDNiNGIzN2RiM2YxNDUyYTdlMjMgPSBMLmNpcmNsZSgKICAgICAgICAgICAgICAgIFs0MC42NzY1NDY5NTkyNTA0NywgLTczLjg4MjE1NzY2OTkxNjNdLAogICAgICAgICAgICAgICAgeyJidWJibGluZ01vdXNlRXZlbnRzIjogdHJ1ZSwgImNvbG9yIjogIiNiMzNjNzVmZiIsICJkYXNoQXJyYXkiOiBudWxsLCAiZGFzaE9mZnNldCI6IG51bGwsICJmaWxsIjogdHJ1ZSwgImZpbGxDb2xvciI6ICIjYjMzYzc1ZmYiLCAiZmlsbE9wYWNpdHkiOiAwLjc1LCAiZmlsbFJ1bGUiOiAiZXZlbm9kZCIsICJsaW5lQ2FwIjogInJvdW5kIiwgImxpbmVKb2luIjogInJvdW5kIiwgIm9wYWNpdHkiOiAxLjAsICJyYWRpdXMiOiA0OTIuNSwgInN0cm9rZSI6IHRydWUsICJ3ZWlnaHQiOiAyfQogICAgICAgICAgICApLmFkZFRvKG1hcF83ZTY1YzljZjFmNTA0MTc3ODkxZGNiYzJiMzRmYmY1ZSk7CiAgICAgICAgCiAgICAKICAgICAgICAgICAgY2lyY2xlX2NhM2JmMTZlMTI4ZTQzYjRiMzdkYjNmMTQ1MmE3ZTIzLmJpbmRUb29sdGlwKAogICAgICAgICAgICAgICAgYDxkaXY+CiAgICAgICAgICAgICAgICAgICAgIERpc3RyaWN0IDE5IDxicj4gQXZnLiBTYWZldHkgLyBSZXNwZWN0IFNjb3JlLCBzdHVkZW50cyByZXNwb25zZSAoY29sb3IpOiA2LjEgPGJyPiBBdmcuIGVucm9sbG1lbnQgcGVyIHNjaG9vbCAoc2l6ZSk6IDQ5MgogICAgICAgICAgICAgICAgIDwvZGl2PmAsCiAgICAgICAgICAgICAgICB7InN0aWNreSI6IHRydWV9CiAgICAgICAgICAgICk7CiAgICAgICAgCiAgICAKICAgICAgICAgICAgdmFyIGNpcmNsZV8yODY0NjI5YTNlNmE0OTI1OTM2YWVhZDQ4ODkyMGRkNSA9IEwuY2lyY2xlKAogICAgICAgICAgICAgICAgWzQwLjYyNjc1MTAxMDIwMDQ2NSwgLTc0LjAwNjE5MDUzMDc5OTY2XSwKICAgICAgICAgICAgICAgIHsiYnViYmxpbmdNb3VzZUV2ZW50cyI6IHRydWUsICJjb2xvciI6ICIjNGRhYzI2ZmYiLCAiZGFzaEFycmF5IjogbnVsbCwgImRhc2hPZmZzZXQiOiBudWxsLCAiZmlsbCI6IHRydWUsICJmaWxsQ29sb3IiOiAiIzRkYWMyNmZmIiwgImZpbGxPcGFjaXR5IjogMC43NSwgImZpbGxSdWxlIjogImV2ZW5vZGQiLCAibGluZUNhcCI6ICJyb3VuZCIsICJsaW5lSm9pbiI6ICJyb3VuZCIsICJvcGFjaXR5IjogMS4wLCAicmFkaXVzIjogMjQ2Mi42LCAic3Ryb2tlIjogdHJ1ZSwgIndlaWdodCI6IDJ9CiAgICAgICAgICAgICkuYWRkVG8obWFwXzdlNjVjOWNmMWY1MDQxNzc4OTFkY2JjMmIzNGZiZjVlKTsKICAgICAgICAKICAgIAogICAgICAgICAgICBjaXJjbGVfMjg2NDYyOWEzZTZhNDkyNTkzNmFlYWQ0ODg5MjBkZDUuYmluZFRvb2x0aXAoCiAgICAgICAgICAgICAgICBgPGRpdj4KICAgICAgICAgICAgICAgICAgICAgRGlzdHJpY3QgMjAgPGJyPiBBdmcuIFNhZmV0eSAvIFJlc3BlY3QgU2NvcmUsIHN0dWRlbnRzIHJlc3BvbnNlIChjb2xvcik6IDcuMSA8YnI+IEF2Zy4gZW5yb2xsbWVudCBwZXIgc2Nob29sIChzaXplKTogMjQ2MwogICAgICAgICAgICAgICAgIDwvZGl2PmAsCiAgICAgICAgICAgICAgICB7InN0aWNreSI6IHRydWV9CiAgICAgICAgICAgICk7CiAgICAgICAgCiAgICAKICAgICAgICAgICAgdmFyIGNpcmNsZV80MDQ2YzljMTA0MzM0NzlkYmViMTcwNTFiZjI0Y2JiMSA9IEwuY2lyY2xlKAogICAgICAgICAgICAgICAgWzQwLjU5MzU5NjQ2MDE4MjI4LCAtNzMuOTc4NDY1NDc1NTQ1MTJdLAogICAgICAgICAgICAgICAgeyJidWJibGluZ01vdXNlRXZlbnRzIjogdHJ1ZSwgImNvbG9yIjogIiM5YTU4NjFmZiIsICJkYXNoQXJyYXkiOiBudWxsLCAiZGFzaE9mZnNldCI6IG51bGwsICJmaWxsIjogdHJ1ZSwgImZpbGxDb2xvciI6ICIjOWE1ODYxZmYiLCAiZmlsbE9wYWNpdHkiOiAwLjc1LCAiZmlsbFJ1bGUiOiAiZXZlbm9kZCIsICJsaW5lQ2FwIjogInJvdW5kIiwgImxpbmVKb2luIjogInJvdW5kIiwgIm9wYWNpdHkiOiAxLjAsICJyYWRpdXMiOiAxMTYwLjAsICJzdHJva2UiOiB0cnVlLCAid2VpZ2h0IjogMn0KICAgICAgICAgICAgKS5hZGRUbyhtYXBfN2U2NWM5Y2YxZjUwNDE3Nzg5MWRjYmMyYjM0ZmJmNWUpOwogICAgICAgIAogICAgCiAgICAgICAgICAgIGNpcmNsZV80MDQ2YzljMTA0MzM0NzlkYmViMTcwNTFiZjI0Y2JiMS5iaW5kVG9vbHRpcCgKICAgICAgICAgICAgICAgIGA8ZGl2PgogICAgICAgICAgICAgICAgICAgICBEaXN0cmljdCAyMSA8YnI+IEF2Zy4gU2FmZXR5IC8gUmVzcGVjdCBTY29yZSwgc3R1ZGVudHMgcmVzcG9uc2UgKGNvbG9yKTogNi40IDxicj4gQXZnLiBlbnJvbGxtZW50IHBlciBzY2hvb2wgKHNpemUpOiAxMTYwCiAgICAgICAgICAgICAgICAgPC9kaXY+YCwKICAgICAgICAgICAgICAgIHsic3RpY2t5IjogdHJ1ZX0KICAgICAgICAgICAgKTsKICAgICAgICAKICAgIAogICAgICAgICAgICB2YXIgY2lyY2xlXzRiZGY4ZTNhYTliODQwNzViY2ZkNDQzN2MwZjRkMzY1ID0gTC5jaXJjbGUoCiAgICAgICAgICAgICAgICBbNDAuNjE4Mjg1NDM0NTAwNDgsIC03My45NTIyODc3NzI3NDk2NF0sCiAgICAgICAgICAgICAgICB7ImJ1YmJsaW5nTW91c2VFdmVudHMiOiB0cnVlLCAiY29sb3IiOiAiIzU3YTEyZGZmIiwgImRhc2hBcnJheSI6IG51bGwsICJkYXNoT2Zmc2V0IjogbnVsbCwgImZpbGwiOiB0cnVlLCAiZmlsbENvbG9yIjogIiM1N2ExMmRmZiIsICJmaWxsT3BhY2l0eSI6IDAuNzUsICJmaWxsUnVsZSI6ICJldmVub2RkIiwgImxpbmVDYXAiOiAicm91bmQiLCAibGluZUpvaW4iOiAicm91bmQiLCAib3BhY2l0eSI6IDEuMCwgInJhZGl1cyI6IDIxNDIuNSwgInN0cm9rZSI6IHRydWUsICJ3ZWlnaHQiOiAyfQogICAgICAgICAgICApLmFkZFRvKG1hcF83ZTY1YzljZjFmNTA0MTc3ODkxZGNiYzJiMzRmYmY1ZSk7CiAgICAgICAgCiAgICAKICAgICAgICAgICAgY2lyY2xlXzRiZGY4ZTNhYTliODQwNzViY2ZkNDQzN2MwZjRkMzY1LmJpbmRUb29sdGlwKAogICAgICAgICAgICAgICAgYDxkaXY+CiAgICAgICAgICAgICAgICAgICAgIERpc3RyaWN0IDIyIDxicj4gQXZnLiBTYWZldHkgLyBSZXNwZWN0IFNjb3JlLCBzdHVkZW50cyByZXNwb25zZSAoY29sb3IpOiA3LjAgPGJyPiBBdmcuIGVucm9sbG1lbnQgcGVyIHNjaG9vbCAoc2l6ZSk6IDIxNDIKICAgICAgICAgICAgICAgICA8L2Rpdj5gLAogICAgICAgICAgICAgICAgeyJzdGlja3kiOiB0cnVlfQogICAgICAgICAgICApOwogICAgICAgIAogICAgCiAgICAgICAgICAgIHZhciBjaXJjbGVfMjEwNTRiOWM2NmIyNGNkMzk2ZmU3NzcwMDBkZDY2MjAgPSBMLmNpcmNsZSgKICAgICAgICAgICAgICAgIFs0MC42Njg1ODY0MDIzMzM4MiwgLTczLjkxMjI5NzkyNjk5OTY2XSwKICAgICAgICAgICAgICAgIHsiYnViYmxpbmdNb3VzZUV2ZW50cyI6IHRydWUsICJjb2xvciI6ICIjYWE0NTZlZmYiLCAiZGFzaEFycmF5IjogbnVsbCwgImRhc2hPZmZzZXQiOiBudWxsLCAiZmlsbCI6IHRydWUsICJmaWxsQ29sb3IiOiAiI2FhNDU2ZWZmIiwgImZpbGxPcGFjaXR5IjogMC43NSwgImZpbGxSdWxlIjogImV2ZW5vZGQiLCAibGluZUNhcCI6ICJyb3VuZCIsICJsaW5lSm9pbiI6ICJyb3VuZCIsICJvcGFjaXR5IjogMS4wLCAicmFkaXVzIjogNTAzLjY2NjY2NjY2NjY2NjcsICJzdHJva2UiOiB0cnVlLCAid2VpZ2h0IjogMn0KICAgICAgICAgICAgKS5hZGRUbyhtYXBfN2U2NWM5Y2YxZjUwNDE3Nzg5MWRjYmMyYjM0ZmJmNWUpOwogICAgICAgIAogICAgCiAgICAgICAgICAgIGNpcmNsZV8yMTA1NGI5YzY2YjI0Y2QzOTZmZTc3NzAwMGRkNjYyMC5iaW5kVG9vbHRpcCgKICAgICAgICAgICAgICAgIGA8ZGl2PgogICAgICAgICAgICAgICAgICAgICBEaXN0cmljdCAyMyA8YnI+IEF2Zy4gU2FmZXR5IC8gUmVzcGVjdCBTY29yZSwgc3R1ZGVudHMgcmVzcG9uc2UgKGNvbG9yKTogNi4yIDxicj4gQXZnLiBlbnJvbGxtZW50IHBlciBzY2hvb2wgKHNpemUpOiA1MDQKICAgICAgICAgICAgICAgICA8L2Rpdj5gLAogICAgICAgICAgICAgICAgeyJzdGlja3kiOiB0cnVlfQogICAgICAgICAgICApOwogICAgICAgIAogICAgCiAgICAgICAgICAgIHZhciBjaXJjbGVfZjZiZTBiZjdlY2FlNDI3ZWFkZGI5ZmU2NDFhYzQ5NzQgPSBMLmNpcmNsZSgKICAgICAgICAgICAgICAgIFs0MC43NDA2MjEyOTE3Njk3LCAtNzMuOTExNTE3NzAzOTk5NjZdLAogICAgICAgICAgICAgICAgeyJidWJibGluZ01vdXNlRXZlbnRzIjogdHJ1ZSwgImNvbG9yIjogIiM0ZWFiMjdmZiIsICJkYXNoQXJyYXkiOiBudWxsLCAiZGFzaE9mZnNldCI6IG51bGwsICJmaWxsIjogdHJ1ZSwgImZpbGxDb2xvciI6ICIjNGVhYjI3ZmYiLCAiZmlsbE9wYWNpdHkiOiAwLjc1LCAiZmlsbFJ1bGUiOiAiZXZlbm9kZCIsICJsaW5lQ2FwIjogInJvdW5kIiwgImxpbmVKb2luIjogInJvdW5kIiwgIm9wYWNpdHkiOiAxLjAsICJyYWRpdXMiOiA5OTEuMCwgInN0cm9rZSI6IHRydWUsICJ3ZWlnaHQiOiAyfQogICAgICAgICAgICApLmFkZFRvKG1hcF83ZTY1YzljZjFmNTA0MTc3ODkxZGNiYzJiMzRmYmY1ZSk7CiAgICAgICAgCiAgICAKICAgICAgICAgICAgY2lyY2xlX2Y2YmUwYmY3ZWNhZTQyN2VhZGRiOWZlNjQxYWM0OTc0LmJpbmRUb29sdGlwKAogICAgICAgICAgICAgICAgYDxkaXY+CiAgICAgICAgICAgICAgICAgICAgIERpc3RyaWN0IDI0IDxicj4gQXZnLiBTYWZldHkgLyBSZXNwZWN0IFNjb3JlLCBzdHVkZW50cyByZXNwb25zZSAoY29sb3IpOiA3LjEgPGJyPiBBdmcuIGVucm9sbG1lbnQgcGVyIHNjaG9vbCAoc2l6ZSk6IDk5MQogICAgICAgICAgICAgICAgIDwvZGl2PmAsCiAgICAgICAgICAgICAgICB7InN0aWNreSI6IHRydWV9CiAgICAgICAgICAgICk7CiAgICAgICAgCiAgICAKICAgICAgICAgICAgdmFyIGNpcmNsZV84MTc0YjIzNGIwYjg0NjljYWJlMjFiODE2YzQyNGY5NCA9IEwuY2lyY2xlKAogICAgICAgICAgICAgICAgWzQwLjc0NTQxNDQzNDYyNTQ3NCwgLTczLjgxNTU1NzU5Nzg3NDY2XSwKICAgICAgICAgICAgICAgIHsiYnViYmxpbmdNb3VzZUV2ZW50cyI6IHRydWUsICJjb2xvciI6ICIjNjM5NDM3ZmYiLCAiZGFzaEFycmF5IjogbnVsbCwgImRhc2hPZmZzZXQiOiBudWxsLCAiZmlsbCI6IHRydWUsICJmaWxsQ29sb3IiOiAiIzYzOTQzN2ZmIiwgImZpbGxPcGFjaXR5IjogMC43NSwgImZpbGxSdWxlIjogImV2ZW5vZGQiLCAibGluZUNhcCI6ICJyb3VuZCIsICJsaW5lSm9pbiI6ICJyb3VuZCIsICJvcGFjaXR5IjogMS4wLCAicmFkaXVzIjogMTM1Ni43NSwgInN0cm9rZSI6IHRydWUsICJ3ZWlnaHQiOiAyfQogICAgICAgICAgICApLmFkZFRvKG1hcF83ZTY1YzljZjFmNTA0MTc3ODkxZGNiYzJiMzRmYmY1ZSk7CiAgICAgICAgCiAgICAKICAgICAgICAgICAgY2lyY2xlXzgxNzRiMjM0YjBiODQ2OWNhYmUyMWI4MTZjNDI0Zjk0LmJpbmRUb29sdGlwKAogICAgICAgICAgICAgICAgYDxkaXY+CiAgICAgICAgICAgICAgICAgICAgIERpc3RyaWN0IDI1IDxicj4gQXZnLiBTYWZldHkgLyBSZXNwZWN0IFNjb3JlLCBzdHVkZW50cyByZXNwb25zZSAoY29sb3IpOiA2LjkgPGJyPiBBdmcuIGVucm9sbG1lbnQgcGVyIHNjaG9vbCAoc2l6ZSk6IDEzNTcKICAgICAgICAgICAgICAgICA8L2Rpdj5gLAogICAgICAgICAgICAgICAgeyJzdGlja3kiOiB0cnVlfQogICAgICAgICAgICApOwogICAgICAgIAogICAgCiAgICAgICAgICAgIHZhciBjaXJjbGVfN2I4ODQ2NGYwN2IwNGE0Zjg2OTQ1NWUyNjAwYThlN2MgPSBMLmNpcmNsZSgKICAgICAgICAgICAgICAgIFs0MC43NDg1MDczNzAwMDA0NywgLTczLjc1OTE3NTcwMjE5OTY2XSwKICAgICAgICAgICAgICAgIHsiYnViYmxpbmdNb3VzZUV2ZW50cyI6IHRydWUsICJjb2xvciI6ICIjNzM4MjQzZmYiLCAiZGFzaEFycmF5IjogbnVsbCwgImRhc2hPZmZzZXQiOiBudWxsLCAiZmlsbCI6IHRydWUsICJmaWxsQ29sb3IiOiAiIzczODI0M2ZmIiwgImZpbGxPcGFjaXR5IjogMC43NSwgImZpbGxSdWxlIjogImV2ZW5vZGQiLCAibGluZUNhcCI6ICJyb3VuZCIsICJsaW5lSm9pbiI6ICJyb3VuZCIsICJvcGFjaXR5IjogMS4wLCAicmFkaXVzIjogMjk5MS42LCAic3Ryb2tlIjogdHJ1ZSwgIndlaWdodCI6IDJ9CiAgICAgICAgICAgICkuYWRkVG8obWFwXzdlNjVjOWNmMWY1MDQxNzc4OTFkY2JjMmIzNGZiZjVlKTsKICAgICAgICAKICAgIAogICAgICAgICAgICBjaXJjbGVfN2I4ODQ2NGYwN2IwNGE0Zjg2OTQ1NWUyNjAwYThlN2MuYmluZFRvb2x0aXAoCiAgICAgICAgICAgICAgICBgPGRpdj4KICAgICAgICAgICAgICAgICAgICAgRGlzdHJpY3QgMjYgPGJyPiBBdmcuIFNhZmV0eSAvIFJlc3BlY3QgU2NvcmUsIHN0dWRlbnRzIHJlc3BvbnNlIChjb2xvcik6IDYuOCA8YnI+IEF2Zy4gZW5yb2xsbWVudCBwZXIgc2Nob29sIChzaXplKTogMjk5MgogICAgICAgICAgICAgICAgIDwvZGl2PmAsCiAgICAgICAgICAgICAgICB7InN0aWNreSI6IHRydWV9CiAgICAgICAgICAgICk7CiAgICAgICAgCiAgICAKICAgICAgICAgICAgdmFyIGNpcmNsZV83NTdhNmU4YzczYmY0ODAzOWU1NmMyODNiYWFjODFmYSA9IEwuY2lyY2xlKAogICAgICAgICAgICAgICAgWzQwLjYzODgyODAzMDUwMDQ4LCAtNzMuODA3ODIzMjM0Njk5NjVdLAogICAgICAgICAgICAgICAgeyJidWJibGluZ01vdXNlRXZlbnRzIjogdHJ1ZSwgImNvbG9yIjogIiM5YTU3NjFmZiIsICJkYXNoQXJyYXkiOiBudWxsLCAiZGFzaE9mZnNldCI6IG51bGwsICJmaWxsIjogdHJ1ZSwgImZpbGxDb2xvciI6ICIjOWE1NzYxZmYiLCAiZmlsbE9wYWNpdHkiOiAwLjc1LCAiZmlsbFJ1bGUiOiAiZXZlbm9kZCIsICJsaW5lQ2FwIjogInJvdW5kIiwgImxpbmVKb2luIjogInJvdW5kIiwgIm9wYWNpdHkiOiAxLjAsICJyYWRpdXMiOiAxMTQ4LjIsICJzdHJva2UiOiB0cnVlLCAid2VpZ2h0IjogMn0KICAgICAgICAgICAgKS5hZGRUbyhtYXBfN2U2NWM5Y2YxZjUwNDE3Nzg5MWRjYmMyYjM0ZmJmNWUpOwogICAgICAgIAogICAgCiAgICAgICAgICAgIGNpcmNsZV83NTdhNmU4YzczYmY0ODAzOWU1NmMyODNiYWFjODFmYS5iaW5kVG9vbHRpcCgKICAgICAgICAgICAgICAgIGA8ZGl2PgogICAgICAgICAgICAgICAgICAgICBEaXN0cmljdCAyNyA8YnI+IEF2Zy4gU2FmZXR5IC8gUmVzcGVjdCBTY29yZSwgc3R1ZGVudHMgcmVzcG9uc2UgKGNvbG9yKTogNi40IDxicj4gQXZnLiBlbnJvbGxtZW50IHBlciBzY2hvb2wgKHNpemUpOiAxMTQ4CiAgICAgICAgICAgICAgICAgPC9kaXY+YCwKICAgICAgICAgICAgICAgIHsic3RpY2t5IjogdHJ1ZX0KICAgICAgICAgICAgKTsKICAgICAgICAKICAgIAogICAgICAgICAgICB2YXIgY2lyY2xlXzNhYzMyMWJkMGIzMTQzODQ4Y2MxYzVkMjZmZTIzZjUxID0gTC5jaXJjbGUoCiAgICAgICAgICAgICAgICBbNDAuNzA5MzQ0MzYyMDAwNDcsIC03My44MDYzNjczODEyNzIzOF0sCiAgICAgICAgICAgICAgICB7ImJ1YmJsaW5nTW91c2VFdmVudHMiOiB0cnVlLCAiY29sb3IiOiAiIzgxNzM0ZWZmIiwgImRhc2hBcnJheSI6IG51bGwsICJkYXNoT2Zmc2V0IjogbnVsbCwgImZpbGwiOiB0cnVlLCAiZmlsbENvbG9yIjogIiM4MTczNGVmZiIsICJmaWxsT3BhY2l0eSI6IDAuNzUsICJmaWxsUnVsZSI6ICJldmVub2RkIiwgImxpbmVDYXAiOiAicm91bmQiLCAibGluZUpvaW4iOiAicm91bmQiLCAib3BhY2l0eSI6IDEuMCwgInJhZGl1cyI6IDEyMTAuNjM2MzYzNjM2MzYzNywgInN0cm9rZSI6IHRydWUsICJ3ZWlnaHQiOiAyfQogICAgICAgICAgICApLmFkZFRvKG1hcF83ZTY1YzljZjFmNTA0MTc3ODkxZGNiYzJiMzRmYmY1ZSk7CiAgICAgICAgCiAgICAKICAgICAgICAgICAgY2lyY2xlXzNhYzMyMWJkMGIzMTQzODQ4Y2MxYzVkMjZmZTIzZjUxLmJpbmRUb29sdGlwKAogICAgICAgICAgICAgICAgYDxkaXY+CiAgICAgICAgICAgICAgICAgICAgIERpc3RyaWN0IDI4IDxicj4gQXZnLiBTYWZldHkgLyBSZXNwZWN0IFNjb3JlLCBzdHVkZW50cyByZXNwb25zZSAoY29sb3IpOiA2LjYgPGJyPiBBdmcuIGVucm9sbG1lbnQgcGVyIHNjaG9vbCAoc2l6ZSk6IDEyMTEKICAgICAgICAgICAgICAgICA8L2Rpdj5gLAogICAgICAgICAgICAgICAgeyJzdGlja3kiOiB0cnVlfQogICAgICAgICAgICApOwogICAgICAgIAogICAgCiAgICAgICAgICAgIHZhciBjaXJjbGVfN2M5ZmEwNTUwNjI3NGIzNWI0MDc0NDA0NjcyY2NjMDYgPSBMLmNpcmNsZSgKICAgICAgICAgICAgICAgIFs0MC42ODUyNzU5NjI3NTA0NzQsIC03My43NTI3Mzk3Njk3NDk2N10sCiAgICAgICAgICAgICAgICB7ImJ1YmJsaW5nTW91c2VFdmVudHMiOiB0cnVlLCAiY29sb3IiOiAiI2JiMzM3YmZmIiwgImRhc2hBcnJheSI6IG51bGwsICJkYXNoT2Zmc2V0IjogbnVsbCwgImZpbGwiOiB0cnVlLCAiZmlsbENvbG9yIjogIiNiYjMzN2JmZiIsICJmaWxsT3BhY2l0eSI6IDAuNzUsICJmaWxsUnVsZSI6ICJldmVub2RkIiwgImxpbmVDYXAiOiAicm91bmQiLCAibGluZUpvaW4iOiAicm91bmQiLCAib3BhY2l0eSI6IDEuMCwgInJhZGl1cyI6IDQyOC4yNSwgInN0cm9rZSI6IHRydWUsICJ3ZWlnaHQiOiAyfQogICAgICAgICAgICApLmFkZFRvKG1hcF83ZTY1YzljZjFmNTA0MTc3ODkxZGNiYzJiMzRmYmY1ZSk7CiAgICAgICAgCiAgICAKICAgICAgICAgICAgY2lyY2xlXzdjOWZhMDU1MDYyNzRiMzViNDA3NDQwNDY3MmNjYzA2LmJpbmRUb29sdGlwKAogICAgICAgICAgICAgICAgYDxkaXY+CiAgICAgICAgICAgICAgICAgICAgIERpc3RyaWN0IDI5IDxicj4gQXZnLiBTYWZldHkgLyBSZXNwZWN0IFNjb3JlLCBzdHVkZW50cyByZXNwb25zZSAoY29sb3IpOiA2LjEgPGJyPiBBdmcuIGVucm9sbG1lbnQgcGVyIHNjaG9vbCAoc2l6ZSk6IDQyOAogICAgICAgICAgICAgICAgIDwvZGl2PmAsCiAgICAgICAgICAgICAgICB7InN0aWNreSI6IHRydWV9CiAgICAgICAgICAgICk7CiAgICAgICAgCiAgICAKICAgICAgICAgICAgdmFyIGNpcmNsZV84NzQzMDY0NDE1NDY0MmVmYWVmMzgwZjlmNmE3NTBkMSA9IEwuY2lyY2xlKAogICAgICAgICAgICAgICAgWzQwLjc1NTM5ODI5NzY2NzE0LCAtNzMuOTMyMzA1ODk3NDQ0MTFdLAogICAgICAgICAgICAgICAgeyJidWJibGluZ01vdXNlRXZlbnRzIjogdHJ1ZSwgImNvbG9yIjogIiM1NmEyMmRmZiIsICJkYXNoQXJyYXkiOiBudWxsLCAiZGFzaE9mZnNldCI6IG51bGwsICJmaWxsIjogdHJ1ZSwgImZpbGxDb2xvciI6ICIjNTZhMjJkZmYiLCAiZmlsbE9wYWNpdHkiOiAwLjc1LCAiZmlsbFJ1bGUiOiAiZXZlbm9kZCIsICJsaW5lQ2FwIjogInJvdW5kIiwgImxpbmVKb2luIjogInJvdW5kIiwgIm9wYWNpdHkiOiAxLjAsICJyYWRpdXMiOiAxMjIxLjU1NTU1NTU1NTU1NTcsICJzdHJva2UiOiB0cnVlLCAid2VpZ2h0IjogMn0KICAgICAgICAgICAgKS5hZGRUbyhtYXBfN2U2NWM5Y2YxZjUwNDE3Nzg5MWRjYmMyYjM0ZmJmNWUpOwogICAgICAgIAogICAgCiAgICAgICAgICAgIGNpcmNsZV84NzQzMDY0NDE1NDY0MmVmYWVmMzgwZjlmNmE3NTBkMS5iaW5kVG9vbHRpcCgKICAgICAgICAgICAgICAgIGA8ZGl2PgogICAgICAgICAgICAgICAgICAgICBEaXN0cmljdCAzMCA8YnI+IEF2Zy4gU2FmZXR5IC8gUmVzcGVjdCBTY29yZSwgc3R1ZGVudHMgcmVzcG9uc2UgKGNvbG9yKTogNy4wIDxicj4gQXZnLiBlbnJvbGxtZW50IHBlciBzY2hvb2wgKHNpemUpOiAxMjIyCiAgICAgICAgICAgICAgICAgPC9kaXY+YCwKICAgICAgICAgICAgICAgIHsic3RpY2t5IjogdHJ1ZX0KICAgICAgICAgICAgKTsKICAgICAgICAKICAgIAogICAgICAgICAgICB2YXIgY2lyY2xlXzI0NzRjMWM4YTZmMTRkN2M4NThhZmQ1YmYxY2Y1ODZlID0gTC5jaXJjbGUoCiAgICAgICAgICAgICAgICBbNDAuNTk1NjgwMjU5MTAwNDcsIC03NC4xMjU3MjU5ODAxOTk2NV0sCiAgICAgICAgICAgICAgICB7ImJ1YmJsaW5nTW91c2VFdmVudHMiOiB0cnVlLCAiY29sb3IiOiAiIzhiNjg1NmZmIiwgImRhc2hBcnJheSI6IG51bGwsICJkYXNoT2Zmc2V0IjogbnVsbCwgImZpbGwiOiB0cnVlLCAiZmlsbENvbG9yIjogIiM4YjY4NTZmZiIsICJmaWxsT3BhY2l0eSI6IDAuNzUsICJmaWxsUnVsZSI6ICJldmVub2RkIiwgImxpbmVDYXAiOiAicm91bmQiLCAibGluZUpvaW4iOiAicm91bmQiLCAib3BhY2l0eSI6IDEuMCwgInJhZGl1cyI6IDE4NTAuNiwgInN0cm9rZSI6IHRydWUsICJ3ZWlnaHQiOiAyfQogICAgICAgICAgICApLmFkZFRvKG1hcF83ZTY1YzljZjFmNTA0MTc3ODkxZGNiYzJiMzRmYmY1ZSk7CiAgICAgICAgCiAgICAKICAgICAgICAgICAgY2lyY2xlXzI0NzRjMWM4YTZmMTRkN2M4NThhZmQ1YmYxY2Y1ODZlLmJpbmRUb29sdGlwKAogICAgICAgICAgICAgICAgYDxkaXY+CiAgICAgICAgICAgICAgICAgICAgIERpc3RyaWN0IDMxIDxicj4gQXZnLiBTYWZldHkgLyBSZXNwZWN0IFNjb3JlLCBzdHVkZW50cyByZXNwb25zZSAoY29sb3IpOiA2LjUgPGJyPiBBdmcuIGVucm9sbG1lbnQgcGVyIHNjaG9vbCAoc2l6ZSk6IDE4NTEKICAgICAgICAgICAgICAgICA8L2Rpdj5gLAogICAgICAgICAgICAgICAgeyJzdGlja3kiOiB0cnVlfQogICAgICAgICAgICApOwogICAgICAgIAogICAgCiAgICAgICAgICAgIHZhciBjaXJjbGVfYTJjYjE2OTRlM2EwNGZhZTkwYjM4ZTljMzIyYzI4ODYgPSBMLmNpcmNsZSgKICAgICAgICAgICAgICAgIFs0MC42OTYyOTUxNTgwMDA0NiwgLTczLjkxNzEyMzUxMjMzMjk2XSwKICAgICAgICAgICAgICAgIHsiYnViYmxpbmdNb3VzZUV2ZW50cyI6IHRydWUsICJjb2xvciI6ICIjNzI4MzQyZmYiLCAiZGFzaEFycmF5IjogbnVsbCwgImRhc2hPZmZzZXQiOiBudWxsLCAiZmlsbCI6IHRydWUsICJmaWxsQ29sb3IiOiAiIzcyODM0MmZmIiwgImZpbGxPcGFjaXR5IjogMC43NSwgImZpbGxSdWxlIjogImV2ZW5vZGQiLCAibGluZUNhcCI6ICJyb3VuZCIsICJsaW5lSm9pbiI6ICJyb3VuZCIsICJvcGFjaXR5IjogMS4wLCAicmFkaXVzIjogNDIwLjgzMzMzMzMzMzMzMzMsICJzdHJva2UiOiB0cnVlLCAid2VpZ2h0IjogMn0KICAgICAgICAgICAgKS5hZGRUbyhtYXBfN2U2NWM5Y2YxZjUwNDE3Nzg5MWRjYmMyYjM0ZmJmNWUpOwogICAgICAgIAogICAgCiAgICAgICAgICAgIGNpcmNsZV9hMmNiMTY5NGUzYTA0ZmFlOTBiMzhlOWMzMjJjMjg4Ni5iaW5kVG9vbHRpcCgKICAgICAgICAgICAgICAgIGA8ZGl2PgogICAgICAgICAgICAgICAgICAgICBEaXN0cmljdCAzMiA8YnI+IEF2Zy4gU2FmZXR5IC8gUmVzcGVjdCBTY29yZSwgc3R1ZGVudHMgcmVzcG9uc2UgKGNvbG9yKTogNi44IDxicj4gQXZnLiBlbnJvbGxtZW50IHBlciBzY2hvb2wgKHNpemUpOiA0MjEKICAgICAgICAgICAgICAgICA8L2Rpdj5gLAogICAgICAgICAgICAgICAgeyJzdGlja3kiOiB0cnVlfQogICAgICAgICAgICApOwogICAgICAgIAogICAgCiAgICB2YXIgY29sb3JfbWFwXzljMGU4OThmMTc1ZTRjMDdhYTc5YTNlMGQwMzQzN2ZkID0ge307CgogICAgCiAgICBjb2xvcl9tYXBfOWMwZTg5OGYxNzVlNGMwN2FhNzlhM2UwZDAzNDM3ZmQuY29sb3IgPSBkMy5zY2FsZS50aHJlc2hvbGQoKQogICAgICAgICAgICAgIC5kb21haW4oWzUuODc1LCA1Ljg3NzQ5NDk4OTk3OTk2LCA1Ljg3OTk4OTk3OTk1OTkyLCA1Ljg4MjQ4NDk2OTkzOTg3OSwgNS44ODQ5Nzk5NTk5MTk4NCwgNS44ODc0NzQ5NDk4OTk4LCA1Ljg4OTk2OTkzOTg3OTc2LCA1Ljg5MjQ2NDkyOTg1OTcxOSwgNS44OTQ5NTk5MTk4Mzk2NzksIDUuODk3NDU0OTA5ODE5NjM5LCA1Ljg5OTk0OTg5OTc5OTYsIDUuOTAyNDQ0ODg5Nzc5NTU5LCA1LjkwNDkzOTg3OTc1OTUxOSwgNS45MDc0MzQ4Njk3Mzk0NzksIDUuOTA5OTI5ODU5NzE5NDM5LCA1LjkxMjQyNDg0OTY5OTM5ODUsIDUuOTE0OTE5ODM5Njc5MzU4LCA1LjkxNzQxNDgyOTY1OTMxOSwgNS45MTk5MDk4MTk2MzkyNzksIDUuOTIyNDA0ODA5NjE5MjM4NSwgNS45MjQ4OTk3OTk1OTkxOTgsIDUuOTI3Mzk0Nzg5NTc5MTU4LCA1LjkyOTg4OTc3OTU1OTExOCwgNS45MzIzODQ3Njk1MzkwNzksIDUuOTM0ODc5NzU5NTE5MDM4LCA1LjkzNzM3NDc0OTQ5ODk5OCwgNS45Mzk4Njk3Mzk0Nzg5NTgsIDUuOTQyMzY0NzI5NDU4OTE4LCA1Ljk0NDg1OTcxOTQzODg3NzUsIDUuOTQ3MzU0NzA5NDE4ODM3LCA1Ljk0OTg0OTY5OTM5ODc5OCwgNS45NTIzNDQ2ODkzNzg3NTgsIDUuOTU0ODM5Njc5MzU4NzE3NSwgNS45NTczMzQ2NjkzMzg2NzcsIDUuOTU5ODI5NjU5MzE4NjM3LCA1Ljk2MjMyNDY0OTI5ODU5NywgNS45NjQ4MTk2MzkyNzg1NTc1LCA1Ljk2NzMxNDYyOTI1ODUxNywgNS45Njk4MDk2MTkyMzg0NzcsIDUuOTcyMzA0NjA5MjE4NDM3LCA1Ljk3NDc5OTU5OTE5ODM5NywgNS45NzcyOTQ1ODkxNzgzNTYsIDUuOTc5Nzg5NTc5MTU4MzE2LCA1Ljk4MjI4NDU2OTEzODI3NywgNS45ODQ3Nzk1NTkxMTgyMzcsIDUuOTg3Mjc0NTQ5MDk4MTk2NSwgNS45ODk3Njk1MzkwNzgxNTYsIDUuOTkyMjY0NTI5MDU4MTE2LCA1Ljk5NDc1OTUxOTAzODA3NiwgNS45OTcyNTQ1MDkwMTgwMzY1LCA1Ljk5OTc0OTQ5ODk5Nzk5NiwgNi4wMDIyNDQ0ODg5Nzc5NTYsIDYuMDA0NzM5NDc4OTU3OTE2LCA2LjAwNzIzNDQ2ODkzNzg3NiwgNi4wMDk3Mjk0NTg5MTc4MzUsIDYuMDEyMjI0NDQ4ODk3Nzk1LCA2LjAxNDcxOTQzODg3Nzc1NiwgNi4wMTcyMTQ0Mjg4NTc3MTYsIDYuMDE5NzA5NDE4ODM3Njc1LCA2LjAyMjIwNDQwODgxNzYzNSwgNi4wMjQ2OTkzOTg3OTc1OTUsIDYuMDI3MTk0Mzg4Nzc3NTU1LCA2LjAyOTY4OTM3ODc1NzUxNSwgNi4wMzIxODQzNjg3Mzc0NzUsIDYuMDM0Njc5MzU4NzE3NDM1LCA2LjAzNzE3NDM0ODY5NzM5NSwgNi4wMzk2NjkzMzg2NzczNTUsIDYuMDQyMTY0MzI4NjU3MzE0LCA2LjA0NDY1OTMxODYzNzI3NCwgNi4wNDcxNTQzMDg2MTcyMzUsIDYuMDQ5NjQ5Mjk4NTk3MTk1LCA2LjA1MjE0NDI4ODU3NzE1NCwgNi4wNTQ2MzkyNzg1NTcxMTQsIDYuMDU3MTM0MjY4NTM3MDc0LCA2LjA1OTYyOTI1ODUxNzAzNCwgNi4wNjIxMjQyNDg0OTY5OTQsIDYuMDY0NjE5MjM4NDc2OTU0LCA2LjA2NzExNDIyODQ1NjkxNCwgNi4wNjk2MDkyMTg0MzY4NzQsIDYuMDcyMTA0MjA4NDE2ODMzNSwgNi4wNzQ1OTkxOTgzOTY3OTMsIDYuMDc3MDk0MTg4Mzc2NzUzLCA2LjA3OTU4OTE3ODM1NjcxNCwgNi4wODIwODQxNjgzMzY2NzM1LCA2LjA4NDU3OTE1ODMxNjYzMywgNi4wODcwNzQxNDgyOTY1OTMsIDYuMDg5NTY5MTM4Mjc2NTUzLCA2LjA5MjA2NDEyODI1NjUxMywgNi4wOTQ1NTkxMTgyMzY0NzMsIDYuMDk3MDU0MTA4MjE2NDMzLCA2LjA5OTU0OTA5ODE5NjM5MywgNi4xMDIwNDQwODgxNzYzNTMsIDYuMTA0NTM5MDc4MTU2MzEyNSwgNi4xMDcwMzQwNjgxMzYyNzIsIDYuMTA5NTI5MDU4MTE2MjMzLCA2LjExMjAyNDA0ODA5NjE5MywgNi4xMTQ1MTkwMzgwNzYxNTI1LCA2LjExNzAxNDAyODA1NjExMiwgNi4xMTk1MDkwMTgwMzYwNzIsIDYuMTIyMDA0MDA4MDE2MDMyLCA2LjEyNDQ5ODk5Nzk5NTk5MiwgNi4xMjY5OTM5ODc5NzU5NTIsIDYuMTI5NDg4OTc3OTU1OTEyLCA2LjEzMTk4Mzk2NzkzNTg3MiwgNi4xMzQ0Nzg5NTc5MTU4MzIsIDYuMTM2OTczOTQ3ODk1NzkxLCA2LjEzOTQ2ODkzNzg3NTc1MSwgNi4xNDE5NjM5Mjc4NTU3MTEsIDYuMTQ0NDU4OTE3ODM1NjcyLCA2LjE0Njk1MzkwNzgxNTYzMTQsIDYuMTQ5NDQ4ODk3Nzk1NTkxLCA2LjE1MTk0Mzg4Nzc3NTU1MSwgNi4xNTQ0Mzg4Nzc3NTU1MTEsIDYuMTU2OTMzODY3NzM1NDcxLCA2LjE1OTQyODg1NzcxNTQzMSwgNi4xNjE5MjM4NDc2OTUzOTEsIDYuMTY0NDE4ODM3Njc1MzUxLCA2LjE2NjkxMzgyNzY1NTMxMSwgNi4xNjk0MDg4MTc2MzUyNywgNi4xNzE5MDM4MDc2MTUyMywgNi4xNzQzOTg3OTc1OTUxOSwgNi4xNzY4OTM3ODc1NzUxNTEsIDYuMTc5Mzg4Nzc3NTU1MTEsIDYuMTgxODgzNzY3NTM1MDcsIDYuMTg0Mzc4NzU3NTE1MDMsIDYuMTg2ODczNzQ3NDk0OTksIDYuMTg5MzY4NzM3NDc0OTQ5NSwgNi4xOTE4NjM3Mjc0NTQ5MSwgNi4xOTQzNTg3MTc0MzQ4NywgNi4xOTY4NTM3MDc0MTQ4MywgNi4xOTkzNDg2OTczOTQ3ODk2LCA2LjIwMTg0MzY4NzM3NDc0OSwgNi4yMDQzMzg2NzczNTQ3MDksIDYuMjA2ODMzNjY3MzM0NjY5LCA2LjIwOTMyODY1NzMxNDYzLCA2LjIxMTgyMzY0NzI5NDU4OSwgNi4yMTQzMTg2MzcyNzQ1NDksIDYuMjE2ODEzNjI3MjU0NTA5LCA2LjIxOTMwODYxNzIzNDQ2OSwgNi4yMjE4MDM2MDcyMTQ0Mjg1LCA2LjIyNDI5ODU5NzE5NDM4OSwgNi4yMjY3OTM1ODcxNzQzNDksIDYuMjI5Mjg4NTc3MTU0MzA5LCA2LjIzMTc4MzU2NzEzNDI2ODUsIDYuMjM0Mjc4NTU3MTE0MjI4LCA2LjIzNjc3MzU0NzA5NDE4OCwgNi4yMzkyNjg1MzcwNzQxNDgsIDYuMjQxNzYzNTI3MDU0MTA4NSwgNi4yNDQyNTg1MTcwMzQwNjgsIDYuMjQ2NzUzNTA3MDE0MDI4LCA2LjI0OTI0ODQ5Njk5Mzk4OCwgNi4yNTE3NDM0ODY5NzM5NDgsIDYuMjU0MjM4NDc2OTUzOTA3LCA2LjI1NjczMzQ2NjkzMzg2OCwgNi4yNTkyMjg0NTY5MTM4MjgsIDYuMjYxNzIzNDQ2ODkzNzg4LCA2LjI2NDIxODQzNjg3Mzc0NzUsIDYuMjY2NzEzNDI2ODUzNzA3LCA2LjI2OTIwODQxNjgzMzY2NywgNi4yNzE3MDM0MDY4MTM2MjcsIDYuMjc0MTk4Mzk2NzkzNTg3NSwgNi4yNzY2OTMzODY3NzM1NDcsIDYuMjc5MTg4Mzc2NzUzNTA3LCA2LjI4MTY4MzM2NjczMzQ2NywgNi4yODQxNzgzNTY3MTM0MjcsIDYuMjg2NjczMzQ2NjkzMzg2LCA2LjI4OTE2ODMzNjY3MzM0NywgNi4yOTE2NjMzMjY2NTMzMDcsIDYuMjk0MTU4MzE2NjMzMjY3LCA2LjI5NjY1MzMwNjYxMzIyNiwgNi4yOTkxNDgyOTY1OTMxODYsIDYuMzAxNjQzMjg2NTczMTQ2LCA2LjMwNDEzODI3NjU1MzEwNywgNi4zMDY2MzMyNjY1MzMwNjYsIDYuMzA5MTI4MjU2NTEzMDI2LCA2LjMxMTYyMzI0NjQ5Mjk4NiwgNi4zMTQxMTgyMzY0NzI5NDYsIDYuMzE2NjEzMjI2NDUyOTA2LCA2LjMxOTEwODIxNjQzMjg2NSwgNi4zMjE2MDMyMDY0MTI4MjYsIDYuMzI0MDk4MTk2MzkyNzg2LCA2LjMyNjU5MzE4NjM3Mjc0NiwgNi4zMjkwODgxNzYzNTI3MDUsIDYuMzMxNTgzMTY2MzMyNjY1LCA2LjMzNDA3ODE1NjMxMjYyNSwgNi4zMzY1NzMxNDYyOTI1ODYsIDYuMzM5MDY4MTM2MjcyNTQ1LCA2LjM0MTU2MzEyNjI1MjUwNSwgNi4zNDQwNTgxMTYyMzI0NjUsIDYuMzQ2NTUzMTA2MjEyNDI1LCA2LjM0OTA0ODA5NjE5MjM4NDUsIDYuMzUxNTQzMDg2MTcyMzQ0LCA2LjM1NDAzODA3NjE1MjMwNSwgNi4zNTY1MzMwNjYxMzIyNjUsIDYuMzU5MDI4MDU2MTEyMjI0NSwgNi4zNjE1MjMwNDYwOTIxODQsIDYuMzY0MDE4MDM2MDcyMTQ0LCA2LjM2NjUxMzAyNjA1MjEwNCwgNi4zNjkwMDgwMTYwMzIwNjUsIDYuMzcxNTAzMDA2MDEyMDI0LCA2LjM3Mzk5Nzk5NTk5MTk4NCwgNi4zNzY0OTI5ODU5NzE5NDQsIDYuMzc4OTg3OTc1OTUxOTA0LCA2LjM4MTQ4Mjk2NTkzMTg2MzUsIDYuMzgzOTc3OTU1OTExODI0LCA2LjM4NjQ3Mjk0NTg5MTc4NCwgNi4zODg5Njc5MzU4NzE3NDQsIDYuMzkxNDYyOTI1ODUxNzAzNSwgNi4zOTM5NTc5MTU4MzE2NjMsIDYuMzk2NDUyOTA1ODExNjIzLCA2LjM5ODk0Nzg5NTc5MTU4MywgNi40MDE0NDI4ODU3NzE1NDM1LCA2LjQwMzkzNzg3NTc1MTUwMywgNi40MDY0MzI4NjU3MzE0NjMsIDYuNDA4OTI3ODU1NzExNDIzLCA2LjQxMTQyMjg0NTY5MTM4MywgNi40MTM5MTc4MzU2NzEzNDIsIDYuNDE2NDEyODI1NjUxMzAzLCA2LjQxODkwNzgxNTYzMTI2MywgNi40MjE0MDI4MDU2MTEyMjMsIDYuNDIzODk3Nzk1NTkxMTgyNSwgNi40MjYzOTI3ODU1NzExNDIsIDYuNDI4ODg3Nzc1NTUxMTAyLCA2LjQzMTM4Mjc2NTUzMTA2MiwgNi40MzM4Nzc3NTU1MTEwMjIsIDYuNDM2MzcyNzQ1NDkwOTgyLCA2LjQzODg2NzczNTQ3MDk0MiwgNi40NDEzNjI3MjU0NTA5MDIsIDYuNDQzODU3NzE1NDMwODYyLCA2LjQ0NjM1MjcwNTQxMDgyMSwgNi40NDg4NDc2OTUzOTA3ODIsIDYuNDUxMzQyNjg1MzcwNzQyLCA2LjQ1MzgzNzY3NTM1MDcwMiwgNi40NTYzMzI2NjUzMzA2NjEsIDYuNDU4ODI3NjU1MzEwNjIxLCA2LjQ2MTMyMjY0NTI5MDU4MSwgNi40NjM4MTc2MzUyNzA1NDEsIDYuNDY2MzEyNjI1MjUwNTAwNSwgNi40Njg4MDc2MTUyMzA0NjEsIDYuNDcxMzAyNjA1MjEwNDIxLCA2LjQ3Mzc5NzU5NTE5MDM4MSwgNi40NzYyOTI1ODUxNzAzNDEsIDYuNDc4Nzg3NTc1MTUwMywgNi40ODEyODI1NjUxMzAyNjEsIDYuNDgzNzc3NTU1MTEwMjIxLCA2LjQ4NjI3MjU0NTA5MDE4MSwgNi40ODg3Njc1MzUwNzAxNCwgNi40OTEyNjI1MjUwNTAxLCA2LjQ5Mzc1NzUxNTAzMDA2LCA2LjQ5NjI1MjUwNTAxMDAyLCA2LjQ5ODc0NzQ5NDk4OTk3OTUsIDYuNTAxMjQyNDg0OTY5OTQsIDYuNTAzNzM3NDc0OTQ5OSwgNi41MDYyMzI0NjQ5Mjk4NiwgNi41MDg3Mjc0NTQ5MDk4MTk1LCA2LjUxMTIyMjQ0NDg4OTc3OSwgNi41MTM3MTc0MzQ4Njk3NCwgNi41MTYyMTI0MjQ4NDk3LCA2LjUxODcwNzQxNDgyOTY1OTUsIDYuNTIxMjAyNDA0ODA5NjE5LCA2LjUyMzY5NzM5NDc4OTU3OSwgNi41MjYxOTIzODQ3Njk1MzksIDYuNTI4Njg3Mzc0NzQ5NDk5LCA2LjUzMTE4MjM2NDcyOTQ1ODUsIDYuNTMzNjc3MzU0NzA5NDE5LCA2LjUzNjE3MjM0NDY4OTM3OSwgNi41Mzg2NjczMzQ2NjkzMzksIDYuNTQxMTYyMzI0NjQ5Mjk4NSwgNi41NDM2NTczMTQ2MjkyNTgsIDYuNTQ2MTUyMzA0NjA5MjE5LCA2LjU0ODY0NzI5NDU4OTE3OSwgNi41NTExNDIyODQ1NjkxMzg1LCA2LjU1MzYzNzI3NDU0OTA5OCwgNi41NTYxMzIyNjQ1MjkwNTgsIDYuNTU4NjI3MjU0NTA5MDE4LCA2LjU2MTEyMjI0NDQ4ODk3OCwgNi41NjM2MTcyMzQ0Njg5MzcsIDYuNTY2MTEyMjI0NDQ4ODk4LCA2LjU2ODYwNzIxNDQyODg1OCwgNi41NzExMDIyMDQ0MDg4MTgsIDYuNTczNTk3MTk0Mzg4Nzc3LCA2LjU3NjA5MjE4NDM2ODczNywgNi41Nzg1ODcxNzQzNDg2OTgsIDYuNTgxMDgyMTY0MzI4NjU4LCA2LjU4MzU3NzE1NDMwODYxNzUsIDYuNTg2MDcyMTQ0Mjg4NTc3LCA2LjU4ODU2NzEzNDI2ODUzNywgNi41OTEwNjIxMjQyNDg0OTcsIDYuNTkzNTU3MTE0MjI4NDU3LCA2LjU5NjA1MjEwNDIwODQxNiwgNi41OTg1NDcwOTQxODgzNzcsIDYuNjAxMDQyMDg0MTY4MzM3LCA2LjYwMzUzNzA3NDE0ODI5NywgNi42MDYwMzIwNjQxMjgyNTYsIDYuNjA4NTI3MDU0MTA4MjE2LCA2LjYxMTAyMjA0NDA4ODE3NywgNi42MTM1MTcwMzQwNjgxMzcsIDYuNjE2MDEyMDI0MDQ4MDk2LCA2LjYxODUwNzAxNDAyODA1NiwgNi42MjEwMDIwMDQwMDgwMTYsIDYuNjIzNDk2OTkzOTg3OTc2LCA2LjYyNTk5MTk4Mzk2NzkzNTUsIDYuNjI4NDg2OTczOTQ3ODk1LCA2LjYzMDk4MTk2MzkyNzg1NiwgNi42MzM0NzY5NTM5MDc4MTYsIDYuNjM1OTcxOTQzODg3Nzc2LCA2LjYzODQ2NjkzMzg2NzczNSwgNi42NDA5NjE5MjM4NDc2OTUsIDYuNjQzNDU2OTEzODI3NjU2LCA2LjY0NTk1MTkwMzgwNzYxNiwgNi42NDg0NDY4OTM3ODc1NzUsIDYuNjUwOTQxODgzNzY3NTM1LCA2LjY1MzQzNjg3Mzc0NzQ5NSwgNi42NTU5MzE4NjM3Mjc0NTUsIDYuNjU4NDI2ODUzNzA3NDE0NSwgNi42NjA5MjE4NDM2ODczNzQsIDYuNjYzNDE2ODMzNjY3MzM1LCA2LjY2NTkxMTgyMzY0NzI5NSwgNi42Njg0MDY4MTM2MjcyNTQ1LCA2LjY3MDkwMTgwMzYwNzIxNCwgNi42NzMzOTY3OTM1ODcxNzQsIDYuNjc1ODkxNzgzNTY3MTM1LCA2LjY3ODM4Njc3MzU0NzA5NDUsIDYuNjgwODgxNzYzNTI3MDU0LCA2LjY4MzM3Njc1MzUwNzAxNCwgNi42ODU4NzE3NDM0ODY5NzQsIDYuNjg4MzY2NzMzNDY2OTM0LCA2LjY5MDg2MTcyMzQ0Njg5MzQsIDYuNjkzMzU2NzEzNDI2ODU0LCA2LjY5NTg1MTcwMzQwNjgxNCwgNi42OTgzNDY2OTMzODY3NzQsIDYuNzAwODQxNjgzMzY2NzMzNSwgNi43MDMzMzY2NzMzNDY2OTMsIDYuNzA1ODMxNjYzMzI2NjUzLCA2LjcwODMyNjY1MzMwNjYxNCwgNi43MTA4MjE2NDMyODY1NzM1LCA2LjcxMzMxNjYzMzI2NjUzMywgNi43MTU4MTE2MjMyNDY0OTMsIDYuNzE4MzA2NjEzMjI2NDUzLCA2LjcyMDgwMTYwMzIwNjQxMywgNi43MjMyOTY1OTMxODYzNzIsIDYuNzI1NzkxNTgzMTY2MzMzLCA2LjcyODI4NjU3MzE0NjI5MywgNi43MzA3ODE1NjMxMjYyNTMsIDYuNzMzMjc2NTUzMTA2MjEyLCA2LjczNTc3MTU0MzA4NjE3MiwgNi43MzgyNjY1MzMwNjYxMzIsIDYuNzQwNzYxNTIzMDQ2MDkzLCA2Ljc0MzI1NjUxMzAyNjA1MjQsIDYuNzQ1NzUxNTAzMDA2MDEyLCA2Ljc0ODI0NjQ5Mjk4NTk3MiwgNi43NTA3NDE0ODI5NjU5MzIsIDYuNzUzMjM2NDcyOTQ1ODkyLCA2Ljc1NTczMTQ2MjkyNTg1MSwgNi43NTgyMjY0NTI5MDU4MTIsIDYuNzYwNzIxNDQyODg1NzcyLCA2Ljc2MzIxNjQzMjg2NTczMiwgNi43NjU3MTE0MjI4NDU2OTEsIDYuNzY4MjA2NDEyODI1NjUxLCA2Ljc3MDcwMTQwMjgwNTYxMSwgNi43NzMxOTYzOTI3ODU1NzIsIDYuNzc1NjkxMzgyNzY1NTMxLCA2Ljc3ODE4NjM3Mjc0NTQ5MSwgNi43ODA2ODEzNjI3MjU0NTEsIDYuNzgzMTc2MzUyNzA1NDExLCA2Ljc4NTY3MTM0MjY4NTM3MDUsIDYuNzg4MTY2MzMyNjY1MzMsIDYuNzkwNjYxMzIyNjQ1MjkxLCA2Ljc5MzE1NjMxMjYyNTI1MSwgNi43OTU2NTEzMDI2MDUyMTA2LCA2Ljc5ODE0NjI5MjU4NTE3LCA2LjgwMDY0MTI4MjU2NTEzLCA2LjgwMzEzNjI3MjU0NTA5LCA2LjgwNTYzMTI2MjUyNTA1MSwgNi44MDgxMjYyNTI1MDUwMSwgNi44MTA2MjEyNDI0ODQ5NywgNi44MTMxMTYyMzI0NjQ5MywgNi44MTU2MTEyMjI0NDQ4OSwgNi44MTgxMDYyMTI0MjQ4NDk1LCA2LjgyMDYwMTIwMjQwNDgwOSwgNi44MjMwOTYxOTIzODQ3NywgNi44MjU1OTExODIzNjQ3MywgNi44MjgwODYxNzIzNDQ2ODk1LCA2LjgzMDU4MTE2MjMyNDY0OSwgNi44MzMwNzYxNTIzMDQ2MDksIDYuODM1NTcxMTQyMjg0NTY5LCA2LjgzODA2NjEzMjI2NDUyOTUsIDYuODQwNTYxMTIyMjQ0NDg5LCA2Ljg0MzA1NjExMjIyNDQ0OSwgNi44NDU1NTExMDIyMDQ0MDksIDYuODQ4MDQ2MDkyMTg0MzY5LCA2Ljg1MDU0MTA4MjE2NDMyOCwgNi44NTMwMzYwNzIxNDQyODgsIDYuODU1NTMxMDYyMTI0MjQ5LCA2Ljg1ODAyNjA1MjEwNDIwOSwgNi44NjA1MjEwNDIwODQxNjg1LCA2Ljg2MzAxNjAzMjA2NDEyOCwgNi44NjU1MTEwMjIwNDQwODgsIDYuODY4MDA2MDEyMDI0MDQ4LCA2Ljg3MDUwMTAwMjAwNDAwODUsIDYuODcyOTk1OTkxOTgzOTY4LCA2Ljg3NTQ5MDk4MTk2MzkyOCwgNi44Nzc5ODU5NzE5NDM4ODgsIDYuODgwNDgwOTYxOTIzODQ4LCA2Ljg4Mjk3NTk1MTkwMzgwNywgNi44ODU0NzA5NDE4ODM3NjcsIDYuODg3OTY1OTMxODYzNzI3LCA2Ljg5MDQ2MDkyMTg0MzY4OCwgNi44OTI5NTU5MTE4MjM2NDcsIDYuODk1NDUwOTAxODAzNjA3LCA2Ljg5Nzk0NTg5MTc4MzU2NywgNi45MDA0NDA4ODE3NjM1MjgsIDYuOTAyOTM1ODcxNzQzNDg3LCA2LjkwNTQzMDg2MTcyMzQ0NywgNi45MDc5MjU4NTE3MDM0MDcsIDYuOTEwNDIwODQxNjgzMzY3LCA2LjkxMjkxNTgzMTY2MzMyNywgNi45MTU0MTA4MjE2NDMyODYsIDYuOTE3OTA1ODExNjIzMjQ2LCA2LjkyMDQwMDgwMTYwMzIwNywgNi45MjI4OTU3OTE1ODMxNjcsIDYuOTI1MzkwNzgxNTYzMTI2LCA2LjkyNzg4NTc3MTU0MzA4NiwgNi45MzAzODA3NjE1MjMwNDYsIDYuOTMyODc1NzUxNTAzMDA2LCA2LjkzNTM3MDc0MTQ4Mjk2NiwgNi45Mzc4NjU3MzE0NjI5MjYsIDYuOTQwMzYwNzIxNDQyODg2LCA2Ljk0Mjg1NTcxMTQyMjg0NiwgNi45NDUzNTA3MDE0MDI4MDU1LCA2Ljk0Nzg0NTY5MTM4Mjc2NSwgNi45NTAzNDA2ODEzNjI3MjUsIDYuOTUyODM1NjcxMzQyNjg2LCA2Ljk1NTMzMDY2MTMyMjY0NTUsIDYuOTU3ODI1NjUxMzAyNjA1LCA2Ljk2MDMyMDY0MTI4MjU2NSwgNi45NjI4MTU2MzEyNjI1MjUsIDYuOTY1MzEwNjIxMjQyNDg2LCA2Ljk2NzgwNTYxMTIyMjQ0NSwgNi45NzAzMDA2MDEyMDI0MDUsIDYuOTcyNzk1NTkxMTgyMzY1LCA2Ljk3NTI5MDU4MTE2MjMyNSwgNi45Nzc3ODU1NzExNDIyODQ1LCA2Ljk4MDI4MDU2MTEyMjI0NCwgNi45ODI3NzU1NTExMDIyMDQsIDYuOTg1MjcwNTQxMDgyMTY1LCA2Ljk4Nzc2NTUzMTA2MjEyNDUsIDYuOTkwMjYwNTIxMDQyMDg0LCA2Ljk5Mjc1NTUxMTAyMjA0NCwgNi45OTUyNTA1MDEwMDIwMDQsIDYuOTk3NzQ1NDkwOTgxOTY0LCA3LjAwMDI0MDQ4MDk2MTkyNCwgNy4wMDI3MzU0NzA5NDE4ODQsIDcuMDA1MjMwNDYwOTIxODQ0LCA3LjAwNzcyNTQ1MDkwMTgwNCwgNy4wMTAyMjA0NDA4ODE3NjMsIDcuMDEyNzE1NDMwODYxNzIzLCA3LjAxNTIxMDQyMDg0MTY4MywgNy4wMTc3MDU0MTA4MjE2NDQsIDcuMDIwMjAwNDAwODAxNjAzNSwgNy4wMjI2OTUzOTA3ODE1NjMsIDcuMDI1MTkwMzgwNzYxNTIzLCA3LjAyNzY4NTM3MDc0MTQ4MywgNy4wMzAxODAzNjA3MjE0NDM1LCA3LjAzMjY3NTM1MDcwMTQwMywgNy4wMzUxNzAzNDA2ODEzNjMsIDcuMDM3NjY1MzMwNjYxMzIzLCA3LjA0MDE2MDMyMDY0MTI4MywgNy4wNDI2NTUzMTA2MjEyNDIsIDcuMDQ1MTUwMzAwNjAxMjAyLCA3LjA0NzY0NTI5MDU4MTE2MiwgNy4wNTAxNDAyODA1NjExMjMsIDcuMDUyNjM1MjcwNTQxMDgyLCA3LjA1NTEzMDI2MDUyMTA0MiwgNy4wNTc2MjUyNTA1MDEwMDIsIDcuMDYwMTIwMjQwNDgwOTYyLCA3LjA2MjYxNTIzMDQ2MDkyMTUsIDcuMDY1MTEwMjIwNDQwODgyLCA3LjA2NzYwNTIxMDQyMDg0MiwgNy4wNzAxMDAyMDA0MDA4MDIsIDcuMDcyNTk1MTkwMzgwNzYyLCA3LjA3NTA5MDE4MDM2MDcyMSwgNy4wNzc1ODUxNzAzNDA2ODEsIDcuMDgwMDgwMTYwMzIwNjQxLCA3LjA4MjU3NTE1MDMwMDYwMiwgNy4wODUwNzAxNDAyODA1NjEsIDcuMDg3NTY1MTMwMjYwNTIxLCA3LjA5MDA2MDEyMDI0MDQ4MSwgNy4wOTI1NTUxMTAyMjA0NDEsIDcuMDk1MDUwMTAwMjAwNDAxLCA3LjA5NzU0NTA5MDE4MDM2MSwgNy4xMDAwNDAwODAxNjAzMjEsIDcuMTAyNTM1MDcwMTQwMjgxLCA3LjEwNTAzMDA2MDEyMDI0MDUsIDcuMTA3NTI1MDUwMTAwMiwgNy4xMTAwMjAwNDAwODAxNiwgNy4xMTI1MTUwMzAwNjAxMjEsIDcuMTE1MDEwMDIwMDQwMDgwNSwgNy4xMTc1MDUwMTAwMjAwNCwgNy4xMl0pCiAgICAgICAgICAgICAgLnJhbmdlKFsnI2QwMWM4YmZmJywgJyNkMDFjOGJmZicsICcjZDAxYzhiZmYnLCAnI2QwMWM4YWZmJywgJyNjZjFkOGFmZicsICcjY2YxZDhhZmYnLCAnI2NmMWQ4YWZmJywgJyNjZTFlOGFmZicsICcjY2UxZTg5ZmYnLCAnI2NlMWU4OWZmJywgJyNjZTFmODlmZicsICcjY2QxZjg5ZmYnLCAnI2NkMWY4OWZmJywgJyNjZDFmODhmZicsICcjY2QyMDg4ZmYnLCAnI2NjMjA4OGZmJywgJyNjYzIwODhmZicsICcjY2MyMTg4ZmYnLCAnI2NjMjE4N2ZmJywgJyNjYjIxODdmZicsICcjY2IyMTg3ZmYnLCAnI2NiMjI4N2ZmJywgJyNjYjIyODdmZicsICcjY2EyMjg2ZmYnLCAnI2NhMjM4NmZmJywgJyNjYTIzODZmZicsICcjYzkyMzg2ZmYnLCAnI2M5MjM4NmZmJywgJyNjOTI0ODVmZicsICcjYzkyNDg1ZmYnLCAnI2M4MjQ4NWZmJywgJyNjODI1ODVmZicsICcjYzgyNTg1ZmYnLCAnI2M4MjU4NGZmJywgJyNjNzI1ODRmZicsICcjYzcyNjg0ZmYnLCAnI2M3MjY4NGZmJywgJyNjNzI2ODRmZicsICcjYzYyNzgzZmYnLCAnI2M2Mjc4M2ZmJywgJyNjNjI3ODNmZicsICcjYzYyNzgzZmYnLCAnI2M1Mjg4M2ZmJywgJyNjNTI4ODJmZicsICcjYzUyODgyZmYnLCAnI2M0Mjk4MmZmJywgJyNjNDI5ODJmZicsICcjYzQyOTgxZmYnLCAnI2M0MmE4MWZmJywgJyNjMzJhODFmZicsICcjYzMyYTgxZmYnLCAnI2MzMmE4MWZmJywgJyNjMzJiODBmZicsICcjYzIyYjgwZmYnLCAnI2MyMmI4MGZmJywgJyNjMjJjODBmZicsICcjYzIyYzgwZmYnLCAnI2MxMmM3ZmZmJywgJyNjMTJjN2ZmZicsICcjYzEyZDdmZmYnLCAnI2MxMmQ3ZmZmJywgJyNjMDJkN2ZmZicsICcjYzAyZTdlZmYnLCAnI2MwMmU3ZWZmJywgJyNiZjJlN2VmZicsICcjYmYyZTdlZmYnLCAnI2JmMmY3ZWZmJywgJyNiZjJmN2RmZicsICcjYmUyZjdkZmYnLCAnI2JlMzA3ZGZmJywgJyNiZTMwN2RmZicsICcjYmUzMDdkZmYnLCAnI2JkMzA3Y2ZmJywgJyNiZDMxN2NmZicsICcjYmQzMTdjZmYnLCAnI2JkMzE3Y2ZmJywgJyNiYzMyN2NmZicsICcjYmMzMjdiZmYnLCAnI2JjMzI3YmZmJywgJyNiYjMyN2JmZicsICcjYmIzMzdiZmYnLCAnI2JiMzM3YmZmJywgJyNiYjMzN2FmZicsICcjYmEzNDdhZmYnLCAnI2JhMzQ3YWZmJywgJyNiYTM0N2FmZicsICcjYmEzNTdhZmYnLCAnI2I5MzU3OWZmJywgJyNiOTM1NzlmZicsICcjYjkzNTc5ZmYnLCAnI2I5MzY3OWZmJywgJyNiODM2NzlmZicsICcjYjgzNjc4ZmYnLCAnI2I4Mzc3OGZmJywgJyNiODM3NzhmZicsICcjYjczNzc4ZmYnLCAnI2I3Mzc3OGZmJywgJyNiNzM4NzdmZicsICcjYjYzODc3ZmYnLCAnI2I2Mzg3N2ZmJywgJyNiNjM5NzdmZicsICcjYjYzOTc3ZmYnLCAnI2I1Mzk3NmZmJywgJyNiNTM5NzZmZicsICcjYjUzYTc2ZmYnLCAnI2I1M2E3NmZmJywgJyNiNDNhNzZmZicsICcjYjQzYjc1ZmYnLCAnI2I0M2I3NWZmJywgJyNiNDNiNzVmZicsICcjYjMzYjc1ZmYnLCAnI2IzM2M3NGZmJywgJyNiMzNjNzRmZicsICcjYjMzYzc0ZmYnLCAnI2IyM2Q3NGZmJywgJyNiMjNkNzRmZicsICcjYjIzZDczZmYnLCAnI2IxM2U3M2ZmJywgJyNiMTNlNzNmZicsICcjYjEzZTczZmYnLCAnI2IxM2U3M2ZmJywgJyNiMDNmNzJmZicsICcjYjAzZjcyZmYnLCAnI2IwM2Y3MmZmJywgJyNiMDQwNzJmZicsICcjYWY0MDcyZmYnLCAnI2FmNDA3MWZmJywgJyNhZjQwNzFmZicsICcjYWY0MTcxZmYnLCAnI2FlNDE3MWZmJywgJyNhZTQxNzFmZicsICcjYWU0MjcwZmYnLCAnI2FlNDI3MGZmJywgJyNhZDQyNzBmZicsICcjYWQ0MjcwZmYnLCAnI2FkNDM3MGZmJywgJyNhYzQzNmZmZicsICcjYWM0MzZmZmYnLCAnI2FjNDQ2ZmZmJywgJyNhYzQ0NmZmZicsICcjYWI0NDZmZmYnLCAnI2FiNDQ2ZWZmJywgJyNhYjQ1NmVmZicsICcjYWI0NTZlZmYnLCAnI2FhNDU2ZWZmJywgJyNhYTQ2NmVmZicsICcjYWE0NjZkZmYnLCAnI2FhNDY2ZGZmJywgJyNhOTQ2NmRmZicsICcjYTk0NzZkZmYnLCAnI2E5NDc2ZGZmJywgJyNhOTQ3NmNmZicsICcjYTg0ODZjZmYnLCAnI2E4NDg2Y2ZmJywgJyNhODQ4NmNmZicsICcjYTc0OTZjZmYnLCAnI2E3NDk2YmZmJywgJyNhNzQ5NmJmZicsICcjYTc0OTZiZmYnLCAnI2E2NGE2YmZmJywgJyNhNjRhNmJmZicsICcjYTY0YTZhZmYnLCAnI2E2NGI2YWZmJywgJyNhNTRiNmFmZicsICcjYTU0YjZhZmYnLCAnI2E1NGI2YWZmJywgJyNhNTRjNjlmZicsICcjYTQ0YzY5ZmYnLCAnI2E0NGM2OWZmJywgJyNhNDRkNjlmZicsICcjYTQ0ZDY5ZmYnLCAnI2EzNGQ2OGZmJywgJyNhMzRkNjhmZicsICcjYTM0ZTY4ZmYnLCAnI2EyNGU2OGZmJywgJyNhMjRlNjdmZicsICcjYTI0ZjY3ZmYnLCAnI2EyNGY2N2ZmJywgJyNhMTRmNjdmZicsICcjYTE0ZjY3ZmYnLCAnI2ExNTA2NmZmJywgJyNhMTUwNjZmZicsICcjYTA1MDY2ZmYnLCAnI2EwNTE2NmZmJywgJyNhMDUxNjZmZicsICcjYTA1MTY1ZmYnLCAnIzlmNTE2NWZmJywgJyM5ZjUyNjVmZicsICcjOWY1MjY1ZmYnLCAnIzlmNTI2NWZmJywgJyM5ZTUzNjRmZicsICcjOWU1MzY0ZmYnLCAnIzllNTM2NGZmJywgJyM5ZDU0NjRmZicsICcjOWQ1NDY0ZmYnLCAnIzlkNTQ2M2ZmJywgJyM5ZDU0NjNmZicsICcjOWM1NTYzZmYnLCAnIzljNTU2M2ZmJywgJyM5YzU1NjNmZicsICcjOWM1NjYyZmYnLCAnIzliNTY2MmZmJywgJyM5YjU2NjJmZicsICcjOWI1NjYyZmYnLCAnIzliNTc2MmZmJywgJyM5YTU3NjFmZicsICcjOWE1NzYxZmYnLCAnIzlhNTg2MWZmJywgJyM5OTU4NjFmZicsICcjOTk1ODYxZmYnLCAnIzk5NTg2MGZmJywgJyM5OTU5NjBmZicsICcjOTg1OTYwZmYnLCAnIzk4NTk2MGZmJywgJyM5ODVhNjBmZicsICcjOTg1YTVmZmYnLCAnIzk3NWE1ZmZmJywgJyM5NzVhNWZmZicsICcjOTc1YjVmZmYnLCAnIzk3NWI1ZmZmJywgJyM5NjViNWVmZicsICcjOTY1YzVlZmYnLCAnIzk2NWM1ZWZmJywgJyM5NjVjNWVmZicsICcjOTU1ZDVlZmYnLCAnIzk1NWQ1ZGZmJywgJyM5NTVkNWRmZicsICcjOTQ1ZDVkZmYnLCAnIzk0NWU1ZGZmJywgJyM5NDVlNWRmZicsICcjOTQ1ZTVjZmYnLCAnIzkzNWY1Y2ZmJywgJyM5MzVmNWNmZicsICcjOTM1ZjVjZmYnLCAnIzkzNWY1YmZmJywgJyM5MjYwNWJmZicsICcjOTI2MDViZmYnLCAnIzkyNjA1YmZmJywgJyM5MjYxNWJmZicsICcjOTE2MTVhZmYnLCAnIzkxNjE1YWZmJywgJyM5MTYxNWFmZicsICcjOTE2MjVhZmYnLCAnIzkwNjI1YWZmJywgJyM5MDYyNTlmZicsICcjOTA2MzU5ZmYnLCAnIzhmNjM1OWZmJywgJyM4ZjYzNTlmZicsICcjOGY2MzU5ZmYnLCAnIzhmNjQ1OGZmJywgJyM4ZTY0NThmZicsICcjOGU2NDU4ZmYnLCAnIzhlNjU1OGZmJywgJyM4ZTY1NThmZicsICcjOGQ2NTU3ZmYnLCAnIzhkNjU1N2ZmJywgJyM4ZDY2NTdmZicsICcjOGQ2NjU3ZmYnLCAnIzhjNjY1N2ZmJywgJyM4YzY3NTZmZicsICcjOGM2NzU2ZmYnLCAnIzhjNjc1NmZmJywgJyM4YjY4NTZmZicsICcjOGI2ODU2ZmYnLCAnIzhiNjg1NWZmJywgJyM4YTY4NTVmZicsICcjOGE2OTU1ZmYnLCAnIzhhNjk1NWZmJywgJyM4YTY5NTVmZicsICcjODk2YTU0ZmYnLCAnIzg5NmE1NGZmJywgJyM4OTZhNTRmZicsICcjODk2YTU0ZmYnLCAnIzg4NmI1NGZmJywgJyM4ODZiNTNmZicsICcjODg2YjUzZmYnLCAnIzg4NmM1M2ZmJywgJyM4NzZjNTNmZicsICcjODc2YzUzZmYnLCAnIzg3NmM1MmZmJywgJyM4NzZkNTJmZicsICcjODY2ZDUyZmYnLCAnIzg2NmQ1MmZmJywgJyM4NjZlNTJmZicsICcjODU2ZTUxZmYnLCAnIzg1NmU1MWZmJywgJyM4NTZlNTFmZicsICcjODU2ZjUxZmYnLCAnIzg0NmY1MWZmJywgJyM4NDZmNTBmZicsICcjODQ3MDUwZmYnLCAnIzg0NzA1MGZmJywgJyM4MzcwNTBmZicsICcjODM3MDUwZmYnLCAnIzgzNzE0ZmZmJywgJyM4MzcxNGZmZicsICcjODI3MTRmZmYnLCAnIzgyNzI0ZmZmJywgJyM4MjcyNGVmZicsICcjODI3MjRlZmYnLCAnIzgxNzM0ZWZmJywgJyM4MTczNGVmZicsICcjODE3MzRlZmYnLCAnIzgwNzM0ZGZmJywgJyM4MDc0NGRmZicsICcjODA3NDRkZmYnLCAnIzgwNzQ0ZGZmJywgJyM3Zjc1NGRmZicsICcjN2Y3NTRjZmYnLCAnIzdmNzU0Y2ZmJywgJyM3Zjc1NGNmZicsICcjN2U3NjRjZmYnLCAnIzdlNzY0Y2ZmJywgJyM3ZTc2NGJmZicsICcjN2U3NzRiZmYnLCAnIzdkNzc0YmZmJywgJyM3ZDc3NGJmZicsICcjN2Q3NzRiZmYnLCAnIzdkNzg0YWZmJywgJyM3Yzc4NGFmZicsICcjN2M3ODRhZmYnLCAnIzdjNzk0YWZmJywgJyM3Yjc5NGFmZicsICcjN2I3OTQ5ZmYnLCAnIzdiNzk0OWZmJywgJyM3YjdhNDlmZicsICcjN2E3YTQ5ZmYnLCAnIzdhN2E0OWZmJywgJyM3YTdiNDhmZicsICcjN2E3YjQ4ZmYnLCAnIzc5N2I0OGZmJywgJyM3OTdjNDhmZicsICcjNzk3YzQ4ZmYnLCAnIzc5N2M0N2ZmJywgJyM3ODdjNDdmZicsICcjNzg3ZDQ3ZmYnLCAnIzc4N2Q0N2ZmJywgJyM3NzdkNDdmZicsICcjNzc3ZTQ2ZmYnLCAnIzc3N2U0NmZmJywgJyM3NzdlNDZmZicsICcjNzY3ZTQ2ZmYnLCAnIzc2N2Y0NmZmJywgJyM3NjdmNDVmZicsICcjNzY3ZjQ1ZmYnLCAnIzc1ODA0NWZmJywgJyM3NTgwNDVmZicsICcjNzU4MDQ1ZmYnLCAnIzc1ODA0NGZmJywgJyM3NDgxNDRmZicsICcjNzQ4MTQ0ZmYnLCAnIzc0ODE0NGZmJywgJyM3NDgyNDRmZicsICcjNzM4MjQzZmYnLCAnIzczODI0M2ZmJywgJyM3MzgyNDNmZicsICcjNzI4MzQzZmYnLCAnIzcyODM0M2ZmJywgJyM3MjgzNDJmZicsICcjNzI4NDQyZmYnLCAnIzcxODQ0MmZmJywgJyM3MTg0NDJmZicsICcjNzE4NDQxZmYnLCAnIzcxODU0MWZmJywgJyM3MDg1NDFmZicsICcjNzA4NTQxZmYnLCAnIzcwODY0MWZmJywgJyM3MDg2NDBmZicsICcjNmY4NjQwZmYnLCAnIzZmODc0MGZmJywgJyM2Zjg3NDBmZicsICcjNmY4NzQwZmYnLCAnIzZlODczZmZmJywgJyM2ZTg4M2ZmZicsICcjNmU4ODNmZmYnLCAnIzZkODgzZmZmJywgJyM2ZDg5M2ZmZicsICcjNmQ4OTNlZmYnLCAnIzZkODkzZWZmJywgJyM2Yzg5M2VmZicsICcjNmM4YTNlZmYnLCAnIzZjOGEzZWZmJywgJyM2YzhhM2RmZicsICcjNmI4YjNkZmYnLCAnIzZiOGIzZGZmJywgJyM2YjhiM2RmZicsICcjNmI4YjNkZmYnLCAnIzZhOGMzY2ZmJywgJyM2YThjM2NmZicsICcjNmE4YzNjZmYnLCAnIzZhOGQzY2ZmJywgJyM2OThkM2NmZicsICcjNjk4ZDNiZmYnLCAnIzY5OGQzYmZmJywgJyM2ODhlM2JmZicsICcjNjg4ZTNiZmYnLCAnIzY4OGUzYmZmJywgJyM2ODhmM2FmZicsICcjNjc4ZjNhZmYnLCAnIzY3OGYzYWZmJywgJyM2NzhmM2FmZicsICcjNjc5MDNhZmYnLCAnIzY2OTAzOWZmJywgJyM2NjkwMzlmZicsICcjNjY5MTM5ZmYnLCAnIzY2OTEzOWZmJywgJyM2NTkxMzlmZicsICcjNjU5MjM4ZmYnLCAnIzY1OTIzOGZmJywgJyM2NTkyMzhmZicsICcjNjQ5MjM4ZmYnLCAnIzY0OTMzOGZmJywgJyM2NDkzMzdmZicsICcjNjM5MzM3ZmYnLCAnIzYzOTQzN2ZmJywgJyM2Mzk0MzdmZicsICcjNjM5NDM3ZmYnLCAnIzYyOTQzNmZmJywgJyM2Mjk1MzZmZicsICcjNjI5NTM2ZmYnLCAnIzYyOTUzNmZmJywgJyM2MTk2MzVmZicsICcjNjE5NjM1ZmYnLCAnIzYxOTYzNWZmJywgJyM2MTk2MzVmZicsICcjNjA5NzM1ZmYnLCAnIzYwOTczNGZmJywgJyM2MDk3MzRmZicsICcjNjA5ODM0ZmYnLCAnIzVmOTgzNGZmJywgJyM1Zjk4MzRmZicsICcjNWY5ODMzZmYnLCAnIzVlOTkzM2ZmJywgJyM1ZTk5MzNmZicsICcjNWU5OTMzZmYnLCAnIzVlOWEzM2ZmJywgJyM1ZDlhMzJmZicsICcjNWQ5YTMyZmYnLCAnIzVkOWIzMmZmJywgJyM1ZDliMzJmZicsICcjNWM5YjMyZmYnLCAnIzVjOWIzMWZmJywgJyM1YzljMzFmZicsICcjNWM5YzMxZmYnLCAnIzViOWMzMWZmJywgJyM1YjlkMzFmZicsICcjNWI5ZDMwZmYnLCAnIzViOWQzMGZmJywgJyM1YTlkMzBmZicsICcjNWE5ZTMwZmYnLCAnIzVhOWUzMGZmJywgJyM1OTllMmZmZicsICcjNTk5ZjJmZmYnLCAnIzU5OWYyZmZmJywgJyM1OTlmMmZmZicsICcjNTg5ZjJmZmYnLCAnIzU4YTAyZWZmJywgJyM1OGEwMmVmZicsICcjNThhMDJlZmYnLCAnIzU3YTEyZWZmJywgJyM1N2ExMmVmZicsICcjNTdhMTJkZmYnLCAnIzU3YTEyZGZmJywgJyM1NmEyMmRmZicsICcjNTZhMjJkZmYnLCAnIzU2YTIyZGZmJywgJyM1NWEzMmNmZicsICcjNTVhMzJjZmYnLCAnIzU1YTMyY2ZmJywgJyM1NWEzMmNmZicsICcjNTRhNDJjZmYnLCAnIzU0YTQyYmZmJywgJyM1NGE0MmJmZicsICcjNTRhNTJiZmYnLCAnIzUzYTUyYmZmJywgJyM1M2E1MmJmZicsICcjNTNhNjJhZmYnLCAnIzUzYTYyYWZmJywgJyM1MmE2MmFmZicsICcjNTJhNjJhZmYnLCAnIzUyYTcyYWZmJywgJyM1MmE3MjlmZicsICcjNTFhNzI5ZmYnLCAnIzUxYTgyOWZmJywgJyM1MWE4MjlmZicsICcjNTBhODI4ZmYnLCAnIzUwYTgyOGZmJywgJyM1MGE5MjhmZicsICcjNTBhOTI4ZmYnLCAnIzRmYTkyOGZmJywgJyM0ZmFhMjdmZicsICcjNGZhYTI3ZmYnLCAnIzRmYWEyN2ZmJywgJyM0ZWFhMjdmZicsICcjNGVhYjI3ZmYnLCAnIzRlYWIyNmZmJywgJyM0ZWFiMjZmZicsICcjNGRhYzI2ZmYnLCAnIzRkYWMyNmZmJywgJyM0ZGFjMjZmZiddKTsKICAgIAoKICAgIGNvbG9yX21hcF85YzBlODk4ZjE3NWU0YzA3YWE3OWEzZTBkMDM0MzdmZC54ID0gZDMuc2NhbGUubGluZWFyKCkKICAgICAgICAgICAgICAuZG9tYWluKFs1Ljg3NSwgNy4xMl0pCiAgICAgICAgICAgICAgLnJhbmdlKFswLCA0MDBdKTsKCiAgICBjb2xvcl9tYXBfOWMwZTg5OGYxNzVlNGMwN2FhNzlhM2UwZDAzNDM3ZmQubGVnZW5kID0gTC5jb250cm9sKHtwb3NpdGlvbjogJ3RvcHJpZ2h0J30pOwogICAgY29sb3JfbWFwXzljMGU4OThmMTc1ZTRjMDdhYTc5YTNlMGQwMzQzN2ZkLmxlZ2VuZC5vbkFkZCA9IGZ1bmN0aW9uIChtYXApIHt2YXIgZGl2ID0gTC5Eb21VdGlsLmNyZWF0ZSgnZGl2JywgJ2xlZ2VuZCcpOyByZXR1cm4gZGl2fTsKICAgIGNvbG9yX21hcF85YzBlODk4ZjE3NWU0YzA3YWE3OWEzZTBkMDM0MzdmZC5sZWdlbmQuYWRkVG8obWFwXzdlNjVjOWNmMWY1MDQxNzc4OTFkY2JjMmIzNGZiZjVlKTsKCiAgICBjb2xvcl9tYXBfOWMwZTg5OGYxNzVlNGMwN2FhNzlhM2UwZDAzNDM3ZmQueEF4aXMgPSBkMy5zdmcuYXhpcygpCiAgICAgICAgLnNjYWxlKGNvbG9yX21hcF85YzBlODk4ZjE3NWU0YzA3YWE3OWEzZTBkMDM0MzdmZC54KQogICAgICAgIC5vcmllbnQoInRvcCIpCiAgICAgICAgLnRpY2tTaXplKDEpCiAgICAgICAgLnRpY2tWYWx1ZXMoWzUuODc1LCA3LjEyXSk7CgogICAgY29sb3JfbWFwXzljMGU4OThmMTc1ZTRjMDdhYTc5YTNlMGQwMzQzN2ZkLnN2ZyA9IGQzLnNlbGVjdCgiLmxlZ2VuZC5sZWFmbGV0LWNvbnRyb2wiKS5hcHBlbmQoInN2ZyIpCiAgICAgICAgLmF0dHIoImlkIiwgJ2xlZ2VuZCcpCiAgICAgICAgLmF0dHIoIndpZHRoIiwgNDUwKQogICAgICAgIC5hdHRyKCJoZWlnaHQiLCA0MCk7CgogICAgY29sb3JfbWFwXzljMGU4OThmMTc1ZTRjMDdhYTc5YTNlMGQwMzQzN2ZkLmcgPSBjb2xvcl9tYXBfOWMwZTg5OGYxNzVlNGMwN2FhNzlhM2UwZDAzNDM3ZmQuc3ZnLmFwcGVuZCgiZyIpCiAgICAgICAgLmF0dHIoImNsYXNzIiwgImtleSIpCiAgICAgICAgLmF0dHIoInRyYW5zZm9ybSIsICJ0cmFuc2xhdGUoMjUsMTYpIik7CgogICAgY29sb3JfbWFwXzljMGU4OThmMTc1ZTRjMDdhYTc5YTNlMGQwMzQzN2ZkLmcuc2VsZWN0QWxsKCJyZWN0IikKICAgICAgICAuZGF0YShjb2xvcl9tYXBfOWMwZTg5OGYxNzVlNGMwN2FhNzlhM2UwZDAzNDM3ZmQuY29sb3IucmFuZ2UoKS5tYXAoZnVuY3Rpb24oZCwgaSkgewogICAgICAgICAgcmV0dXJuIHsKICAgICAgICAgICAgeDA6IGkgPyBjb2xvcl9tYXBfOWMwZTg5OGYxNzVlNGMwN2FhNzlhM2UwZDAzNDM3ZmQueChjb2xvcl9tYXBfOWMwZTg5OGYxNzVlNGMwN2FhNzlhM2UwZDAzNDM3ZmQuY29sb3IuZG9tYWluKClbaSAtIDFdKSA6IGNvbG9yX21hcF85YzBlODk4ZjE3NWU0YzA3YWE3OWEzZTBkMDM0MzdmZC54LnJhbmdlKClbMF0sCiAgICAgICAgICAgIHgxOiBpIDwgY29sb3JfbWFwXzljMGU4OThmMTc1ZTRjMDdhYTc5YTNlMGQwMzQzN2ZkLmNvbG9yLmRvbWFpbigpLmxlbmd0aCA/IGNvbG9yX21hcF85YzBlODk4ZjE3NWU0YzA3YWE3OWEzZTBkMDM0MzdmZC54KGNvbG9yX21hcF85YzBlODk4ZjE3NWU0YzA3YWE3OWEzZTBkMDM0MzdmZC5jb2xvci5kb21haW4oKVtpXSkgOiBjb2xvcl9tYXBfOWMwZTg5OGYxNzVlNGMwN2FhNzlhM2UwZDAzNDM3ZmQueC5yYW5nZSgpWzFdLAogICAgICAgICAgICB6OiBkCiAgICAgICAgICB9OwogICAgICAgIH0pKQogICAgICAuZW50ZXIoKS5hcHBlbmQoInJlY3QiKQogICAgICAgIC5hdHRyKCJoZWlnaHQiLCAxMCkKICAgICAgICAuYXR0cigieCIsIGZ1bmN0aW9uKGQpIHsgcmV0dXJuIGQueDA7IH0pCiAgICAgICAgLmF0dHIoIndpZHRoIiwgZnVuY3Rpb24oZCkgeyByZXR1cm4gZC54MSAtIGQueDA7IH0pCiAgICAgICAgLnN0eWxlKCJmaWxsIiwgZnVuY3Rpb24oZCkgeyByZXR1cm4gZC56OyB9KTsKCiAgICBjb2xvcl9tYXBfOWMwZTg5OGYxNzVlNGMwN2FhNzlhM2UwZDAzNDM3ZmQuZy5jYWxsKGNvbG9yX21hcF85YzBlODk4ZjE3NWU0YzA3YWE3OWEzZTBkMDM0MzdmZC54QXhpcykuYXBwZW5kKCJ0ZXh0IikKICAgICAgICAuYXR0cigiY2xhc3MiLCAiY2FwdGlvbiIpCiAgICAgICAgLmF0dHIoInkiLCAyMSkKICAgICAgICAudGV4dCgnU2FmZXR5IC8gUmVzcGVjdCBTY29yZSwgc3R1ZGVudHMgcmVzcG9uc2UnKTsKPC9zY3JpcHQ+ onload=\"this.contentDocument.open();this.contentDocument.write(atob(this.getAttribute('data-html')));this.contentDocument.close();\" allowfullscreen webkitallowfullscreen mozallowfullscreen></iframe></div></div>"
      ],
      "text/plain": [
       "<folium.folium.Map at 0x7f2d403c4df0>"
      ]
     },
     "execution_count": 26,
     "metadata": {},
     "output_type": "execute_result"
    }
   ],
   "source": [
    "#set a simple baselayer and zoom-in on NY\n",
    "school_map = folium.Map(location=[40.693943, -73.985880], \n",
    "                        #width=500,\n",
    "                        #height=800,\n",
    "                        zoom_start=10,\n",
    "                        tiles='CartoDB positron')\n",
    "\n",
    "# generate a title above the map\n",
    "# from https://github.com/python-visualization/folium/issues/1202\n",
    "map_title = \"NY highschools: Safety / Respect Score and avg. enrollment by school district\"\n",
    "title_html = '''\n",
    "             <h3 align=\"center\" style=\"font-size:20px\"><b>{}</b></h3>\n",
    "             '''.format(map_title)\n",
    "school_map.get_root().html.add_child(folium.Element(title_html))\n",
    "\n",
    "# select column names of the viz parameters\n",
    "size_parameter = \"total_enrollment\"\n",
    "color_parameter = \"saf_s_11\"\n",
    "\n",
    "# generate a colormap to shade the cirles on the map\n",
    "# from https://stackoverflow.com/questions/56876620/unsure-how-to-use-colormap-with-folium-marker-plot\n",
    "start_col_val = by_district[color_parameter].min()\n",
    "end_col_val = by_district[color_parameter].max()\n",
    "start_col_hex = \"#d01c8b\" # used https://colorbrewer2.org/ \n",
    "end_col_hex = \"#4dac26\"\n",
    "colormap = cm.LinearColormap(colors=[start_col_hex,\n",
    "                                     #\"white\",\n",
    "                                     end_col_hex],\n",
    "                             vmin=start_col_val,\n",
    "                             vmax=end_col_val\n",
    "                            )\n",
    "colormap.caption = \"Safety / Respect Score, students response\"\n",
    "\n",
    "# create a circle for each school district\n",
    "for index, row in by_district.iterrows():\n",
    "    folium.Circle(location=[row[\"lat\"],row[\"lon\"]],\n",
    "                  color=colormap(row[color_parameter]),\n",
    "                  fill_color=colormap(row[color_parameter]),\n",
    "                  fill_opacity=0.75,\n",
    "                  radius=row[size_parameter],\n",
    "                  weight=2,\n",
    "                  tooltip=\"District \"+row[\"school_dist\"]+\n",
    "                      \" <br> Avg. Safety / Respect Score, students response (color): {:.1f}\".format(row[color_parameter])+\n",
    "                      \" <br> Avg. enrollment per school (size): {:.0f}\".format(row[size_parameter])\n",
    "                 ).add_to(school_map)\n",
    "\n",
    "# add a legend\n",
    "school_map.add_child(colormap)\n",
    "    \n",
    "# display the map\n",
    "school_map"
   ]
  },
  {
   "cell_type": "code",
   "execution_count": 68,
   "metadata": {
    "collapsed": true
   },
   "outputs": [],
   "source": [
    "import matplotlib.pyplot as plt\n",
    "from mpl_toolkits.basemap import Basemap"
   ]
  },
  {
   "cell_type": "code",
   "execution_count": 69,
   "metadata": {},
   "outputs": [
    {
     "data": {
      "image/png": "[encoded data removed]",
      "text/plain": [
       "<matplotlib.figure.Figure at 0x7f8bf14445f8>"
      ]
     },
     "metadata": {},
     "output_type": "display_data"
    }
   ],
   "source": [
    "m = Basemap(\n",
    "    projection='merc', \n",
    "    llcrnrlat=40.496044, \n",
    "    urcrnrlat=40.915256, \n",
    "    llcrnrlon=-74.255735, \n",
    "    urcrnrlon=-73.700272,\n",
    "    resolution='i'\n",
    ")\n",
    "\n",
    "m.drawmapboundary(fill_color='#85A6D9')\n",
    "m.drawcoastlines(color='#6D5F47', linewidth=.4)\n",
    "m.drawrivers(color='#6D5F47', linewidth=.4)\n",
    "# Temporary bug: if you run the following line of code in the Jupyter Guided Project interface on Dataquest, you'll get an error. \n",
    "# We're working on a fix, thanks for your patience! This should work fine locally on your own computer though.\n",
    "# m.fillcontinents(color='white',lake_color='#85A6D9')\n",
    "\n",
    "longitudes = safety_avg_by_district[\"lon\"].tolist()\n",
    "latitudes = safety_avg_by_district[\"lat\"].tolist()\n",
    "m.scatter(longitudes, latitudes, s=50, zorder=2, latlon=True, c=safety_avg_by_district[\"saf_s_11\"], cmap=\"summer\")\n",
    "plt.show()"
   ]
  },
  {
   "cell_type": "markdown",
   "metadata": {},
   "source": [
    "It looks like:\n",
    "<li>**High safety scires:** Upper Manhattan and parts of Queens.</li>\n",
    "<li>**Low safety scores:** Brooklyn.</li>"
   ]
  },
  {
   "cell_type": "markdown",
   "metadata": {},
   "source": [
    "# Racial differences in SAT preformance"
   ]
  },
  {
   "cell_type": "code",
   "execution_count": 70,
   "metadata": {
    "collapsed": true
   },
   "outputs": [],
   "source": [
    "race_percentage_indicators = [\n",
    "    'white_per', \n",
    "    'asian_per', \n",
    "    'black_per', \n",
    "    'hispanic_per'\n",
    "]"
   ]
  },
  {
   "cell_type": "code",
   "execution_count": 71,
   "metadata": {},
   "outputs": [
    {
     "data": {
      "text/plain": [
       "<matplotlib.text.Text at 0x7f8bf14d3198>"
      ]
     },
     "execution_count": 71,
     "metadata": {},
     "output_type": "execute_result"
    },
    {
     "data": {
      "image/png": "[encoded data removed]",
      "text/plain": [
       "<matplotlib.figure.Figure at 0x7f8bf1492588>"
      ]
     },
     "metadata": {},
     "output_type": "display_data"
    }
   ],
   "source": [
    "plt.figure(figsize=(20, 10))\n",
    "ax = correlations[race_percentage_indicators].plot.bar()\n",
    "ax.set_title(\"Racial correlation with SAT performance\", fontsize=22)\n",
    "ax.set_xlabel(\"Race percentage\",fontsize=12)\n",
    "ax.set_ylabel(\"Correlation\",fontsize=12)"
   ]
  },
  {
   "cell_type": "markdown",
   "metadata": {},
   "source": [
    "From the **Racial correlation with SAT performance** it seems like a higher percentage of **white** or **asian** students correlates positively with the **SAT score** averages. \n",
    "\n",
    "On the other hand, seems looks like a higher percentage of **black** and **hispanic** students correlates negatively with  the **SAT score** averages. \n",
    "\n",
    "On this point we have two questions are this correlations due a lack of funding for schools in certain areas, with higher percentage of **black** and **hispanic** students or simply **white** and **asian** students are more fitting better in the current educational system."
   ]
  },
  {
   "cell_type": "markdown",
   "metadata": {},
   "source": [
    "## Hispanic per vs Sat score"
   ]
  },
  {
   "cell_type": "code",
   "execution_count": 72,
   "metadata": {},
   "outputs": [
    {
     "data": {
      "text/plain": [
       "<matplotlib.text.Text at 0x7f8bf151e6a0>"
      ]
     },
     "execution_count": 72,
     "metadata": {},
     "output_type": "execute_result"
    },
    {
     "data": {
      "text/plain": [
       "<matplotlib.figure.Figure at 0x7f8bf14b97b8>"
      ]
     },
     "metadata": {},
     "output_type": "display_data"
    },
    {
     "data": {
      "image/png": "[encoded data removed]",
      "text/plain": [
       "<matplotlib.figure.Figure at 0x7f8bf1468320>"
      ]
     },
     "metadata": {},
     "output_type": "display_data"
    }
   ],
   "source": [
    "plt.figure(figsize=(20, 10))\n",
    "ax = combined.plot.scatter('hispanic_per', 'sat_score')\n",
    "ax.set_title(\"Hispanic per vs Sat score\")\n",
    "ax.set_xlabel(\"Hispanic percentage\",fontsize=12)\n",
    "ax.set_ylabel(\"Satisfaction score\",fontsize=12)"
   ]
  },
  {
   "cell_type": "markdown",
   "metadata": {},
   "source": [
    "It tseems that there isn't a strong correlation between **Hispanic per and Sat score** but the previous plot shows clearly that independently of the percentage of the **hispanic** students, the  **Sat score** is between 1000 and 1400, as we have seen previously.\n",
    "\n",
    "What the previous scatter plot shows is that the schools with a percentage of **hispanic** students between 0% and 20% are the ones with a higher average **Satisfaction score**.\n",
    "\n",
    "On the other hand the extreme cases of the schools with a a hispanic students percentage of **100%** are the ones with lower **SAT score**. This may be due a lack of capital on this schools for **hispanic** students."
   ]
  },
  {
   "cell_type": "code",
   "execution_count": 74,
   "metadata": {},
   "outputs": [
    {
     "data": {
      "text/plain": [
       "44                         MANHATTAN BRIDGES HIGH SCHOOL\n",
       "82      WASHINGTON HEIGHTS EXPEDITIONARY LEARNING SCHOOL\n",
       "89     GREGORIO LUPERON HIGH SCHOOL FOR SCIENCE AND M...\n",
       "125                  ACADEMY FOR LANGUAGE AND TECHNOLOGY\n",
       "141                INTERNATIONAL SCHOOL FOR LIBERAL ARTS\n",
       "176     PAN AMERICAN INTERNATIONAL HIGH SCHOOL AT MONROE\n",
       "253                            MULTICULTURAL HIGH SCHOOL\n",
       "286               PAN AMERICAN INTERNATIONAL HIGH SCHOOL\n",
       "Name: SCHOOL NAME, dtype: object"
      ]
     },
     "execution_count": 74,
     "metadata": {},
     "output_type": "execute_result"
    }
   ],
   "source": [
    "combined[combined['hispanic_per'] > 95]['SCHOOL NAME']"
   ]
  },
  {
   "cell_type": "markdown",
   "metadata": {},
   "source": [
    "### Schools info\n",
    "<a href=\"https://en.wikipedia.org/wiki/List_of_high_schools_in_New_York_City\" > Schools info.</a> After reading the descriptions of the listed schools, they appear to primarily be geared towards recent immigrants to the US. These schools students are starting the inclusion program by  learning English, which would explain the lower SAT scores."
   ]
  },
  {
   "cell_type": "code",
   "execution_count": 75,
   "metadata": {},
   "outputs": [
    {
     "data": {
      "text/plain": [
       "37                                STUYVESANT HIGH SCHOOL\n",
       "151                         BRONX HIGH SCHOOL OF SCIENCE\n",
       "187                       BROOKLYN TECHNICAL HIGH SCHOOL\n",
       "327    QUEENS HIGH SCHOOL FOR THE SCIENCES AT YORK CO...\n",
       "356                  STATEN ISLAND TECHNICAL HIGH SCHOOL\n",
       "Name: SCHOOL NAME, dtype: object"
      ]
     },
     "execution_count": 75,
     "metadata": {},
     "output_type": "execute_result"
    }
   ],
   "source": [
    "combined[(combined['hispanic_per'] < 10) & (combined['sat_score'] > 1800)]['SCHOOL NAME']"
   ]
  },
  {
   "cell_type": "markdown",
   "metadata": {},
   "source": [
    "The schools listed above are specialized on science and technology, that generally receive extra founding to foment investigation and research. They only admin students after passing an entrance exam. \n",
    "\n",
    "There is no explanation why this percentage of hispanic students is so low, but the admision process may explain why the SAT score of this students is higher."
   ]
  },
  {
   "cell_type": "markdown",
   "metadata": {},
   "source": [
    "# Gender differences in SAT scores"
   ]
  },
  {
   "cell_type": "code",
   "execution_count": 76,
   "metadata": {},
   "outputs": [
    {
     "data": {
      "text/plain": [
       "<matplotlib.text.Text at 0x7f8bf14f9a58>"
      ]
     },
     "execution_count": 76,
     "metadata": {},
     "output_type": "execute_result"
    },
    {
     "data": {
      "image/png": "[encoded data removed]",
      "text/plain": [
       "<matplotlib.figure.Figure at 0x7f8bf14c2940>"
      ]
     },
     "metadata": {},
     "output_type": "display_data"
    }
   ],
   "source": [
    "plt.figure(figsize=(20, 10))\n",
    "ax = correlations[['male_per', 'female_per']].plot.bar()\n",
    "ax.set_title(\"Gender differences in SAT scores\", fontsize=22)\n",
    "ax.set_xlabel(\"Gender\",fontsize=12)\n",
    "ax.set_ylabel(\"Correlation\",fontsize=12)"
   ]
  },
  {
   "cell_type": "markdown",
   "metadata": {},
   "source": [
    "In the **Gender differences in SAT scores**, we can see that **females** have a high positive correlation with **SAT scores** and **males** a high negative correlation."
   ]
  },
  {
   "cell_type": "markdown",
   "metadata": {},
   "source": [
    "## Female gender and SAT score"
   ]
  },
  {
   "cell_type": "code",
   "execution_count": 77,
   "metadata": {},
   "outputs": [
    {
     "data": {
      "text/plain": [
       "<matplotlib.text.Text at 0x7f8bf5aa9c50>"
      ]
     },
     "execution_count": 77,
     "metadata": {},
     "output_type": "execute_result"
    },
    {
     "data": {
      "text/plain": [
       "<matplotlib.figure.Figure at 0x7f8bf155c3c8>"
      ]
     },
     "metadata": {},
     "output_type": "display_data"
    },
    {
     "data": {
      "image/png": "[encoded data removed]",
      "text/plain": [
       "<matplotlib.figure.Figure at 0x7f8bf14c26d8>"
      ]
     },
     "metadata": {},
     "output_type": "display_data"
    }
   ],
   "source": [
    "plt.figure(figsize=(20, 10))\n",
    "ax = combined.plot.scatter('female_per', 'sat_score')\n",
    "ax.set_title(\"Female per vs Sat score\")\n",
    "ax.set_xlabel(\"Female percentage\",fontsize=12)\n",
    "ax.set_ylabel(\"Satisfaction score\",fontsize=12)"
   ]
  },
  {
   "cell_type": "markdown",
   "metadata": {},
   "source": [
    "From the scatter above we can see a strong correlation between **Satisfaction Score** and **Female percentage**. But, there is a cluster of schools with a female percentage between 55% and 65% with a **high** SAT score."
   ]
  },
  {
   "cell_type": "code",
   "execution_count": 79,
   "metadata": {},
   "outputs": [
    {
     "data": {
      "text/plain": [
       "5                         BARD HIGH SCHOOL EARLY COLLEGE\n",
       "26                         ELEANOR ROOSEVELT HIGH SCHOOL\n",
       "60                                    BEACON HIGH SCHOOL\n",
       "61     FIORELLO H. LAGUARDIA HIGH SCHOOL OF MUSIC & A...\n",
       "302                          TOWNSEND HARRIS HIGH SCHOOL\n",
       "Name: SCHOOL NAME, dtype: object"
      ]
     },
     "execution_count": 79,
     "metadata": {},
     "output_type": "execute_result"
    }
   ],
   "source": [
    "combined[(\n",
    "    combined[\"female_per\"] > 60) & \n",
    "    (combined[\"sat_score\"] > 1700)][\"SCHOOL NAME\"]"
   ]
  },
  {
   "cell_type": "markdown",
   "metadata": {},
   "source": [
    "The shwon cluster in the scatter plot which schools are listed aboved, are formed by schools with **high academic standards** and specialized on **arts**. <a href=\"https://en.wikipedia.org/wiki/Bard_High_School_Early_College\" > School info example.</a> "
   ]
  },
  {
   "cell_type": "markdown",
   "metadata": {},
   "source": [
    "# AP Exam Scores and SAT Scores"
   ]
  },
  {
   "cell_type": "markdown",
   "metadata": {},
   "source": [
    "In the U.S., high school students take <a href=\"https://en.wikipedia.org/wiki/Advanced_Placement_exams\" > Advanced Placement (AP).</a> exams to earn college credit. There are AP exams for many different subjects.\n",
    "\n",
    "It makes sense that the number of students at a school who took AP exams would be highly correlated with the school's SAT scores. Let's explore this relationship. Because total_enrollment is highly correlated with sat_score, we don't want to bias our results. Instead, we'll look at the percentage of students in each school who took at least one AP exam."
   ]
  },
  {
   "cell_type": "code",
   "execution_count": 81,
   "metadata": {},
   "outputs": [],
   "source": [
    "combined[\"ap_per\"] = combined[\"AP Test Takers \"] / combined[\"total_enrollment\"]"
   ]
  },
  {
   "cell_type": "markdown",
   "metadata": {},
   "source": [
    "## AP per vs SAT score"
   ]
  },
  {
   "cell_type": "code",
   "execution_count": 82,
   "metadata": {},
   "outputs": [
    {
     "data": {
      "text/plain": [
       "<matplotlib.text.Text at 0x7f8bea78e2e8>"
      ]
     },
     "execution_count": 82,
     "metadata": {},
     "output_type": "execute_result"
    },
    {
     "data": {
      "text/plain": [
       "<matplotlib.figure.Figure at 0x7f8bf1464b38>"
      ]
     },
     "metadata": {},
     "output_type": "display_data"
    },
    {
     "data": {
      "image/png": "[encoded data removed]",
      "text/plain": [
       "<matplotlib.figure.Figure at 0x7f8bf5c978d0>"
      ]
     },
     "metadata": {},
     "output_type": "display_data"
    }
   ],
   "source": [
    "plt.figure(figsize=(20, 10))\n",
    "ax = combined.plot.scatter('ap_per', 'sat_score')\n",
    "ax.set_title(\"AP per vs Sat score\")\n",
    "ax.set_xlabel(\"AP percentage\",fontsize=12)\n",
    "ax.set_ylabel(\"Satisfaction score\",fontsize=12)"
   ]
  },
  {
   "cell_type": "markdown",
   "metadata": {},
   "source": [
    "\n",
    "It looks like there is a relationship between the percentage of students in a school who take the AP exam, and their average SAT scores. It's not an extremely strong correlation, though."
   ]
  },
  {
   "cell_type": "code",
   "execution_count": null,
   "metadata": {
    "collapsed": true
   },
   "outputs": [],
   "source": []
  }
 ],
 "metadata": {
  "kernelspec": {
   "display_name": "Python 3",
   "language": "python",
   "name": "python3"
  },
  "language_info": {
   "codemirror_mode": {
    "name": "ipython",
    "version": 3
   },
   "file_extension": ".py",
   "mimetype": "text/x-python",
   "name": "python",
   "nbconvert_exporter": "python",
   "pygments_lexer": "ipython3",
   "version": "3.8.2"
  }
 },
 "nbformat": 4,
 "nbformat_minor": 2
}
