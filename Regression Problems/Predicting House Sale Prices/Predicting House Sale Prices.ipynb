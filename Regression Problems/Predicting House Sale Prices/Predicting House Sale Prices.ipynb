{
 "cells": [
  {
   "cell_type": "markdown",
   "source": [
    "# Predicting House Sale Prices"
   ],
   "metadata": {
    "collapsed": false,
    "pycharm": {
     "name": "#%% md\n"
    }
   }
  },
  {
   "cell_type": "markdown",
   "source": [
    "## Imports"
   ],
   "metadata": {
    "collapsed": false,
    "pycharm": {
     "name": "#%% md\n"
    }
   }
  },
  {
   "cell_type": "code",
   "execution_count": 1,
   "outputs": [],
   "source": [
    "import pandas as pd\n",
    "pd.options.display.max_columns = 999\n",
    "import numpy as np\n",
    "import matplotlib.pyplot as plt\n",
    "from sklearn.model_selection import KFold\n",
    "\n",
    "from sklearn.metrics import mean_squared_error\n",
    "from sklearn import linear_model\n",
    "from sklearn.model_selection import KFold"
   ],
   "metadata": {
    "collapsed": false,
    "pycharm": {
     "name": "#%%\n"
    }
   }
  },
  {
   "cell_type": "code",
   "execution_count": null,
   "outputs": [],
   "source": [],
   "metadata": {
    "collapsed": false,
    "pycharm": {
     "name": "#%%\n"
    }
   }
  },
  {
   "cell_type": "markdown",
   "source": [
    "# Functions"
   ],
   "metadata": {
    "collapsed": false,
    "pycharm": {
     "name": "#%% md\n"
    }
   }
  },
  {
   "cell_type": "code",
   "execution_count": 16,
   "outputs": [],
   "source": [
    "def drop_above_cutoff_null_columns(df, cutoff):\n",
    "    null_stats = df.isnull().sum()\n",
    "    above_cutoff_cols = null_stats[(null_stats >= df.shape[0] * cutoff)].index\n",
    "    return df.drop(above_cutoff_cols, axis=1)\n",
    "\n",
    "def drop_above_cutoff_nulls_in_text_columns(df, cutoff=1):\n",
    "    null_stats = df.select_dtypes(include=[\"object\"]).isnull().sum().sort_values(ascending=False)\n",
    "    above_cutoff_text_cols = null_stats[null_stats > 0]\n",
    "    return df.drop(above_cutoff_text_cols, axis=1)\n",
    "\n",
    "def fill_numerical_values(df):\n",
    "    null_stats = df.select_dtypes(include=[\"int\", \"float\"]).isnull().sum().sort_values(ascending=False)\n",
    "\n",
    "\n",
    "def transform_features(df, cutoff=0.25):\n",
    "    df = drop_above_cutoff_null_columns(df, cutoff)\n",
    "    df = drop_above_cutoff_nulls_in_text_columns(df, 1)\n",
    "    return df\n",
    "\n",
    "def select_features(df):\n",
    "    return df[['Gr Liv Area', 'SalePrice']]\n",
    "\n",
    "def train_and_test(df):\n",
    "    train = df[:1460]\n",
    "    test = df[1460:]\n",
    "\n",
    "    numeric_train = train.select_dtypes(include=['integer', 'float'])\n",
    "    numeric_test = test.select_dtypes(include=['integer', 'float'])\n",
    "\n",
    "    features = numeric_train.columns.drop(\"SalePrice\")\n",
    "    lr = linear_model.LinearRegression()\n",
    "    lr.fit(train[features], train[\"SalePrice\"])\n",
    "\n",
    "    predictions = lr.predict(test[features])\n",
    "    mse = mean_squared_error(test[\"SalePrice\"], predictions)\n",
    "    return np.sqrt(mse)\n"
   ],
   "metadata": {
    "collapsed": false,
    "pycharm": {
     "name": "#%%\n"
    }
   }
  },
  {
   "cell_type": "code",
   "execution_count": 3,
   "outputs": [],
   "source": [
    "df = pd.read_csv(\"AmesHousing.tsv\", sep=\"\\t\")"
   ],
   "metadata": {
    "collapsed": false,
    "pycharm": {
     "name": "#%%\n"
    }
   }
  },
  {
   "cell_type": "code",
   "execution_count": 4,
   "outputs": [],
   "source": [
    "transformed_df = transform_features(df)\n",
    "filtered_df = select_features(transformed_df)"
   ],
   "metadata": {
    "collapsed": false,
    "pycharm": {
     "name": "#%%\n"
    }
   }
  },
  {
   "cell_type": "code",
   "execution_count": 5,
   "outputs": [
    {
     "name": "stdout",
     "output_type": "stream",
     "text": [
      "57088.25161263909\n"
     ]
    }
   ],
   "source": [
    "rmse = train_and_test(filtered_df)\n",
    "print(rmse)"
   ],
   "metadata": {
    "collapsed": false,
    "pycharm": {
     "name": "#%%\n"
    }
   }
  },
  {
   "cell_type": "code",
   "execution_count": 24,
   "outputs": [],
   "source": [
    "null_stats = df.select_dtypes(include=[\"int\", \"float\"]).isnull().sum().sort_values(ascending=False)"
   ],
   "metadata": {
    "collapsed": false,
    "pycharm": {
     "name": "#%%\n"
    }
   }
  },
  {
   "cell_type": "code",
   "execution_count": 28,
   "outputs": [
    {
     "data": {
      "text/plain": "Lot Frontage       490\nGarage Yr Blt      159\nMas Vnr Area        23\nBsmt Half Bath       2\nBsmt Full Bath       2\nBsmtFin SF 1         1\nGarage Cars          1\nGarage Area          1\nTotal Bsmt SF        1\nBsmt Unf SF          1\nBsmtFin SF 2         1\nKitchen AbvGr        0\n3Ssn Porch           0\nScreen Porch         0\nEnclosed Porch       0\nOpen Porch SF        0\nWood Deck SF         0\nPool Area            0\nMisc Val             0\nMo Sold              0\nYr Sold              0\nFireplaces           0\nTotRms AbvGrd        0\nOrder                0\nBedroom AbvGr        0\nHalf Bath            0\nFull Bath            0\nPID                  0\nGr Liv Area          0\nLow Qual Fin SF      0\n2nd Flr SF           0\n1st Flr SF           0\nYear Remod/Add       0\nYear Built           0\nOverall Cond         0\nOverall Qual         0\nLot Area             0\nMS SubClass          0\nSalePrice            0\ndtype: int64"
     },
     "execution_count": 28,
     "metadata": {},
     "output_type": "execute_result"
    }
   ],
   "source": [
    "null_stats"
   ],
   "metadata": {
    "collapsed": false,
    "pycharm": {
     "name": "#%%\n"
    }
   }
  }
 ],
 "metadata": {
  "kernelspec": {
   "display_name": "Python 3",
   "language": "python",
   "name": "python3"
  },
  "language_info": {
   "codemirror_mode": {
    "name": "ipython",
    "version": 2
   },
   "file_extension": ".py",
   "mimetype": "text/x-python",
   "name": "python",
   "nbconvert_exporter": "python",
   "pygments_lexer": "ipython2",
   "version": "2.7.6"
  }
 },
 "nbformat": 4,
 "nbformat_minor": 0
}