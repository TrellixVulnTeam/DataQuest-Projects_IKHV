{
 "cells": [
  {
   "cell_type": "markdown",
   "metadata": {},
   "source": [
    "# Finding the Best Markets to Advertise In"
   ]
  },
  {
   "cell_type": "markdown",
   "metadata": {},
   "source": [
    "### Introduction\n",
    "We're working for an an e-learning company that offers courses on programming. Most of our courses are on web and mobile development, but we also cover many other domains, like data science, game development, etc. We want to promote our product and we'd like to invest some money in advertisement. **Our goal in this project is to find out the two best markets to advertise our product in.**"
   ]
  },
  {
   "cell_type": "markdown",
   "metadata": {},
   "source": [
    "To identify the best markets to promote the courses, following becomes pre-requisite information about the potential learners, for the E-Learning company:\n",
    "<ul>\n",
    "    <li>What people actually want to study - most preferred courses/ roles?</li>\n",
    "    <li>What is the economic investment range - how much money, learners are willing to invest in online education?</li>\n",
    "    <li>Investments in terms of time - the duration of time learners would like to spend in courses.</li>\n",
    "    <li>Demographic information such as their current residence, current employment status and its type, educational qualifications etc.</li>\n",
    "</ul>\n",
    "\n",
    "\n",
    "### Analyzed Dataset\n",
    "The above and related information was collected by the E-Learning platform <a href=\"https://www.freecodecamp.org/\">freeCodeCamp</a> in a survey, they conducted in 2017. Since the freeCodeCamp runs a <a href=\"https://www.freecodecamp.org/news/\">popular Medium Publication</a> with over 400,000 followers, they received responses from coders/learners with diversified interests and not just web development. They made the results as well as the data of this survey available under free distribution license.\n",
    "\n",
    "The e-learning company intends to utilize this survey data, instead of conducting a new one - for both economic reasons and also the variety of responses available in dataset. The dataset is freely avilable <a href=\"https://github.com/freeCodeCamp/2017-new-coder-survey\">github/freeCodeCamp</a> ."
   ]
  },
  {
   "cell_type": "markdown",
   "metadata": {},
   "source": [
    "### Results"
   ]
  },
  {
   "cell_type": "code",
   "execution_count": null,
   "metadata": {},
   "outputs": [],
   "source": []
  },
  {
   "cell_type": "markdown",
   "metadata": {},
   "source": [
    "# Importing Libraries"
   ]
  },
  {
   "cell_type": "code",
   "execution_count": 2,
   "metadata": {},
   "outputs": [],
   "source": [
    "import numpy as np\n",
    "import pandas as pd\n",
    "import seaborn as sns\n",
    "import matplotlib.pyplot as plt"
   ]
  },
  {
   "cell_type": "markdown",
   "metadata": {},
   "source": [
    "# Functions"
   ]
  },
  {
   "cell_type": "code",
   "execution_count": null,
   "metadata": {},
   "outputs": [],
   "source": []
  },
  {
   "cell_type": "markdown",
   "metadata": {},
   "source": [
    "# Reading the Data"
   ]
  },
  {
   "cell_type": "code",
   "execution_count": 4,
   "metadata": {},
   "outputs": [],
   "source": [
    "df = pd.read_csv('2017-fCC-New-Coders-Survey-Data.csv', low_memory=False)"
   ]
  },
  {
   "cell_type": "code",
   "execution_count": 10,
   "metadata": {},
   "outputs": [
    {
     "data": {
      "text/html": [
       "<div>\n",
       "<style scoped>\n",
       "    .dataframe tbody tr th:only-of-type {\n",
       "        vertical-align: middle;\n",
       "    }\n",
       "\n",
       "    .dataframe tbody tr th {\n",
       "        vertical-align: top;\n",
       "    }\n",
       "\n",
       "    .dataframe thead th {\n",
       "        text-align: right;\n",
       "    }\n",
       "</style>\n",
       "<table border=\"1\" class=\"dataframe\">\n",
       "  <thead>\n",
       "    <tr style=\"text-align: right;\">\n",
       "      <th></th>\n",
       "      <th>Age</th>\n",
       "      <th>AttendedBootcamp</th>\n",
       "      <th>BootcampFinish</th>\n",
       "      <th>BootcampLoanYesNo</th>\n",
       "      <th>BootcampName</th>\n",
       "      <th>BootcampRecommend</th>\n",
       "      <th>ChildrenNumber</th>\n",
       "      <th>CityPopulation</th>\n",
       "      <th>CodeEventConferences</th>\n",
       "      <th>CodeEventDjangoGirls</th>\n",
       "      <th>...</th>\n",
       "      <th>YouTubeFCC</th>\n",
       "      <th>YouTubeFunFunFunction</th>\n",
       "      <th>YouTubeGoogleDev</th>\n",
       "      <th>YouTubeLearnCode</th>\n",
       "      <th>YouTubeLevelUpTuts</th>\n",
       "      <th>YouTubeMIT</th>\n",
       "      <th>YouTubeMozillaHacks</th>\n",
       "      <th>YouTubeOther</th>\n",
       "      <th>YouTubeSimplilearn</th>\n",
       "      <th>YouTubeTheNewBoston</th>\n",
       "    </tr>\n",
       "  </thead>\n",
       "  <tbody>\n",
       "    <tr>\n",
       "      <th>0</th>\n",
       "      <td>27.0</td>\n",
       "      <td>0.0</td>\n",
       "      <td>NaN</td>\n",
       "      <td>NaN</td>\n",
       "      <td>NaN</td>\n",
       "      <td>NaN</td>\n",
       "      <td>NaN</td>\n",
       "      <td>more than 1 million</td>\n",
       "      <td>NaN</td>\n",
       "      <td>NaN</td>\n",
       "      <td>...</td>\n",
       "      <td>NaN</td>\n",
       "      <td>NaN</td>\n",
       "      <td>NaN</td>\n",
       "      <td>NaN</td>\n",
       "      <td>NaN</td>\n",
       "      <td>NaN</td>\n",
       "      <td>NaN</td>\n",
       "      <td>NaN</td>\n",
       "      <td>NaN</td>\n",
       "      <td>NaN</td>\n",
       "    </tr>\n",
       "    <tr>\n",
       "      <th>1</th>\n",
       "      <td>34.0</td>\n",
       "      <td>0.0</td>\n",
       "      <td>NaN</td>\n",
       "      <td>NaN</td>\n",
       "      <td>NaN</td>\n",
       "      <td>NaN</td>\n",
       "      <td>NaN</td>\n",
       "      <td>less than 100,000</td>\n",
       "      <td>NaN</td>\n",
       "      <td>NaN</td>\n",
       "      <td>...</td>\n",
       "      <td>1.0</td>\n",
       "      <td>NaN</td>\n",
       "      <td>NaN</td>\n",
       "      <td>NaN</td>\n",
       "      <td>NaN</td>\n",
       "      <td>NaN</td>\n",
       "      <td>NaN</td>\n",
       "      <td>NaN</td>\n",
       "      <td>NaN</td>\n",
       "      <td>NaN</td>\n",
       "    </tr>\n",
       "    <tr>\n",
       "      <th>2</th>\n",
       "      <td>21.0</td>\n",
       "      <td>0.0</td>\n",
       "      <td>NaN</td>\n",
       "      <td>NaN</td>\n",
       "      <td>NaN</td>\n",
       "      <td>NaN</td>\n",
       "      <td>NaN</td>\n",
       "      <td>more than 1 million</td>\n",
       "      <td>NaN</td>\n",
       "      <td>NaN</td>\n",
       "      <td>...</td>\n",
       "      <td>NaN</td>\n",
       "      <td>NaN</td>\n",
       "      <td>NaN</td>\n",
       "      <td>1.0</td>\n",
       "      <td>1.0</td>\n",
       "      <td>NaN</td>\n",
       "      <td>NaN</td>\n",
       "      <td>NaN</td>\n",
       "      <td>NaN</td>\n",
       "      <td>NaN</td>\n",
       "    </tr>\n",
       "    <tr>\n",
       "      <th>3</th>\n",
       "      <td>26.0</td>\n",
       "      <td>0.0</td>\n",
       "      <td>NaN</td>\n",
       "      <td>NaN</td>\n",
       "      <td>NaN</td>\n",
       "      <td>NaN</td>\n",
       "      <td>NaN</td>\n",
       "      <td>between 100,000 and 1 million</td>\n",
       "      <td>NaN</td>\n",
       "      <td>NaN</td>\n",
       "      <td>...</td>\n",
       "      <td>1.0</td>\n",
       "      <td>1.0</td>\n",
       "      <td>NaN</td>\n",
       "      <td>NaN</td>\n",
       "      <td>1.0</td>\n",
       "      <td>NaN</td>\n",
       "      <td>NaN</td>\n",
       "      <td>NaN</td>\n",
       "      <td>NaN</td>\n",
       "      <td>NaN</td>\n",
       "    </tr>\n",
       "    <tr>\n",
       "      <th>4</th>\n",
       "      <td>20.0</td>\n",
       "      <td>0.0</td>\n",
       "      <td>NaN</td>\n",
       "      <td>NaN</td>\n",
       "      <td>NaN</td>\n",
       "      <td>NaN</td>\n",
       "      <td>NaN</td>\n",
       "      <td>between 100,000 and 1 million</td>\n",
       "      <td>NaN</td>\n",
       "      <td>NaN</td>\n",
       "      <td>...</td>\n",
       "      <td>NaN</td>\n",
       "      <td>NaN</td>\n",
       "      <td>NaN</td>\n",
       "      <td>NaN</td>\n",
       "      <td>NaN</td>\n",
       "      <td>NaN</td>\n",
       "      <td>NaN</td>\n",
       "      <td>NaN</td>\n",
       "      <td>NaN</td>\n",
       "      <td>NaN</td>\n",
       "    </tr>\n",
       "    <tr>\n",
       "      <th>...</th>\n",
       "      <td>...</td>\n",
       "      <td>...</td>\n",
       "      <td>...</td>\n",
       "      <td>...</td>\n",
       "      <td>...</td>\n",
       "      <td>...</td>\n",
       "      <td>...</td>\n",
       "      <td>...</td>\n",
       "      <td>...</td>\n",
       "      <td>...</td>\n",
       "      <td>...</td>\n",
       "      <td>...</td>\n",
       "      <td>...</td>\n",
       "      <td>...</td>\n",
       "      <td>...</td>\n",
       "      <td>...</td>\n",
       "      <td>...</td>\n",
       "      <td>...</td>\n",
       "      <td>...</td>\n",
       "      <td>...</td>\n",
       "      <td>...</td>\n",
       "    </tr>\n",
       "    <tr>\n",
       "      <th>18170</th>\n",
       "      <td>41.0</td>\n",
       "      <td>0.0</td>\n",
       "      <td>NaN</td>\n",
       "      <td>NaN</td>\n",
       "      <td>NaN</td>\n",
       "      <td>NaN</td>\n",
       "      <td>1.0</td>\n",
       "      <td>more than 1 million</td>\n",
       "      <td>NaN</td>\n",
       "      <td>NaN</td>\n",
       "      <td>...</td>\n",
       "      <td>NaN</td>\n",
       "      <td>NaN</td>\n",
       "      <td>NaN</td>\n",
       "      <td>NaN</td>\n",
       "      <td>NaN</td>\n",
       "      <td>NaN</td>\n",
       "      <td>NaN</td>\n",
       "      <td>never see</td>\n",
       "      <td>NaN</td>\n",
       "      <td>NaN</td>\n",
       "    </tr>\n",
       "    <tr>\n",
       "      <th>18171</th>\n",
       "      <td>31.0</td>\n",
       "      <td>0.0</td>\n",
       "      <td>NaN</td>\n",
       "      <td>NaN</td>\n",
       "      <td>NaN</td>\n",
       "      <td>NaN</td>\n",
       "      <td>1.0</td>\n",
       "      <td>more than 1 million</td>\n",
       "      <td>NaN</td>\n",
       "      <td>NaN</td>\n",
       "      <td>...</td>\n",
       "      <td>1.0</td>\n",
       "      <td>NaN</td>\n",
       "      <td>NaN</td>\n",
       "      <td>NaN</td>\n",
       "      <td>NaN</td>\n",
       "      <td>NaN</td>\n",
       "      <td>NaN</td>\n",
       "      <td>NaN</td>\n",
       "      <td>NaN</td>\n",
       "      <td>NaN</td>\n",
       "    </tr>\n",
       "    <tr>\n",
       "      <th>18172</th>\n",
       "      <td>39.0</td>\n",
       "      <td>0.0</td>\n",
       "      <td>NaN</td>\n",
       "      <td>NaN</td>\n",
       "      <td>NaN</td>\n",
       "      <td>NaN</td>\n",
       "      <td>3.0</td>\n",
       "      <td>more than 1 million</td>\n",
       "      <td>NaN</td>\n",
       "      <td>NaN</td>\n",
       "      <td>...</td>\n",
       "      <td>1.0</td>\n",
       "      <td>NaN</td>\n",
       "      <td>NaN</td>\n",
       "      <td>NaN</td>\n",
       "      <td>NaN</td>\n",
       "      <td>NaN</td>\n",
       "      <td>NaN</td>\n",
       "      <td>NaN</td>\n",
       "      <td>NaN</td>\n",
       "      <td>1.0</td>\n",
       "    </tr>\n",
       "    <tr>\n",
       "      <th>18173</th>\n",
       "      <td>54.0</td>\n",
       "      <td>0.0</td>\n",
       "      <td>NaN</td>\n",
       "      <td>NaN</td>\n",
       "      <td>NaN</td>\n",
       "      <td>NaN</td>\n",
       "      <td>3.0</td>\n",
       "      <td>between 100,000 and 1 million</td>\n",
       "      <td>NaN</td>\n",
       "      <td>NaN</td>\n",
       "      <td>...</td>\n",
       "      <td>1.0</td>\n",
       "      <td>NaN</td>\n",
       "      <td>NaN</td>\n",
       "      <td>1.0</td>\n",
       "      <td>NaN</td>\n",
       "      <td>NaN</td>\n",
       "      <td>1.0</td>\n",
       "      <td>NaN</td>\n",
       "      <td>NaN</td>\n",
       "      <td>NaN</td>\n",
       "    </tr>\n",
       "    <tr>\n",
       "      <th>18174</th>\n",
       "      <td>50.0</td>\n",
       "      <td>0.0</td>\n",
       "      <td>NaN</td>\n",
       "      <td>NaN</td>\n",
       "      <td>NaN</td>\n",
       "      <td>NaN</td>\n",
       "      <td>2.0</td>\n",
       "      <td>less than 100,000</td>\n",
       "      <td>NaN</td>\n",
       "      <td>NaN</td>\n",
       "      <td>...</td>\n",
       "      <td>NaN</td>\n",
       "      <td>NaN</td>\n",
       "      <td>NaN</td>\n",
       "      <td>NaN</td>\n",
       "      <td>NaN</td>\n",
       "      <td>NaN</td>\n",
       "      <td>NaN</td>\n",
       "      <td>NaN</td>\n",
       "      <td>NaN</td>\n",
       "      <td>NaN</td>\n",
       "    </tr>\n",
       "  </tbody>\n",
       "</table>\n",
       "<p>18175 rows × 136 columns</p>\n",
       "</div>"
      ],
      "text/plain": [
       "        Age  AttendedBootcamp  BootcampFinish  BootcampLoanYesNo BootcampName  \\\n",
       "0      27.0               0.0             NaN                NaN          NaN   \n",
       "1      34.0               0.0             NaN                NaN          NaN   \n",
       "2      21.0               0.0             NaN                NaN          NaN   \n",
       "3      26.0               0.0             NaN                NaN          NaN   \n",
       "4      20.0               0.0             NaN                NaN          NaN   \n",
       "...     ...               ...             ...                ...          ...   \n",
       "18170  41.0               0.0             NaN                NaN          NaN   \n",
       "18171  31.0               0.0             NaN                NaN          NaN   \n",
       "18172  39.0               0.0             NaN                NaN          NaN   \n",
       "18173  54.0               0.0             NaN                NaN          NaN   \n",
       "18174  50.0               0.0             NaN                NaN          NaN   \n",
       "\n",
       "       BootcampRecommend  ChildrenNumber                 CityPopulation  \\\n",
       "0                    NaN             NaN            more than 1 million   \n",
       "1                    NaN             NaN              less than 100,000   \n",
       "2                    NaN             NaN            more than 1 million   \n",
       "3                    NaN             NaN  between 100,000 and 1 million   \n",
       "4                    NaN             NaN  between 100,000 and 1 million   \n",
       "...                  ...             ...                            ...   \n",
       "18170                NaN             1.0            more than 1 million   \n",
       "18171                NaN             1.0            more than 1 million   \n",
       "18172                NaN             3.0            more than 1 million   \n",
       "18173                NaN             3.0  between 100,000 and 1 million   \n",
       "18174                NaN             2.0              less than 100,000   \n",
       "\n",
       "       CodeEventConferences  CodeEventDjangoGirls  ...  YouTubeFCC  \\\n",
       "0                       NaN                   NaN  ...         NaN   \n",
       "1                       NaN                   NaN  ...         1.0   \n",
       "2                       NaN                   NaN  ...         NaN   \n",
       "3                       NaN                   NaN  ...         1.0   \n",
       "4                       NaN                   NaN  ...         NaN   \n",
       "...                     ...                   ...  ...         ...   \n",
       "18170                   NaN                   NaN  ...         NaN   \n",
       "18171                   NaN                   NaN  ...         1.0   \n",
       "18172                   NaN                   NaN  ...         1.0   \n",
       "18173                   NaN                   NaN  ...         1.0   \n",
       "18174                   NaN                   NaN  ...         NaN   \n",
       "\n",
       "       YouTubeFunFunFunction  YouTubeGoogleDev  YouTubeLearnCode  \\\n",
       "0                        NaN               NaN               NaN   \n",
       "1                        NaN               NaN               NaN   \n",
       "2                        NaN               NaN               1.0   \n",
       "3                        1.0               NaN               NaN   \n",
       "4                        NaN               NaN               NaN   \n",
       "...                      ...               ...               ...   \n",
       "18170                    NaN               NaN               NaN   \n",
       "18171                    NaN               NaN               NaN   \n",
       "18172                    NaN               NaN               NaN   \n",
       "18173                    NaN               NaN               1.0   \n",
       "18174                    NaN               NaN               NaN   \n",
       "\n",
       "       YouTubeLevelUpTuts  YouTubeMIT  YouTubeMozillaHacks YouTubeOther  \\\n",
       "0                     NaN         NaN                  NaN          NaN   \n",
       "1                     NaN         NaN                  NaN          NaN   \n",
       "2                     1.0         NaN                  NaN          NaN   \n",
       "3                     1.0         NaN                  NaN          NaN   \n",
       "4                     NaN         NaN                  NaN          NaN   \n",
       "...                   ...         ...                  ...          ...   \n",
       "18170                 NaN         NaN                  NaN    never see   \n",
       "18171                 NaN         NaN                  NaN          NaN   \n",
       "18172                 NaN         NaN                  NaN          NaN   \n",
       "18173                 NaN         NaN                  1.0          NaN   \n",
       "18174                 NaN         NaN                  NaN          NaN   \n",
       "\n",
       "       YouTubeSimplilearn  YouTubeTheNewBoston  \n",
       "0                     NaN                  NaN  \n",
       "1                     NaN                  NaN  \n",
       "2                     NaN                  NaN  \n",
       "3                     NaN                  NaN  \n",
       "4                     NaN                  NaN  \n",
       "...                   ...                  ...  \n",
       "18170                 NaN                  NaN  \n",
       "18171                 NaN                  NaN  \n",
       "18172                 NaN                  1.0  \n",
       "18173                 NaN                  NaN  \n",
       "18174                 NaN                  NaN  \n",
       "\n",
       "[18175 rows x 136 columns]"
      ]
     },
     "execution_count": 10,
     "metadata": {},
     "output_type": "execute_result"
    }
   ],
   "source": [
    "df"
   ]
  },
  {
   "cell_type": "code",
   "execution_count": 7,
   "metadata": {},
   "outputs": [
    {
     "data": {
      "text/html": [
       "<div>\n",
       "<style scoped>\n",
       "    .dataframe tbody tr th:only-of-type {\n",
       "        vertical-align: middle;\n",
       "    }\n",
       "\n",
       "    .dataframe tbody tr th {\n",
       "        vertical-align: top;\n",
       "    }\n",
       "\n",
       "    .dataframe thead th {\n",
       "        text-align: right;\n",
       "    }\n",
       "</style>\n",
       "<table border=\"1\" class=\"dataframe\">\n",
       "  <thead>\n",
       "    <tr style=\"text-align: right;\">\n",
       "      <th></th>\n",
       "      <th>Age</th>\n",
       "      <th>AttendedBootcamp</th>\n",
       "      <th>BootcampFinish</th>\n",
       "      <th>BootcampLoanYesNo</th>\n",
       "      <th>BootcampRecommend</th>\n",
       "      <th>ChildrenNumber</th>\n",
       "      <th>CodeEventConferences</th>\n",
       "      <th>CodeEventDjangoGirls</th>\n",
       "      <th>CodeEventFCC</th>\n",
       "      <th>CodeEventGameJam</th>\n",
       "      <th>...</th>\n",
       "      <th>YouTubeEngineeredTruth</th>\n",
       "      <th>YouTubeFCC</th>\n",
       "      <th>YouTubeFunFunFunction</th>\n",
       "      <th>YouTubeGoogleDev</th>\n",
       "      <th>YouTubeLearnCode</th>\n",
       "      <th>YouTubeLevelUpTuts</th>\n",
       "      <th>YouTubeMIT</th>\n",
       "      <th>YouTubeMozillaHacks</th>\n",
       "      <th>YouTubeSimplilearn</th>\n",
       "      <th>YouTubeTheNewBoston</th>\n",
       "    </tr>\n",
       "  </thead>\n",
       "  <tbody>\n",
       "    <tr>\n",
       "      <th>count</th>\n",
       "      <td>15367.000000</td>\n",
       "      <td>17709.000000</td>\n",
       "      <td>1069.000000</td>\n",
       "      <td>1079.000000</td>\n",
       "      <td>1073.000000</td>\n",
       "      <td>2314.000000</td>\n",
       "      <td>1609.0</td>\n",
       "      <td>165.0</td>\n",
       "      <td>1708.0</td>\n",
       "      <td>290.0</td>\n",
       "      <td>...</td>\n",
       "      <td>993.0</td>\n",
       "      <td>6036.0</td>\n",
       "      <td>1261.0</td>\n",
       "      <td>3539.0</td>\n",
       "      <td>2662.0</td>\n",
       "      <td>1396.0</td>\n",
       "      <td>3327.0</td>\n",
       "      <td>622.0</td>\n",
       "      <td>201.0</td>\n",
       "      <td>2960.0</td>\n",
       "    </tr>\n",
       "    <tr>\n",
       "      <th>mean</th>\n",
       "      <td>27.691872</td>\n",
       "      <td>0.062002</td>\n",
       "      <td>0.699719</td>\n",
       "      <td>0.305839</td>\n",
       "      <td>0.818267</td>\n",
       "      <td>1.832325</td>\n",
       "      <td>1.0</td>\n",
       "      <td>1.0</td>\n",
       "      <td>1.0</td>\n",
       "      <td>1.0</td>\n",
       "      <td>...</td>\n",
       "      <td>1.0</td>\n",
       "      <td>1.0</td>\n",
       "      <td>1.0</td>\n",
       "      <td>1.0</td>\n",
       "      <td>1.0</td>\n",
       "      <td>1.0</td>\n",
       "      <td>1.0</td>\n",
       "      <td>1.0</td>\n",
       "      <td>1.0</td>\n",
       "      <td>1.0</td>\n",
       "    </tr>\n",
       "    <tr>\n",
       "      <th>std</th>\n",
       "      <td>8.559239</td>\n",
       "      <td>0.241167</td>\n",
       "      <td>0.458594</td>\n",
       "      <td>0.460975</td>\n",
       "      <td>0.385805</td>\n",
       "      <td>0.972813</td>\n",
       "      <td>0.0</td>\n",
       "      <td>0.0</td>\n",
       "      <td>0.0</td>\n",
       "      <td>0.0</td>\n",
       "      <td>...</td>\n",
       "      <td>0.0</td>\n",
       "      <td>0.0</td>\n",
       "      <td>0.0</td>\n",
       "      <td>0.0</td>\n",
       "      <td>0.0</td>\n",
       "      <td>0.0</td>\n",
       "      <td>0.0</td>\n",
       "      <td>0.0</td>\n",
       "      <td>0.0</td>\n",
       "      <td>0.0</td>\n",
       "    </tr>\n",
       "    <tr>\n",
       "      <th>min</th>\n",
       "      <td>0.000000</td>\n",
       "      <td>0.000000</td>\n",
       "      <td>0.000000</td>\n",
       "      <td>0.000000</td>\n",
       "      <td>0.000000</td>\n",
       "      <td>1.000000</td>\n",
       "      <td>1.0</td>\n",
       "      <td>1.0</td>\n",
       "      <td>1.0</td>\n",
       "      <td>1.0</td>\n",
       "      <td>...</td>\n",
       "      <td>1.0</td>\n",
       "      <td>1.0</td>\n",
       "      <td>1.0</td>\n",
       "      <td>1.0</td>\n",
       "      <td>1.0</td>\n",
       "      <td>1.0</td>\n",
       "      <td>1.0</td>\n",
       "      <td>1.0</td>\n",
       "      <td>1.0</td>\n",
       "      <td>1.0</td>\n",
       "    </tr>\n",
       "    <tr>\n",
       "      <th>25%</th>\n",
       "      <td>22.000000</td>\n",
       "      <td>0.000000</td>\n",
       "      <td>0.000000</td>\n",
       "      <td>0.000000</td>\n",
       "      <td>1.000000</td>\n",
       "      <td>1.000000</td>\n",
       "      <td>1.0</td>\n",
       "      <td>1.0</td>\n",
       "      <td>1.0</td>\n",
       "      <td>1.0</td>\n",
       "      <td>...</td>\n",
       "      <td>1.0</td>\n",
       "      <td>1.0</td>\n",
       "      <td>1.0</td>\n",
       "      <td>1.0</td>\n",
       "      <td>1.0</td>\n",
       "      <td>1.0</td>\n",
       "      <td>1.0</td>\n",
       "      <td>1.0</td>\n",
       "      <td>1.0</td>\n",
       "      <td>1.0</td>\n",
       "    </tr>\n",
       "    <tr>\n",
       "      <th>50%</th>\n",
       "      <td>26.000000</td>\n",
       "      <td>0.000000</td>\n",
       "      <td>1.000000</td>\n",
       "      <td>0.000000</td>\n",
       "      <td>1.000000</td>\n",
       "      <td>2.000000</td>\n",
       "      <td>1.0</td>\n",
       "      <td>1.0</td>\n",
       "      <td>1.0</td>\n",
       "      <td>1.0</td>\n",
       "      <td>...</td>\n",
       "      <td>1.0</td>\n",
       "      <td>1.0</td>\n",
       "      <td>1.0</td>\n",
       "      <td>1.0</td>\n",
       "      <td>1.0</td>\n",
       "      <td>1.0</td>\n",
       "      <td>1.0</td>\n",
       "      <td>1.0</td>\n",
       "      <td>1.0</td>\n",
       "      <td>1.0</td>\n",
       "    </tr>\n",
       "    <tr>\n",
       "      <th>75%</th>\n",
       "      <td>32.000000</td>\n",
       "      <td>0.000000</td>\n",
       "      <td>1.000000</td>\n",
       "      <td>1.000000</td>\n",
       "      <td>1.000000</td>\n",
       "      <td>2.000000</td>\n",
       "      <td>1.0</td>\n",
       "      <td>1.0</td>\n",
       "      <td>1.0</td>\n",
       "      <td>1.0</td>\n",
       "      <td>...</td>\n",
       "      <td>1.0</td>\n",
       "      <td>1.0</td>\n",
       "      <td>1.0</td>\n",
       "      <td>1.0</td>\n",
       "      <td>1.0</td>\n",
       "      <td>1.0</td>\n",
       "      <td>1.0</td>\n",
       "      <td>1.0</td>\n",
       "      <td>1.0</td>\n",
       "      <td>1.0</td>\n",
       "    </tr>\n",
       "    <tr>\n",
       "      <th>max</th>\n",
       "      <td>90.000000</td>\n",
       "      <td>1.000000</td>\n",
       "      <td>1.000000</td>\n",
       "      <td>1.000000</td>\n",
       "      <td>1.000000</td>\n",
       "      <td>9.000000</td>\n",
       "      <td>1.0</td>\n",
       "      <td>1.0</td>\n",
       "      <td>1.0</td>\n",
       "      <td>1.0</td>\n",
       "      <td>...</td>\n",
       "      <td>1.0</td>\n",
       "      <td>1.0</td>\n",
       "      <td>1.0</td>\n",
       "      <td>1.0</td>\n",
       "      <td>1.0</td>\n",
       "      <td>1.0</td>\n",
       "      <td>1.0</td>\n",
       "      <td>1.0</td>\n",
       "      <td>1.0</td>\n",
       "      <td>1.0</td>\n",
       "    </tr>\n",
       "  </tbody>\n",
       "</table>\n",
       "<p>8 rows × 105 columns</p>\n",
       "</div>"
      ],
      "text/plain": [
       "                Age  AttendedBootcamp  BootcampFinish  BootcampLoanYesNo  \\\n",
       "count  15367.000000      17709.000000     1069.000000        1079.000000   \n",
       "mean      27.691872          0.062002        0.699719           0.305839   \n",
       "std        8.559239          0.241167        0.458594           0.460975   \n",
       "min        0.000000          0.000000        0.000000           0.000000   \n",
       "25%       22.000000          0.000000        0.000000           0.000000   \n",
       "50%       26.000000          0.000000        1.000000           0.000000   \n",
       "75%       32.000000          0.000000        1.000000           1.000000   \n",
       "max       90.000000          1.000000        1.000000           1.000000   \n",
       "\n",
       "       BootcampRecommend  ChildrenNumber  CodeEventConferences  \\\n",
       "count        1073.000000     2314.000000                1609.0   \n",
       "mean            0.818267        1.832325                   1.0   \n",
       "std             0.385805        0.972813                   0.0   \n",
       "min             0.000000        1.000000                   1.0   \n",
       "25%             1.000000        1.000000                   1.0   \n",
       "50%             1.000000        2.000000                   1.0   \n",
       "75%             1.000000        2.000000                   1.0   \n",
       "max             1.000000        9.000000                   1.0   \n",
       "\n",
       "       CodeEventDjangoGirls  CodeEventFCC  CodeEventGameJam  ...  \\\n",
       "count                 165.0        1708.0             290.0  ...   \n",
       "mean                    1.0           1.0               1.0  ...   \n",
       "std                     0.0           0.0               0.0  ...   \n",
       "min                     1.0           1.0               1.0  ...   \n",
       "25%                     1.0           1.0               1.0  ...   \n",
       "50%                     1.0           1.0               1.0  ...   \n",
       "75%                     1.0           1.0               1.0  ...   \n",
       "max                     1.0           1.0               1.0  ...   \n",
       "\n",
       "       YouTubeEngineeredTruth  YouTubeFCC  YouTubeFunFunFunction  \\\n",
       "count                   993.0      6036.0                 1261.0   \n",
       "mean                      1.0         1.0                    1.0   \n",
       "std                       0.0         0.0                    0.0   \n",
       "min                       1.0         1.0                    1.0   \n",
       "25%                       1.0         1.0                    1.0   \n",
       "50%                       1.0         1.0                    1.0   \n",
       "75%                       1.0         1.0                    1.0   \n",
       "max                       1.0         1.0                    1.0   \n",
       "\n",
       "       YouTubeGoogleDev  YouTubeLearnCode  YouTubeLevelUpTuts  YouTubeMIT  \\\n",
       "count            3539.0            2662.0              1396.0      3327.0   \n",
       "mean                1.0               1.0                 1.0         1.0   \n",
       "std                 0.0               0.0                 0.0         0.0   \n",
       "min                 1.0               1.0                 1.0         1.0   \n",
       "25%                 1.0               1.0                 1.0         1.0   \n",
       "50%                 1.0               1.0                 1.0         1.0   \n",
       "75%                 1.0               1.0                 1.0         1.0   \n",
       "max                 1.0               1.0                 1.0         1.0   \n",
       "\n",
       "       YouTubeMozillaHacks  YouTubeSimplilearn  YouTubeTheNewBoston  \n",
       "count                622.0               201.0               2960.0  \n",
       "mean                   1.0                 1.0                  1.0  \n",
       "std                    0.0                 0.0                  0.0  \n",
       "min                    1.0                 1.0                  1.0  \n",
       "25%                    1.0                 1.0                  1.0  \n",
       "50%                    1.0                 1.0                  1.0  \n",
       "75%                    1.0                 1.0                  1.0  \n",
       "max                    1.0                 1.0                  1.0  \n",
       "\n",
       "[8 rows x 105 columns]"
      ]
     },
     "execution_count": 7,
     "metadata": {},
     "output_type": "execute_result"
    }
   ],
   "source": [
    "df.describe()"
   ]
  },
  {
   "cell_type": "code",
   "execution_count": 8,
   "metadata": {},
   "outputs": [
    {
     "name": "stdout",
     "output_type": "stream",
     "text": [
      "<class 'pandas.core.frame.DataFrame'>\n",
      "RangeIndex: 18175 entries, 0 to 18174\n",
      "Columns: 136 entries, Age to YouTubeTheNewBoston\n",
      "dtypes: float64(105), object(31)\n",
      "memory usage: 18.9+ MB\n"
     ]
    }
   ],
   "source": [
    "df.info()"
   ]
  },
  {
   "cell_type": "code",
   "execution_count": 9,
   "metadata": {},
   "outputs": [
    {
     "data": {
      "text/plain": [
       "Age                     2808\n",
       "AttendedBootcamp         466\n",
       "BootcampFinish         17106\n",
       "BootcampLoanYesNo      17096\n",
       "BootcampName           17226\n",
       "                       ...  \n",
       "YouTubeMIT             14848\n",
       "YouTubeMozillaHacks    17553\n",
       "YouTubeOther           16961\n",
       "YouTubeSimplilearn     17974\n",
       "YouTubeTheNewBoston    15215\n",
       "Length: 136, dtype: int64"
      ]
     },
     "execution_count": 9,
     "metadata": {},
     "output_type": "execute_result"
    }
   ],
   "source": [
    "df.isna().sum()"
   ]
  },
  {
   "cell_type": "code",
   "execution_count": 12,
   "metadata": {},
   "outputs": [
    {
     "data": {
      "text/plain": [
       "Age                    15.45\n",
       "AttendedBootcamp        2.56\n",
       "BootcampFinish         94.12\n",
       "BootcampLoanYesNo      94.06\n",
       "BootcampName           94.78\n",
       "                       ...  \n",
       "YouTubeMIT             81.69\n",
       "YouTubeMozillaHacks    96.58\n",
       "YouTubeOther           93.32\n",
       "YouTubeSimplilearn     98.89\n",
       "YouTubeTheNewBoston    83.71\n",
       "Length: 136, dtype: float64"
      ]
     },
     "execution_count": 12,
     "metadata": {},
     "output_type": "execute_result"
    }
   ],
   "source": [
    "round(df.isnull().sum()*100 / len(df), 2)"
   ]
  },
  {
   "cell_type": "code",
   "execution_count": 13,
   "metadata": {},
   "outputs": [
    {
     "data": {
      "text/plain": [
       "136"
      ]
     },
     "execution_count": 13,
     "metadata": {},
     "output_type": "execute_result"
    }
   ],
   "source": [
    "len(df.isna().sum() > 0)"
   ]
  },
  {
   "cell_type": "code",
   "execution_count": 18,
   "metadata": {},
   "outputs": [
    {
     "data": {
      "text/plain": [
       "132"
      ]
     },
     "execution_count": 18,
     "metadata": {},
     "output_type": "execute_result"
    }
   ],
   "source": [
    "aux = df.isna().sum()\n",
    "len(aux[df.isna().sum().values > 0])"
   ]
  },
  {
   "cell_type": "markdown",
   "metadata": {},
   "source": [
    "From the previos analysis were made different observations. The dataset is formed by **18175 entries** (rows) and **136 features** (columns). It seems that **132** of **136**  columns contain **null** values, but what may difficult our analysis scope is that there are columns which have more than **90%** of null values.\n",
    "\n",
    "We don't have any clear documentation describing each column, affortunately most column names are rather self-explanatory, and also the raw-data folder of the dataset repository contains the initial survey questions. From this information, we can conclude that the predominant majority of columns don't represent any interest for our analysis goal because of:\n",
    "<ul>\n",
    "    <li><b>Irrelevance:</b> Columns like HasServedInMilitary, CityPopulation, IsEthnicMinority..etc. Are irrelevant for our analysis scope.</li>\n",
    "    <li><b>Refferring to previous additional learning resources</b> Columns like Podcast..., CodeEvent..., Resource..., YouTube...etc. Which is rather relative, since one source can be extremely helpful for one person while totally useless for another.</li>\n",
    "</ul>  \n",
    "\n",
    "We conclude that the relevant columns for our analysis goal are: \n",
    "<ul>\n",
    "    <li>Age</li>\n",
    "    <li>AttendedBootcamp</li>\n",
    "    <li>CountryCitizen</li>\n",
    "    <li>CountryLive</li>\n",
    "    <li>EmploymentField</li>\n",
    "    <li>EmploymentStatus</li>\n",
    "    <li>Gender</li>\n",
    "    <li>HasChildren</li>\n",
    "    <li>HasDebt</li>\n",
    "    <li>HasFinancialDependents</li>\n",
    "    <li>HasHomeMortgage</li>\n",
    "    <li>HasStudentDebt</li>\n",
    "    <li>HoursLearning</li>\n",
    "    <li>Income</li>\n",
    "    <li>JobRoleInterest</li>\n",
    "    <li>MaritalStatus</li>\n",
    "    <li>MoneyForLearning</li>\n",
    "    <li>MonthsProgramming</li>\n",
    "    <li>SchoolDegree</li>\n",
    "    <li>SchoolMajor</li>      \n",
    "</ul>"
   ]
  },
  {
   "cell_type": "code",
   "execution_count": 19,
   "metadata": {},
   "outputs": [],
   "source": [
    "df = df[['Age', 'AttendedBootcamp', 'CountryCitizen', 'CountryLive', \n",
    "         'EmploymentField', 'EmploymentStatus', 'Gender', 'HasChildren', \n",
    "         'HasDebt', 'HasFinancialDependents', 'HasHomeMortgage', \n",
    "         'HasStudentDebt', 'HoursLearning', 'Income', 'JobRoleInterest',\n",
    "         'MaritalStatus', 'MoneyForLearning', 'MonthsProgramming', \n",
    "         'SchoolDegree', 'SchoolMajor']]"
   ]
  },
  {
   "cell_type": "code",
   "execution_count": 20,
   "metadata": {},
   "outputs": [
    {
     "data": {
      "text/plain": [
       "Age                       15.45\n",
       "AttendedBootcamp           2.56\n",
       "CountryCitizen            15.37\n",
       "CountryLive               15.62\n",
       "EmploymentField           55.35\n",
       "EmploymentStatus          21.07\n",
       "Gender                    14.97\n",
       "HasChildren               78.77\n",
       "HasDebt                   15.87\n",
       "HasFinancialDependents    15.66\n",
       "HasHomeMortgage           64.80\n",
       "HasStudentDebt            64.78\n",
       "HoursLearning              8.04\n",
       "Income                    58.06\n",
       "JobRoleInterest           61.53\n",
       "MaritalStatus             15.63\n",
       "MoneyForLearning           8.79\n",
       "MonthsProgramming          6.00\n",
       "SchoolDegree              15.44\n",
       "SchoolMajor               51.98\n",
       "dtype: float64"
      ]
     },
     "execution_count": 20,
     "metadata": {},
     "output_type": "execute_result"
    }
   ],
   "source": [
    "round(df.isnull().sum()*100 / len(df), 2)"
   ]
  },
  {
   "cell_type": "code",
   "execution_count": 36,
   "metadata": {},
   "outputs": [
    {
     "data": {
      "image/png": "[encoded data removed]",
      "text/plain": [
       "<Figure size 1440x720 with 1 Axes>"
      ]
     },
     "metadata": {},
     "output_type": "display_data"
    }
   ],
   "source": [
    "plt.style.use('fivethirtyeight')\n",
    "plt.figure(figsize=(20, 10))\n",
    "sns.heatmap(df.isnull(), cbar=False, yticklabels=False);\n",
    "plt.show()"
   ]
  },
  {
   "cell_type": "markdown",
   "metadata": {},
   "source": [
    "From the previous chart we can conclude that the reduced dataset still having missing values for different columns like: **EmploymentField, HasChildren, HasHomeMortgage, HasStudentDebt, Income, JobRoleInterest, SchoolMajor** where the percentage of the missing values is bigger tha **50%**."
   ]
  },
  {
   "cell_type": "markdown",
   "metadata": {},
   "source": [
    "# Sample Representativity"
   ]
  },
  {
   "cell_type": "markdown",
   "metadata": {},
   "source": [
    "Most of the courses that the company offers are on web and mobile development, but we also cover many other domains, like data science, game development, etc. For the purpose of our analysis, we want to answer questions about a population of new coders that are interested in the subjects we teach. We'd like to know:\n",
    "<ul>\n",
    "    <li>Where are these new coders located?</li>\n",
    "    <li>What are the locations with the greatest number of new coders?</li>\n",
    "    <li>How much money new coders are willing to spend on learning?</li>\n",
    "</ul>"
   ]
  },
  {
   "cell_type": "markdown",
   "metadata": {},
   "source": [
    "First, let's figure out whether the sample we have is representative for our population of interest. **JobRoleInterest** contains the role or roles that each respondet is interested in. "
   ]
  },
  {
   "cell_type": "code",
   "execution_count": 37,
   "metadata": {},
   "outputs": [
    {
     "data": {
      "text/plain": [
       "0                                                      NaN\n",
       "1                                 Full-Stack Web Developer\n",
       "2          Front-End Web Developer, Back-End Web Develo...\n",
       "3          Front-End Web Developer, Full-Stack Web Deve...\n",
       "4        Full-Stack Web Developer, Information Security...\n",
       "                               ...                        \n",
       "18170                                                  NaN\n",
       "18171      DevOps / SysAdmin,   Mobile Developer,   Pro...\n",
       "18172                                                  NaN\n",
       "18173                                                  NaN\n",
       "18174    Back-End Web Developer, Data Engineer,   Data ...\n",
       "Name: JobRoleInterest, Length: 18175, dtype: object"
      ]
     },
     "execution_count": 37,
     "metadata": {},
     "output_type": "execute_result"
    }
   ],
   "source": [
    "df[\"JobRoleInterest\"]"
   ]
  },
  {
   "cell_type": "code",
   "execution_count": 38,
   "metadata": {},
   "outputs": [
    {
     "data": {
      "text/plain": [
       "Full-Stack Web Developer                                                                                                                                      11.770595\n",
       "  Front-End Web Developer                                                                                                                                      6.435927\n",
       "  Data Scientist                                                                                                                                               2.173913\n",
       "Back-End Web Developer                                                                                                                                         2.030892\n",
       "  Mobile Developer                                                                                                                                             1.673341\n",
       "                                                                                                                                                                ...    \n",
       "  Mobile Developer, Full-Stack Web Developer, Back-End Web Developer,   Front-End Web Developer, Game Developer                                                0.014302\n",
       "Full-Stack Web Developer, Back-End Web Developer, Data Engineer,   Data Scientist                                                                              0.014302\n",
       "  Front-End Web Developer,   DevOps / SysAdmin, Information Security, Game Developer, Back-End Web Developer, Full-Stack Web Developer,   Mobile Developer     0.014302\n",
       "Data Engineer,   Front-End Web Developer, Game Developer                                                                                                       0.014302\n",
       "Full-Stack Web Developer, Game Developer,   Product Manager, Data Engineer,   Data Scientist                                                                   0.014302\n",
       "Name: JobRoleInterest, Length: 3213, dtype: float64"
      ]
     },
     "execution_count": 38,
     "metadata": {},
     "output_type": "execute_result"
    }
   ],
   "source": [
    "df[\"JobRoleInterest\"].value_counts(normalize=True)*100"
   ]
  },
  {
   "cell_type": "markdown",
   "metadata": {},
   "source": [
    "From a first glance, we can see that most people are interested in a web related job like Full-Stack, Front-End and Backen-End.\n",
    "We can observe that people are also interested in several job roles. Let's analyze deeper this percentages:"
   ]
  },
  {
   "cell_type": "code",
   "execution_count": 42,
   "metadata": {},
   "outputs": [
    {
     "data": {
      "text/plain": [
       "True     4779\n",
       "False    2213\n",
       "Name: SeveralRoles, dtype: int64"
      ]
     },
     "execution_count": 42,
     "metadata": {},
     "output_type": "execute_result"
    }
   ],
   "source": [
    "roles_df = df.dropna(subset=[\"JobRoleInterest\"]).copy()\n",
    "roles_df[\"JobRoleInterest\"] = roles_df[\"JobRoleInterest\"].str.split(',')\n",
    "roles_df[\"SeveralRoles\"] = roles_df[\"JobRoleInterest\"].apply(lambda x: True if len(x) > 1 else False)\n",
    "roles_df[\"SeveralRoles\"].value_counts(dropna=False)"
   ]
  },
  {
   "cell_type": "code",
   "execution_count": 44,
   "metadata": {},
   "outputs": [
    {
     "data": {
      "text/plain": [
       "True     68.35\n",
       "False    31.65\n",
       "Name: SeveralRoles, dtype: float64"
      ]
     },
     "execution_count": 44,
     "metadata": {},
     "output_type": "execute_result"
    }
   ],
   "source": [
    "round(roles_df[\"SeveralRoles\"].value_counts(normalize=True) * 100, 2)"
   ]
  },
  {
   "cell_type": "code",
   "execution_count": 79,
   "metadata": {},
   "outputs": [],
   "source": [
    "def plot_horizontal_bar(series, title, xlabel, ytlabels):\n",
    "    '''Creating a horizontal bar plot for a Series'''\n",
    "    fig, ax = plt.subplots(figsize=(20,10))\n",
    "    series.sort_index().plot.barh(color='tab:blue')\n",
    "    ax.set_title(title, y = 1.07)\n",
    "    ax.set_xlabel(xlabel, fontsize=19)\n",
    "    plt.tick_params(axis = 'both', which = 'major', labelsize = 18)\n",
    "    ax.set_yticklabels(ytlabels)\n",
    "    for side in ['top', 'right', 'left']:\n",
    "        ax.spines[side].set_visible(False)\n",
    "    # Generate a bolded horizontal line at y = 0\n",
    "    plt.axvline(x = 0, color = 'black', linewidth = 1.3, alpha = .7)\n",
    "    # The signature bar\n",
    "    plt.text(x = -4.1, y = -0.75,\n",
    "             s = ' ©Radu Spaimoc                                                                                                                                                                                                                                             Source: www.https://github.com/freeCodeCamp/',\n",
    "             fontsize = 14,\n",
    "             color = '#f0f0f0',\n",
    "             backgroundcolor = 'grey')\n",
    "    plt.show()  "
   ]
  },
  {
   "cell_type": "code",
   "execution_count": 80,
   "metadata": {},
   "outputs": [
    {
     "data": {
      "image/png": "[encoded data removed]",
      "text/plain": [
       "<Figure size 1440x720 with 1 Axes>"
      ]
     },
     "metadata": {},
     "output_type": "display_data"
    }
   ],
   "source": [
    "plot_horizontal_bar(round(roles_df[\"SeveralRoles\"].value_counts(normalize=True) * 100, 2), \n",
    "                    title='Learners jobs interests',\n",
    "                    xlabel='%',\n",
    "                    ytlabels=['One', 'Several'])"
   ]
  },
  {
   "cell_type": "markdown",
   "metadata": {},
   "source": [
    "As it's shown in the previous chart **68.35%** of the learners are interested in more than one role job. This tendency is an advantage for the e-learning company that offers different courses, if the student is satisfyied with the received service may complete several courses."
   ]
  },
  {
   "cell_type": "markdown",
   "metadata": {},
   "source": [
    "The company's focus is on web and mobile development courses. Let's check how many people are interested in at least one of these two subjects:"
   ]
  },
  {
   "cell_type": "code",
   "execution_count": null,
   "metadata": {},
   "outputs": [],
   "source": []
  }
 ],
 "metadata": {
  "kernelspec": {
   "display_name": "Python 3",
   "language": "python",
   "name": "python3"
  },
  "language_info": {
   "codemirror_mode": {
    "name": "ipython",
    "version": 3
   },
   "file_extension": ".py",
   "mimetype": "text/x-python",
   "name": "python",
   "nbconvert_exporter": "python",
   "pygments_lexer": "ipython3",
   "version": "3.8.3"
  }
 },
 "nbformat": 4,
 "nbformat_minor": 4
}
