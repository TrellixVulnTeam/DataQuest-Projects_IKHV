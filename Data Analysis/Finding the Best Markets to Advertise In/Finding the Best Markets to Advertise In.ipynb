{
 "cells": [
  {
   "cell_type": "markdown",
   "metadata": {},
   "source": [
    "# Finding the 2 Best Markets to Advertise in an E-Learning Product"
   ]
  },
  {
   "cell_type": "markdown",
   "metadata": {},
   "source": [
    "### Introduction\n",
    "We're working for an e-learning company that offers courses in programming. Most of our courses are on the web and mobile development, but we also cover many other domains, like data science, game development, etc. We want to promote our product and we'd like to invest some money in advertisement. **Our goal in this project is to find out the two best markets to advertise our product in.**"
   ]
  },
  {
   "cell_type": "markdown",
   "metadata": {},
   "source": [
    "To identify the best markets to promote the courses, following becomes pre-requisite information about the potential learners, for the E-Learning company:\n",
    "<ul>\n",
    "    <li>What people actually want to study - most preferred courses/ roles?</li>\n",
    "    <li>What is the economic investment range - how much money, learners are willing to invest in online education?</li>\n",
    "    <li>Investments in terms of time - the duration of time learners would like to spend in courses.</li>\n",
    "    <li>Demographic information such as their current residence, current employment status and its type, educational qualifications etc.</li>\n",
    "</ul>\n",
    "\n",
    "\n",
    "### Analyzed Dataset\n",
    "The above and related information was collected by the E-Learning platform <a href=\"https://www.freecodecamp.org/\">freeCodeCamp</a> in a survey, they conducted in 2017. Since the freeCodeCamp runs a <a href=\"https://www.freecodecamp.org/news/\">popular Medium Publication</a> with over 400,000 followers, they received responses from coders/learners with diversified interests and not just web development. They made the results as well as the data of this survey available under free distribution license.\n",
    "\n",
    "The e-learning company intends to utilize this survey data, instead of conducting a new one - for both economic reasons and also the variety of responses available in the dataset. The dataset is freely available <a href=\"https://github.com/freeCodeCamp/2017-new-coder-survey\">github/freeCodeCamp</a> ."
   ]
  },
  {
   "cell_type": "markdown",
   "metadata": {},
   "source": [
    "### Results Summary"
   ]
  },
  {
   "cell_type": "markdown",
   "metadata": {},
   "source": [
    "After analyzing the survey data from new coders to find the best two markets to advertise in. The solid conclusion reached is that the first market was the E-learning (offering a service of 59 dollars per month) company should advertise in is the United States of America where learners are willing to pay an approximate amount of $143 per month.\n",
    "\n",
    "For the second-best market, it wasn't clear-cut what to choose between India and Canada. We decided to send the results of the analysis to the marketing team and collaborate. Their domain knowledge can help the company too to make the best decision."
   ]
  },
  {
   "cell_type": "markdown",
   "metadata": {},
   "source": [
    "# Importing Libraries"
   ]
  },
  {
   "cell_type": "code",
   "execution_count": 1,
   "metadata": {},
   "outputs": [],
   "source": [
    "import numpy as np\n",
    "import pandas as pd\n",
    "import seaborn as sns\n",
    "import matplotlib.pyplot as plt"
   ]
  },
  {
   "cell_type": "markdown",
   "metadata": {},
   "source": [
    "# Functions"
   ]
  },
  {
   "cell_type": "code",
   "execution_count": 2,
   "metadata": {},
   "outputs": [],
   "source": [
    "def plot_horizontal_bar(series, title, xlabel, ytlabels, sigbar_x=-4.1):    \n",
    "    fig, ax = plt.subplots(figsize=(20,10))\n",
    "    series.sort_index().plot.barh(color='tab:blue')\n",
    "    ax.set_title(title, y = 1.07)\n",
    "    ax.set_xlabel(xlabel, fontsize=19)\n",
    "    plt.tick_params(axis = 'both', which = 'major', labelsize = 18)\n",
    "    ax.set_yticklabels(ytlabels)\n",
    "    for side in ['top', 'right', 'left']:\n",
    "        ax.spines[side].set_visible(False)\n",
    "    # Generate a bolded horizontal line at y = 0\n",
    "    plt.axvline(x = 0, color = 'black', linewidth = 1.3, alpha = .7)\n",
    "    # The signature bar\n",
    "    plt.text(x = sigbar_x, y = -0.75,\n",
    "             s = ' ©Radu Spaimoc                                                                                                                                                                                                                                             Source: www.https://github.com/freeCodeCamp/',\n",
    "             fontsize = 14,\n",
    "             color = '#f0f0f0',\n",
    "             backgroundcolor = 'grey')\n",
    "    plt.show()  "
   ]
  },
  {
   "cell_type": "code",
   "execution_count": 3,
   "metadata": {},
   "outputs": [],
   "source": [
    "def steam_plot(series, title, x_max, sigbar_x=-4.1):    \n",
    "    fig, ax = plt.subplots(figsize=(20,10))\n",
    "    ax.hlines(y=series.index, \n",
    "              xmin=0, xmax=series, \n",
    "              color='tab:blue', \n",
    "              linewidth=5)\n",
    "    ax.plot(series, \n",
    "            series.index, \n",
    "            'o', \n",
    "            markersize=10,\n",
    "            c='tab:blue',\n",
    "           )\n",
    "    ax.set_title(title,  y = 1.07)\n",
    "    ax.set_xlim(0,x_max)\n",
    "    ax.tick_params(axis='both', labelsize=16, left=False)\n",
    "    for side in ['top', 'right']:\n",
    "        ax.spines[side].set_visible(False)\n",
    "        \n",
    "    # Generate a bolded horizontal line at y = 0\n",
    "    plt.axvline(x = 0, color = 'black', linewidth = 6,)\n",
    "    # The signature bar\n",
    "    plt.text(x = sigbar_x, y = -0.75,\n",
    "             s = ' ©Radu Spaimoc                                                                                                                                                                                                                                             Source: www.https://github.com/freeCodeCamp/',\n",
    "             fontsize = 14,\n",
    "             color = '#f0f0f0',\n",
    "             backgroundcolor = 'grey')\n",
    "    plt.show()  "
   ]
  },
  {
   "cell_type": "code",
   "execution_count": 4,
   "metadata": {},
   "outputs": [],
   "source": [
    "def create_box_plot(y, x, roles_df, sigbar_x=-17500):\n",
    "    fig, ax = plt.subplots(nrows = 1, ncols = 1, figsize = (20, 10))\n",
    "    sns.boxplot(ax=ax, y=y, data = roles_df, x=x)\n",
    "    ax.set_ylabel(\"\") \n",
    "    ax.set_xlabel(\"$ Invested / Month\", fontsize = \"large\")\n",
    "    ax.set_title(\"Dispersion of Investment\", fontsize = \"x-large\")\n",
    "    # Generate a bolded horizontal line at y = 0\n",
    "    plt.axvline(x = 0, color = 'black', linewidth = 1,)\n",
    "    # The signature bar\n",
    "    plt.text(x = sigbar_x, y = -0.75,\n",
    "             s = ' ©Radu Spaimoc                                                                                                                                                                                                                                             Source: www.https://github.com/freeCodeCamp/',\n",
    "             fontsize = 14,\n",
    "             color = '#f0f0f0',\n",
    "             backgroundcolor = 'grey')\n",
    "    plt.show()  "
   ]
  },
  {
   "cell_type": "markdown",
   "metadata": {},
   "source": [
    "# Reading the Data"
   ]
  },
  {
   "cell_type": "code",
   "execution_count": 5,
   "metadata": {},
   "outputs": [],
   "source": [
    "df = pd.read_csv('2017-fCC-New-Coders-Survey-Data.csv', low_memory=False)"
   ]
  },
  {
   "cell_type": "code",
   "execution_count": 6,
   "metadata": {},
   "outputs": [
    {
     "data": {
      "text/html": [
       "<div>\n",
       "<style scoped>\n",
       "    .dataframe tbody tr th:only-of-type {\n",
       "        vertical-align: middle;\n",
       "    }\n",
       "\n",
       "    .dataframe tbody tr th {\n",
       "        vertical-align: top;\n",
       "    }\n",
       "\n",
       "    .dataframe thead th {\n",
       "        text-align: right;\n",
       "    }\n",
       "</style>\n",
       "<table border=\"1\" class=\"dataframe\">\n",
       "  <thead>\n",
       "    <tr style=\"text-align: right;\">\n",
       "      <th></th>\n",
       "      <th>Age</th>\n",
       "      <th>AttendedBootcamp</th>\n",
       "      <th>BootcampFinish</th>\n",
       "      <th>BootcampLoanYesNo</th>\n",
       "      <th>BootcampName</th>\n",
       "      <th>BootcampRecommend</th>\n",
       "      <th>ChildrenNumber</th>\n",
       "      <th>CityPopulation</th>\n",
       "      <th>CodeEventConferences</th>\n",
       "      <th>CodeEventDjangoGirls</th>\n",
       "      <th>...</th>\n",
       "      <th>YouTubeFCC</th>\n",
       "      <th>YouTubeFunFunFunction</th>\n",
       "      <th>YouTubeGoogleDev</th>\n",
       "      <th>YouTubeLearnCode</th>\n",
       "      <th>YouTubeLevelUpTuts</th>\n",
       "      <th>YouTubeMIT</th>\n",
       "      <th>YouTubeMozillaHacks</th>\n",
       "      <th>YouTubeOther</th>\n",
       "      <th>YouTubeSimplilearn</th>\n",
       "      <th>YouTubeTheNewBoston</th>\n",
       "    </tr>\n",
       "  </thead>\n",
       "  <tbody>\n",
       "    <tr>\n",
       "      <th>0</th>\n",
       "      <td>27.0</td>\n",
       "      <td>0.0</td>\n",
       "      <td>NaN</td>\n",
       "      <td>NaN</td>\n",
       "      <td>NaN</td>\n",
       "      <td>NaN</td>\n",
       "      <td>NaN</td>\n",
       "      <td>more than 1 million</td>\n",
       "      <td>NaN</td>\n",
       "      <td>NaN</td>\n",
       "      <td>...</td>\n",
       "      <td>NaN</td>\n",
       "      <td>NaN</td>\n",
       "      <td>NaN</td>\n",
       "      <td>NaN</td>\n",
       "      <td>NaN</td>\n",
       "      <td>NaN</td>\n",
       "      <td>NaN</td>\n",
       "      <td>NaN</td>\n",
       "      <td>NaN</td>\n",
       "      <td>NaN</td>\n",
       "    </tr>\n",
       "    <tr>\n",
       "      <th>1</th>\n",
       "      <td>34.0</td>\n",
       "      <td>0.0</td>\n",
       "      <td>NaN</td>\n",
       "      <td>NaN</td>\n",
       "      <td>NaN</td>\n",
       "      <td>NaN</td>\n",
       "      <td>NaN</td>\n",
       "      <td>less than 100,000</td>\n",
       "      <td>NaN</td>\n",
       "      <td>NaN</td>\n",
       "      <td>...</td>\n",
       "      <td>1.0</td>\n",
       "      <td>NaN</td>\n",
       "      <td>NaN</td>\n",
       "      <td>NaN</td>\n",
       "      <td>NaN</td>\n",
       "      <td>NaN</td>\n",
       "      <td>NaN</td>\n",
       "      <td>NaN</td>\n",
       "      <td>NaN</td>\n",
       "      <td>NaN</td>\n",
       "    </tr>\n",
       "    <tr>\n",
       "      <th>2</th>\n",
       "      <td>21.0</td>\n",
       "      <td>0.0</td>\n",
       "      <td>NaN</td>\n",
       "      <td>NaN</td>\n",
       "      <td>NaN</td>\n",
       "      <td>NaN</td>\n",
       "      <td>NaN</td>\n",
       "      <td>more than 1 million</td>\n",
       "      <td>NaN</td>\n",
       "      <td>NaN</td>\n",
       "      <td>...</td>\n",
       "      <td>NaN</td>\n",
       "      <td>NaN</td>\n",
       "      <td>NaN</td>\n",
       "      <td>1.0</td>\n",
       "      <td>1.0</td>\n",
       "      <td>NaN</td>\n",
       "      <td>NaN</td>\n",
       "      <td>NaN</td>\n",
       "      <td>NaN</td>\n",
       "      <td>NaN</td>\n",
       "    </tr>\n",
       "    <tr>\n",
       "      <th>3</th>\n",
       "      <td>26.0</td>\n",
       "      <td>0.0</td>\n",
       "      <td>NaN</td>\n",
       "      <td>NaN</td>\n",
       "      <td>NaN</td>\n",
       "      <td>NaN</td>\n",
       "      <td>NaN</td>\n",
       "      <td>between 100,000 and 1 million</td>\n",
       "      <td>NaN</td>\n",
       "      <td>NaN</td>\n",
       "      <td>...</td>\n",
       "      <td>1.0</td>\n",
       "      <td>1.0</td>\n",
       "      <td>NaN</td>\n",
       "      <td>NaN</td>\n",
       "      <td>1.0</td>\n",
       "      <td>NaN</td>\n",
       "      <td>NaN</td>\n",
       "      <td>NaN</td>\n",
       "      <td>NaN</td>\n",
       "      <td>NaN</td>\n",
       "    </tr>\n",
       "    <tr>\n",
       "      <th>4</th>\n",
       "      <td>20.0</td>\n",
       "      <td>0.0</td>\n",
       "      <td>NaN</td>\n",
       "      <td>NaN</td>\n",
       "      <td>NaN</td>\n",
       "      <td>NaN</td>\n",
       "      <td>NaN</td>\n",
       "      <td>between 100,000 and 1 million</td>\n",
       "      <td>NaN</td>\n",
       "      <td>NaN</td>\n",
       "      <td>...</td>\n",
       "      <td>NaN</td>\n",
       "      <td>NaN</td>\n",
       "      <td>NaN</td>\n",
       "      <td>NaN</td>\n",
       "      <td>NaN</td>\n",
       "      <td>NaN</td>\n",
       "      <td>NaN</td>\n",
       "      <td>NaN</td>\n",
       "      <td>NaN</td>\n",
       "      <td>NaN</td>\n",
       "    </tr>\n",
       "    <tr>\n",
       "      <th>...</th>\n",
       "      <td>...</td>\n",
       "      <td>...</td>\n",
       "      <td>...</td>\n",
       "      <td>...</td>\n",
       "      <td>...</td>\n",
       "      <td>...</td>\n",
       "      <td>...</td>\n",
       "      <td>...</td>\n",
       "      <td>...</td>\n",
       "      <td>...</td>\n",
       "      <td>...</td>\n",
       "      <td>...</td>\n",
       "      <td>...</td>\n",
       "      <td>...</td>\n",
       "      <td>...</td>\n",
       "      <td>...</td>\n",
       "      <td>...</td>\n",
       "      <td>...</td>\n",
       "      <td>...</td>\n",
       "      <td>...</td>\n",
       "      <td>...</td>\n",
       "    </tr>\n",
       "    <tr>\n",
       "      <th>18170</th>\n",
       "      <td>41.0</td>\n",
       "      <td>0.0</td>\n",
       "      <td>NaN</td>\n",
       "      <td>NaN</td>\n",
       "      <td>NaN</td>\n",
       "      <td>NaN</td>\n",
       "      <td>1.0</td>\n",
       "      <td>more than 1 million</td>\n",
       "      <td>NaN</td>\n",
       "      <td>NaN</td>\n",
       "      <td>...</td>\n",
       "      <td>NaN</td>\n",
       "      <td>NaN</td>\n",
       "      <td>NaN</td>\n",
       "      <td>NaN</td>\n",
       "      <td>NaN</td>\n",
       "      <td>NaN</td>\n",
       "      <td>NaN</td>\n",
       "      <td>never see</td>\n",
       "      <td>NaN</td>\n",
       "      <td>NaN</td>\n",
       "    </tr>\n",
       "    <tr>\n",
       "      <th>18171</th>\n",
       "      <td>31.0</td>\n",
       "      <td>0.0</td>\n",
       "      <td>NaN</td>\n",
       "      <td>NaN</td>\n",
       "      <td>NaN</td>\n",
       "      <td>NaN</td>\n",
       "      <td>1.0</td>\n",
       "      <td>more than 1 million</td>\n",
       "      <td>NaN</td>\n",
       "      <td>NaN</td>\n",
       "      <td>...</td>\n",
       "      <td>1.0</td>\n",
       "      <td>NaN</td>\n",
       "      <td>NaN</td>\n",
       "      <td>NaN</td>\n",
       "      <td>NaN</td>\n",
       "      <td>NaN</td>\n",
       "      <td>NaN</td>\n",
       "      <td>NaN</td>\n",
       "      <td>NaN</td>\n",
       "      <td>NaN</td>\n",
       "    </tr>\n",
       "    <tr>\n",
       "      <th>18172</th>\n",
       "      <td>39.0</td>\n",
       "      <td>0.0</td>\n",
       "      <td>NaN</td>\n",
       "      <td>NaN</td>\n",
       "      <td>NaN</td>\n",
       "      <td>NaN</td>\n",
       "      <td>3.0</td>\n",
       "      <td>more than 1 million</td>\n",
       "      <td>NaN</td>\n",
       "      <td>NaN</td>\n",
       "      <td>...</td>\n",
       "      <td>1.0</td>\n",
       "      <td>NaN</td>\n",
       "      <td>NaN</td>\n",
       "      <td>NaN</td>\n",
       "      <td>NaN</td>\n",
       "      <td>NaN</td>\n",
       "      <td>NaN</td>\n",
       "      <td>NaN</td>\n",
       "      <td>NaN</td>\n",
       "      <td>1.0</td>\n",
       "    </tr>\n",
       "    <tr>\n",
       "      <th>18173</th>\n",
       "      <td>54.0</td>\n",
       "      <td>0.0</td>\n",
       "      <td>NaN</td>\n",
       "      <td>NaN</td>\n",
       "      <td>NaN</td>\n",
       "      <td>NaN</td>\n",
       "      <td>3.0</td>\n",
       "      <td>between 100,000 and 1 million</td>\n",
       "      <td>NaN</td>\n",
       "      <td>NaN</td>\n",
       "      <td>...</td>\n",
       "      <td>1.0</td>\n",
       "      <td>NaN</td>\n",
       "      <td>NaN</td>\n",
       "      <td>1.0</td>\n",
       "      <td>NaN</td>\n",
       "      <td>NaN</td>\n",
       "      <td>1.0</td>\n",
       "      <td>NaN</td>\n",
       "      <td>NaN</td>\n",
       "      <td>NaN</td>\n",
       "    </tr>\n",
       "    <tr>\n",
       "      <th>18174</th>\n",
       "      <td>50.0</td>\n",
       "      <td>0.0</td>\n",
       "      <td>NaN</td>\n",
       "      <td>NaN</td>\n",
       "      <td>NaN</td>\n",
       "      <td>NaN</td>\n",
       "      <td>2.0</td>\n",
       "      <td>less than 100,000</td>\n",
       "      <td>NaN</td>\n",
       "      <td>NaN</td>\n",
       "      <td>...</td>\n",
       "      <td>NaN</td>\n",
       "      <td>NaN</td>\n",
       "      <td>NaN</td>\n",
       "      <td>NaN</td>\n",
       "      <td>NaN</td>\n",
       "      <td>NaN</td>\n",
       "      <td>NaN</td>\n",
       "      <td>NaN</td>\n",
       "      <td>NaN</td>\n",
       "      <td>NaN</td>\n",
       "    </tr>\n",
       "  </tbody>\n",
       "</table>\n",
       "<p>18175 rows × 136 columns</p>\n",
       "</div>"
      ],
      "text/plain": [
       "        Age  AttendedBootcamp  BootcampFinish  BootcampLoanYesNo BootcampName  \\\n",
       "0      27.0               0.0             NaN                NaN          NaN   \n",
       "1      34.0               0.0             NaN                NaN          NaN   \n",
       "2      21.0               0.0             NaN                NaN          NaN   \n",
       "3      26.0               0.0             NaN                NaN          NaN   \n",
       "4      20.0               0.0             NaN                NaN          NaN   \n",
       "...     ...               ...             ...                ...          ...   \n",
       "18170  41.0               0.0             NaN                NaN          NaN   \n",
       "18171  31.0               0.0             NaN                NaN          NaN   \n",
       "18172  39.0               0.0             NaN                NaN          NaN   \n",
       "18173  54.0               0.0             NaN                NaN          NaN   \n",
       "18174  50.0               0.0             NaN                NaN          NaN   \n",
       "\n",
       "       BootcampRecommend  ChildrenNumber                 CityPopulation  \\\n",
       "0                    NaN             NaN            more than 1 million   \n",
       "1                    NaN             NaN              less than 100,000   \n",
       "2                    NaN             NaN            more than 1 million   \n",
       "3                    NaN             NaN  between 100,000 and 1 million   \n",
       "4                    NaN             NaN  between 100,000 and 1 million   \n",
       "...                  ...             ...                            ...   \n",
       "18170                NaN             1.0            more than 1 million   \n",
       "18171                NaN             1.0            more than 1 million   \n",
       "18172                NaN             3.0            more than 1 million   \n",
       "18173                NaN             3.0  between 100,000 and 1 million   \n",
       "18174                NaN             2.0              less than 100,000   \n",
       "\n",
       "       CodeEventConferences  CodeEventDjangoGirls  ...  YouTubeFCC  \\\n",
       "0                       NaN                   NaN  ...         NaN   \n",
       "1                       NaN                   NaN  ...         1.0   \n",
       "2                       NaN                   NaN  ...         NaN   \n",
       "3                       NaN                   NaN  ...         1.0   \n",
       "4                       NaN                   NaN  ...         NaN   \n",
       "...                     ...                   ...  ...         ...   \n",
       "18170                   NaN                   NaN  ...         NaN   \n",
       "18171                   NaN                   NaN  ...         1.0   \n",
       "18172                   NaN                   NaN  ...         1.0   \n",
       "18173                   NaN                   NaN  ...         1.0   \n",
       "18174                   NaN                   NaN  ...         NaN   \n",
       "\n",
       "       YouTubeFunFunFunction  YouTubeGoogleDev  YouTubeLearnCode  \\\n",
       "0                        NaN               NaN               NaN   \n",
       "1                        NaN               NaN               NaN   \n",
       "2                        NaN               NaN               1.0   \n",
       "3                        1.0               NaN               NaN   \n",
       "4                        NaN               NaN               NaN   \n",
       "...                      ...               ...               ...   \n",
       "18170                    NaN               NaN               NaN   \n",
       "18171                    NaN               NaN               NaN   \n",
       "18172                    NaN               NaN               NaN   \n",
       "18173                    NaN               NaN               1.0   \n",
       "18174                    NaN               NaN               NaN   \n",
       "\n",
       "       YouTubeLevelUpTuts  YouTubeMIT  YouTubeMozillaHacks YouTubeOther  \\\n",
       "0                     NaN         NaN                  NaN          NaN   \n",
       "1                     NaN         NaN                  NaN          NaN   \n",
       "2                     1.0         NaN                  NaN          NaN   \n",
       "3                     1.0         NaN                  NaN          NaN   \n",
       "4                     NaN         NaN                  NaN          NaN   \n",
       "...                   ...         ...                  ...          ...   \n",
       "18170                 NaN         NaN                  NaN    never see   \n",
       "18171                 NaN         NaN                  NaN          NaN   \n",
       "18172                 NaN         NaN                  NaN          NaN   \n",
       "18173                 NaN         NaN                  1.0          NaN   \n",
       "18174                 NaN         NaN                  NaN          NaN   \n",
       "\n",
       "       YouTubeSimplilearn  YouTubeTheNewBoston  \n",
       "0                     NaN                  NaN  \n",
       "1                     NaN                  NaN  \n",
       "2                     NaN                  NaN  \n",
       "3                     NaN                  NaN  \n",
       "4                     NaN                  NaN  \n",
       "...                   ...                  ...  \n",
       "18170                 NaN                  NaN  \n",
       "18171                 NaN                  NaN  \n",
       "18172                 NaN                  1.0  \n",
       "18173                 NaN                  NaN  \n",
       "18174                 NaN                  NaN  \n",
       "\n",
       "[18175 rows x 136 columns]"
      ]
     },
     "execution_count": 6,
     "metadata": {},
     "output_type": "execute_result"
    }
   ],
   "source": [
    "df"
   ]
  },
  {
   "cell_type": "code",
   "execution_count": 7,
   "metadata": {},
   "outputs": [
    {
     "data": {
      "text/html": [
       "<div>\n",
       "<style scoped>\n",
       "    .dataframe tbody tr th:only-of-type {\n",
       "        vertical-align: middle;\n",
       "    }\n",
       "\n",
       "    .dataframe tbody tr th {\n",
       "        vertical-align: top;\n",
       "    }\n",
       "\n",
       "    .dataframe thead th {\n",
       "        text-align: right;\n",
       "    }\n",
       "</style>\n",
       "<table border=\"1\" class=\"dataframe\">\n",
       "  <thead>\n",
       "    <tr style=\"text-align: right;\">\n",
       "      <th></th>\n",
       "      <th>Age</th>\n",
       "      <th>AttendedBootcamp</th>\n",
       "      <th>BootcampFinish</th>\n",
       "      <th>BootcampLoanYesNo</th>\n",
       "      <th>BootcampRecommend</th>\n",
       "      <th>ChildrenNumber</th>\n",
       "      <th>CodeEventConferences</th>\n",
       "      <th>CodeEventDjangoGirls</th>\n",
       "      <th>CodeEventFCC</th>\n",
       "      <th>CodeEventGameJam</th>\n",
       "      <th>...</th>\n",
       "      <th>YouTubeEngineeredTruth</th>\n",
       "      <th>YouTubeFCC</th>\n",
       "      <th>YouTubeFunFunFunction</th>\n",
       "      <th>YouTubeGoogleDev</th>\n",
       "      <th>YouTubeLearnCode</th>\n",
       "      <th>YouTubeLevelUpTuts</th>\n",
       "      <th>YouTubeMIT</th>\n",
       "      <th>YouTubeMozillaHacks</th>\n",
       "      <th>YouTubeSimplilearn</th>\n",
       "      <th>YouTubeTheNewBoston</th>\n",
       "    </tr>\n",
       "  </thead>\n",
       "  <tbody>\n",
       "    <tr>\n",
       "      <th>count</th>\n",
       "      <td>15367.000000</td>\n",
       "      <td>17709.000000</td>\n",
       "      <td>1069.000000</td>\n",
       "      <td>1079.000000</td>\n",
       "      <td>1073.000000</td>\n",
       "      <td>2314.000000</td>\n",
       "      <td>1609.0</td>\n",
       "      <td>165.0</td>\n",
       "      <td>1708.0</td>\n",
       "      <td>290.0</td>\n",
       "      <td>...</td>\n",
       "      <td>993.0</td>\n",
       "      <td>6036.0</td>\n",
       "      <td>1261.0</td>\n",
       "      <td>3539.0</td>\n",
       "      <td>2662.0</td>\n",
       "      <td>1396.0</td>\n",
       "      <td>3327.0</td>\n",
       "      <td>622.0</td>\n",
       "      <td>201.0</td>\n",
       "      <td>2960.0</td>\n",
       "    </tr>\n",
       "    <tr>\n",
       "      <th>mean</th>\n",
       "      <td>27.691872</td>\n",
       "      <td>0.062002</td>\n",
       "      <td>0.699719</td>\n",
       "      <td>0.305839</td>\n",
       "      <td>0.818267</td>\n",
       "      <td>1.832325</td>\n",
       "      <td>1.0</td>\n",
       "      <td>1.0</td>\n",
       "      <td>1.0</td>\n",
       "      <td>1.0</td>\n",
       "      <td>...</td>\n",
       "      <td>1.0</td>\n",
       "      <td>1.0</td>\n",
       "      <td>1.0</td>\n",
       "      <td>1.0</td>\n",
       "      <td>1.0</td>\n",
       "      <td>1.0</td>\n",
       "      <td>1.0</td>\n",
       "      <td>1.0</td>\n",
       "      <td>1.0</td>\n",
       "      <td>1.0</td>\n",
       "    </tr>\n",
       "    <tr>\n",
       "      <th>std</th>\n",
       "      <td>8.559239</td>\n",
       "      <td>0.241167</td>\n",
       "      <td>0.458594</td>\n",
       "      <td>0.460975</td>\n",
       "      <td>0.385805</td>\n",
       "      <td>0.972813</td>\n",
       "      <td>0.0</td>\n",
       "      <td>0.0</td>\n",
       "      <td>0.0</td>\n",
       "      <td>0.0</td>\n",
       "      <td>...</td>\n",
       "      <td>0.0</td>\n",
       "      <td>0.0</td>\n",
       "      <td>0.0</td>\n",
       "      <td>0.0</td>\n",
       "      <td>0.0</td>\n",
       "      <td>0.0</td>\n",
       "      <td>0.0</td>\n",
       "      <td>0.0</td>\n",
       "      <td>0.0</td>\n",
       "      <td>0.0</td>\n",
       "    </tr>\n",
       "    <tr>\n",
       "      <th>min</th>\n",
       "      <td>0.000000</td>\n",
       "      <td>0.000000</td>\n",
       "      <td>0.000000</td>\n",
       "      <td>0.000000</td>\n",
       "      <td>0.000000</td>\n",
       "      <td>1.000000</td>\n",
       "      <td>1.0</td>\n",
       "      <td>1.0</td>\n",
       "      <td>1.0</td>\n",
       "      <td>1.0</td>\n",
       "      <td>...</td>\n",
       "      <td>1.0</td>\n",
       "      <td>1.0</td>\n",
       "      <td>1.0</td>\n",
       "      <td>1.0</td>\n",
       "      <td>1.0</td>\n",
       "      <td>1.0</td>\n",
       "      <td>1.0</td>\n",
       "      <td>1.0</td>\n",
       "      <td>1.0</td>\n",
       "      <td>1.0</td>\n",
       "    </tr>\n",
       "    <tr>\n",
       "      <th>25%</th>\n",
       "      <td>22.000000</td>\n",
       "      <td>0.000000</td>\n",
       "      <td>0.000000</td>\n",
       "      <td>0.000000</td>\n",
       "      <td>1.000000</td>\n",
       "      <td>1.000000</td>\n",
       "      <td>1.0</td>\n",
       "      <td>1.0</td>\n",
       "      <td>1.0</td>\n",
       "      <td>1.0</td>\n",
       "      <td>...</td>\n",
       "      <td>1.0</td>\n",
       "      <td>1.0</td>\n",
       "      <td>1.0</td>\n",
       "      <td>1.0</td>\n",
       "      <td>1.0</td>\n",
       "      <td>1.0</td>\n",
       "      <td>1.0</td>\n",
       "      <td>1.0</td>\n",
       "      <td>1.0</td>\n",
       "      <td>1.0</td>\n",
       "    </tr>\n",
       "    <tr>\n",
       "      <th>50%</th>\n",
       "      <td>26.000000</td>\n",
       "      <td>0.000000</td>\n",
       "      <td>1.000000</td>\n",
       "      <td>0.000000</td>\n",
       "      <td>1.000000</td>\n",
       "      <td>2.000000</td>\n",
       "      <td>1.0</td>\n",
       "      <td>1.0</td>\n",
       "      <td>1.0</td>\n",
       "      <td>1.0</td>\n",
       "      <td>...</td>\n",
       "      <td>1.0</td>\n",
       "      <td>1.0</td>\n",
       "      <td>1.0</td>\n",
       "      <td>1.0</td>\n",
       "      <td>1.0</td>\n",
       "      <td>1.0</td>\n",
       "      <td>1.0</td>\n",
       "      <td>1.0</td>\n",
       "      <td>1.0</td>\n",
       "      <td>1.0</td>\n",
       "    </tr>\n",
       "    <tr>\n",
       "      <th>75%</th>\n",
       "      <td>32.000000</td>\n",
       "      <td>0.000000</td>\n",
       "      <td>1.000000</td>\n",
       "      <td>1.000000</td>\n",
       "      <td>1.000000</td>\n",
       "      <td>2.000000</td>\n",
       "      <td>1.0</td>\n",
       "      <td>1.0</td>\n",
       "      <td>1.0</td>\n",
       "      <td>1.0</td>\n",
       "      <td>...</td>\n",
       "      <td>1.0</td>\n",
       "      <td>1.0</td>\n",
       "      <td>1.0</td>\n",
       "      <td>1.0</td>\n",
       "      <td>1.0</td>\n",
       "      <td>1.0</td>\n",
       "      <td>1.0</td>\n",
       "      <td>1.0</td>\n",
       "      <td>1.0</td>\n",
       "      <td>1.0</td>\n",
       "    </tr>\n",
       "    <tr>\n",
       "      <th>max</th>\n",
       "      <td>90.000000</td>\n",
       "      <td>1.000000</td>\n",
       "      <td>1.000000</td>\n",
       "      <td>1.000000</td>\n",
       "      <td>1.000000</td>\n",
       "      <td>9.000000</td>\n",
       "      <td>1.0</td>\n",
       "      <td>1.0</td>\n",
       "      <td>1.0</td>\n",
       "      <td>1.0</td>\n",
       "      <td>...</td>\n",
       "      <td>1.0</td>\n",
       "      <td>1.0</td>\n",
       "      <td>1.0</td>\n",
       "      <td>1.0</td>\n",
       "      <td>1.0</td>\n",
       "      <td>1.0</td>\n",
       "      <td>1.0</td>\n",
       "      <td>1.0</td>\n",
       "      <td>1.0</td>\n",
       "      <td>1.0</td>\n",
       "    </tr>\n",
       "  </tbody>\n",
       "</table>\n",
       "<p>8 rows × 105 columns</p>\n",
       "</div>"
      ],
      "text/plain": [
       "                Age  AttendedBootcamp  BootcampFinish  BootcampLoanYesNo  \\\n",
       "count  15367.000000      17709.000000     1069.000000        1079.000000   \n",
       "mean      27.691872          0.062002        0.699719           0.305839   \n",
       "std        8.559239          0.241167        0.458594           0.460975   \n",
       "min        0.000000          0.000000        0.000000           0.000000   \n",
       "25%       22.000000          0.000000        0.000000           0.000000   \n",
       "50%       26.000000          0.000000        1.000000           0.000000   \n",
       "75%       32.000000          0.000000        1.000000           1.000000   \n",
       "max       90.000000          1.000000        1.000000           1.000000   \n",
       "\n",
       "       BootcampRecommend  ChildrenNumber  CodeEventConferences  \\\n",
       "count        1073.000000     2314.000000                1609.0   \n",
       "mean            0.818267        1.832325                   1.0   \n",
       "std             0.385805        0.972813                   0.0   \n",
       "min             0.000000        1.000000                   1.0   \n",
       "25%             1.000000        1.000000                   1.0   \n",
       "50%             1.000000        2.000000                   1.0   \n",
       "75%             1.000000        2.000000                   1.0   \n",
       "max             1.000000        9.000000                   1.0   \n",
       "\n",
       "       CodeEventDjangoGirls  CodeEventFCC  CodeEventGameJam  ...  \\\n",
       "count                 165.0        1708.0             290.0  ...   \n",
       "mean                    1.0           1.0               1.0  ...   \n",
       "std                     0.0           0.0               0.0  ...   \n",
       "min                     1.0           1.0               1.0  ...   \n",
       "25%                     1.0           1.0               1.0  ...   \n",
       "50%                     1.0           1.0               1.0  ...   \n",
       "75%                     1.0           1.0               1.0  ...   \n",
       "max                     1.0           1.0               1.0  ...   \n",
       "\n",
       "       YouTubeEngineeredTruth  YouTubeFCC  YouTubeFunFunFunction  \\\n",
       "count                   993.0      6036.0                 1261.0   \n",
       "mean                      1.0         1.0                    1.0   \n",
       "std                       0.0         0.0                    0.0   \n",
       "min                       1.0         1.0                    1.0   \n",
       "25%                       1.0         1.0                    1.0   \n",
       "50%                       1.0         1.0                    1.0   \n",
       "75%                       1.0         1.0                    1.0   \n",
       "max                       1.0         1.0                    1.0   \n",
       "\n",
       "       YouTubeGoogleDev  YouTubeLearnCode  YouTubeLevelUpTuts  YouTubeMIT  \\\n",
       "count            3539.0            2662.0              1396.0      3327.0   \n",
       "mean                1.0               1.0                 1.0         1.0   \n",
       "std                 0.0               0.0                 0.0         0.0   \n",
       "min                 1.0               1.0                 1.0         1.0   \n",
       "25%                 1.0               1.0                 1.0         1.0   \n",
       "50%                 1.0               1.0                 1.0         1.0   \n",
       "75%                 1.0               1.0                 1.0         1.0   \n",
       "max                 1.0               1.0                 1.0         1.0   \n",
       "\n",
       "       YouTubeMozillaHacks  YouTubeSimplilearn  YouTubeTheNewBoston  \n",
       "count                622.0               201.0               2960.0  \n",
       "mean                   1.0                 1.0                  1.0  \n",
       "std                    0.0                 0.0                  0.0  \n",
       "min                    1.0                 1.0                  1.0  \n",
       "25%                    1.0                 1.0                  1.0  \n",
       "50%                    1.0                 1.0                  1.0  \n",
       "75%                    1.0                 1.0                  1.0  \n",
       "max                    1.0                 1.0                  1.0  \n",
       "\n",
       "[8 rows x 105 columns]"
      ]
     },
     "execution_count": 7,
     "metadata": {},
     "output_type": "execute_result"
    }
   ],
   "source": [
    "df.describe()"
   ]
  },
  {
   "cell_type": "code",
   "execution_count": 8,
   "metadata": {},
   "outputs": [
    {
     "name": "stdout",
     "output_type": "stream",
     "text": [
      "<class 'pandas.core.frame.DataFrame'>\n",
      "RangeIndex: 18175 entries, 0 to 18174\n",
      "Columns: 136 entries, Age to YouTubeTheNewBoston\n",
      "dtypes: float64(105), object(31)\n",
      "memory usage: 18.9+ MB\n"
     ]
    }
   ],
   "source": [
    "df.info()"
   ]
  },
  {
   "cell_type": "code",
   "execution_count": 9,
   "metadata": {},
   "outputs": [
    {
     "data": {
      "text/plain": [
       "Age                     2808\n",
       "AttendedBootcamp         466\n",
       "BootcampFinish         17106\n",
       "BootcampLoanYesNo      17096\n",
       "BootcampName           17226\n",
       "                       ...  \n",
       "YouTubeMIT             14848\n",
       "YouTubeMozillaHacks    17553\n",
       "YouTubeOther           16961\n",
       "YouTubeSimplilearn     17974\n",
       "YouTubeTheNewBoston    15215\n",
       "Length: 136, dtype: int64"
      ]
     },
     "execution_count": 9,
     "metadata": {},
     "output_type": "execute_result"
    }
   ],
   "source": [
    "df.isna().sum()"
   ]
  },
  {
   "cell_type": "code",
   "execution_count": 10,
   "metadata": {},
   "outputs": [
    {
     "data": {
      "text/plain": [
       "Age                    15.45\n",
       "AttendedBootcamp        2.56\n",
       "BootcampFinish         94.12\n",
       "BootcampLoanYesNo      94.06\n",
       "BootcampName           94.78\n",
       "                       ...  \n",
       "YouTubeMIT             81.69\n",
       "YouTubeMozillaHacks    96.58\n",
       "YouTubeOther           93.32\n",
       "YouTubeSimplilearn     98.89\n",
       "YouTubeTheNewBoston    83.71\n",
       "Length: 136, dtype: float64"
      ]
     },
     "execution_count": 10,
     "metadata": {},
     "output_type": "execute_result"
    }
   ],
   "source": [
    "round(df.isnull().sum()*100 / len(df), 2)"
   ]
  },
  {
   "cell_type": "code",
   "execution_count": 11,
   "metadata": {},
   "outputs": [
    {
     "data": {
      "text/plain": [
       "136"
      ]
     },
     "execution_count": 11,
     "metadata": {},
     "output_type": "execute_result"
    }
   ],
   "source": [
    "len(df.isna().sum() > 0)"
   ]
  },
  {
   "cell_type": "code",
   "execution_count": 12,
   "metadata": {},
   "outputs": [
    {
     "data": {
      "text/plain": [
       "132"
      ]
     },
     "execution_count": 12,
     "metadata": {},
     "output_type": "execute_result"
    }
   ],
   "source": [
    "aux = df.isna().sum()\n",
    "len(aux[df.isna().sum().values > 0])"
   ]
  },
  {
   "cell_type": "markdown",
   "metadata": {},
   "source": [
    "From the previous analysis were made different observations. The dataset is formed by **18175 entries** (rows) and **136 features** (columns). It seems that **132** of **136**  columns contain **null** values, but what may difficult in our analysis scope is that there are columns that have more than **90%** of null values.\n",
    "\n",
    "We don't have any clear documentation describing each column, unfortunately most column names are rather self-explanatory, and also the raw-data folder of the dataset repository contains the initial survey questions. From this information, we can conclude that the predominant majority of columns don't represent any interest for our analysis goal because of:\n",
    "<ul>\n",
    "    <li><b>Irrelevance:</b> Columns like HasServedInMilitary, CityPopulation, IsEthnicMinority..etc. Are irrelevant for our analysis scope.</li>\n",
    "    <li><b>Refferring to previous additional learning resources</b> Columns like Podcast..., CodeEvent..., Resource..., YouTube...etc. Which is rather relative, since one source can be extremely helpful for one person while totally useless for another.</li>\n",
    "</ul>  \n",
    "\n",
    "We conclude that the relevant columns for our analysis goal are: \n",
    "<ul>\n",
    "    <li>Age</li>\n",
    "    <li>AttendedBootcamp</li>\n",
    "    <li>CountryCitizen</li>\n",
    "    <li>CountryLive</li>\n",
    "    <li>EmploymentField</li>\n",
    "    <li>EmploymentStatus</li>\n",
    "    <li>Gender</li>\n",
    "    <li>HasChildren</li>\n",
    "    <li>HasDebt</li>\n",
    "    <li>HasFinancialDependents</li>\n",
    "    <li>HasHomeMortgage</li>\n",
    "    <li>HasStudentDebt</li>\n",
    "    <li>HoursLearning</li>\n",
    "    <li>Income</li>\n",
    "    <li>JobRoleInterest</li>\n",
    "    <li>MaritalStatus</li>\n",
    "    <li>MoneyForLearning</li>\n",
    "    <li>MonthsProgramming</li>\n",
    "    <li>SchoolDegree</li>\n",
    "    <li>SchoolMajor</li>      \n",
    "</ul>"
   ]
  },
  {
   "cell_type": "code",
   "execution_count": 13,
   "metadata": {},
   "outputs": [],
   "source": [
    "df = df[['Age', 'AttendedBootcamp', 'CountryCitizen', 'CountryLive', \n",
    "         'EmploymentField', 'EmploymentStatus', 'Gender', 'HasChildren', \n",
    "         'HasDebt', 'HasFinancialDependents', 'HasHomeMortgage', \n",
    "         'HasStudentDebt', 'HoursLearning', 'Income', 'JobRoleInterest',\n",
    "         'MaritalStatus', 'MoneyForLearning', 'MonthsProgramming', \n",
    "         'SchoolDegree', 'SchoolMajor']]"
   ]
  },
  {
   "cell_type": "code",
   "execution_count": 14,
   "metadata": {},
   "outputs": [
    {
     "data": {
      "text/plain": [
       "Age                       15.45\n",
       "AttendedBootcamp           2.56\n",
       "CountryCitizen            15.37\n",
       "CountryLive               15.62\n",
       "EmploymentField           55.35\n",
       "EmploymentStatus          21.07\n",
       "Gender                    14.97\n",
       "HasChildren               78.77\n",
       "HasDebt                   15.87\n",
       "HasFinancialDependents    15.66\n",
       "HasHomeMortgage           64.80\n",
       "HasStudentDebt            64.78\n",
       "HoursLearning              8.04\n",
       "Income                    58.06\n",
       "JobRoleInterest           61.53\n",
       "MaritalStatus             15.63\n",
       "MoneyForLearning           8.79\n",
       "MonthsProgramming          6.00\n",
       "SchoolDegree              15.44\n",
       "SchoolMajor               51.98\n",
       "dtype: float64"
      ]
     },
     "execution_count": 14,
     "metadata": {},
     "output_type": "execute_result"
    }
   ],
   "source": [
    "round(df.isnull().sum()*100 / len(df), 2)"
   ]
  },
  {
   "cell_type": "code",
   "execution_count": 15,
   "metadata": {},
   "outputs": [
    {
     "data": {
      "image/png": "[encoded data removed]",
      "text/plain": [
       "<Figure size 1440x720 with 1 Axes>"
      ]
     },
     "metadata": {},
     "output_type": "display_data"
    }
   ],
   "source": [
    "plt.style.use('fivethirtyeight')\n",
    "plt.figure(figsize=(20, 10))\n",
    "sns.heatmap(df.isnull(), cbar=False, yticklabels=False);\n",
    "plt.show()"
   ]
  },
  {
   "cell_type": "markdown",
   "metadata": {},
   "source": [
    "From the previous chart we can conclude that the reduced dataset still having missing values for different columns like: **EmploymentField, HasChildren, HasHomeMortgage, HasStudentDebt, Income, JobRoleInterest, SchoolMajor** where the percentage of the missing values is bigger tha **50%**."
   ]
  },
  {
   "cell_type": "markdown",
   "metadata": {},
   "source": [
    "# Sample Representativity"
   ]
  },
  {
   "cell_type": "markdown",
   "metadata": {},
   "source": [
    "Most of the courses that the company offers are on the web and mobile development, but we also cover many other domains, like data science, game development, etc. For our analysis, we want to answer questions about a population of new coders that are interested in the subjects we teach. We'd like to know:\n",
    "<ul>\n",
    "    <li>Where are these new coders located?</li>\n",
    "    <li>What are the locations with the greatest number of new coders?</li>\n",
    "    <li>How much money new coders are willing to spend on learning?</li>\n",
    "</ul>"
   ]
  },
  {
   "cell_type": "markdown",
   "metadata": {},
   "source": [
    "First, let's figure out whether the sample we have is representative for our population of interest. **JobRoleInterest** contains the role or roles that each respondet is interested in. "
   ]
  },
  {
   "cell_type": "code",
   "execution_count": 16,
   "metadata": {},
   "outputs": [
    {
     "data": {
      "text/plain": [
       "0                                                      NaN\n",
       "1                                 Full-Stack Web Developer\n",
       "2          Front-End Web Developer, Back-End Web Develo...\n",
       "3          Front-End Web Developer, Full-Stack Web Deve...\n",
       "4        Full-Stack Web Developer, Information Security...\n",
       "                               ...                        \n",
       "18170                                                  NaN\n",
       "18171      DevOps / SysAdmin,   Mobile Developer,   Pro...\n",
       "18172                                                  NaN\n",
       "18173                                                  NaN\n",
       "18174    Back-End Web Developer, Data Engineer,   Data ...\n",
       "Name: JobRoleInterest, Length: 18175, dtype: object"
      ]
     },
     "execution_count": 16,
     "metadata": {},
     "output_type": "execute_result"
    }
   ],
   "source": [
    "df[\"JobRoleInterest\"]"
   ]
  },
  {
   "cell_type": "code",
   "execution_count": 17,
   "metadata": {},
   "outputs": [
    {
     "data": {
      "text/plain": [
       "Full-Stack Web Developer                                                                                                                                                        11.770595\n",
       "  Front-End Web Developer                                                                                                                                                        6.435927\n",
       "  Data Scientist                                                                                                                                                                 2.173913\n",
       "Back-End Web Developer                                                                                                                                                           2.030892\n",
       "  Mobile Developer                                                                                                                                                               1.673341\n",
       "                                                                                                                                                                                  ...    \n",
       "  Front-End Web Developer, Information Security, Full-Stack Web Developer,   Data Scientist                                                                                      0.014302\n",
       "  Data Scientist, Full-Stack Web Developer, Information Security,   Quality Assurance Engineer, Data Engineer, Back-End Web Developer                                            0.014302\n",
       "Full-Stack Web Developer, Game Developer, Back-End Web Developer, Data Engineer,   Mobile Developer,   Front-End Web Developer,   User Experience Designer,   Data Scientist     0.014302\n",
       "Back-End Web Developer,   Front-End Web Developer, Full-Stack Web Developer,   Product Manager,   Data Scientist, Data Engineer,   Mobile Developer                              0.014302\n",
       "Game Developer, Full-Stack Web Developer,   Front-End Web Developer,   Mobile Developer,   User Experience Designer                                                              0.014302\n",
       "Name: JobRoleInterest, Length: 3213, dtype: float64"
      ]
     },
     "execution_count": 17,
     "metadata": {},
     "output_type": "execute_result"
    }
   ],
   "source": [
    "df[\"JobRoleInterest\"].value_counts(normalize=True)*100"
   ]
  },
  {
   "cell_type": "markdown",
   "metadata": {},
   "source": [
    "From a first glance, we can see that most people are interested in a web related job like Full-Stack, Front-End and Backen-End.\n",
    "We can observe that people are also interested in several job roles. Let's analyze deeper this percentages:"
   ]
  },
  {
   "cell_type": "code",
   "execution_count": 18,
   "metadata": {},
   "outputs": [
    {
     "data": {
      "text/plain": [
       "True     4779\n",
       "False    2213\n",
       "Name: SeveralRoles, dtype: int64"
      ]
     },
     "execution_count": 18,
     "metadata": {},
     "output_type": "execute_result"
    }
   ],
   "source": [
    "roles_df = df.dropna(subset=[\"JobRoleInterest\"]).copy()\n",
    "roles_df[\"JobRoleInterest\"] = roles_df[\"JobRoleInterest\"].str.split(',')\n",
    "roles_df[\"SeveralRoles\"] = roles_df[\"JobRoleInterest\"].apply(lambda x: True if len(x) > 1 else False)\n",
    "roles_df[\"SeveralRoles\"].value_counts(dropna=False)"
   ]
  },
  {
   "cell_type": "code",
   "execution_count": 19,
   "metadata": {},
   "outputs": [
    {
     "data": {
      "text/plain": [
       "True     68.35\n",
       "False    31.65\n",
       "Name: SeveralRoles, dtype: float64"
      ]
     },
     "execution_count": 19,
     "metadata": {},
     "output_type": "execute_result"
    }
   ],
   "source": [
    "round(roles_df[\"SeveralRoles\"].value_counts(normalize=True) * 100, 2)"
   ]
  },
  {
   "cell_type": "code",
   "execution_count": 20,
   "metadata": {},
   "outputs": [
    {
     "data": {
      "image/png": "[encoded data removed]",
      "text/plain": [
       "<Figure size 1440x720 with 1 Axes>"
      ]
     },
     "metadata": {},
     "output_type": "display_data"
    }
   ],
   "source": [
    "plot_horizontal_bar(round(roles_df[\"SeveralRoles\"].value_counts(normalize=True) * 100, 2), \n",
    "                    title='Learners jobs interests',\n",
    "                    xlabel='%',\n",
    "                    ytlabels=['One', 'Several'])"
   ]
  },
  {
   "cell_type": "markdown",
   "metadata": {},
   "source": [
    "As it's shown in the previous chart **68.35%** of the learners are interested in more than one role job. This tendency is an advantage for the e-learning company that offers different courses, if the student is satisfied with the received service may complete several courses."
   ]
  },
  {
   "cell_type": "markdown",
   "metadata": {},
   "source": [
    "The company's focus is on web and mobile development courses. Let's check how many people are interested in at least one of these two subjects:"
   ]
  },
  {
   "cell_type": "code",
   "execution_count": 21,
   "metadata": {},
   "outputs": [
    {
     "data": {
      "text/plain": [
       "True     86.24\n",
       "False    13.76\n",
       "Name: JobRoleInterest, dtype: float64"
      ]
     },
     "execution_count": 21,
     "metadata": {},
     "output_type": "execute_result"
    }
   ],
   "source": [
    "round(df[\"JobRoleInterest\"].str.contains('Web Developer|Mobile Developer').value_counts(normalize=True) * 100, 2)"
   ]
  },
  {
   "cell_type": "code",
   "execution_count": 22,
   "metadata": {},
   "outputs": [
    {
     "data": {
      "image/png": "[encoded data removed]",
      "text/plain": [
       "<Figure size 1440x720 with 1 Axes>"
      ]
     },
     "metadata": {},
     "output_type": "display_data"
    }
   ],
   "source": [
    "plot_horizontal_bar(round(df[\"JobRoleInterest\"].str.contains('Web Developer|Mobile Developer').value_counts(normalize=True) * 100, 2),\n",
    "                    title='Learners interests',\n",
    "                    xlabel='%',\n",
    "                    ytlabels=['Other', 'Web | Mobile Development',],\n",
    "                   sigbar_x=-18.5)"
   ]
  },
  {
   "cell_type": "markdown",
   "metadata": {},
   "source": [
    "As it is shown on the previous chart, we can conclude that the predominant majority of the respondents are interested in **Web or Mobile Development (86%)**. \n",
    "\n",
    "This insight makes our sample data representative of the target audience of the e-learning company. Having confirmed that the sample is representative of the whole population, let's start the data analysis."
   ]
  },
  {
   "cell_type": "markdown",
   "metadata": {},
   "source": [
    "# Best Markets By Country"
   ]
  },
  {
   "cell_type": "markdown",
   "metadata": {},
   "source": [
    "The data set provides information about the location of each participant at a country level. The CountryCitizen variable describes the country of origin for each participant, and the CountryLive variable describes what country each participant lives in (which may be different than the origin country).\n",
    "\n",
    "For our analysis, we'll work with the CountryLive variable because we're interested in where people live at the moment when we run the ads. In other words, we're interested where people are located, not where they were born.\n",
    "\n",
    "Because the data set provides information at a country level, we can think of each country as an individual market. This means we can frame our goal as finding the best countries to advertise in."
   ]
  },
  {
   "cell_type": "markdown",
   "metadata": {},
   "source": [
    "### Locations and Densities of New Learners"
   ]
  },
  {
   "cell_type": "code",
   "execution_count": 23,
   "metadata": {},
   "outputs": [
    {
     "data": {
      "text/plain": [
       "United States of America    3125\n",
       "India                        528\n",
       "United Kingdom               315\n",
       "Canada                       260\n",
       "NaN                          154\n",
       "                            ... \n",
       "Sudan                          1\n",
       "Angola                         1\n",
       "Botswana                       1\n",
       "Aruba                          1\n",
       "Bolivia                        1\n",
       "Name: CountryLive, Length: 138, dtype: int64"
      ]
     },
     "execution_count": 23,
     "metadata": {},
     "output_type": "execute_result"
    }
   ],
   "source": [
    "roles_df[\"CountryLive\"].value_counts(dropna=False)"
   ]
  },
  {
   "cell_type": "code",
   "execution_count": 24,
   "metadata": {},
   "outputs": [
    {
     "data": {
      "text/plain": [
       "United States of America    45.70\n",
       "India                        7.72\n",
       "United Kingdom               4.61\n",
       "Canada                       3.80\n",
       "Poland                       1.92\n",
       "                            ...  \n",
       "Angola                       0.01\n",
       "Cayman Islands               0.01\n",
       "Botswana                     0.01\n",
       "Aruba                        0.01\n",
       "Yemen                        0.01\n",
       "Name: CountryLive, Length: 137, dtype: float64"
      ]
     },
     "execution_count": 24,
     "metadata": {},
     "output_type": "execute_result"
    }
   ],
   "source": [
    "country_freq = round(roles_df[\"CountryLive\"].value_counts(normalize=True) * 100, 2)\n",
    "country_freq"
   ]
  },
  {
   "cell_type": "code",
   "execution_count": 25,
   "metadata": {},
   "outputs": [
    {
     "data": {
      "image/png": "[encoded data removed]",
      "text/plain": [
       "<Figure size 1440x720 with 1 Axes>"
      ]
     },
     "metadata": {},
     "output_type": "display_data"
    }
   ],
   "source": [
    "steam_plot(series=country_freq.iloc[:5].sort_values(),\n",
    "           title='Top countries by potential customer %',\n",
    "           x_max=52, \n",
    "           sigbar_x=-10)   "
   ]
  },
  {
   "cell_type": "markdown",
   "metadata": {},
   "source": [
    "As it's shown in the previous chart the **46%** of the potential customers live in **United States of America**. So we can consider this country as the best market to choose for advertisement. However, as is shown in the chart and the previous frequencies lists, we can't be sure about second and third best markets, event tough **India** is the second, a low percentage of potential customers live there. Also, the third market **United Kingdom** with **4.61%** is close to the fourth **Canada** with **3.80**.\n",
    "\n",
    "We found a piece of useful information about learners' locations, now before making a decision we need a deeper analysis."
   ]
  },
  {
   "cell_type": "markdown",
   "metadata": {},
   "source": [
    "### Money Spent For Learning"
   ]
  },
  {
   "cell_type": "markdown",
   "metadata": {},
   "source": [
    "We can continue by figuring out how much money new coders are willing to spend on learning. Advertising within markets where most people are only willing to learn for free is extremely unlikely to be profitable for the e-learn company.\n",
    "\n",
    "The **MoneyForLearning** column describes in American dollars the amount of money spent by participants from the moment they started coding until the moment they completed the survey. Our company sells subscriptions at a price of **59** dollars per month, and for this reason, we're interested in finding out how much money each student spends per month.\n",
    "\n",
    "It also seems like a good idea to narrow down our analysis to only four countries: the US, India, the United Kingdom, and Canada. Two reasons for this decision are:\n",
    "<ul>\n",
    "    <li>These are the countries having the highest absolute frequencies in our sample, which means we have a decent amount of data for each.</li>\n",
    "    <li>Our courses are written in English, and English is an official language in all these four countries. The more people that know English, the better our chances to target the right people with our ads.</li>\n",
    "</ul>"
   ]
  },
  {
   "cell_type": "markdown",
   "metadata": {},
   "source": [
    "First, let's compute the amount of money that each student has spent per mounth:"
   ]
  },
  {
   "cell_type": "code",
   "execution_count": 26,
   "metadata": {},
   "outputs": [
    {
     "data": {
      "text/html": [
       "<div>\n",
       "<style scoped>\n",
       "    .dataframe tbody tr th:only-of-type {\n",
       "        vertical-align: middle;\n",
       "    }\n",
       "\n",
       "    .dataframe tbody tr th {\n",
       "        vertical-align: top;\n",
       "    }\n",
       "\n",
       "    .dataframe thead th {\n",
       "        text-align: right;\n",
       "    }\n",
       "</style>\n",
       "<table border=\"1\" class=\"dataframe\">\n",
       "  <thead>\n",
       "    <tr style=\"text-align: right;\">\n",
       "      <th></th>\n",
       "      <th>MoneyForLearning</th>\n",
       "      <th>MonthsProgramming</th>\n",
       "    </tr>\n",
       "  </thead>\n",
       "  <tbody>\n",
       "    <tr>\n",
       "      <th>1</th>\n",
       "      <td>80.0</td>\n",
       "      <td>6.0</td>\n",
       "    </tr>\n",
       "    <tr>\n",
       "      <th>2</th>\n",
       "      <td>1000.0</td>\n",
       "      <td>5.0</td>\n",
       "    </tr>\n",
       "    <tr>\n",
       "      <th>3</th>\n",
       "      <td>0.0</td>\n",
       "      <td>5.0</td>\n",
       "    </tr>\n",
       "    <tr>\n",
       "      <th>4</th>\n",
       "      <td>0.0</td>\n",
       "      <td>24.0</td>\n",
       "    </tr>\n",
       "    <tr>\n",
       "      <th>6</th>\n",
       "      <td>0.0</td>\n",
       "      <td>12.0</td>\n",
       "    </tr>\n",
       "    <tr>\n",
       "      <th>...</th>\n",
       "      <td>...</td>\n",
       "      <td>...</td>\n",
       "    </tr>\n",
       "    <tr>\n",
       "      <th>18161</th>\n",
       "      <td>0.0</td>\n",
       "      <td>6.0</td>\n",
       "    </tr>\n",
       "    <tr>\n",
       "      <th>18162</th>\n",
       "      <td>0.0</td>\n",
       "      <td>84.0</td>\n",
       "    </tr>\n",
       "    <tr>\n",
       "      <th>18163</th>\n",
       "      <td>0.0</td>\n",
       "      <td>NaN</td>\n",
       "    </tr>\n",
       "    <tr>\n",
       "      <th>18171</th>\n",
       "      <td>10000.0</td>\n",
       "      <td>1.0</td>\n",
       "    </tr>\n",
       "    <tr>\n",
       "      <th>18174</th>\n",
       "      <td>NaN</td>\n",
       "      <td>10.0</td>\n",
       "    </tr>\n",
       "  </tbody>\n",
       "</table>\n",
       "<p>6992 rows × 2 columns</p>\n",
       "</div>"
      ],
      "text/plain": [
       "       MoneyForLearning  MonthsProgramming\n",
       "1                  80.0                6.0\n",
       "2                1000.0                5.0\n",
       "3                   0.0                5.0\n",
       "4                   0.0               24.0\n",
       "6                   0.0               12.0\n",
       "...                 ...                ...\n",
       "18161               0.0                6.0\n",
       "18162               0.0               84.0\n",
       "18163               0.0                NaN\n",
       "18171           10000.0                1.0\n",
       "18174               NaN               10.0\n",
       "\n",
       "[6992 rows x 2 columns]"
      ]
     },
     "execution_count": 26,
     "metadata": {},
     "output_type": "execute_result"
    }
   ],
   "source": [
    "roles_df[['MoneyForLearning', 'MonthsProgramming']]"
   ]
  },
  {
   "cell_type": "code",
   "execution_count": 27,
   "metadata": {},
   "outputs": [
    {
     "data": {
      "text/html": [
       "<div>\n",
       "<style scoped>\n",
       "    .dataframe tbody tr th:only-of-type {\n",
       "        vertical-align: middle;\n",
       "    }\n",
       "\n",
       "    .dataframe tbody tr th {\n",
       "        vertical-align: top;\n",
       "    }\n",
       "\n",
       "    .dataframe thead th {\n",
       "        text-align: right;\n",
       "    }\n",
       "</style>\n",
       "<table border=\"1\" class=\"dataframe\">\n",
       "  <thead>\n",
       "    <tr style=\"text-align: right;\">\n",
       "      <th></th>\n",
       "      <th>MoneyForLearning</th>\n",
       "      <th>MonthsProgramming</th>\n",
       "      <th>MoneyPerMonth</th>\n",
       "    </tr>\n",
       "  </thead>\n",
       "  <tbody>\n",
       "    <tr>\n",
       "      <th>1</th>\n",
       "      <td>80.0</td>\n",
       "      <td>6.0</td>\n",
       "      <td>13.333333</td>\n",
       "    </tr>\n",
       "    <tr>\n",
       "      <th>2</th>\n",
       "      <td>1000.0</td>\n",
       "      <td>5.0</td>\n",
       "      <td>200.000000</td>\n",
       "    </tr>\n",
       "    <tr>\n",
       "      <th>3</th>\n",
       "      <td>0.0</td>\n",
       "      <td>5.0</td>\n",
       "      <td>0.000000</td>\n",
       "    </tr>\n",
       "    <tr>\n",
       "      <th>4</th>\n",
       "      <td>0.0</td>\n",
       "      <td>24.0</td>\n",
       "      <td>0.000000</td>\n",
       "    </tr>\n",
       "    <tr>\n",
       "      <th>6</th>\n",
       "      <td>0.0</td>\n",
       "      <td>12.0</td>\n",
       "      <td>0.000000</td>\n",
       "    </tr>\n",
       "    <tr>\n",
       "      <th>...</th>\n",
       "      <td>...</td>\n",
       "      <td>...</td>\n",
       "      <td>...</td>\n",
       "    </tr>\n",
       "    <tr>\n",
       "      <th>18161</th>\n",
       "      <td>0.0</td>\n",
       "      <td>6.0</td>\n",
       "      <td>0.000000</td>\n",
       "    </tr>\n",
       "    <tr>\n",
       "      <th>18162</th>\n",
       "      <td>0.0</td>\n",
       "      <td>84.0</td>\n",
       "      <td>0.000000</td>\n",
       "    </tr>\n",
       "    <tr>\n",
       "      <th>18163</th>\n",
       "      <td>0.0</td>\n",
       "      <td>NaN</td>\n",
       "      <td>NaN</td>\n",
       "    </tr>\n",
       "    <tr>\n",
       "      <th>18171</th>\n",
       "      <td>10000.0</td>\n",
       "      <td>1.0</td>\n",
       "      <td>10000.000000</td>\n",
       "    </tr>\n",
       "    <tr>\n",
       "      <th>18174</th>\n",
       "      <td>NaN</td>\n",
       "      <td>10.0</td>\n",
       "      <td>NaN</td>\n",
       "    </tr>\n",
       "  </tbody>\n",
       "</table>\n",
       "<p>6992 rows × 3 columns</p>\n",
       "</div>"
      ],
      "text/plain": [
       "       MoneyForLearning  MonthsProgramming  MoneyPerMonth\n",
       "1                  80.0                6.0      13.333333\n",
       "2                1000.0                5.0     200.000000\n",
       "3                   0.0                5.0       0.000000\n",
       "4                   0.0               24.0       0.000000\n",
       "6                   0.0               12.0       0.000000\n",
       "...                 ...                ...            ...\n",
       "18161               0.0                6.0       0.000000\n",
       "18162               0.0               84.0       0.000000\n",
       "18163               0.0                NaN            NaN\n",
       "18171           10000.0                1.0   10000.000000\n",
       "18174               NaN               10.0            NaN\n",
       "\n",
       "[6992 rows x 3 columns]"
      ]
     },
     "execution_count": 27,
     "metadata": {},
     "output_type": "execute_result"
    }
   ],
   "source": [
    "roles_df[\"MonthsProgramming\"] = roles_df[\"MonthsProgramming\"].apply(lambda x: 1 if x==0 else x)\n",
    "roles_df[\"MoneyPerMonth\"] = roles_df[\"MoneyForLearning\"] / roles_df[\"MonthsProgramming\"]\n",
    "roles_df[['MoneyForLearning', 'MonthsProgramming', 'MoneyPerMonth']]"
   ]
  },
  {
   "cell_type": "markdown",
   "metadata": {},
   "source": [
    "Since in the next steps of the analysis are needed extactly the information about the country and money per month invested by the learner, the rows with missing values in the **MoneyPerMonth** and **CountryLive** columns will be discarded."
   ]
  },
  {
   "cell_type": "code",
   "execution_count": 28,
   "metadata": {},
   "outputs": [],
   "source": [
    "roles_df = roles_df.dropna(subset=[\"MoneyPerMonth\", \"CountryLive\"])"
   ]
  },
  {
   "cell_type": "markdown",
   "metadata": {},
   "source": [
    "Now, let's find out how much money a student spends on average each month in the US, India, the United Kingdom and Canada."
   ]
  },
  {
   "cell_type": "code",
   "execution_count": 29,
   "metadata": {},
   "outputs": [
    {
     "data": {
      "text/plain": [
       "['United States of America',\n",
       " 'Brazil',\n",
       " 'Portugal',\n",
       " 'United Kingdom',\n",
       " 'Mexico',\n",
       " 'Germany',\n",
       " 'Argentina',\n",
       " 'Venezuela',\n",
       " 'India',\n",
       " 'Canada',\n",
       " 'Australia',\n",
       " 'Egypt',\n",
       " 'Lithuania',\n",
       " 'Finland',\n",
       " 'Bosnia & Herzegovina',\n",
       " 'Netherlands (Holland, Europe)',\n",
       " 'Kenya',\n",
       " 'Switzerland',\n",
       " 'Italy',\n",
       " 'Great Britain',\n",
       " 'Russia',\n",
       " 'China',\n",
       " 'Spain',\n",
       " 'Ireland',\n",
       " 'Poland',\n",
       " 'France',\n",
       " 'Kyrgyzstan',\n",
       " 'Greece',\n",
       " 'Philippines',\n",
       " 'Georgia',\n",
       " 'Turkey',\n",
       " 'Romania',\n",
       " 'Norway',\n",
       " 'Nigeria',\n",
       " 'Peru',\n",
       " 'Iraq',\n",
       " 'Sweden',\n",
       " 'Bulgaria',\n",
       " 'Singapore',\n",
       " 'Ukraine',\n",
       " 'Hungary',\n",
       " 'Austria',\n",
       " 'New Zealand',\n",
       " 'Serbia',\n",
       " 'Bangladesh',\n",
       " 'Honduras',\n",
       " 'Belgium',\n",
       " 'Puerto Rico',\n",
       " 'Denmark',\n",
       " 'Japan',\n",
       " 'Cyprus',\n",
       " 'Ghana',\n",
       " 'Czech Republic',\n",
       " 'Macedonia',\n",
       " 'Costa Rica',\n",
       " 'Tunisia',\n",
       " 'South Africa',\n",
       " 'Albania',\n",
       " 'Malaysia',\n",
       " 'Thailand',\n",
       " 'Iceland',\n",
       " 'Pakistan',\n",
       " 'Guam',\n",
       " 'Indonesia',\n",
       " 'Algeria',\n",
       " 'Senegal',\n",
       " 'Belarus',\n",
       " 'Sri Lanka',\n",
       " 'Israel',\n",
       " 'United Arab Emirates',\n",
       " 'Virgin Islands (USA)',\n",
       " 'Turkmenistan',\n",
       " 'Botswana',\n",
       " 'Croatia',\n",
       " 'Jamaica',\n",
       " 'Hong Kong',\n",
       " 'Taiwan',\n",
       " 'Haiti',\n",
       " 'Ecuador',\n",
       " 'Slovenia',\n",
       " 'Colombia',\n",
       " 'Latvia',\n",
       " 'Bahrain',\n",
       " 'Vietnam',\n",
       " 'Iran',\n",
       " 'Morocco',\n",
       " 'Kazakhstan',\n",
       " 'Korea South',\n",
       " 'Chile',\n",
       " 'Saudi Arabia',\n",
       " 'Yemen',\n",
       " 'Gibraltar',\n",
       " 'Estonia',\n",
       " 'Somalia',\n",
       " 'Uruguay',\n",
       " 'Uganda',\n",
       " 'Nepal',\n",
       " 'Cayman Islands',\n",
       " 'Guadeloupe',\n",
       " 'Dominican Republic',\n",
       " 'Papua New Guinea',\n",
       " 'Lebanon',\n",
       " 'Luxembourg',\n",
       " 'Zimbabwe',\n",
       " 'Slovakia',\n",
       " 'Trinidad & Tobago',\n",
       " 'Mauritius',\n",
       " 'Cambodia',\n",
       " 'Netherland Antilles',\n",
       " 'Niger',\n",
       " 'Azerbaijan',\n",
       " 'Afghanistan',\n",
       " 'Paraguay',\n",
       " 'Guatemala',\n",
       " 'Republic of Serbia',\n",
       " 'Myanmar',\n",
       " 'Rwanda',\n",
       " 'Uzbekistan',\n",
       " 'Jordan',\n",
       " 'Angola',\n",
       " 'Nambia',\n",
       " 'Samoa',\n",
       " 'Channel Islands',\n",
       " 'Cameroon',\n",
       " 'Cuba',\n",
       " 'Vanuatu',\n",
       " 'Moldova',\n",
       " 'Anguilla',\n",
       " 'Mozambique',\n",
       " 'Nicaragua',\n",
       " 'Gambia']"
      ]
     },
     "execution_count": 29,
     "metadata": {},
     "output_type": "execute_result"
    }
   ],
   "source": [
    "roles_df[\"CountryLive\"].unique().tolist()"
   ]
  },
  {
   "cell_type": "code",
   "execution_count": 30,
   "metadata": {},
   "outputs": [],
   "source": [
    "roles_df = roles_df[roles_df[\"CountryLive\"].isin(['United States of America', 'United Kingdom', 'Canada', 'India'])]"
   ]
  },
  {
   "cell_type": "code",
   "execution_count": 31,
   "metadata": {},
   "outputs": [
    {
     "data": {
      "text/html": [
       "<div>\n",
       "<style scoped>\n",
       "    .dataframe tbody tr th:only-of-type {\n",
       "        vertical-align: middle;\n",
       "    }\n",
       "\n",
       "    .dataframe tbody tr th {\n",
       "        vertical-align: top;\n",
       "    }\n",
       "\n",
       "    .dataframe thead th {\n",
       "        text-align: right;\n",
       "    }\n",
       "</style>\n",
       "<table border=\"1\" class=\"dataframe\">\n",
       "  <thead>\n",
       "    <tr style=\"text-align: right;\">\n",
       "      <th></th>\n",
       "      <th>MoneyPerMonth</th>\n",
       "    </tr>\n",
       "    <tr>\n",
       "      <th>CountryLive</th>\n",
       "      <th></th>\n",
       "    </tr>\n",
       "  </thead>\n",
       "  <tbody>\n",
       "    <tr>\n",
       "      <th>United Kingdom</th>\n",
       "      <td>45.53</td>\n",
       "    </tr>\n",
       "    <tr>\n",
       "      <th>Canada</th>\n",
       "      <td>113.51</td>\n",
       "    </tr>\n",
       "    <tr>\n",
       "      <th>India</th>\n",
       "      <td>135.10</td>\n",
       "    </tr>\n",
       "    <tr>\n",
       "      <th>United States of America</th>\n",
       "      <td>228.00</td>\n",
       "    </tr>\n",
       "  </tbody>\n",
       "</table>\n",
       "</div>"
      ],
      "text/plain": [
       "                          MoneyPerMonth\n",
       "CountryLive                            \n",
       "United Kingdom                    45.53\n",
       "Canada                           113.51\n",
       "India                            135.10\n",
       "United States of America         228.00"
      ]
     },
     "execution_count": 31,
     "metadata": {},
     "output_type": "execute_result"
    }
   ],
   "source": [
    "pd.DataFrame(round(roles_df.groupby(\"CountryLive\")[\"MoneyPerMonth\"].mean().sort_values(), 2))"
   ]
  },
  {
   "cell_type": "code",
   "execution_count": 32,
   "metadata": {},
   "outputs": [
    {
     "data": {
      "text/html": [
       "<div>\n",
       "<style scoped>\n",
       "    .dataframe tbody tr th:only-of-type {\n",
       "        vertical-align: middle;\n",
       "    }\n",
       "\n",
       "    .dataframe tbody tr th {\n",
       "        vertical-align: top;\n",
       "    }\n",
       "\n",
       "    .dataframe thead th {\n",
       "        text-align: right;\n",
       "    }\n",
       "</style>\n",
       "<table border=\"1\" class=\"dataframe\">\n",
       "  <thead>\n",
       "    <tr style=\"text-align: right;\">\n",
       "      <th></th>\n",
       "      <th>MoneyPerMonth</th>\n",
       "    </tr>\n",
       "    <tr>\n",
       "      <th>CountryLive</th>\n",
       "      <th></th>\n",
       "    </tr>\n",
       "  </thead>\n",
       "  <tbody>\n",
       "    <tr>\n",
       "      <th>Canada</th>\n",
       "      <td>0.00</td>\n",
       "    </tr>\n",
       "    <tr>\n",
       "      <th>India</th>\n",
       "      <td>0.00</td>\n",
       "    </tr>\n",
       "    <tr>\n",
       "      <th>United Kingdom</th>\n",
       "      <td>0.00</td>\n",
       "    </tr>\n",
       "    <tr>\n",
       "      <th>United States of America</th>\n",
       "      <td>3.33</td>\n",
       "    </tr>\n",
       "  </tbody>\n",
       "</table>\n",
       "</div>"
      ],
      "text/plain": [
       "                          MoneyPerMonth\n",
       "CountryLive                            \n",
       "Canada                             0.00\n",
       "India                              0.00\n",
       "United Kingdom                     0.00\n",
       "United States of America           3.33"
      ]
     },
     "execution_count": 32,
     "metadata": {},
     "output_type": "execute_result"
    }
   ],
   "source": [
    "pd.DataFrame(round(roles_df.groupby(\"CountryLive\")[\"MoneyPerMonth\"].median().sort_values(), 2))"
   ]
  },
  {
   "cell_type": "markdown",
   "metadata": {},
   "source": [
    "From the listed **means** for each country, we can observe that **United Kingdom** and **Canada** means are surprisingly low relative to the values we see for **India**. If we considered a few socio-economical metrics (like <a href=\"https://en.wikipedia.org/wiki/List_of_countries_by_GDP_(PPP)_per_capita#Lists_of_countries_and_dependencies\">GDP per capita</a>), we'd intuitively expect people in the UK and Canada to spend more on learning than people in India. It might be that we don't have enough representative data for the United Kingdom, Canada, and India, or we have some outliers (maybe coming from wrong survey answers) making the mean too big for India, or too low for the UK and Canada. Or it might be that the results are correct.\n",
    "\n",
    "From the **median** for the **MoneyPerMounth** spent for each country, we can see that at the moment of the survey at least half of the potential customers in Canada, India, and United Kingdom had spent nothing on their learning resources. This fact means that probably these learners are learning to program from free platforms like Youtube or other resources. Statistically speaking, the resulting median values show that the distributions of money per month for each country are severely right-skewed, most probably with a lot of upper outliers, and the mean values strongly influenced by both very high values of the upper outliers and a huge amount of 0 values in the distribution."
   ]
  },
  {
   "cell_type": "markdown",
   "metadata": {},
   "source": [
    "### Identify Extreme Outliers"
   ]
  },
  {
   "cell_type": "code",
   "execution_count": 33,
   "metadata": {},
   "outputs": [
    {
     "data": {
      "image/png": "[encoded data removed]",
      "text/plain": [
       "<Figure size 1440x720 with 1 Axes>"
      ]
     },
     "metadata": {},
     "output_type": "display_data"
    }
   ],
   "source": [
    "create_box_plot(\"CountryLive\", \"MoneyPerMonth\", roles_df, sigbar_x=-17500)"
   ]
  },
  {
   "cell_type": "markdown",
   "metadata": {},
   "source": [
    "USA shows two extremely high value for Investments made per month. Although possible, these values seem unlikely and hence are eliminated outright."
   ]
  },
  {
   "cell_type": "code",
   "execution_count": 34,
   "metadata": {},
   "outputs": [],
   "source": [
    "roles_df = roles_df[roles_df[\"MoneyPerMonth\"] < 20000]"
   ]
  },
  {
   "cell_type": "markdown",
   "metadata": {},
   "source": [
    "Now let's recompute the mean values and plot the box plots again."
   ]
  },
  {
   "cell_type": "code",
   "execution_count": 35,
   "metadata": {},
   "outputs": [
    {
     "data": {
      "text/html": [
       "<div>\n",
       "<style scoped>\n",
       "    .dataframe tbody tr th:only-of-type {\n",
       "        vertical-align: middle;\n",
       "    }\n",
       "\n",
       "    .dataframe tbody tr th {\n",
       "        vertical-align: top;\n",
       "    }\n",
       "\n",
       "    .dataframe thead th {\n",
       "        text-align: right;\n",
       "    }\n",
       "</style>\n",
       "<table border=\"1\" class=\"dataframe\">\n",
       "  <thead>\n",
       "    <tr style=\"text-align: right;\">\n",
       "      <th></th>\n",
       "      <th>MoneyPerMonth</th>\n",
       "    </tr>\n",
       "    <tr>\n",
       "      <th>CountryLive</th>\n",
       "      <th></th>\n",
       "    </tr>\n",
       "  </thead>\n",
       "  <tbody>\n",
       "    <tr>\n",
       "      <th>United Kingdom</th>\n",
       "      <td>45.53</td>\n",
       "    </tr>\n",
       "    <tr>\n",
       "      <th>Canada</th>\n",
       "      <td>113.51</td>\n",
       "    </tr>\n",
       "    <tr>\n",
       "      <th>India</th>\n",
       "      <td>135.10</td>\n",
       "    </tr>\n",
       "    <tr>\n",
       "      <th>United States of America</th>\n",
       "      <td>183.80</td>\n",
       "    </tr>\n",
       "  </tbody>\n",
       "</table>\n",
       "</div>"
      ],
      "text/plain": [
       "                          MoneyPerMonth\n",
       "CountryLive                            \n",
       "United Kingdom                    45.53\n",
       "Canada                           113.51\n",
       "India                            135.10\n",
       "United States of America         183.80"
      ]
     },
     "execution_count": 35,
     "metadata": {},
     "output_type": "execute_result"
    }
   ],
   "source": [
    "pd.DataFrame(round(roles_df.groupby(\"CountryLive\")[\"MoneyPerMonth\"].mean().sort_values(), 2))"
   ]
  },
  {
   "cell_type": "code",
   "execution_count": 36,
   "metadata": {},
   "outputs": [
    {
     "data": {
      "image/png": "[encoded data removed]",
      "text/plain": [
       "<Figure size 1440x720 with 1 Axes>"
      ]
     },
     "metadata": {},
     "output_type": "display_data"
    }
   ],
   "source": [
    "create_box_plot(\"CountryLive\", \"MoneyPerMonth\", roles_df, sigbar_x=-3500)"
   ]
  },
  {
   "cell_type": "markdown",
   "metadata": {},
   "source": [
    "Exceptuating **United Kingdom** in the previous box plot all the countries have outliers, in the next section each country outliers will be analyzed deeply."
   ]
  },
  {
   "cell_type": "markdown",
   "metadata": {},
   "source": [
    "### Examining United States Outliers"
   ]
  },
  {
   "cell_type": "markdown",
   "metadata": {},
   "source": [
    "In the box plot above, we can see more extreme outliers for the US (values over **6000** dollars per month). Let's examine these participants in more detail."
   ]
  },
  {
   "cell_type": "code",
   "execution_count": 37,
   "metadata": {},
   "outputs": [
    {
     "data": {
      "text/html": [
       "<div>\n",
       "<style scoped>\n",
       "    .dataframe tbody tr th:only-of-type {\n",
       "        vertical-align: middle;\n",
       "    }\n",
       "\n",
       "    .dataframe tbody tr th {\n",
       "        vertical-align: top;\n",
       "    }\n",
       "\n",
       "    .dataframe thead th {\n",
       "        text-align: right;\n",
       "    }\n",
       "</style>\n",
       "<table border=\"1\" class=\"dataframe\">\n",
       "  <thead>\n",
       "    <tr style=\"text-align: right;\">\n",
       "      <th></th>\n",
       "      <th>AttendedBootcamp</th>\n",
       "      <th>EmploymentField</th>\n",
       "      <th>EmploymentStatus</th>\n",
       "      <th>HasDebt</th>\n",
       "      <th>HoursLearning</th>\n",
       "    </tr>\n",
       "  </thead>\n",
       "  <tbody>\n",
       "    <tr>\n",
       "      <th>718</th>\n",
       "      <td>1.0</td>\n",
       "      <td>architecture or physical engineering</td>\n",
       "      <td>Employed for wages</td>\n",
       "      <td>0.0</td>\n",
       "      <td>35.0</td>\n",
       "    </tr>\n",
       "    <tr>\n",
       "      <th>1222</th>\n",
       "      <td>1.0</td>\n",
       "      <td>NaN</td>\n",
       "      <td>Not working and not looking for work</td>\n",
       "      <td>1.0</td>\n",
       "      <td>50.0</td>\n",
       "    </tr>\n",
       "    <tr>\n",
       "      <th>3184</th>\n",
       "      <td>1.0</td>\n",
       "      <td>software development and IT</td>\n",
       "      <td>Employed for wages</td>\n",
       "      <td>0.0</td>\n",
       "      <td>10.0</td>\n",
       "    </tr>\n",
       "    <tr>\n",
       "      <th>3930</th>\n",
       "      <td>0.0</td>\n",
       "      <td>NaN</td>\n",
       "      <td>Not working and not looking for work</td>\n",
       "      <td>1.0</td>\n",
       "      <td>50.0</td>\n",
       "    </tr>\n",
       "    <tr>\n",
       "      <th>6805</th>\n",
       "      <td>1.0</td>\n",
       "      <td>NaN</td>\n",
       "      <td>Not working but looking for work</td>\n",
       "      <td>1.0</td>\n",
       "      <td>45.0</td>\n",
       "    </tr>\n",
       "    <tr>\n",
       "      <th>7198</th>\n",
       "      <td>0.0</td>\n",
       "      <td>education</td>\n",
       "      <td>Employed for wages</td>\n",
       "      <td>1.0</td>\n",
       "      <td>4.0</td>\n",
       "    </tr>\n",
       "    <tr>\n",
       "      <th>7505</th>\n",
       "      <td>1.0</td>\n",
       "      <td>NaN</td>\n",
       "      <td>Not working but looking for work</td>\n",
       "      <td>1.0</td>\n",
       "      <td>40.0</td>\n",
       "    </tr>\n",
       "    <tr>\n",
       "      <th>9778</th>\n",
       "      <td>1.0</td>\n",
       "      <td>education</td>\n",
       "      <td>Employed for wages</td>\n",
       "      <td>1.0</td>\n",
       "      <td>40.0</td>\n",
       "    </tr>\n",
       "    <tr>\n",
       "      <th>16650</th>\n",
       "      <td>0.0</td>\n",
       "      <td>NaN</td>\n",
       "      <td>Not working but looking for work</td>\n",
       "      <td>1.0</td>\n",
       "      <td>40.0</td>\n",
       "    </tr>\n",
       "    <tr>\n",
       "      <th>16997</th>\n",
       "      <td>0.0</td>\n",
       "      <td>health care</td>\n",
       "      <td>Employed for wages</td>\n",
       "      <td>1.0</td>\n",
       "      <td>12.0</td>\n",
       "    </tr>\n",
       "    <tr>\n",
       "      <th>17231</th>\n",
       "      <td>0.0</td>\n",
       "      <td>NaN</td>\n",
       "      <td>Not working but looking for work</td>\n",
       "      <td>0.0</td>\n",
       "      <td>1.0</td>\n",
       "    </tr>\n",
       "  </tbody>\n",
       "</table>\n",
       "</div>"
      ],
      "text/plain": [
       "       AttendedBootcamp                       EmploymentField  \\\n",
       "718                 1.0  architecture or physical engineering   \n",
       "1222                1.0                                   NaN   \n",
       "3184                1.0           software development and IT   \n",
       "3930                0.0                                   NaN   \n",
       "6805                1.0                                   NaN   \n",
       "7198                0.0                             education   \n",
       "7505                1.0                                   NaN   \n",
       "9778                1.0                             education   \n",
       "16650               0.0                                   NaN   \n",
       "16997               0.0                           health care   \n",
       "17231               0.0                                   NaN   \n",
       "\n",
       "                           EmploymentStatus  HasDebt  HoursLearning  \n",
       "718                      Employed for wages      0.0           35.0  \n",
       "1222   Not working and not looking for work      1.0           50.0  \n",
       "3184                     Employed for wages      0.0           10.0  \n",
       "3930   Not working and not looking for work      1.0           50.0  \n",
       "6805       Not working but looking for work      1.0           45.0  \n",
       "7198                     Employed for wages      1.0            4.0  \n",
       "7505       Not working but looking for work      1.0           40.0  \n",
       "9778                     Employed for wages      1.0           40.0  \n",
       "16650      Not working but looking for work      1.0           40.0  \n",
       "16997                    Employed for wages      1.0           12.0  \n",
       "17231      Not working but looking for work      0.0            1.0  "
      ]
     },
     "execution_count": 37,
     "metadata": {},
     "output_type": "execute_result"
    }
   ],
   "source": [
    "roles_df[(roles_df[\"CountryLive\"] == \"United States of America\") & \n",
    "         (roles_df[\"MoneyPerMonth\"] >= 6000)][['AttendedBootcamp', 'EmploymentField', 'EmploymentStatus', 'HasDebt', 'HoursLearning']]"
   ]
  },
  {
   "cell_type": "markdown",
   "metadata": {},
   "source": [
    "Out of these **11** extreme outliers, six people attended boot camps, which justify the large sums of money spent on learning. For the other five, it's hard to figure out from the data where they could have spent that much money on learning. Consequently, we'll remove those rows where participants reported that they spend **6000** dollars each month, but they have never attended a boot camp.\n",
    "\n",
    "Also, the data shows that eight respondents had been programming for no more than three months when they completed the survey. They most likely paid a large sum of money for a boot camp that was going to last for several months, so the amount of money spent per month is unrealistic and should be significantly lower. As a consequence, we'll remove all these eight outliers.\n",
    "\n",
    "In the next code block, we'll remove respondents that:\n",
    "<ul>\n",
    "    <li>Didn't attend bootcamps.</li>\n",
    "    <li>Had been programming for three months or less when at the time they completed the survey.</li>\n",
    "<ul>"
   ]
  },
  {
   "cell_type": "code",
   "execution_count": 38,
   "metadata": {},
   "outputs": [],
   "source": [
    "# Remove the respondents who didn't attendent a bootcamp\n",
    "no_bootcamp = roles_df[\n",
    "    (roles_df['CountryLive'] == 'United States of America') & \n",
    "    (roles_df['MoneyPerMonth'] >= 6000) &\n",
    "    (roles_df['AttendedBootcamp'] == 0)\n",
    "]\n",
    "\n",
    "roles_df = roles_df.drop(no_bootcamp.index)\n",
    "\n",
    "\n",
    "# Remove the respondents that had been programming for less than 3 months\n",
    "less_than_3_months = roles_df[\n",
    "    (roles_df['CountryLive'] == 'United States of America') & \n",
    "    (roles_df['MoneyPerMonth'] >= 6000) &\n",
    "    (roles_df['MonthsProgramming'] <= 3)\n",
    "]\n",
    "\n",
    "roles_df = roles_df.drop(less_than_3_months.index)"
   ]
  },
  {
   "cell_type": "markdown",
   "metadata": {},
   "source": [
    "### Examining India Outliers"
   ]
  },
  {
   "cell_type": "markdown",
   "metadata": {},
   "source": [
    "In the previous boxplot, we can see a few extreme outliers for India (values over **2500** dollars per month), but it's unclear whether this is good data or not. Maybe these persons attended several boot camps, which tend to be very expensive. Let's examine these two data points to see if we can find anything relevant."
   ]
  },
  {
   "cell_type": "code",
   "execution_count": 39,
   "metadata": {},
   "outputs": [
    {
     "data": {
      "text/html": [
       "<div>\n",
       "<style scoped>\n",
       "    .dataframe tbody tr th:only-of-type {\n",
       "        vertical-align: middle;\n",
       "    }\n",
       "\n",
       "    .dataframe tbody tr th {\n",
       "        vertical-align: top;\n",
       "    }\n",
       "\n",
       "    .dataframe thead th {\n",
       "        text-align: right;\n",
       "    }\n",
       "</style>\n",
       "<table border=\"1\" class=\"dataframe\">\n",
       "  <thead>\n",
       "    <tr style=\"text-align: right;\">\n",
       "      <th></th>\n",
       "      <th>Age</th>\n",
       "      <th>AttendedBootcamp</th>\n",
       "      <th>CountryCitizen</th>\n",
       "      <th>CountryLive</th>\n",
       "      <th>EmploymentField</th>\n",
       "      <th>EmploymentStatus</th>\n",
       "      <th>Gender</th>\n",
       "      <th>HasChildren</th>\n",
       "      <th>HasDebt</th>\n",
       "      <th>HasFinancialDependents</th>\n",
       "      <th>...</th>\n",
       "      <th>HoursLearning</th>\n",
       "      <th>Income</th>\n",
       "      <th>JobRoleInterest</th>\n",
       "      <th>MaritalStatus</th>\n",
       "      <th>MoneyForLearning</th>\n",
       "      <th>MonthsProgramming</th>\n",
       "      <th>SchoolDegree</th>\n",
       "      <th>SchoolMajor</th>\n",
       "      <th>SeveralRoles</th>\n",
       "      <th>MoneyPerMonth</th>\n",
       "    </tr>\n",
       "  </thead>\n",
       "  <tbody>\n",
       "    <tr>\n",
       "      <th>1728</th>\n",
       "      <td>24.0</td>\n",
       "      <td>0.0</td>\n",
       "      <td>India</td>\n",
       "      <td>India</td>\n",
       "      <td>NaN</td>\n",
       "      <td>A stay-at-home parent or homemaker</td>\n",
       "      <td>male</td>\n",
       "      <td>NaN</td>\n",
       "      <td>0.0</td>\n",
       "      <td>0.0</td>\n",
       "      <td>...</td>\n",
       "      <td>30.0</td>\n",
       "      <td>NaN</td>\n",
       "      <td>[  User Experience Designer,    Mobile Develop...</td>\n",
       "      <td>single, never married</td>\n",
       "      <td>20000.0</td>\n",
       "      <td>4.0</td>\n",
       "      <td>bachelor's degree</td>\n",
       "      <td>Computer Programming</td>\n",
       "      <td>True</td>\n",
       "      <td>5000.000000</td>\n",
       "    </tr>\n",
       "    <tr>\n",
       "      <th>1755</th>\n",
       "      <td>20.0</td>\n",
       "      <td>0.0</td>\n",
       "      <td>India</td>\n",
       "      <td>India</td>\n",
       "      <td>NaN</td>\n",
       "      <td>Not working and not looking for work</td>\n",
       "      <td>male</td>\n",
       "      <td>NaN</td>\n",
       "      <td>0.0</td>\n",
       "      <td>0.0</td>\n",
       "      <td>...</td>\n",
       "      <td>10.0</td>\n",
       "      <td>NaN</td>\n",
       "      <td>[Information Security,  Full-Stack Web Develop...</td>\n",
       "      <td>single, never married</td>\n",
       "      <td>50000.0</td>\n",
       "      <td>15.0</td>\n",
       "      <td>bachelor's degree</td>\n",
       "      <td>Computer Science</td>\n",
       "      <td>True</td>\n",
       "      <td>3333.333333</td>\n",
       "    </tr>\n",
       "    <tr>\n",
       "      <th>7989</th>\n",
       "      <td>28.0</td>\n",
       "      <td>0.0</td>\n",
       "      <td>India</td>\n",
       "      <td>India</td>\n",
       "      <td>software development and IT</td>\n",
       "      <td>Employed for wages</td>\n",
       "      <td>male</td>\n",
       "      <td>0.0</td>\n",
       "      <td>1.0</td>\n",
       "      <td>1.0</td>\n",
       "      <td>...</td>\n",
       "      <td>20.0</td>\n",
       "      <td>300000.0</td>\n",
       "      <td>[  User Experience Designer,  Back-End Web Dev...</td>\n",
       "      <td>married or domestic partnership</td>\n",
       "      <td>5000.0</td>\n",
       "      <td>1.0</td>\n",
       "      <td>bachelor's degree</td>\n",
       "      <td>Aerospace and Aeronautical Engineering</td>\n",
       "      <td>True</td>\n",
       "      <td>5000.000000</td>\n",
       "    </tr>\n",
       "    <tr>\n",
       "      <th>8126</th>\n",
       "      <td>22.0</td>\n",
       "      <td>0.0</td>\n",
       "      <td>India</td>\n",
       "      <td>India</td>\n",
       "      <td>NaN</td>\n",
       "      <td>Not working but looking for work</td>\n",
       "      <td>male</td>\n",
       "      <td>NaN</td>\n",
       "      <td>1.0</td>\n",
       "      <td>0.0</td>\n",
       "      <td>...</td>\n",
       "      <td>80.0</td>\n",
       "      <td>NaN</td>\n",
       "      <td>[Back-End Web Developer,  Full-Stack Web Devel...</td>\n",
       "      <td>single, never married</td>\n",
       "      <td>5000.0</td>\n",
       "      <td>1.0</td>\n",
       "      <td>bachelor's degree</td>\n",
       "      <td>Electrical and Electronics Engineering</td>\n",
       "      <td>True</td>\n",
       "      <td>5000.000000</td>\n",
       "    </tr>\n",
       "    <tr>\n",
       "      <th>13398</th>\n",
       "      <td>19.0</td>\n",
       "      <td>0.0</td>\n",
       "      <td>India</td>\n",
       "      <td>India</td>\n",
       "      <td>NaN</td>\n",
       "      <td>Unable to work</td>\n",
       "      <td>male</td>\n",
       "      <td>NaN</td>\n",
       "      <td>0.0</td>\n",
       "      <td>0.0</td>\n",
       "      <td>...</td>\n",
       "      <td>30.0</td>\n",
       "      <td>NaN</td>\n",
       "      <td>[  Mobile Developer]</td>\n",
       "      <td>single, never married</td>\n",
       "      <td>20000.0</td>\n",
       "      <td>2.0</td>\n",
       "      <td>bachelor's degree</td>\n",
       "      <td>Computer Science</td>\n",
       "      <td>False</td>\n",
       "      <td>10000.000000</td>\n",
       "    </tr>\n",
       "    <tr>\n",
       "      <th>15587</th>\n",
       "      <td>27.0</td>\n",
       "      <td>0.0</td>\n",
       "      <td>India</td>\n",
       "      <td>India</td>\n",
       "      <td>software development and IT</td>\n",
       "      <td>Employed for wages</td>\n",
       "      <td>male</td>\n",
       "      <td>0.0</td>\n",
       "      <td>1.0</td>\n",
       "      <td>1.0</td>\n",
       "      <td>...</td>\n",
       "      <td>36.0</td>\n",
       "      <td>60000.0</td>\n",
       "      <td>[Full-Stack Web Developer,    Data Scientist]</td>\n",
       "      <td>single, never married</td>\n",
       "      <td>100000.0</td>\n",
       "      <td>24.0</td>\n",
       "      <td>bachelor's degree</td>\n",
       "      <td>Communications</td>\n",
       "      <td>True</td>\n",
       "      <td>4166.666667</td>\n",
       "    </tr>\n",
       "  </tbody>\n",
       "</table>\n",
       "<p>6 rows × 22 columns</p>\n",
       "</div>"
      ],
      "text/plain": [
       "        Age  AttendedBootcamp CountryCitizen CountryLive  \\\n",
       "1728   24.0               0.0          India       India   \n",
       "1755   20.0               0.0          India       India   \n",
       "7989   28.0               0.0          India       India   \n",
       "8126   22.0               0.0          India       India   \n",
       "13398  19.0               0.0          India       India   \n",
       "15587  27.0               0.0          India       India   \n",
       "\n",
       "                   EmploymentField                      EmploymentStatus  \\\n",
       "1728                           NaN    A stay-at-home parent or homemaker   \n",
       "1755                           NaN  Not working and not looking for work   \n",
       "7989   software development and IT                    Employed for wages   \n",
       "8126                           NaN      Not working but looking for work   \n",
       "13398                          NaN                        Unable to work   \n",
       "15587  software development and IT                    Employed for wages   \n",
       "\n",
       "      Gender  HasChildren  HasDebt  HasFinancialDependents  ...  \\\n",
       "1728    male          NaN      0.0                     0.0  ...   \n",
       "1755    male          NaN      0.0                     0.0  ...   \n",
       "7989    male          0.0      1.0                     1.0  ...   \n",
       "8126    male          NaN      1.0                     0.0  ...   \n",
       "13398   male          NaN      0.0                     0.0  ...   \n",
       "15587   male          0.0      1.0                     1.0  ...   \n",
       "\n",
       "       HoursLearning    Income  \\\n",
       "1728            30.0       NaN   \n",
       "1755            10.0       NaN   \n",
       "7989            20.0  300000.0   \n",
       "8126            80.0       NaN   \n",
       "13398           30.0       NaN   \n",
       "15587           36.0   60000.0   \n",
       "\n",
       "                                         JobRoleInterest  \\\n",
       "1728   [  User Experience Designer,    Mobile Develop...   \n",
       "1755   [Information Security,  Full-Stack Web Develop...   \n",
       "7989   [  User Experience Designer,  Back-End Web Dev...   \n",
       "8126   [Back-End Web Developer,  Full-Stack Web Devel...   \n",
       "13398                               [  Mobile Developer]   \n",
       "15587      [Full-Stack Web Developer,    Data Scientist]   \n",
       "\n",
       "                         MaritalStatus MoneyForLearning MonthsProgramming  \\\n",
       "1728             single, never married          20000.0               4.0   \n",
       "1755             single, never married          50000.0              15.0   \n",
       "7989   married or domestic partnership           5000.0               1.0   \n",
       "8126             single, never married           5000.0               1.0   \n",
       "13398            single, never married          20000.0               2.0   \n",
       "15587            single, never married         100000.0              24.0   \n",
       "\n",
       "            SchoolDegree                             SchoolMajor SeveralRoles  \\\n",
       "1728   bachelor's degree                    Computer Programming         True   \n",
       "1755   bachelor's degree                        Computer Science         True   \n",
       "7989   bachelor's degree  Aerospace and Aeronautical Engineering         True   \n",
       "8126   bachelor's degree  Electrical and Electronics Engineering         True   \n",
       "13398  bachelor's degree                        Computer Science        False   \n",
       "15587  bachelor's degree                          Communications         True   \n",
       "\n",
       "      MoneyPerMonth  \n",
       "1728    5000.000000  \n",
       "1755    3333.333333  \n",
       "7989    5000.000000  \n",
       "8126    5000.000000  \n",
       "13398  10000.000000  \n",
       "15587   4166.666667  \n",
       "\n",
       "[6 rows x 22 columns]"
      ]
     },
     "execution_count": 39,
     "metadata": {},
     "output_type": "execute_result"
    }
   ],
   "source": [
    "roles_df[(roles_df[\"CountryLive\"] == \"India\") & (roles_df[\"MoneyPerMonth\"] >= 2500)]"
   ]
  },
  {
   "cell_type": "markdown",
   "metadata": {},
   "source": [
    "Overall, it's really hard to figure out from the data whether these persons spent that much money on learning. The actual question of the survey was **\"Aside from university tuition, about how much money have you spent on learning to code so far (in US dollars)?\"**, so they might have misunderstood and thought university tuition is included. It seems reasonable to remove these rows."
   ]
  },
  {
   "cell_type": "code",
   "execution_count": 40,
   "metadata": {},
   "outputs": [],
   "source": [
    "roles_df = roles_df.drop(roles_df[(roles_df[\"CountryLive\"] == \"India\") & (roles_df[\"MoneyPerMonth\"] >= 2500)].index)"
   ]
  },
  {
   "cell_type": "markdown",
   "metadata": {},
   "source": [
    "### Examining Canada Outliers"
   ]
  },
  {
   "cell_type": "markdown",
   "metadata": {},
   "source": [
    "Examining againg the previous box plot, in case of Canada there is only a person who spends **5000** dollars per month. Let's examine this case."
   ]
  },
  {
   "cell_type": "code",
   "execution_count": 41,
   "metadata": {},
   "outputs": [
    {
     "data": {
      "text/html": [
       "<div>\n",
       "<style scoped>\n",
       "    .dataframe tbody tr th:only-of-type {\n",
       "        vertical-align: middle;\n",
       "    }\n",
       "\n",
       "    .dataframe tbody tr th {\n",
       "        vertical-align: top;\n",
       "    }\n",
       "\n",
       "    .dataframe thead th {\n",
       "        text-align: right;\n",
       "    }\n",
       "</style>\n",
       "<table border=\"1\" class=\"dataframe\">\n",
       "  <thead>\n",
       "    <tr style=\"text-align: right;\">\n",
       "      <th></th>\n",
       "      <th>Age</th>\n",
       "      <th>AttendedBootcamp</th>\n",
       "      <th>CountryCitizen</th>\n",
       "      <th>CountryLive</th>\n",
       "      <th>EmploymentField</th>\n",
       "      <th>EmploymentStatus</th>\n",
       "      <th>Gender</th>\n",
       "      <th>HasChildren</th>\n",
       "      <th>HasDebt</th>\n",
       "      <th>HasFinancialDependents</th>\n",
       "      <th>...</th>\n",
       "      <th>HoursLearning</th>\n",
       "      <th>Income</th>\n",
       "      <th>JobRoleInterest</th>\n",
       "      <th>MaritalStatus</th>\n",
       "      <th>MoneyForLearning</th>\n",
       "      <th>MonthsProgramming</th>\n",
       "      <th>SchoolDegree</th>\n",
       "      <th>SchoolMajor</th>\n",
       "      <th>SeveralRoles</th>\n",
       "      <th>MoneyPerMonth</th>\n",
       "    </tr>\n",
       "  </thead>\n",
       "  <tbody>\n",
       "    <tr>\n",
       "      <th>13659</th>\n",
       "      <td>24.0</td>\n",
       "      <td>1.0</td>\n",
       "      <td>Canada</td>\n",
       "      <td>Canada</td>\n",
       "      <td>finance</td>\n",
       "      <td>Employed for wages</td>\n",
       "      <td>male</td>\n",
       "      <td>NaN</td>\n",
       "      <td>1.0</td>\n",
       "      <td>0.0</td>\n",
       "      <td>...</td>\n",
       "      <td>10.0</td>\n",
       "      <td>140000.0</td>\n",
       "      <td>[  Mobile Developer,  Full-Stack Web Developer...</td>\n",
       "      <td>single, never married</td>\n",
       "      <td>10000.0</td>\n",
       "      <td>2.0</td>\n",
       "      <td>bachelor's degree</td>\n",
       "      <td>Finance</td>\n",
       "      <td>True</td>\n",
       "      <td>5000.0</td>\n",
       "    </tr>\n",
       "  </tbody>\n",
       "</table>\n",
       "<p>1 rows × 22 columns</p>\n",
       "</div>"
      ],
      "text/plain": [
       "        Age  AttendedBootcamp CountryCitizen CountryLive EmploymentField  \\\n",
       "13659  24.0               1.0         Canada      Canada         finance   \n",
       "\n",
       "         EmploymentStatus Gender  HasChildren  HasDebt  \\\n",
       "13659  Employed for wages   male          NaN      1.0   \n",
       "\n",
       "       HasFinancialDependents  ...  HoursLearning    Income  \\\n",
       "13659                     0.0  ...           10.0  140000.0   \n",
       "\n",
       "                                         JobRoleInterest  \\\n",
       "13659  [  Mobile Developer,  Full-Stack Web Developer...   \n",
       "\n",
       "               MaritalStatus MoneyForLearning MonthsProgramming  \\\n",
       "13659  single, never married          10000.0               2.0   \n",
       "\n",
       "            SchoolDegree  SchoolMajor SeveralRoles MoneyPerMonth  \n",
       "13659  bachelor's degree      Finance         True        5000.0  \n",
       "\n",
       "[1 rows x 22 columns]"
      ]
     },
     "execution_count": 41,
     "metadata": {},
     "output_type": "execute_result"
    }
   ],
   "source": [
    "roles_df[(roles_df['CountryLive'] == 'Canada') & (roles_df['MoneyPerMonth'] > 4500)]"
   ]
  },
  {
   "cell_type": "markdown",
   "metadata": {},
   "source": [
    "Here, the situation is similar to some of the US respondents — this participant had been programming for no more than two months when he completed the survey. He seems to have paid a large sum of money in the beginning to enroll in a bootcamp, and then he probably didn't spend anything for the next couple of months after the survey. We'll take the same approach here as for the US and remove this outlier."
   ]
  },
  {
   "cell_type": "code",
   "execution_count": 42,
   "metadata": {},
   "outputs": [],
   "source": [
    "roles_df = roles_df.drop(roles_df[(roles_df['CountryLive'] == 'Canada') & (roles_df['MoneyPerMonth'] > 4500)].index)"
   ]
  },
  {
   "cell_type": "markdown",
   "metadata": {},
   "source": [
    "## Statistics Without Extreme Outliers"
   ]
  },
  {
   "cell_type": "markdown",
   "metadata": {},
   "source": [
    "Let's recompute the mean values and generate the final box plots."
   ]
  },
  {
   "cell_type": "code",
   "execution_count": 43,
   "metadata": {},
   "outputs": [
    {
     "data": {
      "text/html": [
       "<div>\n",
       "<style scoped>\n",
       "    .dataframe tbody tr th:only-of-type {\n",
       "        vertical-align: middle;\n",
       "    }\n",
       "\n",
       "    .dataframe tbody tr th {\n",
       "        vertical-align: top;\n",
       "    }\n",
       "\n",
       "    .dataframe thead th {\n",
       "        text-align: right;\n",
       "    }\n",
       "</style>\n",
       "<table border=\"1\" class=\"dataframe\">\n",
       "  <thead>\n",
       "    <tr style=\"text-align: right;\">\n",
       "      <th></th>\n",
       "      <th>MoneyPerMonth</th>\n",
       "    </tr>\n",
       "    <tr>\n",
       "      <th>CountryLive</th>\n",
       "      <th></th>\n",
       "    </tr>\n",
       "  </thead>\n",
       "  <tbody>\n",
       "    <tr>\n",
       "      <th>United Kingdom</th>\n",
       "      <td>45.53</td>\n",
       "    </tr>\n",
       "    <tr>\n",
       "      <th>India</th>\n",
       "      <td>65.76</td>\n",
       "    </tr>\n",
       "    <tr>\n",
       "      <th>Canada</th>\n",
       "      <td>93.07</td>\n",
       "    </tr>\n",
       "    <tr>\n",
       "      <th>United States of America</th>\n",
       "      <td>142.65</td>\n",
       "    </tr>\n",
       "  </tbody>\n",
       "</table>\n",
       "</div>"
      ],
      "text/plain": [
       "                          MoneyPerMonth\n",
       "CountryLive                            \n",
       "United Kingdom                    45.53\n",
       "India                             65.76\n",
       "Canada                            93.07\n",
       "United States of America         142.65"
      ]
     },
     "execution_count": 43,
     "metadata": {},
     "output_type": "execute_result"
    }
   ],
   "source": [
    "pd.DataFrame(round(roles_df.groupby(\"CountryLive\")[\"MoneyPerMonth\"].mean().sort_values(), 2))"
   ]
  },
  {
   "cell_type": "code",
   "execution_count": 44,
   "metadata": {},
   "outputs": [
    {
     "data": {
      "image/png": "[encoded data removed]",
      "text/plain": [
       "<Figure size 1440x720 with 1 Axes>"
      ]
     },
     "metadata": {},
     "output_type": "display_data"
    }
   ],
   "source": [
    "create_box_plot(\"CountryLive\", \"MoneyPerMonth\", roles_df, sigbar_x=-1200)"
   ]
  },
  {
   "cell_type": "markdown",
   "metadata": {},
   "source": [
    "# Conclusion - Choosing The Two Best Markets"
   ]
  },
  {
   "cell_type": "markdown",
   "metadata": {},
   "source": [
    "As it's shown in the **Statistics Without Extreme Outliers** section, the first market where the E-learning company should advertise in is **United States of America** where learners are willing to pay an approximate amount of $143 per month.\n",
    "\n",
    "The E-learn company sells subscriptions at a price of **59** dollars per month. From the previous section, we can discard **United Kingdom** since the learners are willing to pay only **45** dollars per month. \n",
    "\n",
    "In terms of money invested per month by a learner, Canada seems to be the best second choice since people are willing to pay **93** dollars per month. On the other hand **Indian** learners only **66**. Let's take a deeper look before deciding which market to chose.\n",
    "\n",
    "As was shown in :"
   ]
  },
  {
   "cell_type": "code",
   "execution_count": 48,
   "metadata": {},
   "outputs": [
    {
     "data": {
      "text/plain": [
       "Canada                       3.80\n",
       "United Kingdom               4.61\n",
       "India                        7.72\n",
       "United States of America    45.70\n",
       "Name: CountryLive, dtype: float64"
      ]
     },
     "execution_count": 48,
     "metadata": {},
     "output_type": "execute_result"
    }
   ],
   "source": [
    "country_freq.iloc[:4].sort_values()"
   ]
  },
  {
   "cell_type": "markdown",
   "metadata": {},
   "source": [
    "In terms of potential customers, **Untied States of America** is in the first place with **(46%)** followed by a big gap by **India** which has almost twice **(8%)** potential customers than Canada.\n",
    "\n",
    "So it's not crystal clear what to choose between Canada and India. Although it seems more tempting to choose Canada, there are good chances that India might be a better choice because of the large number of potential customers.\n",
    "\n",
    "As usual, after the analysis it seems that we have several options:\n",
    "<ol>\n",
    "    <li>Advertise in the <b>United States of America, India and Canada</b> by splitting the advertisement budget in different combinations.\n",
    "      <ul>\n",
    "          <li>As an example: 60% for the US, 25% for India and 15% for Canda. (Adjusting the percentages to the potencial customers numbers).</li>\n",
    "      </ul>      \n",
    "  </li>\n",
    "    <li>Adverties only in the <b>United States of America and Canada</b>. Also, splitting the advertisment budget propotionally to the number of potentcial learners.\n",
    "       <ul>\n",
    "          <li>As an example: 65% for the US, 35% for Canada.</li>\n",
    "      </ul> \n",
    "  </li>\n",
    "   <li>Adverties only in the <b>United States of America and India</b>. Also, splitting the advertisment budget propotionally to the number of potentcial learners.\n",
    "       <ul>\n",
    "          <li>As an example: 70% for the US, 30% for India.</li>\n",
    "      </ul> \n",
    "  </li>\n",
    "</ol>\n",
    "\n",
    "The advantage of working in an **E-learning** company is the collaboration between multidisciplinary teams. Having done this analysis, the next step will be to send our analysis to the marketing team and let them use their domain knowledge to decide. They might want to do some extra surveys in India and Canada and then get back to us for analyzing the new survey data."
   ]
  }
 ],
 "metadata": {
  "kernelspec": {
   "display_name": "Python 3",
   "language": "python",
   "name": "python3"
  },
  "language_info": {
   "codemirror_mode": {
    "name": "ipython",
    "version": 3
   },
   "file_extension": ".py",
   "mimetype": "text/x-python",
   "name": "python",
   "nbconvert_exporter": "python",
   "pygments_lexer": "ipython3",
   "version": "3.8.10"
  }
 },
 "nbformat": 4,
 "nbformat_minor": 4
}
