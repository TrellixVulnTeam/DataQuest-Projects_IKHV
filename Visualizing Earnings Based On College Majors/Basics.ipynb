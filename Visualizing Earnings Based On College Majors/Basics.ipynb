{
 "cells": [
  {
   "cell_type": "markdown",
   "metadata": {
    "collapsed": true
   },
   "source": [
    "# Visualizing Earnings Based On College Majors"
   ]
  },
  {
   "cell_type": "markdown",
   "metadata": {},
   "source": [
    "The dataset on includes information job outcomes of students who graduated from college between __2010__ and __2012__. The original data on job outcomes was released by <a href=\"https://www.census.gov/programs-surveys/acs/\">American Community Survey</a>, which conducts surveys and aggregates the data. FiveThirtyEight cleaned the dataset and released it on their <a href=\"https://github.com/fivethirtyeight/data/tree/master/college-majors\">Github repo</a>.\n",
    "\n",
    "Each row in the dataset represents a different major in college and contains information on gender diversity, employment rates, median salaries, and more. The dataset columns are:\n",
    "\n",
    "- __Rank:__ Rank by median earnings\n",
    "- __Major_code:__\tMajor code, FO1DP in ACS PUMS\n",
    "- __Major:__\tMajor description\n",
    "- __Major_category:__\tCategory of major from Carnevale et al\n",
    "- __Total:__\tTotal number of people with major\n",
    "- __Sample_size:__\tSample size (unweighted) of full-time, year-round ONLY (used for earnings)\n",
    "- __Men:__\tMale graduates\n",
    "- __Women:__\tFemale graduates\n",
    "- __ShareWomen:__\tWomen as share of total\n",
    "- __Employed:__\tNumber employed (ESR == 1 or 2)\n",
    "- __Full_time:__\tEmployed 35 hours or more\n",
    "- __Part_time:__\tEmployed less than 35 hours\n",
    "- __Full_time_year_round:__\tEmployed at least 50 weeks (WKW == 1) and at least 35 hours (WKHP >= 35)\n",
    "- __Unemployed:__\tNumber unemployed (ESR == 3)\n",
    "- __Unemployment_rate:__\tUnemployed / (Unemployed + Employed)\n",
    "- __Median:__\tMedian earnings of full-time, year-round workers\n",
    "- __P25th:__\t25th percentile of earnings\n",
    "- __P75th:__\t75th percentile of earnings\n",
    "- __College_jobs:__\tNumber with job requiring a college degree\n",
    "- __Non_college_jobs:__\tNumber with job not requiring a college degree\n",
    "- __Low_wage_jobs:__\tNumber in low-wage service jobs"
   ]
  },
  {
   "cell_type": "markdown",
   "metadata": {},
   "source": [
    "## Objectives"
   ]
  },
  {
   "cell_type": "markdown",
   "metadata": {},
   "source": [
    "Using the different pandas plotting function to do an analysis of this dataset, will make us interpret and answer the following objectives:\n",
    " - See if students in more popular majors make more money\n",
    " - See how many majors are predominantly male and predominantly female\n",
    " - See which category of majors have the most students"
   ]
  },
  {
   "cell_type": "code",
   "execution_count": null,
   "metadata": {},
   "outputs": [],
   "source": []
  }
 ],
 "metadata": {
  "kernelspec": {
   "display_name": "Python 3",
   "language": "python",
   "name": "python3"
  },
  "language_info": {
   "codemirror_mode": {
    "name": "ipython",
    "version": 3
   },
   "file_extension": ".py",
   "mimetype": "text/x-python",
   "name": "python",
   "nbconvert_exporter": "python",
   "pygments_lexer": "ipython3",
   "version": "3.7.5"
  }
 },
 "nbformat": 4,
 "nbformat_minor": 1
}
