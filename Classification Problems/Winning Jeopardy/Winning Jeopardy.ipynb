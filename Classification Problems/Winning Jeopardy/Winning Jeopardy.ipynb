{
 "cells": [
  {
   "cell_type": "markdown",
   "metadata": {
    "pycharm": {
     "name": "#%% md\n"
    }
   },
   "source": [
    "# Winning Jeopardy\n",
    "\n",
    "Jeopardy is a popular TV show in the US where participants answer questions to win money. It's been running for many years, and is a major force in popular culture. Imagine that you want to compete on Jeopardy, and you're looking for any way to win. In this project, you'll work with a dataset of Jeopardy questions to figure out some patterns in the questions that could help you win."
   ]
  },
  {
   "cell_type": "markdown",
   "metadata": {
    "pycharm": {
     "name": "#%% md\n"
    }
   },
   "source": [
    "## Libraries"
   ]
  },
  {
   "cell_type": "code",
   "execution_count": 1,
   "metadata": {
    "pycharm": {
     "name": "#%%\n"
    }
   },
   "outputs": [],
   "source": [
    "import re\n",
    "import random\n",
    "import numpy as np\n",
    "import pandas as pd\n",
    "import matplotlib.pyplot as plt\n",
    "from scipy.stats import chisquare"
   ]
  },
  {
   "cell_type": "markdown",
   "metadata": {
    "pycharm": {
     "name": "#%% md\n"
    }
   },
   "source": []
  },
  {
   "cell_type": "markdown",
   "metadata": {
    "pycharm": {
     "name": "#%% md\n"
    }
   },
   "source": [
    "## Functions"
   ]
  },
  {
   "cell_type": "code",
   "execution_count": 3,
   "metadata": {
    "pycharm": {
     "name": "#%%\n"
    }
   },
   "outputs": [],
   "source": [
    "def normalize_value(string):\n",
    "    '''\n",
    "    Takes a string and converts it into integer removing punctuation symbols, if errors return 0.\n",
    "    \n",
    "    Args:\n",
    "        string: Number to be converted.\n",
    "        \n",
    "    Return:\n",
    "        int: Converted string.\n",
    "    '''\n",
    "    try:\n",
    "        return int(re.sub('[^\\w\\s]','',string))\n",
    "    except Exception:\n",
    "        return 0    "
   ]
  },
  {
   "cell_type": "code",
   "execution_count": 4,
   "metadata": {
    "pycharm": {
     "name": "#%%\n"
    }
   },
   "outputs": [],
   "source": [
    "def normalize_string(string):\n",
    "    '''\n",
    "    Converts a string to lower case and removes punctuation symbols.\n",
    "    \n",
    "    Args:\n",
    "        string: String to be converted.\n",
    "        \n",
    "    Return:\n",
    "        string: Converted string.\n",
    "    '''\n",
    "    string = string.lower()\n",
    "    string = re.sub('[^A-Za-z0-9\\s]', '', string)\n",
    "    string = re.sub('\\s+', ' ', string)    \n",
    "    return string"
   ]
  },
  {
   "cell_type": "code",
   "execution_count": 5,
   "metadata": {
    "pycharm": {
     "name": "#%%\n"
    }
   },
   "outputs": [],
   "source": [
    "def count_answer_question_matches(row):\n",
    "    '''\n",
    "    Gets row and counts the  matches in columns 'clean_answer' and 'clean_question'\n",
    "    Args:\n",
    "        series: dataframe row.\n",
    "    Return:c\n",
    "        int: match count.\n",
    "    '''\n",
    "    \n",
    "    match_count = 0\n",
    "    split_answer = row[\"clean_answer\"].split()\n",
    "    split_question = row[\"clean_question\"].split()\n",
    "        \n",
    "    if 'the' in split_answer:\n",
    "        split_answer.remove('the')\n",
    "    if len(split_answer) == 0:\n",
    "        return 0\n",
    "    for word in split_answer:\n",
    "        if word in split_question:\n",
    "            match_count += 1\n",
    "    return match_count / len(split_answer)"
   ]
  },
  {
   "cell_type": "markdown",
   "metadata": {
    "pycharm": {
     "name": "#%% md\n"
    }
   },
   "source": [
    "## Data Exploration"
   ]
  },
  {
   "cell_type": "code",
   "execution_count": 6,
   "metadata": {
    "pycharm": {
     "name": "#%%\n"
    }
   },
   "outputs": [
    {
     "data": {
      "text/plain": "   Show Number    Air Date      Round                         Category  Value  \\\n0         4680  2004-12-31  Jeopardy!                          HISTORY   $200   \n1         4680  2004-12-31  Jeopardy!  ESPN's TOP 10 ALL-TIME ATHLETES   $200   \n2         4680  2004-12-31  Jeopardy!      EVERYBODY TALKS ABOUT IT...   $200   \n3         4680  2004-12-31  Jeopardy!                 THE COMPANY LINE   $200   \n4         4680  2004-12-31  Jeopardy!              EPITAPHS & TRIBUTES   $200   \n\n                                            Question      Answer  \n0  For the last 8 years of his life, Galileo was ...  Copernicus  \n1  No. 2: 1912 Olympian; football star at Carlisl...  Jim Thorpe  \n2  The city of Yuma in this state has a record av...     Arizona  \n3  In 1963, live on \"The Art Linkletter Show\", th...  McDonald's  \n4  Signer of the Dec. of Indep., framer of the Co...  John Adams  ",
      "text/html": "<div>\n<style scoped>\n    .dataframe tbody tr th:only-of-type {\n        vertical-align: middle;\n    }\n\n    .dataframe tbody tr th {\n        vertical-align: top;\n    }\n\n    .dataframe thead th {\n        text-align: right;\n    }\n</style>\n<table border=\"1\" class=\"dataframe\">\n  <thead>\n    <tr style=\"text-align: right;\">\n      <th></th>\n      <th>Show Number</th>\n      <th>Air Date</th>\n      <th>Round</th>\n      <th>Category</th>\n      <th>Value</th>\n      <th>Question</th>\n      <th>Answer</th>\n    </tr>\n  </thead>\n  <tbody>\n    <tr>\n      <th>0</th>\n      <td>4680</td>\n      <td>2004-12-31</td>\n      <td>Jeopardy!</td>\n      <td>HISTORY</td>\n      <td>$200</td>\n      <td>For the last 8 years of his life, Galileo was ...</td>\n      <td>Copernicus</td>\n    </tr>\n    <tr>\n      <th>1</th>\n      <td>4680</td>\n      <td>2004-12-31</td>\n      <td>Jeopardy!</td>\n      <td>ESPN's TOP 10 ALL-TIME ATHLETES</td>\n      <td>$200</td>\n      <td>No. 2: 1912 Olympian; football star at Carlisl...</td>\n      <td>Jim Thorpe</td>\n    </tr>\n    <tr>\n      <th>2</th>\n      <td>4680</td>\n      <td>2004-12-31</td>\n      <td>Jeopardy!</td>\n      <td>EVERYBODY TALKS ABOUT IT...</td>\n      <td>$200</td>\n      <td>The city of Yuma in this state has a record av...</td>\n      <td>Arizona</td>\n    </tr>\n    <tr>\n      <th>3</th>\n      <td>4680</td>\n      <td>2004-12-31</td>\n      <td>Jeopardy!</td>\n      <td>THE COMPANY LINE</td>\n      <td>$200</td>\n      <td>In 1963, live on \"The Art Linkletter Show\", th...</td>\n      <td>McDonald's</td>\n    </tr>\n    <tr>\n      <th>4</th>\n      <td>4680</td>\n      <td>2004-12-31</td>\n      <td>Jeopardy!</td>\n      <td>EPITAPHS &amp; TRIBUTES</td>\n      <td>$200</td>\n      <td>Signer of the Dec. of Indep., framer of the Co...</td>\n      <td>John Adams</td>\n    </tr>\n  </tbody>\n</table>\n</div>"
     },
     "execution_count": 6,
     "metadata": {},
     "output_type": "execute_result"
    }
   ],
   "source": [
    "jeopardy = pd.read_csv(\"JEOPARDY_CSV.csv\")\n",
    "jeopardy.head(5)"
   ]
  },
  {
   "cell_type": "code",
   "execution_count": 8,
   "metadata": {
    "pycharm": {
     "name": "#%%\n"
    }
   },
   "outputs": [
    {
     "data": {
      "text/plain": "Show Number     int64\n Air Date      object\n Round         object\n Category      object\n Value         object\n Question      object\n Answer        object\ndtype: object"
     },
     "execution_count": 8,
     "metadata": {},
     "output_type": "execute_result"
    }
   ],
   "source": [
    "jeopardy.dtypes"
   ]
  },
  {
   "cell_type": "code",
   "execution_count": 9,
   "metadata": {
    "pycharm": {
     "name": "#%%\n"
    }
   },
   "outputs": [
    {
     "data": {
      "text/plain": "Index(['Show Number', ' Air Date', ' Round', ' Category', ' Value',\n       ' Question', ' Answer'],\n      dtype='object')"
     },
     "execution_count": 9,
     "metadata": {},
     "output_type": "execute_result"
    }
   ],
   "source": [
    "jeopardy.columns"
   ]
  },
  {
   "cell_type": "markdown",
   "metadata": {
    "pycharm": {
     "name": "#%% md\n"
    }
   },
   "source": [
    "Removes spaces from columns names:"
   ]
  },
  {
   "cell_type": "code",
   "execution_count": 10,
   "metadata": {
    "pycharm": {
     "name": "#%%\n"
    }
   },
   "outputs": [
    {
     "data": {
      "text/plain": "Index(['Show Number', 'Air Date', 'Round', 'Category', 'Value', 'Question',\n       'Answer'],\n      dtype='object')"
     },
     "execution_count": 10,
     "metadata": {},
     "output_type": "execute_result"
    }
   ],
   "source": [
    "jeopardy.columns = map(str.strip, jeopardy.columns)\n",
    "jeopardy.columns"
   ]
  },
  {
   "cell_type": "code",
   "execution_count": 11,
   "metadata": {
    "pycharm": {
     "name": "#%%\n"
    }
   },
   "outputs": [],
   "source": [
    "jeopardy.Answer = jeopardy.Answer.astype(str)"
   ]
  },
  {
   "cell_type": "markdown",
   "metadata": {
    "pycharm": {
     "name": "#%% md\n"
    }
   },
   "source": [
    "### Normalizing Columns"
   ]
  },
  {
   "cell_type": "markdown",
   "metadata": {
    "pycharm": {
     "name": "#%% md\n"
    }
   },
   "source": [
    "The columns **Value, Question and Answer** will be normalized to make easier to conduct data analysis:"
   ]
  },
  {
   "cell_type": "code",
   "execution_count": 12,
   "metadata": {
    "pycharm": {
     "name": "#%%\n"
    }
   },
   "outputs": [
    {
     "data": {
      "text/plain": "   Show Number    Air Date      Round                         Category Value  \\\n0         4680  2004-12-31  Jeopardy!                          HISTORY  $200   \n1         4680  2004-12-31  Jeopardy!  ESPN's TOP 10 ALL-TIME ATHLETES  $200   \n2         4680  2004-12-31  Jeopardy!      EVERYBODY TALKS ABOUT IT...  $200   \n3         4680  2004-12-31  Jeopardy!                 THE COMPANY LINE  $200   \n4         4680  2004-12-31  Jeopardy!              EPITAPHS & TRIBUTES  $200   \n\n                                            Question      Answer  \\\n0  For the last 8 years of his life, Galileo was ...  Copernicus   \n1  No. 2: 1912 Olympian; football star at Carlisl...  Jim Thorpe   \n2  The city of Yuma in this state has a record av...     Arizona   \n3  In 1963, live on \"The Art Linkletter Show\", th...  McDonald's   \n4  Signer of the Dec. of Indep., framer of the Co...  John Adams   \n\n                                      clean_question clean_answer  \n0  for the last 8 years of his life galileo was u...   copernicus  \n1  no 2 1912 olympian football star at carlisle i...   jim thorpe  \n2  the city of yuma in this state has a record av...      arizona  \n3  in 1963 live on the art linkletter show this c...    mcdonalds  \n4  signer of the dec of indep framer of the const...   john adams  ",
      "text/html": "<div>\n<style scoped>\n    .dataframe tbody tr th:only-of-type {\n        vertical-align: middle;\n    }\n\n    .dataframe tbody tr th {\n        vertical-align: top;\n    }\n\n    .dataframe thead th {\n        text-align: right;\n    }\n</style>\n<table border=\"1\" class=\"dataframe\">\n  <thead>\n    <tr style=\"text-align: right;\">\n      <th></th>\n      <th>Show Number</th>\n      <th>Air Date</th>\n      <th>Round</th>\n      <th>Category</th>\n      <th>Value</th>\n      <th>Question</th>\n      <th>Answer</th>\n      <th>clean_question</th>\n      <th>clean_answer</th>\n    </tr>\n  </thead>\n  <tbody>\n    <tr>\n      <th>0</th>\n      <td>4680</td>\n      <td>2004-12-31</td>\n      <td>Jeopardy!</td>\n      <td>HISTORY</td>\n      <td>$200</td>\n      <td>For the last 8 years of his life, Galileo was ...</td>\n      <td>Copernicus</td>\n      <td>for the last 8 years of his life galileo was u...</td>\n      <td>copernicus</td>\n    </tr>\n    <tr>\n      <th>1</th>\n      <td>4680</td>\n      <td>2004-12-31</td>\n      <td>Jeopardy!</td>\n      <td>ESPN's TOP 10 ALL-TIME ATHLETES</td>\n      <td>$200</td>\n      <td>No. 2: 1912 Olympian; football star at Carlisl...</td>\n      <td>Jim Thorpe</td>\n      <td>no 2 1912 olympian football star at carlisle i...</td>\n      <td>jim thorpe</td>\n    </tr>\n    <tr>\n      <th>2</th>\n      <td>4680</td>\n      <td>2004-12-31</td>\n      <td>Jeopardy!</td>\n      <td>EVERYBODY TALKS ABOUT IT...</td>\n      <td>$200</td>\n      <td>The city of Yuma in this state has a record av...</td>\n      <td>Arizona</td>\n      <td>the city of yuma in this state has a record av...</td>\n      <td>arizona</td>\n    </tr>\n    <tr>\n      <th>3</th>\n      <td>4680</td>\n      <td>2004-12-31</td>\n      <td>Jeopardy!</td>\n      <td>THE COMPANY LINE</td>\n      <td>$200</td>\n      <td>In 1963, live on \"The Art Linkletter Show\", th...</td>\n      <td>McDonald's</td>\n      <td>in 1963 live on the art linkletter show this c...</td>\n      <td>mcdonalds</td>\n    </tr>\n    <tr>\n      <th>4</th>\n      <td>4680</td>\n      <td>2004-12-31</td>\n      <td>Jeopardy!</td>\n      <td>EPITAPHS &amp; TRIBUTES</td>\n      <td>$200</td>\n      <td>Signer of the Dec. of Indep., framer of the Co...</td>\n      <td>John Adams</td>\n      <td>signer of the dec of indep framer of the const...</td>\n      <td>john adams</td>\n    </tr>\n  </tbody>\n</table>\n</div>"
     },
     "execution_count": 12,
     "metadata": {},
     "output_type": "execute_result"
    }
   ],
   "source": [
    "jeopardy['clean_question'] = jeopardy['Question'].apply(normalize_string)\n",
    "jeopardy['clean_answer'] = jeopardy['Answer'].apply(normalize_string)\n",
    "jeopardy.head(5)"
   ]
  },
  {
   "cell_type": "code",
   "execution_count": 13,
   "metadata": {
    "pycharm": {
     "name": "#%%\n"
    }
   },
   "outputs": [
    {
     "data": {
      "text/plain": "   Show Number    Air Date      Round                         Category Value  \\\n0         4680  2004-12-31  Jeopardy!                          HISTORY  $200   \n1         4680  2004-12-31  Jeopardy!  ESPN's TOP 10 ALL-TIME ATHLETES  $200   \n2         4680  2004-12-31  Jeopardy!      EVERYBODY TALKS ABOUT IT...  $200   \n3         4680  2004-12-31  Jeopardy!                 THE COMPANY LINE  $200   \n4         4680  2004-12-31  Jeopardy!              EPITAPHS & TRIBUTES  $200   \n\n                                            Question      Answer  \\\n0  For the last 8 years of his life, Galileo was ...  Copernicus   \n1  No. 2: 1912 Olympian; football star at Carlisl...  Jim Thorpe   \n2  The city of Yuma in this state has a record av...     Arizona   \n3  In 1963, live on \"The Art Linkletter Show\", th...  McDonald's   \n4  Signer of the Dec. of Indep., framer of the Co...  John Adams   \n\n                                      clean_question clean_answer  clean_value  \n0  for the last 8 years of his life galileo was u...   copernicus          200  \n1  no 2 1912 olympian football star at carlisle i...   jim thorpe          200  \n2  the city of yuma in this state has a record av...      arizona          200  \n3  in 1963 live on the art linkletter show this c...    mcdonalds          200  \n4  signer of the dec of indep framer of the const...   john adams          200  ",
      "text/html": "<div>\n<style scoped>\n    .dataframe tbody tr th:only-of-type {\n        vertical-align: middle;\n    }\n\n    .dataframe tbody tr th {\n        vertical-align: top;\n    }\n\n    .dataframe thead th {\n        text-align: right;\n    }\n</style>\n<table border=\"1\" class=\"dataframe\">\n  <thead>\n    <tr style=\"text-align: right;\">\n      <th></th>\n      <th>Show Number</th>\n      <th>Air Date</th>\n      <th>Round</th>\n      <th>Category</th>\n      <th>Value</th>\n      <th>Question</th>\n      <th>Answer</th>\n      <th>clean_question</th>\n      <th>clean_answer</th>\n      <th>clean_value</th>\n    </tr>\n  </thead>\n  <tbody>\n    <tr>\n      <th>0</th>\n      <td>4680</td>\n      <td>2004-12-31</td>\n      <td>Jeopardy!</td>\n      <td>HISTORY</td>\n      <td>$200</td>\n      <td>For the last 8 years of his life, Galileo was ...</td>\n      <td>Copernicus</td>\n      <td>for the last 8 years of his life galileo was u...</td>\n      <td>copernicus</td>\n      <td>200</td>\n    </tr>\n    <tr>\n      <th>1</th>\n      <td>4680</td>\n      <td>2004-12-31</td>\n      <td>Jeopardy!</td>\n      <td>ESPN's TOP 10 ALL-TIME ATHLETES</td>\n      <td>$200</td>\n      <td>No. 2: 1912 Olympian; football star at Carlisl...</td>\n      <td>Jim Thorpe</td>\n      <td>no 2 1912 olympian football star at carlisle i...</td>\n      <td>jim thorpe</td>\n      <td>200</td>\n    </tr>\n    <tr>\n      <th>2</th>\n      <td>4680</td>\n      <td>2004-12-31</td>\n      <td>Jeopardy!</td>\n      <td>EVERYBODY TALKS ABOUT IT...</td>\n      <td>$200</td>\n      <td>The city of Yuma in this state has a record av...</td>\n      <td>Arizona</td>\n      <td>the city of yuma in this state has a record av...</td>\n      <td>arizona</td>\n      <td>200</td>\n    </tr>\n    <tr>\n      <th>3</th>\n      <td>4680</td>\n      <td>2004-12-31</td>\n      <td>Jeopardy!</td>\n      <td>THE COMPANY LINE</td>\n      <td>$200</td>\n      <td>In 1963, live on \"The Art Linkletter Show\", th...</td>\n      <td>McDonald's</td>\n      <td>in 1963 live on the art linkletter show this c...</td>\n      <td>mcdonalds</td>\n      <td>200</td>\n    </tr>\n    <tr>\n      <th>4</th>\n      <td>4680</td>\n      <td>2004-12-31</td>\n      <td>Jeopardy!</td>\n      <td>EPITAPHS &amp; TRIBUTES</td>\n      <td>$200</td>\n      <td>Signer of the Dec. of Indep., framer of the Co...</td>\n      <td>John Adams</td>\n      <td>signer of the dec of indep framer of the const...</td>\n      <td>john adams</td>\n      <td>200</td>\n    </tr>\n  </tbody>\n</table>\n</div>"
     },
     "execution_count": 13,
     "metadata": {},
     "output_type": "execute_result"
    }
   ],
   "source": [
    "jeopardy['clean_value'] = jeopardy['Value'].apply(normalize_value)\n",
    "jeopardy.head(5)"
   ]
  },
  {
   "cell_type": "code",
   "execution_count": 14,
   "metadata": {
    "pycharm": {
     "name": "#%%\n"
    }
   },
   "outputs": [
    {
     "data": {
      "text/plain": "   Show Number   Air Date      Round                         Category Value  \\\n0         4680 2004-12-31  Jeopardy!                          HISTORY  $200   \n1         4680 2004-12-31  Jeopardy!  ESPN's TOP 10 ALL-TIME ATHLETES  $200   \n2         4680 2004-12-31  Jeopardy!      EVERYBODY TALKS ABOUT IT...  $200   \n3         4680 2004-12-31  Jeopardy!                 THE COMPANY LINE  $200   \n4         4680 2004-12-31  Jeopardy!              EPITAPHS & TRIBUTES  $200   \n\n                                            Question      Answer  \\\n0  For the last 8 years of his life, Galileo was ...  Copernicus   \n1  No. 2: 1912 Olympian; football star at Carlisl...  Jim Thorpe   \n2  The city of Yuma in this state has a record av...     Arizona   \n3  In 1963, live on \"The Art Linkletter Show\", th...  McDonald's   \n4  Signer of the Dec. of Indep., framer of the Co...  John Adams   \n\n                                      clean_question clean_answer  clean_value  \n0  for the last 8 years of his life galileo was u...   copernicus          200  \n1  no 2 1912 olympian football star at carlisle i...   jim thorpe          200  \n2  the city of yuma in this state has a record av...      arizona          200  \n3  in 1963 live on the art linkletter show this c...    mcdonalds          200  \n4  signer of the dec of indep framer of the const...   john adams          200  ",
      "text/html": "<div>\n<style scoped>\n    .dataframe tbody tr th:only-of-type {\n        vertical-align: middle;\n    }\n\n    .dataframe tbody tr th {\n        vertical-align: top;\n    }\n\n    .dataframe thead th {\n        text-align: right;\n    }\n</style>\n<table border=\"1\" class=\"dataframe\">\n  <thead>\n    <tr style=\"text-align: right;\">\n      <th></th>\n      <th>Show Number</th>\n      <th>Air Date</th>\n      <th>Round</th>\n      <th>Category</th>\n      <th>Value</th>\n      <th>Question</th>\n      <th>Answer</th>\n      <th>clean_question</th>\n      <th>clean_answer</th>\n      <th>clean_value</th>\n    </tr>\n  </thead>\n  <tbody>\n    <tr>\n      <th>0</th>\n      <td>4680</td>\n      <td>2004-12-31</td>\n      <td>Jeopardy!</td>\n      <td>HISTORY</td>\n      <td>$200</td>\n      <td>For the last 8 years of his life, Galileo was ...</td>\n      <td>Copernicus</td>\n      <td>for the last 8 years of his life galileo was u...</td>\n      <td>copernicus</td>\n      <td>200</td>\n    </tr>\n    <tr>\n      <th>1</th>\n      <td>4680</td>\n      <td>2004-12-31</td>\n      <td>Jeopardy!</td>\n      <td>ESPN's TOP 10 ALL-TIME ATHLETES</td>\n      <td>$200</td>\n      <td>No. 2: 1912 Olympian; football star at Carlisl...</td>\n      <td>Jim Thorpe</td>\n      <td>no 2 1912 olympian football star at carlisle i...</td>\n      <td>jim thorpe</td>\n      <td>200</td>\n    </tr>\n    <tr>\n      <th>2</th>\n      <td>4680</td>\n      <td>2004-12-31</td>\n      <td>Jeopardy!</td>\n      <td>EVERYBODY TALKS ABOUT IT...</td>\n      <td>$200</td>\n      <td>The city of Yuma in this state has a record av...</td>\n      <td>Arizona</td>\n      <td>the city of yuma in this state has a record av...</td>\n      <td>arizona</td>\n      <td>200</td>\n    </tr>\n    <tr>\n      <th>3</th>\n      <td>4680</td>\n      <td>2004-12-31</td>\n      <td>Jeopardy!</td>\n      <td>THE COMPANY LINE</td>\n      <td>$200</td>\n      <td>In 1963, live on \"The Art Linkletter Show\", th...</td>\n      <td>McDonald's</td>\n      <td>in 1963 live on the art linkletter show this c...</td>\n      <td>mcdonalds</td>\n      <td>200</td>\n    </tr>\n    <tr>\n      <th>4</th>\n      <td>4680</td>\n      <td>2004-12-31</td>\n      <td>Jeopardy!</td>\n      <td>EPITAPHS &amp; TRIBUTES</td>\n      <td>$200</td>\n      <td>Signer of the Dec. of Indep., framer of the Co...</td>\n      <td>John Adams</td>\n      <td>signer of the dec of indep framer of the const...</td>\n      <td>john adams</td>\n      <td>200</td>\n    </tr>\n  </tbody>\n</table>\n</div>"
     },
     "execution_count": 14,
     "metadata": {},
     "output_type": "execute_result"
    }
   ],
   "source": [
    "jeopardy['Air Date'] = pd.to_datetime(jeopardy['Air Date'])\n",
    "jeopardy.head(5)"
   ]
  },
  {
   "cell_type": "markdown",
   "metadata": {
    "pycharm": {
     "name": "#%% md\n"
    }
   },
   "source": [
    "### Study past questions, study general knowledge or not study at all"
   ]
  },
  {
   "cell_type": "markdown",
   "metadata": {
    "pycharm": {
     "name": "#%% md\n"
    }
   },
   "source": [
    "In order to figure out whether to study past questions, study general knowledge, or not study it all, it would be helpful to figure out two things:\n",
    "<ul>\n",
    "    <li>How often the answer can be used for a question.</li>\n",
    "    <li>How often questions are repeated.</li>\n",
    "</ul>"
   ]
  },
  {
   "cell_type": "code",
   "execution_count": 15,
   "metadata": {
    "pycharm": {
     "name": "#%%\n"
    }
   },
   "outputs": [
    {
     "data": {
      "text/plain": "   Show Number   Air Date      Round                         Category Value  \\\n0         4680 2004-12-31  Jeopardy!                          HISTORY  $200   \n1         4680 2004-12-31  Jeopardy!  ESPN's TOP 10 ALL-TIME ATHLETES  $200   \n2         4680 2004-12-31  Jeopardy!      EVERYBODY TALKS ABOUT IT...  $200   \n3         4680 2004-12-31  Jeopardy!                 THE COMPANY LINE  $200   \n4         4680 2004-12-31  Jeopardy!              EPITAPHS & TRIBUTES  $200   \n\n                                            Question      Answer  \\\n0  For the last 8 years of his life, Galileo was ...  Copernicus   \n1  No. 2: 1912 Olympian; football star at Carlisl...  Jim Thorpe   \n2  The city of Yuma in this state has a record av...     Arizona   \n3  In 1963, live on \"The Art Linkletter Show\", th...  McDonald's   \n4  Signer of the Dec. of Indep., framer of the Co...  John Adams   \n\n                                      clean_question clean_answer  \\\n0  for the last 8 years of his life galileo was u...   copernicus   \n1  no 2 1912 olympian football star at carlisle i...   jim thorpe   \n2  the city of yuma in this state has a record av...      arizona   \n3  in 1963 live on the art linkletter show this c...    mcdonalds   \n4  signer of the dec of indep framer of the const...   john adams   \n\n   clean_value  answer_in_question  \n0          200                 0.0  \n1          200                 0.0  \n2          200                 0.0  \n3          200                 0.0  \n4          200                 0.0  ",
      "text/html": "<div>\n<style scoped>\n    .dataframe tbody tr th:only-of-type {\n        vertical-align: middle;\n    }\n\n    .dataframe tbody tr th {\n        vertical-align: top;\n    }\n\n    .dataframe thead th {\n        text-align: right;\n    }\n</style>\n<table border=\"1\" class=\"dataframe\">\n  <thead>\n    <tr style=\"text-align: right;\">\n      <th></th>\n      <th>Show Number</th>\n      <th>Air Date</th>\n      <th>Round</th>\n      <th>Category</th>\n      <th>Value</th>\n      <th>Question</th>\n      <th>Answer</th>\n      <th>clean_question</th>\n      <th>clean_answer</th>\n      <th>clean_value</th>\n      <th>answer_in_question</th>\n    </tr>\n  </thead>\n  <tbody>\n    <tr>\n      <th>0</th>\n      <td>4680</td>\n      <td>2004-12-31</td>\n      <td>Jeopardy!</td>\n      <td>HISTORY</td>\n      <td>$200</td>\n      <td>For the last 8 years of his life, Galileo was ...</td>\n      <td>Copernicus</td>\n      <td>for the last 8 years of his life galileo was u...</td>\n      <td>copernicus</td>\n      <td>200</td>\n      <td>0.0</td>\n    </tr>\n    <tr>\n      <th>1</th>\n      <td>4680</td>\n      <td>2004-12-31</td>\n      <td>Jeopardy!</td>\n      <td>ESPN's TOP 10 ALL-TIME ATHLETES</td>\n      <td>$200</td>\n      <td>No. 2: 1912 Olympian; football star at Carlisl...</td>\n      <td>Jim Thorpe</td>\n      <td>no 2 1912 olympian football star at carlisle i...</td>\n      <td>jim thorpe</td>\n      <td>200</td>\n      <td>0.0</td>\n    </tr>\n    <tr>\n      <th>2</th>\n      <td>4680</td>\n      <td>2004-12-31</td>\n      <td>Jeopardy!</td>\n      <td>EVERYBODY TALKS ABOUT IT...</td>\n      <td>$200</td>\n      <td>The city of Yuma in this state has a record av...</td>\n      <td>Arizona</td>\n      <td>the city of yuma in this state has a record av...</td>\n      <td>arizona</td>\n      <td>200</td>\n      <td>0.0</td>\n    </tr>\n    <tr>\n      <th>3</th>\n      <td>4680</td>\n      <td>2004-12-31</td>\n      <td>Jeopardy!</td>\n      <td>THE COMPANY LINE</td>\n      <td>$200</td>\n      <td>In 1963, live on \"The Art Linkletter Show\", th...</td>\n      <td>McDonald's</td>\n      <td>in 1963 live on the art linkletter show this c...</td>\n      <td>mcdonalds</td>\n      <td>200</td>\n      <td>0.0</td>\n    </tr>\n    <tr>\n      <th>4</th>\n      <td>4680</td>\n      <td>2004-12-31</td>\n      <td>Jeopardy!</td>\n      <td>EPITAPHS &amp; TRIBUTES</td>\n      <td>$200</td>\n      <td>Signer of the Dec. of Indep., framer of the Co...</td>\n      <td>John Adams</td>\n      <td>signer of the dec of indep framer of the const...</td>\n      <td>john adams</td>\n      <td>200</td>\n      <td>0.0</td>\n    </tr>\n  </tbody>\n</table>\n</div>"
     },
     "execution_count": 15,
     "metadata": {},
     "output_type": "execute_result"
    }
   ],
   "source": [
    "jeopardy['answer_in_question'] = jeopardy.apply(count_answer_question_matches, axis=1)\n",
    "jeopardy.head(5)"
   ]
  },
  {
   "cell_type": "code",
   "execution_count": 16,
   "metadata": {
    "pycharm": {
     "name": "#%%\n"
    }
   },
   "outputs": [
    {
     "data": {
      "text/plain": "5.79"
     },
     "execution_count": 16,
     "metadata": {},
     "output_type": "execute_result"
    }
   ],
   "source": [
    "round(jeopardy['answer_in_question'].mean() * 100, 2)"
   ]
  },
  {
   "cell_type": "code",
   "execution_count": 17,
   "metadata": {
    "pycharm": {
     "name": "#%%\n"
    }
   },
   "outputs": [
    {
     "data": {
      "text/plain": "<Figure size 1440x720 with 1 Axes>",
      "image/png": "[encoded data removed]"
     },
     "metadata": {},
     "output_type": "display_data"
    }
   ],
   "source": [
    "plt.style.use('fivethirtyeight')\n",
    "fig = plt.figure(figsize=(20, 10))\n",
    "jeopardy['answer_in_question'].plot.kde(color='red', title='Distribution of answers in questions', fontsize=10)\n",
    "plt.xticks(np.arange(0, 1, 0.1))\n",
    "plt.show()"
   ]
  },
  {
   "cell_type": "markdown",
   "metadata": {
    "pycharm": {
     "name": "#%% md\n"
    }
   },
   "source": [
    "As we can see in the previous cells **How often the answer can be used for a question?**, only int **5.7%** of the cases, the question contains the answer. So, this approach is not reliable. We will reject it and proceed with the second one.\n",
    "\n",
    "**How often new questions are repeated of older ones?** It can not completely be answered, the dataset includes only 10% of the full jeopardy question dataset but we can investigate it."
   ]
  },
  {
   "cell_type": "code",
   "execution_count": 18,
   "metadata": {
    "pycharm": {
     "name": "#%%\n"
    }
   },
   "outputs": [],
   "source": [
    "question_overlap = []\n",
    "terms_used = set()\n",
    "min_word_length = 6\n",
    "\n",
    "jeopardy.sort_values('Air Date', inplace = True)\n",
    "for i, row in jeopardy.iterrows():\n",
    "    split_question = row['clean_question'].split()\n",
    "    split_question = [q for q in split_question if len(q)>= min_word_length]\n",
    "    match_count = 0\n",
    "    for term in split_question:\n",
    "        if term in terms_used:\n",
    "            match_count += 1\n",
    "        terms_used.add(term)\n",
    "    if len(split_question) > 0:\n",
    "        match_count = match_count / len(split_question)\n",
    "    question_overlap.append(match_count)\n",
    "    \n",
    "jeopardy[\"question_overlap\"] = question_overlap"
   ]
  },
  {
   "cell_type": "code",
   "execution_count": 19,
   "metadata": {
    "pycharm": {
     "name": "#%%\n"
    }
   },
   "outputs": [
    {
     "data": {
      "text/plain": "87.27"
     },
     "execution_count": 19,
     "metadata": {},
     "output_type": "execute_result"
    }
   ],
   "source": [
    "round(jeopardy[\"question_overlap\"].mean() * 100, 2)"
   ]
  },
  {
   "cell_type": "code",
   "execution_count": 20,
   "metadata": {
    "pycharm": {
     "name": "#%%\n"
    }
   },
   "outputs": [
    {
     "data": {
      "text/plain": "<Figure size 1440x720 with 1 Axes>",
      "image/png": "[encoded data removed]"
     },
     "metadata": {},
     "output_type": "display_data"
    }
   ],
   "source": [
    "plt.style.use('fivethirtyeight')\n",
    "fig = plt.figure(figsize=(20, 10))\n",
    "jeopardy['question_overlap'].plot.kde(color='red', title='Distribution of terms repeated in questions', fontsize=10)\n",
    "plt.xticks(np.arange(0, 1, 0.1))\n",
    "plt.show()"
   ]
  },
  {
   "cell_type": "markdown",
   "metadata": {
    "pycharm": {
     "name": "#%% md\n"
    }
   },
   "source": [
    "About **87.27%** of the complex words (more than 6 characters) are repeated so it seem studying the past questions can be a good option to increase the winning probabilities."
   ]
  },
  {
   "cell_type": "markdown",
   "metadata": {
    "pycharm": {
     "name": "#%% md\n"
    }
   },
   "source": [
    "### Low and High value questions"
   ]
  },
  {
   "cell_type": "markdown",
   "metadata": {
    "pycharm": {
     "name": "#%% md\n"
    }
   },
   "source": [
    "Let's say that a form which will help us to earn more money when we are on  Jeopardy is studing questions that pertain to high value questions (value greater than 800).\n",
    "\n",
    "To determine which terms correspond to high-value questions will be implemente a chisquared test."
   ]
  },
  {
   "cell_type": "code",
   "execution_count": 21,
   "metadata": {
    "pycharm": {
     "name": "#%%\n"
    }
   },
   "outputs": [
    {
     "data": {
      "text/plain": "       Show Number   Air Date             Round            Category  Value  \\\n84523            1 1984-09-10         Jeopardy!      LAKES & RIVERS   $100   \n84565            1 1984-09-10  Double Jeopardy!           THE BIBLE  $1000   \n84566            1 1984-09-10  Double Jeopardy!            '50'S TV  $1000   \n84567            1 1984-09-10  Double Jeopardy!  NATIONAL LANDMARKS  $1000   \n84568            1 1984-09-10  Double Jeopardy!           NOTORIOUS  $1000   \n\n                                                Question             Answer  \\\n84523            River mentioned most often in the Bible         the Jordan   \n84565  According to 1st Timothy, it is the \"root of a...  the love of money   \n84566  Name under which experimenter Don Herbert taug...         Mr. Wizard   \n84567    D.C. building shaken by November '83 bomb blast        the Capitol   \n84568  After the deed, he leaped to the stage shoutin...  John Wilkes Booth   \n\n                                          clean_question       clean_answer  \\\n84523            river mentioned most often in the bible         the jordan   \n84565  according to 1st timothy it is the root of all...  the love of money   \n84566  name under which experimenter don herbert taug...          mr wizard   \n84567       dc building shaken by november 83 bomb blast        the capitol   \n84568  after the deed he leaped to the stage shouting...  john wilkes booth   \n\n       clean_value  answer_in_question  question_overlap  value  \n84523          100            0.000000               0.0      0  \n84565         1000            0.333333               0.0      1  \n84566         1000            0.000000               0.0      1  \n84567         1000            0.000000               0.0      1  \n84568         1000            0.000000               0.0      1  ",
      "text/html": "<div>\n<style scoped>\n    .dataframe tbody tr th:only-of-type {\n        vertical-align: middle;\n    }\n\n    .dataframe tbody tr th {\n        vertical-align: top;\n    }\n\n    .dataframe thead th {\n        text-align: right;\n    }\n</style>\n<table border=\"1\" class=\"dataframe\">\n  <thead>\n    <tr style=\"text-align: right;\">\n      <th></th>\n      <th>Show Number</th>\n      <th>Air Date</th>\n      <th>Round</th>\n      <th>Category</th>\n      <th>Value</th>\n      <th>Question</th>\n      <th>Answer</th>\n      <th>clean_question</th>\n      <th>clean_answer</th>\n      <th>clean_value</th>\n      <th>answer_in_question</th>\n      <th>question_overlap</th>\n      <th>value</th>\n    </tr>\n  </thead>\n  <tbody>\n    <tr>\n      <th>84523</th>\n      <td>1</td>\n      <td>1984-09-10</td>\n      <td>Jeopardy!</td>\n      <td>LAKES &amp; RIVERS</td>\n      <td>$100</td>\n      <td>River mentioned most often in the Bible</td>\n      <td>the Jordan</td>\n      <td>river mentioned most often in the bible</td>\n      <td>the jordan</td>\n      <td>100</td>\n      <td>0.000000</td>\n      <td>0.0</td>\n      <td>0</td>\n    </tr>\n    <tr>\n      <th>84565</th>\n      <td>1</td>\n      <td>1984-09-10</td>\n      <td>Double Jeopardy!</td>\n      <td>THE BIBLE</td>\n      <td>$1000</td>\n      <td>According to 1st Timothy, it is the \"root of a...</td>\n      <td>the love of money</td>\n      <td>according to 1st timothy it is the root of all...</td>\n      <td>the love of money</td>\n      <td>1000</td>\n      <td>0.333333</td>\n      <td>0.0</td>\n      <td>1</td>\n    </tr>\n    <tr>\n      <th>84566</th>\n      <td>1</td>\n      <td>1984-09-10</td>\n      <td>Double Jeopardy!</td>\n      <td>'50'S TV</td>\n      <td>$1000</td>\n      <td>Name under which experimenter Don Herbert taug...</td>\n      <td>Mr. Wizard</td>\n      <td>name under which experimenter don herbert taug...</td>\n      <td>mr wizard</td>\n      <td>1000</td>\n      <td>0.000000</td>\n      <td>0.0</td>\n      <td>1</td>\n    </tr>\n    <tr>\n      <th>84567</th>\n      <td>1</td>\n      <td>1984-09-10</td>\n      <td>Double Jeopardy!</td>\n      <td>NATIONAL LANDMARKS</td>\n      <td>$1000</td>\n      <td>D.C. building shaken by November '83 bomb blast</td>\n      <td>the Capitol</td>\n      <td>dc building shaken by november 83 bomb blast</td>\n      <td>the capitol</td>\n      <td>1000</td>\n      <td>0.000000</td>\n      <td>0.0</td>\n      <td>1</td>\n    </tr>\n    <tr>\n      <th>84568</th>\n      <td>1</td>\n      <td>1984-09-10</td>\n      <td>Double Jeopardy!</td>\n      <td>NOTORIOUS</td>\n      <td>$1000</td>\n      <td>After the deed, he leaped to the stage shoutin...</td>\n      <td>John Wilkes Booth</td>\n      <td>after the deed he leaped to the stage shouting...</td>\n      <td>john wilkes booth</td>\n      <td>1000</td>\n      <td>0.000000</td>\n      <td>0.0</td>\n      <td>1</td>\n    </tr>\n  </tbody>\n</table>\n</div>"
     },
     "execution_count": 21,
     "metadata": {},
     "output_type": "execute_result"
    }
   ],
   "source": [
    "jeopardy['value'] = np.where(jeopardy['clean_value'] >= 800, 1, 0)\n",
    "jeopardy.head(5)"
   ]
  },
  {
   "cell_type": "code",
   "execution_count": 22,
   "metadata": {
    "pycharm": {
     "name": "#%%\n"
    }
   },
   "outputs": [
    {
     "data": {
      "text/plain": "<Figure size 1440x720 with 1 Axes>",
      "image/png": "[encoded data removed]"
     },
     "metadata": {},
     "output_type": "display_data"
    }
   ],
   "source": [
    "plt.style.use('fivethirtyeight')\n",
    "fig = plt.figure(figsize=(20, 10))\n",
    "jeopardy['value'].value_counts().plot.bar(color='red', title='High vs Low value questions.', fontsize=10)\n",
    "plt.xticks(np.arange(0, 1, 0.1))\n",
    "plt.show()"
   ]
  },
  {
   "cell_type": "code",
   "execution_count": 23,
   "metadata": {
    "pycharm": {
     "name": "#%%\n"
    }
   },
   "outputs": [
    {
     "data": {
      "text/plain": "<Figure size 1440x720 with 1 Axes>",
      "image/png": "[encoded data removed]"
     },
     "metadata": {},
     "output_type": "display_data"
    }
   ],
   "source": [
    "plt.style.use('fivethirtyeight')\n",
    "fig = plt.figure(figsize=(20, 10))\n",
    "round(jeopardy['value'].value_counts(normalize=True) * 100, 2).plot(kind='barh',\n",
    "                                                                    color='orange', \n",
    "                                                                    title='High vs Low value questions.', \n",
    "                                                                    fontsize=10)\n",
    "plt.yticks([1, 0], [\"High\", \"Low\"], fontsize=12)\n",
    "plt.xticks(fontsize=12)\n",
    "plt.show()"
   ]
  },
  {
   "cell_type": "code",
   "execution_count": 24,
   "metadata": {
    "pycharm": {
     "name": "#%%\n"
    }
   },
   "outputs": [],
   "source": [
    "def count_word(word):\n",
    "    low_count = 0\n",
    "    high_count = 0\n",
    "    for index, row in jeopardy.iterrows():\n",
    "        if word in row['clean_question'].split(' '):\n",
    "            if row['value'] == 1:\n",
    "                high_count += 1\n",
    "            else: \n",
    "                low_count += 1\n",
    "    return high_count, low_count"
   ]
  },
  {
   "cell_type": "code",
   "execution_count": 25,
   "metadata": {
    "pycharm": {
     "name": "#%%\n"
    }
   },
   "outputs": [
    {
     "name": "stdout",
     "output_type": "stream",
     "text": [
      "['horaces', 'goldcolored', 'synchilla', 'maples', 'vandalize', 'gatefold', 'hrefhttpwwwjarchivecommedia20050602j08ajpg', 'kavalier', 'schnitzel', 'treater']\n",
      "[(0, 3), (1, 3), (1, 0), (1, 5), (0, 1), (1, 0), (1, 0), (1, 1), (1, 2), (0, 1)]\n"
     ]
    }
   ],
   "source": [
    "terms_used_list = list(terms_used)\n",
    "observed_expected = []\n",
    "\n",
    "comparison_terms = random.sample(terms_used_list, 10)\n",
    "print(comparison_terms)\n",
    "    \n",
    "for word in comparison_terms:\n",
    "    observed_expected.append(count_word(word))\n",
    "print(observed_expected)    "
   ]
  },
  {
   "cell_type": "markdown",
   "metadata": {
    "pycharm": {
     "name": "#%% md\n"
    }
   },
   "source": [
    "### Chi-squared test"
   ]
  },
  {
   "cell_type": "code",
   "execution_count": 26,
   "metadata": {
    "pycharm": {
     "name": "#%%\n"
    }
   },
   "outputs": [],
   "source": [
    "high_values_count = jeopardy[jeopardy[\"value\"] == 1].shape[0]\n",
    "low_values_count = jeopardy[jeopardy[\"value\"] == 0].shape[0]"
   ]
  },
  {
   "cell_type": "code",
   "execution_count": 27,
   "metadata": {
    "pycharm": {
     "name": "#%%\n"
    }
   },
   "outputs": [],
   "source": [
    "chi_squared = []\n",
    "for item in observed_expected:\n",
    "    total = item[0] + item[1]\n",
    "    total_prop = total / len(jeopardy)\n",
    "    \n",
    "    expected_high = total_prop * high_values_count\n",
    "    expected_low = total_prop * low_values_count\n",
    "    \n",
    "    observed = np.array([item[0], item[1]])\n",
    "    expected = np.array([expected_high, expected_low])\n",
    "    \n",
    "    chi_squared.append(chisquare(observed, expected))"
   ]
  },
  {
   "cell_type": "code",
   "execution_count": 28,
   "metadata": {
    "pycharm": {
     "name": "#%%\n"
    }
   },
   "outputs": [
    {
     "data": {
      "text/plain": "[Power_divergenceResult(statistic=2.263247282608696, pvalue=0.1324760162182189),\n Power_divergenceResult(statistic=0.5288177221996553, pvalue=0.4671043381048845),\n Power_divergenceResult(statistic=1.325529040972535, pvalue=0.24960216618620146),\n Power_divergenceResult(statistic=1.697653843785278, pvalue=0.19259508920967341),\n Power_divergenceResult(statistic=0.7544157608695651, pvalue=0.38508176583769604)]"
     },
     "execution_count": 28,
     "metadata": {},
     "output_type": "execute_result"
    }
   ],
   "source": [
    "chi_squared[:5]"
   ]
  },
  {
   "cell_type": "code",
   "execution_count": null,
   "metadata": {
    "pycharm": {
     "name": "#%%\n"
    }
   },
   "outputs": [],
   "source": []
  }
 ],
 "metadata": {
  "kernelspec": {
   "display_name": "Python 3",
   "language": "python",
   "name": "python3"
  },
  "language_info": {
   "codemirror_mode": {
    "name": "ipython",
    "version": 3
   },
   "file_extension": ".py",
   "mimetype": "text/x-python",
   "name": "python",
   "nbconvert_exporter": "python",
   "pygments_lexer": "ipython3",
   "version": "3.8.3"
  },
  "toc": {
   "base_numbering": 1,
   "nav_menu": {},
   "number_sections": true,
   "sideBar": true,
   "skip_h1_title": true,
   "title_cell": "Table of Contents",
   "title_sidebar": "Contents",
   "toc_cell": false,
   "toc_position": {},
   "toc_section_display": true,
   "toc_window_display": true
  }
 },
 "nbformat": 4,
 "nbformat_minor": 4
}